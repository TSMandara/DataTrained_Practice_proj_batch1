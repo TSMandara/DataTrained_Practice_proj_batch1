{
 "cells": [
  {
   "cell_type": "markdown",
   "metadata": {},
   "source": [
    "### The aim of this project is to predict the employee salary based on different factors provided in the dataset. The output variable (Salary)is a continous variable. So linear regression should be carried out"
   ]
  },
  {
   "cell_type": "code",
   "execution_count": 1,
   "metadata": {},
   "outputs": [],
   "source": [
    "import pandas as pd\n",
    "import numpy as np\n",
    "import seaborn as sns\n",
    "import matplotlib.pyplot as plt\n",
    "import warnings\n",
    "warnings.filterwarnings('ignore')"
   ]
  },
  {
   "cell_type": "code",
   "execution_count": 2,
   "metadata": {},
   "outputs": [
    {
     "data": {
      "text/html": [
       "<div>\n",
       "<style scoped>\n",
       "    .dataframe tbody tr th:only-of-type {\n",
       "        vertical-align: middle;\n",
       "    }\n",
       "\n",
       "    .dataframe tbody tr th {\n",
       "        vertical-align: top;\n",
       "    }\n",
       "\n",
       "    .dataframe thead th {\n",
       "        text-align: right;\n",
       "    }\n",
       "</style>\n",
       "<table border=\"1\" class=\"dataframe\">\n",
       "  <thead>\n",
       "    <tr style=\"text-align: right;\">\n",
       "      <th></th>\n",
       "      <th>Emp ID</th>\n",
       "      <th>Name Prefix</th>\n",
       "      <th>First Name</th>\n",
       "      <th>Middle Initial</th>\n",
       "      <th>Last Name</th>\n",
       "      <th>Gender</th>\n",
       "      <th>E Mail</th>\n",
       "      <th>Father's Name</th>\n",
       "      <th>Mother's Name</th>\n",
       "      <th>Mother's Maiden Name</th>\n",
       "      <th>...</th>\n",
       "      <th>SSN</th>\n",
       "      <th>Phone No.</th>\n",
       "      <th>Place Name</th>\n",
       "      <th>County</th>\n",
       "      <th>City</th>\n",
       "      <th>State</th>\n",
       "      <th>Zip</th>\n",
       "      <th>Region</th>\n",
       "      <th>User Name</th>\n",
       "      <th>Password</th>\n",
       "    </tr>\n",
       "  </thead>\n",
       "  <tbody>\n",
       "    <tr>\n",
       "      <th>0</th>\n",
       "      <td>850297</td>\n",
       "      <td>Ms.</td>\n",
       "      <td>Shawna</td>\n",
       "      <td>W</td>\n",
       "      <td>Buck</td>\n",
       "      <td>F</td>\n",
       "      <td>shawna.buck@gmail.com</td>\n",
       "      <td>Rosario Buck</td>\n",
       "      <td>Keisha Buck</td>\n",
       "      <td>Hendricks</td>\n",
       "      <td>...</td>\n",
       "      <td>222-11-7603</td>\n",
       "      <td>702-771-7149</td>\n",
       "      <td>Las Vegas</td>\n",
       "      <td>Clark</td>\n",
       "      <td>Las Vegas</td>\n",
       "      <td>NV</td>\n",
       "      <td>89128</td>\n",
       "      <td>West</td>\n",
       "      <td>swbuck</td>\n",
       "      <td>ja8?k3BTF^]o@&lt;&amp;</td>\n",
       "    </tr>\n",
       "    <tr>\n",
       "      <th>1</th>\n",
       "      <td>304721</td>\n",
       "      <td>Mr.</td>\n",
       "      <td>Nathaniel</td>\n",
       "      <td>Z</td>\n",
       "      <td>Burke</td>\n",
       "      <td>M</td>\n",
       "      <td>nathaniel.burke@walmart.com</td>\n",
       "      <td>Derrick Burke</td>\n",
       "      <td>Phoebe Burke</td>\n",
       "      <td>Pugh</td>\n",
       "      <td>...</td>\n",
       "      <td>550-99-9897</td>\n",
       "      <td>231-765-6923</td>\n",
       "      <td>Irons</td>\n",
       "      <td>Lake</td>\n",
       "      <td>Irons</td>\n",
       "      <td>MI</td>\n",
       "      <td>49644</td>\n",
       "      <td>Midwest</td>\n",
       "      <td>nzburke</td>\n",
       "      <td>tPA@4Wh9Ja$+Ln</td>\n",
       "    </tr>\n",
       "    <tr>\n",
       "      <th>2</th>\n",
       "      <td>412317</td>\n",
       "      <td>Drs.</td>\n",
       "      <td>Elisabeth</td>\n",
       "      <td>W</td>\n",
       "      <td>Foster</td>\n",
       "      <td>F</td>\n",
       "      <td>elisabeth.foster@gmail.com</td>\n",
       "      <td>Irwin Foster</td>\n",
       "      <td>Janie Foster</td>\n",
       "      <td>Delaney</td>\n",
       "      <td>...</td>\n",
       "      <td>215-91-0004</td>\n",
       "      <td>270-749-4774</td>\n",
       "      <td>Lexington</td>\n",
       "      <td>Fayette</td>\n",
       "      <td>Lexington</td>\n",
       "      <td>KY</td>\n",
       "      <td>40501</td>\n",
       "      <td>South</td>\n",
       "      <td>ewfoster</td>\n",
       "      <td>5D.B4IGNkWJfG&lt;~</td>\n",
       "    </tr>\n",
       "    <tr>\n",
       "      <th>3</th>\n",
       "      <td>621375</td>\n",
       "      <td>Mrs.</td>\n",
       "      <td>Briana</td>\n",
       "      <td>C</td>\n",
       "      <td>Lancaster</td>\n",
       "      <td>F</td>\n",
       "      <td>briana.lancaster@yahoo.com</td>\n",
       "      <td>Jeffrey Lancaster</td>\n",
       "      <td>Shelby Lancaster</td>\n",
       "      <td>Weiss</td>\n",
       "      <td>...</td>\n",
       "      <td>534-71-1053</td>\n",
       "      <td>219-623-8216</td>\n",
       "      <td>Munster</td>\n",
       "      <td>Lake</td>\n",
       "      <td>Munster</td>\n",
       "      <td>IN</td>\n",
       "      <td>46321</td>\n",
       "      <td>Midwest</td>\n",
       "      <td>bclancaster</td>\n",
       "      <td>I%?JDM;pW</td>\n",
       "    </tr>\n",
       "    <tr>\n",
       "      <th>4</th>\n",
       "      <td>787549</td>\n",
       "      <td>Hon.</td>\n",
       "      <td>Estella</td>\n",
       "      <td>L</td>\n",
       "      <td>Potter</td>\n",
       "      <td>F</td>\n",
       "      <td>estella.potter@gmail.com</td>\n",
       "      <td>Booker Potter</td>\n",
       "      <td>Katelyn Potter</td>\n",
       "      <td>Pate</td>\n",
       "      <td>...</td>\n",
       "      <td>644-29-6396</td>\n",
       "      <td>907-677-8486</td>\n",
       "      <td>Fairbanks</td>\n",
       "      <td>Fairbanks North Star</td>\n",
       "      <td>Fairbanks</td>\n",
       "      <td>AK</td>\n",
       "      <td>99709</td>\n",
       "      <td>West</td>\n",
       "      <td>elpotter</td>\n",
       "      <td>j4jkEXfC&amp;Rh</td>\n",
       "    </tr>\n",
       "  </tbody>\n",
       "</table>\n",
       "<p>5 rows × 37 columns</p>\n",
       "</div>"
      ],
      "text/plain": [
       "   Emp ID Name Prefix First Name Middle Initial  Last Name Gender  \\\n",
       "0  850297         Ms.     Shawna              W       Buck      F   \n",
       "1  304721         Mr.  Nathaniel              Z      Burke      M   \n",
       "2  412317        Drs.  Elisabeth              W     Foster      F   \n",
       "3  621375        Mrs.     Briana              C  Lancaster      F   \n",
       "4  787549        Hon.    Estella              L     Potter      F   \n",
       "\n",
       "                        E Mail      Father's Name     Mother's Name  \\\n",
       "0        shawna.buck@gmail.com       Rosario Buck       Keisha Buck   \n",
       "1  nathaniel.burke@walmart.com      Derrick Burke      Phoebe Burke   \n",
       "2   elisabeth.foster@gmail.com       Irwin Foster      Janie Foster   \n",
       "3   briana.lancaster@yahoo.com  Jeffrey Lancaster  Shelby Lancaster   \n",
       "4     estella.potter@gmail.com      Booker Potter    Katelyn Potter   \n",
       "\n",
       "  Mother's Maiden Name       ...                 SSN    Phone No.   \\\n",
       "0            Hendricks       ...         222-11-7603  702-771-7149   \n",
       "1                 Pugh       ...         550-99-9897  231-765-6923   \n",
       "2              Delaney       ...         215-91-0004  270-749-4774   \n",
       "3                Weiss       ...         534-71-1053  219-623-8216   \n",
       "4                 Pate       ...         644-29-6396  907-677-8486   \n",
       "\n",
       "   Place Name                County       City State    Zip   Region  \\\n",
       "0   Las Vegas                 Clark  Las Vegas    NV  89128     West   \n",
       "1       Irons                  Lake      Irons    MI  49644  Midwest   \n",
       "2   Lexington               Fayette  Lexington    KY  40501    South   \n",
       "3     Munster                  Lake    Munster    IN  46321  Midwest   \n",
       "4   Fairbanks  Fairbanks North Star  Fairbanks    AK  99709     West   \n",
       "\n",
       "     User Name         Password  \n",
       "0       swbuck  ja8?k3BTF^]o@<&  \n",
       "1      nzburke   tPA@4Wh9Ja$+Ln  \n",
       "2     ewfoster  5D.B4IGNkWJfG<~  \n",
       "3  bclancaster        I%?JDM;pW  \n",
       "4     elpotter      j4jkEXfC&Rh  \n",
       "\n",
       "[5 rows x 37 columns]"
      ]
     },
     "execution_count": 2,
     "metadata": {},
     "output_type": "execute_result"
    }
   ],
   "source": [
    "df=pd.read_csv(\"1000 Records.csv\")\n",
    "df.head()"
   ]
  },
  {
   "cell_type": "code",
   "execution_count": 3,
   "metadata": {},
   "outputs": [
    {
     "data": {
      "text/plain": [
       "(1000, 37)"
      ]
     },
     "execution_count": 3,
     "metadata": {},
     "output_type": "execute_result"
    }
   ],
   "source": [
    "df.shape"
   ]
  },
  {
   "cell_type": "code",
   "execution_count": 4,
   "metadata": {},
   "outputs": [
    {
     "name": "stdout",
     "output_type": "stream",
     "text": [
      "<class 'pandas.core.frame.DataFrame'>\n",
      "RangeIndex: 1000 entries, 0 to 999\n",
      "Data columns (total 37 columns):\n",
      "Emp ID                    1000 non-null int64\n",
      "Name Prefix               1000 non-null object\n",
      "First Name                1000 non-null object\n",
      "Middle Initial            1000 non-null object\n",
      "Last Name                 1000 non-null object\n",
      "Gender                    1000 non-null object\n",
      "E Mail                    1000 non-null object\n",
      "Father's Name             1000 non-null object\n",
      "Mother's Name             1000 non-null object\n",
      "Mother's Maiden Name      1000 non-null object\n",
      "Date of Birth             1000 non-null object\n",
      "Time of Birth             1000 non-null object\n",
      "Age in Yrs.               1000 non-null float64\n",
      "Weight in Kgs.            1000 non-null int64\n",
      "Date of Joining           1000 non-null object\n",
      "Quarter of Joining        1000 non-null object\n",
      "Half of Joining           1000 non-null object\n",
      "Year of Joining           1000 non-null int64\n",
      "Month of Joining          1000 non-null int64\n",
      "Month Name of Joining     1000 non-null object\n",
      "Short Month               1000 non-null object\n",
      "Day of Joining            1000 non-null int64\n",
      "DOW of Joining            1000 non-null object\n",
      "Short DOW                 1000 non-null object\n",
      "Age in Company (Years)    1000 non-null float64\n",
      "Salary                    1000 non-null int64\n",
      "Last % Hike               1000 non-null object\n",
      "SSN                       1000 non-null object\n",
      "Phone No.                 1000 non-null object\n",
      "Place Name                1000 non-null object\n",
      "County                    1000 non-null object\n",
      "City                      1000 non-null object\n",
      "State                     1000 non-null object\n",
      "Zip                       1000 non-null int64\n",
      "Region                    1000 non-null object\n",
      "User Name                 1000 non-null object\n",
      "Password                  1000 non-null object\n",
      "dtypes: float64(2), int64(7), object(28)\n",
      "memory usage: 289.1+ KB\n"
     ]
    }
   ],
   "source": [
    "df.info()"
   ]
  },
  {
   "cell_type": "code",
   "execution_count": 5,
   "metadata": {},
   "outputs": [
    {
     "name": "stdout",
     "output_type": "stream",
     "text": [
      "<class 'pandas.core.frame.DataFrame'>\n",
      "RangeIndex: 1000 entries, 0 to 999\n",
      "Data columns (total 26 columns):\n",
      "Name Prefix               1000 non-null object\n",
      "Gender                    1000 non-null object\n",
      "E Mail                    1000 non-null object\n",
      "Age in Yrs.               1000 non-null float64\n",
      "Weight in Kgs.            1000 non-null int64\n",
      "Date of Joining           1000 non-null object\n",
      "Quarter of Joining        1000 non-null object\n",
      "Half of Joining           1000 non-null object\n",
      "Year of Joining           1000 non-null int64\n",
      "Month of Joining          1000 non-null int64\n",
      "Month Name of Joining     1000 non-null object\n",
      "Short Month               1000 non-null object\n",
      "Day of Joining            1000 non-null int64\n",
      "DOW of Joining            1000 non-null object\n",
      "Short DOW                 1000 non-null object\n",
      "Age in Company (Years)    1000 non-null float64\n",
      "Salary                    1000 non-null int64\n",
      "Last % Hike               1000 non-null object\n",
      "SSN                       1000 non-null object\n",
      "Phone No.                 1000 non-null object\n",
      "Place Name                1000 non-null object\n",
      "County                    1000 non-null object\n",
      "City                      1000 non-null object\n",
      "State                     1000 non-null object\n",
      "Zip                       1000 non-null int64\n",
      "Region                    1000 non-null object\n",
      "dtypes: float64(2), int64(6), object(18)\n",
      "memory usage: 203.2+ KB\n"
     ]
    }
   ],
   "source": [
    "#Dropping some columns as they make no impact on the output variable\n",
    "df.drop(['Emp ID','First Name','Middle Initial','Last Name',\"Father's Name\",\"Mother's Name\",\"Mother's Maiden Name\",'Date of Birth','Time of Birth',\n",
    "        'User Name','Password'],axis=1,inplace=True)\n",
    "df.info()"
   ]
  },
  {
   "cell_type": "code",
   "execution_count": 6,
   "metadata": {},
   "outputs": [
    {
     "data": {
      "text/html": [
       "<div>\n",
       "<style scoped>\n",
       "    .dataframe tbody tr th:only-of-type {\n",
       "        vertical-align: middle;\n",
       "    }\n",
       "\n",
       "    .dataframe tbody tr th {\n",
       "        vertical-align: top;\n",
       "    }\n",
       "\n",
       "    .dataframe thead th {\n",
       "        text-align: right;\n",
       "    }\n",
       "</style>\n",
       "<table border=\"1\" class=\"dataframe\">\n",
       "  <thead>\n",
       "    <tr style=\"text-align: right;\">\n",
       "      <th></th>\n",
       "      <th>Name Prefix</th>\n",
       "      <th>Gender</th>\n",
       "      <th>E Mail</th>\n",
       "      <th>Age in Yrs.</th>\n",
       "      <th>Weight in Kgs.</th>\n",
       "      <th>Date of Joining</th>\n",
       "      <th>Quarter of Joining</th>\n",
       "      <th>Half of Joining</th>\n",
       "      <th>Year of Joining</th>\n",
       "      <th>Month of Joining</th>\n",
       "      <th>...</th>\n",
       "      <th>Salary</th>\n",
       "      <th>Last % Hike</th>\n",
       "      <th>SSN</th>\n",
       "      <th>Phone No.</th>\n",
       "      <th>Place Name</th>\n",
       "      <th>County</th>\n",
       "      <th>City</th>\n",
       "      <th>State</th>\n",
       "      <th>Zip</th>\n",
       "      <th>Region</th>\n",
       "    </tr>\n",
       "  </thead>\n",
       "  <tbody>\n",
       "    <tr>\n",
       "      <th>0</th>\n",
       "      <td>Ms.</td>\n",
       "      <td>F</td>\n",
       "      <td>shawna.buck@gmail.com</td>\n",
       "      <td>45.66</td>\n",
       "      <td>44</td>\n",
       "      <td>12/18/2010</td>\n",
       "      <td>Q4</td>\n",
       "      <td>H2</td>\n",
       "      <td>2010</td>\n",
       "      <td>12</td>\n",
       "      <td>...</td>\n",
       "      <td>119090</td>\n",
       "      <td>17%</td>\n",
       "      <td>222-11-7603</td>\n",
       "      <td>702-771-7149</td>\n",
       "      <td>Las Vegas</td>\n",
       "      <td>Clark</td>\n",
       "      <td>Las Vegas</td>\n",
       "      <td>NV</td>\n",
       "      <td>89128</td>\n",
       "      <td>West</td>\n",
       "    </tr>\n",
       "    <tr>\n",
       "      <th>1</th>\n",
       "      <td>Mr.</td>\n",
       "      <td>M</td>\n",
       "      <td>nathaniel.burke@walmart.com</td>\n",
       "      <td>23.76</td>\n",
       "      <td>52</td>\n",
       "      <td>4/25/2017</td>\n",
       "      <td>Q2</td>\n",
       "      <td>H1</td>\n",
       "      <td>2017</td>\n",
       "      <td>4</td>\n",
       "      <td>...</td>\n",
       "      <td>117991</td>\n",
       "      <td>14%</td>\n",
       "      <td>550-99-9897</td>\n",
       "      <td>231-765-6923</td>\n",
       "      <td>Irons</td>\n",
       "      <td>Lake</td>\n",
       "      <td>Irons</td>\n",
       "      <td>MI</td>\n",
       "      <td>49644</td>\n",
       "      <td>Midwest</td>\n",
       "    </tr>\n",
       "    <tr>\n",
       "      <th>2</th>\n",
       "      <td>Drs.</td>\n",
       "      <td>F</td>\n",
       "      <td>elisabeth.foster@gmail.com</td>\n",
       "      <td>22.68</td>\n",
       "      <td>42</td>\n",
       "      <td>3/27/2017</td>\n",
       "      <td>Q1</td>\n",
       "      <td>H1</td>\n",
       "      <td>2017</td>\n",
       "      <td>3</td>\n",
       "      <td>...</td>\n",
       "      <td>161045</td>\n",
       "      <td>28%</td>\n",
       "      <td>215-91-0004</td>\n",
       "      <td>270-749-4774</td>\n",
       "      <td>Lexington</td>\n",
       "      <td>Fayette</td>\n",
       "      <td>Lexington</td>\n",
       "      <td>KY</td>\n",
       "      <td>40501</td>\n",
       "      <td>South</td>\n",
       "    </tr>\n",
       "    <tr>\n",
       "      <th>3</th>\n",
       "      <td>Mrs.</td>\n",
       "      <td>F</td>\n",
       "      <td>briana.lancaster@yahoo.com</td>\n",
       "      <td>41.70</td>\n",
       "      <td>43</td>\n",
       "      <td>2/25/2003</td>\n",
       "      <td>Q1</td>\n",
       "      <td>H1</td>\n",
       "      <td>2003</td>\n",
       "      <td>2</td>\n",
       "      <td>...</td>\n",
       "      <td>142616</td>\n",
       "      <td>16%</td>\n",
       "      <td>534-71-1053</td>\n",
       "      <td>219-623-8216</td>\n",
       "      <td>Munster</td>\n",
       "      <td>Lake</td>\n",
       "      <td>Munster</td>\n",
       "      <td>IN</td>\n",
       "      <td>46321</td>\n",
       "      <td>Midwest</td>\n",
       "    </tr>\n",
       "    <tr>\n",
       "      <th>4</th>\n",
       "      <td>Hon.</td>\n",
       "      <td>F</td>\n",
       "      <td>estella.potter@gmail.com</td>\n",
       "      <td>22.39</td>\n",
       "      <td>58</td>\n",
       "      <td>10/11/2016</td>\n",
       "      <td>Q4</td>\n",
       "      <td>H2</td>\n",
       "      <td>2016</td>\n",
       "      <td>10</td>\n",
       "      <td>...</td>\n",
       "      <td>135706</td>\n",
       "      <td>11%</td>\n",
       "      <td>644-29-6396</td>\n",
       "      <td>907-677-8486</td>\n",
       "      <td>Fairbanks</td>\n",
       "      <td>Fairbanks North Star</td>\n",
       "      <td>Fairbanks</td>\n",
       "      <td>AK</td>\n",
       "      <td>99709</td>\n",
       "      <td>West</td>\n",
       "    </tr>\n",
       "  </tbody>\n",
       "</table>\n",
       "<p>5 rows × 26 columns</p>\n",
       "</div>"
      ],
      "text/plain": [
       "  Name Prefix Gender                       E Mail  Age in Yrs.  \\\n",
       "0         Ms.      F        shawna.buck@gmail.com        45.66   \n",
       "1         Mr.      M  nathaniel.burke@walmart.com        23.76   \n",
       "2        Drs.      F   elisabeth.foster@gmail.com        22.68   \n",
       "3        Mrs.      F   briana.lancaster@yahoo.com        41.70   \n",
       "4        Hon.      F     estella.potter@gmail.com        22.39   \n",
       "\n",
       "   Weight in Kgs. Date of Joining Quarter of Joining Half of Joining  \\\n",
       "0              44      12/18/2010                 Q4              H2   \n",
       "1              52       4/25/2017                 Q2              H1   \n",
       "2              42       3/27/2017                 Q1              H1   \n",
       "3              43       2/25/2003                 Q1              H1   \n",
       "4              58      10/11/2016                 Q4              H2   \n",
       "\n",
       "   Year of Joining  Month of Joining   ...     Salary Last % Hike  \\\n",
       "0             2010                12   ...     119090         17%   \n",
       "1             2017                 4   ...     117991         14%   \n",
       "2             2017                 3   ...     161045         28%   \n",
       "3             2003                 2   ...     142616         16%   \n",
       "4             2016                10   ...     135706         11%   \n",
       "\n",
       "           SSN    Phone No.  Place Name                County       City  \\\n",
       "0  222-11-7603  702-771-7149  Las Vegas                 Clark  Las Vegas   \n",
       "1  550-99-9897  231-765-6923      Irons                  Lake      Irons   \n",
       "2  215-91-0004  270-749-4774  Lexington               Fayette  Lexington   \n",
       "3  534-71-1053  219-623-8216    Munster                  Lake    Munster   \n",
       "4  644-29-6396  907-677-8486  Fairbanks  Fairbanks North Star  Fairbanks   \n",
       "\n",
       "  State    Zip   Region  \n",
       "0    NV  89128     West  \n",
       "1    MI  49644  Midwest  \n",
       "2    KY  40501    South  \n",
       "3    IN  46321  Midwest  \n",
       "4    AK  99709     West  \n",
       "\n",
       "[5 rows x 26 columns]"
      ]
     },
     "execution_count": 6,
     "metadata": {},
     "output_type": "execute_result"
    }
   ],
   "source": [
    "df.head()"
   ]
  },
  {
   "cell_type": "code",
   "execution_count": 7,
   "metadata": {},
   "outputs": [
    {
     "name": "stdout",
     "output_type": "stream",
     "text": [
      "<class 'pandas.core.frame.DataFrame'>\n",
      "RangeIndex: 1000 entries, 0 to 999\n",
      "Data columns (total 22 columns):\n",
      "Name Prefix               1000 non-null object\n",
      "Gender                    1000 non-null object\n",
      "Age in Yrs.               1000 non-null float64\n",
      "Weight in Kgs.            1000 non-null int64\n",
      "Date of Joining           1000 non-null object\n",
      "Quarter of Joining        1000 non-null object\n",
      "Half of Joining           1000 non-null object\n",
      "Year of Joining           1000 non-null int64\n",
      "Month of Joining          1000 non-null int64\n",
      "Month Name of Joining     1000 non-null object\n",
      "Short Month               1000 non-null object\n",
      "Day of Joining            1000 non-null int64\n",
      "DOW of Joining            1000 non-null object\n",
      "Age in Company (Years)    1000 non-null float64\n",
      "Salary                    1000 non-null int64\n",
      "Last % Hike               1000 non-null object\n",
      "Phone No.                 1000 non-null object\n",
      "Place Name                1000 non-null object\n",
      "County                    1000 non-null object\n",
      "City                      1000 non-null object\n",
      "State                     1000 non-null object\n",
      "Region                    1000 non-null object\n",
      "dtypes: float64(2), int64(5), object(15)\n",
      "memory usage: 172.0+ KB\n"
     ]
    }
   ],
   "source": [
    "df.drop(['E Mail','SSN','Zip','Short DOW'],axis=1,inplace=True)\n",
    "df.info()"
   ]
  },
  {
   "cell_type": "code",
   "execution_count": 8,
   "metadata": {},
   "outputs": [
    {
     "data": {
      "text/plain": [
       "South        371\n",
       "Midwest      285\n",
       "Northeast    182\n",
       "West         162\n",
       "Name: Region, dtype: int64"
      ]
     },
     "execution_count": 8,
     "metadata": {},
     "output_type": "execute_result"
    }
   ],
   "source": [
    "df['Region'].value_counts()"
   ]
  },
  {
   "cell_type": "code",
   "execution_count": 9,
   "metadata": {},
   "outputs": [
    {
     "data": {
      "text/plain": [
       "PA    62\n",
       "CA    57\n",
       "TX    54\n",
       "NY    51\n",
       "FL    37\n",
       "IL    35\n",
       "VA    34\n",
       "OH    33\n",
       "KY    33\n",
       "NC    31\n",
       "IA    31\n",
       "MO    30\n",
       "WI    30\n",
       "IN    24\n",
       "MI    23\n",
       "KS    22\n",
       "MN    22\n",
       "GA    19\n",
       "WV    19\n",
       "MS    19\n",
       "WA    19\n",
       "AL    19\n",
       "OK    18\n",
       "LA    17\n",
       "AR    17\n",
       "ME    16\n",
       "NE    16\n",
       "TN    16\n",
       "MA    15\n",
       "CO    15\n",
       "NJ    15\n",
       "ND    14\n",
       "SC    14\n",
       "OR    12\n",
       "MD    12\n",
       "AK    11\n",
       "CT    10\n",
       "AZ    10\n",
       "MT     9\n",
       "NH     9\n",
       "NM     8\n",
       "WY     7\n",
       "DE     6\n",
       "DC     6\n",
       "UT     6\n",
       "ID     6\n",
       "SD     5\n",
       "VT     3\n",
       "NV     2\n",
       "RI     1\n",
       "Name: State, dtype: int64"
      ]
     },
     "execution_count": 9,
     "metadata": {},
     "output_type": "execute_result"
    }
   ],
   "source": [
    "df['State'].value_counts()"
   ]
  },
  {
   "cell_type": "code",
   "execution_count": 10,
   "metadata": {},
   "outputs": [
    {
     "data": {
      "text/plain": [
       "50"
      ]
     },
     "execution_count": 10,
     "metadata": {},
     "output_type": "execute_result"
    }
   ],
   "source": [
    "df['State'].value_counts().count()"
   ]
  },
  {
   "cell_type": "code",
   "execution_count": 11,
   "metadata": {},
   "outputs": [
    {
     "data": {
      "text/plain": [
       "Jefferson                 15\n",
       "Montgomery                12\n",
       "Los Angeles               11\n",
       "Jackson                    9\n",
       "Franklin                   9\n",
       "Washington                 8\n",
       "Marion                     8\n",
       "Orange                     8\n",
       "Johnson                    7\n",
       "Dallas                     7\n",
       "Lake                       7\n",
       "Riverside                  6\n",
       "Fulton                     6\n",
       "St. Louis                  6\n",
       "Clay                       5\n",
       "Madison                    5\n",
       "Monroe                     5\n",
       "Hamilton                   5\n",
       "Oakland                    5\n",
       "Essex                      5\n",
       "New York                   5\n",
       "Hillsborough               5\n",
       "Hancock                    5\n",
       "Northampton                5\n",
       "Lee                        4\n",
       "Marshall                   4\n",
       "Sullivan                   4\n",
       "Winnebago                  4\n",
       "Milwaukee                  4\n",
       "Putnam                     4\n",
       "                          ..\n",
       "Iowa                       1\n",
       "Spartanburg                1\n",
       "Baltimore (city)           1\n",
       "Harnett                    1\n",
       "Warren                     1\n",
       "Fond du Lac                1\n",
       "Tehama                     1\n",
       "Frederick                  1\n",
       "Williamsburg               1\n",
       "Reform                     1\n",
       "Schuylkill                 1\n",
       "Major                      1\n",
       "Albemarle                  1\n",
       "Jamaica                    1\n",
       "Crittenden                 1\n",
       "Miller                     1\n",
       "Grand Forks                1\n",
       "Caddo                      1\n",
       "Oceana                     1\n",
       "Leslie                     1\n",
       "Noxubee                    1\n",
       "Otsego                     1\n",
       "Northwest Arctic           1\n",
       "Russell Springs            1\n",
       "Pend Oreille               1\n",
       "Prairie                    1\n",
       "Meade                      1\n",
       "Anchorage Municipality     1\n",
       "Pocahontas                 1\n",
       "Caledonia                  1\n",
       "Name: County, Length: 582, dtype: int64"
      ]
     },
     "execution_count": 11,
     "metadata": {},
     "output_type": "execute_result"
    }
   ],
   "source": [
    "df['County'].value_counts()"
   ]
  },
  {
   "cell_type": "code",
   "execution_count": 12,
   "metadata": {},
   "outputs": [
    {
     "data": {
      "text/plain": [
       "880"
      ]
     },
     "execution_count": 12,
     "metadata": {},
     "output_type": "execute_result"
    }
   ],
   "source": [
    "df['Place Name'].value_counts().count()"
   ]
  },
  {
   "cell_type": "code",
   "execution_count": 13,
   "metadata": {},
   "outputs": [
    {
     "data": {
      "text/plain": [
       "Index(['Name Prefix', 'Gender', 'Age in Yrs.', 'Weight in Kgs.',\n",
       "       'Date of Joining', 'Quarter of Joining', 'Half of Joining',\n",
       "       'Year of Joining', 'Month of Joining', 'Month Name of Joining',\n",
       "       'Short Month', 'Day of Joining', 'DOW of Joining',\n",
       "       'Age in Company (Years)', 'Salary', 'Last % Hike', 'Phone No. ',\n",
       "       'Place Name', 'County', 'City', 'State', 'Region'],\n",
       "      dtype='object')"
      ]
     },
     "execution_count": 13,
     "metadata": {},
     "output_type": "execute_result"
    }
   ],
   "source": [
    "df.columns"
   ]
  },
  {
   "cell_type": "code",
   "execution_count": 14,
   "metadata": {},
   "outputs": [
    {
     "data": {
      "text/plain": [
       "942"
      ]
     },
     "execution_count": 14,
     "metadata": {},
     "output_type": "execute_result"
    }
   ],
   "source": [
    "df['Date of Joining'].value_counts().count()"
   ]
  },
  {
   "cell_type": "code",
   "execution_count": 15,
   "metadata": {},
   "outputs": [
    {
     "data": {
      "text/plain": [
       "2"
      ]
     },
     "execution_count": 15,
     "metadata": {},
     "output_type": "execute_result"
    }
   ],
   "source": [
    "df['Half of Joining'].value_counts().count()"
   ]
  },
  {
   "cell_type": "code",
   "execution_count": 16,
   "metadata": {},
   "outputs": [
    {
     "data": {
      "text/plain": [
       "4"
      ]
     },
     "execution_count": 16,
     "metadata": {},
     "output_type": "execute_result"
    }
   ],
   "source": [
    "df['Quarter of Joining'].value_counts().count()"
   ]
  },
  {
   "cell_type": "code",
   "execution_count": 17,
   "metadata": {},
   "outputs": [
    {
     "data": {
      "text/plain": [
       "2016    85\n",
       "2017    68\n",
       "2015    68\n",
       "2013    66\n",
       "2012    53\n",
       "2014    52\n",
       "2009    52\n",
       "2011    51\n",
       "2010    41\n",
       "2006    39\n",
       "2007    36\n",
       "2001    35\n",
       "2004    31\n",
       "2008    31\n",
       "2005    31\n",
       "1999    30\n",
       "2002    25\n",
       "2003    24\n",
       "2000    23\n",
       "1998    18\n",
       "1995    16\n",
       "1994    15\n",
       "1996    12\n",
       "1985    12\n",
       "1987    12\n",
       "1990    12\n",
       "1993    11\n",
       "1997    10\n",
       "1988     7\n",
       "1992     7\n",
       "1989     6\n",
       "1991     5\n",
       "1981     4\n",
       "1986     3\n",
       "1983     3\n",
       "1984     2\n",
       "1982     2\n",
       "1980     2\n",
       "Name: Year of Joining, dtype: int64"
      ]
     },
     "execution_count": 17,
     "metadata": {},
     "output_type": "execute_result"
    }
   ],
   "source": [
    "df['Year of Joining'].value_counts()"
   ]
  },
  {
   "cell_type": "code",
   "execution_count": 18,
   "metadata": {},
   "outputs": [
    {
     "data": {
      "text/plain": [
       "4     107\n",
       "10     92\n",
       "5      88\n",
       "8      87\n",
       "2      83\n",
       "6      81\n",
       "1      81\n",
       "11     80\n",
       "12     79\n",
       "3      79\n",
       "7      77\n",
       "9      66\n",
       "Name: Month of Joining, dtype: int64"
      ]
     },
     "execution_count": 18,
     "metadata": {},
     "output_type": "execute_result"
    }
   ],
   "source": [
    "df['Month of Joining'].value_counts()"
   ]
  },
  {
   "cell_type": "code",
   "execution_count": 19,
   "metadata": {},
   "outputs": [
    {
     "data": {
      "text/plain": [
       "April        107\n",
       "October       92\n",
       "May           88\n",
       "August        87\n",
       "February      83\n",
       "June          81\n",
       "January       81\n",
       "November      80\n",
       "December      79\n",
       "March         79\n",
       "July          77\n",
       "September     66\n",
       "Name: Month Name of Joining, dtype: int64"
      ]
     },
     "execution_count": 19,
     "metadata": {},
     "output_type": "execute_result"
    }
   ],
   "source": [
    "df['Month Name of Joining'].value_counts()"
   ]
  },
  {
   "cell_type": "code",
   "execution_count": 20,
   "metadata": {},
   "outputs": [
    {
     "data": {
      "text/plain": [
       "Apr    107\n",
       "Oct     92\n",
       "May     88\n",
       "Aug     87\n",
       "Feb     83\n",
       "Jun     81\n",
       "Jan     81\n",
       "Nov     80\n",
       "Dec     79\n",
       "Mar     79\n",
       "Jul     77\n",
       "Sep     66\n",
       "Name: Short Month, dtype: int64"
      ]
     },
     "execution_count": 20,
     "metadata": {},
     "output_type": "execute_result"
    }
   ],
   "source": [
    "df['Short Month'].value_counts()"
   ]
  },
  {
   "cell_type": "code",
   "execution_count": 21,
   "metadata": {},
   "outputs": [
    {
     "data": {
      "text/plain": [
       "25    48\n",
       "27    41\n",
       "1     40\n",
       "26    39\n",
       "24    38\n",
       "20    37\n",
       "15    37\n",
       "22    36\n",
       "2     36\n",
       "14    35\n",
       "18    35\n",
       "11    35\n",
       "17    34\n",
       "8     34\n",
       "23    33\n",
       "30    33\n",
       "29    33\n",
       "28    32\n",
       "12    31\n",
       "21    31\n",
       "9     30\n",
       "16    30\n",
       "13    30\n",
       "7     29\n",
       "5     26\n",
       "10    25\n",
       "6     24\n",
       "19    24\n",
       "3     23\n",
       "4     22\n",
       "31    19\n",
       "Name: Day of Joining, dtype: int64"
      ]
     },
     "execution_count": 21,
     "metadata": {},
     "output_type": "execute_result"
    }
   ],
   "source": [
    "df['Day of Joining'].value_counts()"
   ]
  },
  {
   "cell_type": "code",
   "execution_count": 22,
   "metadata": {},
   "outputs": [
    {
     "data": {
      "text/plain": [
       "Sunday       158\n",
       "Friday       154\n",
       "Saturday     153\n",
       "Wednesday    145\n",
       "Monday       138\n",
       "Tuesday      129\n",
       "Thursday     123\n",
       "Name: DOW of Joining, dtype: int64"
      ]
     },
     "execution_count": 22,
     "metadata": {},
     "output_type": "execute_result"
    }
   ],
   "source": [
    "df['DOW of Joining'].value_counts()"
   ]
  },
  {
   "cell_type": "code",
   "execution_count": 23,
   "metadata": {},
   "outputs": [
    {
     "data": {
      "text/plain": [
       "880"
      ]
     },
     "execution_count": 23,
     "metadata": {},
     "output_type": "execute_result"
    }
   ],
   "source": [
    "df['City'].value_counts().count()"
   ]
  },
  {
   "cell_type": "code",
   "execution_count": 24,
   "metadata": {},
   "outputs": [
    {
     "data": {
      "text/plain": [
       "880"
      ]
     },
     "execution_count": 24,
     "metadata": {},
     "output_type": "execute_result"
    }
   ],
   "source": [
    "df['Place Name'].value_counts().count()"
   ]
  },
  {
   "cell_type": "code",
   "execution_count": 25,
   "metadata": {},
   "outputs": [
    {
     "data": {
      "text/plain": [
       "Index(['Name Prefix', 'Gender', 'Age in Yrs.', 'Quarter of Joining',\n",
       "       'Half of Joining', 'Year of Joining', 'Month of Joining',\n",
       "       'Age in Company (Years)', 'Salary', 'Last % Hike', 'Region'],\n",
       "      dtype='object')"
      ]
     },
     "execution_count": 25,
     "metadata": {},
     "output_type": "execute_result"
    }
   ],
   "source": [
    "#Dropping some more columns of which some donot have impact on output variable. Some other columns are redundat as their information is already present in other columns\n",
    "df.drop(['Place Name','City','DOW of Joining','Day of Joining','County','Weight in Kgs.','Phone No. ','State','Month Name of Joining','Short Month','Date of Joining'],axis=1,inplace=True)\n",
    "df.columns"
   ]
  },
  {
   "cell_type": "code",
   "execution_count": 26,
   "metadata": {},
   "outputs": [
    {
     "data": {
      "text/plain": [
       "Mr.      347\n",
       "Ms.      227\n",
       "Mrs.     161\n",
       "Hon.      89\n",
       "Dr.       64\n",
       "Drs.      58\n",
       "Prof.     54\n",
       "Name: Name Prefix, dtype: int64"
      ]
     },
     "execution_count": 26,
     "metadata": {},
     "output_type": "execute_result"
    }
   ],
   "source": [
    "df['Name Prefix'].value_counts()"
   ]
  },
  {
   "cell_type": "markdown",
   "metadata": {},
   "source": [
    "## Binning of Age and Last % Hike features"
   ]
  },
  {
   "cell_type": "code",
   "execution_count": 27,
   "metadata": {},
   "outputs": [],
   "source": [
    "s=pd.cut(df[\"Year of Joining\"],bins=[1979,1989,1999,2009,2019],labels=[1,2,3,4])\n",
    "temp=pd.DataFrame(s)\n",
    "df.drop('Year of Joining',axis=1,inplace=True)"
   ]
  },
  {
   "cell_type": "code",
   "execution_count": 28,
   "metadata": {},
   "outputs": [
    {
     "data": {
      "text/html": [
       "<div>\n",
       "<style scoped>\n",
       "    .dataframe tbody tr th:only-of-type {\n",
       "        vertical-align: middle;\n",
       "    }\n",
       "\n",
       "    .dataframe tbody tr th {\n",
       "        vertical-align: top;\n",
       "    }\n",
       "\n",
       "    .dataframe thead th {\n",
       "        text-align: right;\n",
       "    }\n",
       "</style>\n",
       "<table border=\"1\" class=\"dataframe\">\n",
       "  <thead>\n",
       "    <tr style=\"text-align: right;\">\n",
       "      <th></th>\n",
       "      <th>Name Prefix</th>\n",
       "      <th>Gender</th>\n",
       "      <th>Age in Yrs.</th>\n",
       "      <th>Quarter of Joining</th>\n",
       "      <th>Half of Joining</th>\n",
       "      <th>Month of Joining</th>\n",
       "      <th>Age in Company (Years)</th>\n",
       "      <th>Salary</th>\n",
       "      <th>Last % Hike</th>\n",
       "      <th>Region</th>\n",
       "      <th>Year of Joining</th>\n",
       "    </tr>\n",
       "  </thead>\n",
       "  <tbody>\n",
       "    <tr>\n",
       "      <th>0</th>\n",
       "      <td>Ms.</td>\n",
       "      <td>F</td>\n",
       "      <td>45.66</td>\n",
       "      <td>Q4</td>\n",
       "      <td>H2</td>\n",
       "      <td>12</td>\n",
       "      <td>6.61</td>\n",
       "      <td>119090</td>\n",
       "      <td>17%</td>\n",
       "      <td>West</td>\n",
       "      <td>4</td>\n",
       "    </tr>\n",
       "    <tr>\n",
       "      <th>1</th>\n",
       "      <td>Mr.</td>\n",
       "      <td>M</td>\n",
       "      <td>23.76</td>\n",
       "      <td>Q2</td>\n",
       "      <td>H1</td>\n",
       "      <td>4</td>\n",
       "      <td>0.26</td>\n",
       "      <td>117991</td>\n",
       "      <td>14%</td>\n",
       "      <td>Midwest</td>\n",
       "      <td>4</td>\n",
       "    </tr>\n",
       "    <tr>\n",
       "      <th>2</th>\n",
       "      <td>Drs.</td>\n",
       "      <td>F</td>\n",
       "      <td>22.68</td>\n",
       "      <td>Q1</td>\n",
       "      <td>H1</td>\n",
       "      <td>3</td>\n",
       "      <td>0.34</td>\n",
       "      <td>161045</td>\n",
       "      <td>28%</td>\n",
       "      <td>South</td>\n",
       "      <td>4</td>\n",
       "    </tr>\n",
       "    <tr>\n",
       "      <th>3</th>\n",
       "      <td>Mrs.</td>\n",
       "      <td>F</td>\n",
       "      <td>41.70</td>\n",
       "      <td>Q1</td>\n",
       "      <td>H1</td>\n",
       "      <td>2</td>\n",
       "      <td>14.43</td>\n",
       "      <td>142616</td>\n",
       "      <td>16%</td>\n",
       "      <td>Midwest</td>\n",
       "      <td>3</td>\n",
       "    </tr>\n",
       "    <tr>\n",
       "      <th>4</th>\n",
       "      <td>Hon.</td>\n",
       "      <td>F</td>\n",
       "      <td>22.39</td>\n",
       "      <td>Q4</td>\n",
       "      <td>H2</td>\n",
       "      <td>10</td>\n",
       "      <td>0.79</td>\n",
       "      <td>135706</td>\n",
       "      <td>11%</td>\n",
       "      <td>West</td>\n",
       "      <td>4</td>\n",
       "    </tr>\n",
       "  </tbody>\n",
       "</table>\n",
       "</div>"
      ],
      "text/plain": [
       "  Name Prefix Gender  Age in Yrs. Quarter of Joining Half of Joining  \\\n",
       "0         Ms.      F        45.66                 Q4              H2   \n",
       "1         Mr.      M        23.76                 Q2              H1   \n",
       "2        Drs.      F        22.68                 Q1              H1   \n",
       "3        Mrs.      F        41.70                 Q1              H1   \n",
       "4        Hon.      F        22.39                 Q4              H2   \n",
       "\n",
       "   Month of Joining  Age in Company (Years)  Salary Last % Hike   Region  \\\n",
       "0                12                    6.61  119090         17%     West   \n",
       "1                 4                    0.26  117991         14%  Midwest   \n",
       "2                 3                    0.34  161045         28%    South   \n",
       "3                 2                   14.43  142616         16%  Midwest   \n",
       "4                10                    0.79  135706         11%     West   \n",
       "\n",
       "  Year of Joining  \n",
       "0               4  \n",
       "1               4  \n",
       "2               4  \n",
       "3               3  \n",
       "4               4  "
      ]
     },
     "execution_count": 28,
     "metadata": {},
     "output_type": "execute_result"
    }
   ],
   "source": [
    "#Concatenating the column with bins to existing dataframe\n",
    "df=pd.concat([df,temp],axis=1)\n",
    "df.head()"
   ]
  },
  {
   "cell_type": "code",
   "execution_count": 29,
   "metadata": {},
   "outputs": [],
   "source": [
    "#Changing the datatype \n",
    "df['Year of Joining']=df['Year of Joining'].astype('int')"
   ]
  },
  {
   "cell_type": "code",
   "execution_count": 30,
   "metadata": {},
   "outputs": [],
   "source": [
    "#Stripping off the '%' symbol\n",
    "df['Last % Hike']=df['Last % Hike'].str.strip('%')"
   ]
  },
  {
   "cell_type": "code",
   "execution_count": 31,
   "metadata": {},
   "outputs": [],
   "source": [
    "df['Last % Hike']=df['Last % Hike'].astype('int')"
   ]
  },
  {
   "cell_type": "code",
   "execution_count": 32,
   "metadata": {},
   "outputs": [],
   "source": [
    "t=pd.cut(df[\"Last % Hike\"],bins=[-1,4,9,14,19,24,29,34],labels=[1,2,3,4,5,6,7])"
   ]
  },
  {
   "cell_type": "code",
   "execution_count": 33,
   "metadata": {},
   "outputs": [],
   "source": [
    "tempr=pd.DataFrame(t)\n",
    "df.drop('Last % Hike',axis=1,inplace=True)"
   ]
  },
  {
   "cell_type": "code",
   "execution_count": 34,
   "metadata": {},
   "outputs": [
    {
     "data": {
      "text/html": [
       "<div>\n",
       "<style scoped>\n",
       "    .dataframe tbody tr th:only-of-type {\n",
       "        vertical-align: middle;\n",
       "    }\n",
       "\n",
       "    .dataframe tbody tr th {\n",
       "        vertical-align: top;\n",
       "    }\n",
       "\n",
       "    .dataframe thead th {\n",
       "        text-align: right;\n",
       "    }\n",
       "</style>\n",
       "<table border=\"1\" class=\"dataframe\">\n",
       "  <thead>\n",
       "    <tr style=\"text-align: right;\">\n",
       "      <th></th>\n",
       "      <th>Name Prefix</th>\n",
       "      <th>Gender</th>\n",
       "      <th>Age in Yrs.</th>\n",
       "      <th>Quarter of Joining</th>\n",
       "      <th>Half of Joining</th>\n",
       "      <th>Month of Joining</th>\n",
       "      <th>Age in Company (Years)</th>\n",
       "      <th>Salary</th>\n",
       "      <th>Region</th>\n",
       "      <th>Year of Joining</th>\n",
       "      <th>Last % Hike</th>\n",
       "    </tr>\n",
       "  </thead>\n",
       "  <tbody>\n",
       "    <tr>\n",
       "      <th>0</th>\n",
       "      <td>Ms.</td>\n",
       "      <td>F</td>\n",
       "      <td>45.66</td>\n",
       "      <td>Q4</td>\n",
       "      <td>H2</td>\n",
       "      <td>12</td>\n",
       "      <td>6.61</td>\n",
       "      <td>119090</td>\n",
       "      <td>West</td>\n",
       "      <td>4</td>\n",
       "      <td>4</td>\n",
       "    </tr>\n",
       "    <tr>\n",
       "      <th>1</th>\n",
       "      <td>Mr.</td>\n",
       "      <td>M</td>\n",
       "      <td>23.76</td>\n",
       "      <td>Q2</td>\n",
       "      <td>H1</td>\n",
       "      <td>4</td>\n",
       "      <td>0.26</td>\n",
       "      <td>117991</td>\n",
       "      <td>Midwest</td>\n",
       "      <td>4</td>\n",
       "      <td>3</td>\n",
       "    </tr>\n",
       "    <tr>\n",
       "      <th>2</th>\n",
       "      <td>Drs.</td>\n",
       "      <td>F</td>\n",
       "      <td>22.68</td>\n",
       "      <td>Q1</td>\n",
       "      <td>H1</td>\n",
       "      <td>3</td>\n",
       "      <td>0.34</td>\n",
       "      <td>161045</td>\n",
       "      <td>South</td>\n",
       "      <td>4</td>\n",
       "      <td>6</td>\n",
       "    </tr>\n",
       "    <tr>\n",
       "      <th>3</th>\n",
       "      <td>Mrs.</td>\n",
       "      <td>F</td>\n",
       "      <td>41.70</td>\n",
       "      <td>Q1</td>\n",
       "      <td>H1</td>\n",
       "      <td>2</td>\n",
       "      <td>14.43</td>\n",
       "      <td>142616</td>\n",
       "      <td>Midwest</td>\n",
       "      <td>3</td>\n",
       "      <td>4</td>\n",
       "    </tr>\n",
       "    <tr>\n",
       "      <th>4</th>\n",
       "      <td>Hon.</td>\n",
       "      <td>F</td>\n",
       "      <td>22.39</td>\n",
       "      <td>Q4</td>\n",
       "      <td>H2</td>\n",
       "      <td>10</td>\n",
       "      <td>0.79</td>\n",
       "      <td>135706</td>\n",
       "      <td>West</td>\n",
       "      <td>4</td>\n",
       "      <td>3</td>\n",
       "    </tr>\n",
       "  </tbody>\n",
       "</table>\n",
       "</div>"
      ],
      "text/plain": [
       "  Name Prefix Gender  Age in Yrs. Quarter of Joining Half of Joining  \\\n",
       "0         Ms.      F        45.66                 Q4              H2   \n",
       "1         Mr.      M        23.76                 Q2              H1   \n",
       "2        Drs.      F        22.68                 Q1              H1   \n",
       "3        Mrs.      F        41.70                 Q1              H1   \n",
       "4        Hon.      F        22.39                 Q4              H2   \n",
       "\n",
       "   Month of Joining  Age in Company (Years)  Salary   Region  Year of Joining  \\\n",
       "0                12                    6.61  119090     West                4   \n",
       "1                 4                    0.26  117991  Midwest                4   \n",
       "2                 3                    0.34  161045    South                4   \n",
       "3                 2                   14.43  142616  Midwest                3   \n",
       "4                10                    0.79  135706     West                4   \n",
       "\n",
       "  Last % Hike  \n",
       "0           4  \n",
       "1           3  \n",
       "2           6  \n",
       "3           4  \n",
       "4           3  "
      ]
     },
     "execution_count": 34,
     "metadata": {},
     "output_type": "execute_result"
    }
   ],
   "source": [
    "df=pd.concat([df,tempr],axis=1)\n",
    "df.head()"
   ]
  },
  {
   "cell_type": "markdown",
   "metadata": {},
   "source": [
    "## EDA"
   ]
  },
  {
   "cell_type": "code",
   "execution_count": 35,
   "metadata": {},
   "outputs": [
    {
     "data": {
      "image/png": "[encoded data removed]",
      "text/plain": [
       "<Figure size 432x288 with 1 Axes>"
      ]
     },
     "metadata": {
      "needs_background": "light"
     },
     "output_type": "display_data"
    }
   ],
   "source": [
    "sns.scatterplot(df['Age in Yrs.'],df['Salary'])\n",
    "plt.title(\"Scatter plot of Age v/s Salary\")\n",
    "plt.show()"
   ]
  },
  {
   "cell_type": "markdown",
   "metadata": {},
   "source": [
    "From the above scatter plot, it can be seen that there is no specific relation between Age and Salary"
   ]
  },
  {
   "cell_type": "code",
   "execution_count": 36,
   "metadata": {},
   "outputs": [
    {
     "data": {
      "image/png": "[encoded data removed]",
      "text/plain": [
       "<Figure size 432x288 with 1 Axes>"
      ]
     },
     "metadata": {
      "needs_background": "light"
     },
     "output_type": "display_data"
    }
   ],
   "source": [
    "sns.barplot(df['Quarter of Joining'],df['Salary'])\n",
    "plt.title(\"Barplot of Quarter of Joining v/s Salary\")\n",
    "plt.show()"
   ]
  },
  {
   "cell_type": "markdown",
   "metadata": {},
   "source": [
    "Employees who have joined in Q4 are earning slightly more than employees who joined in other Quarters"
   ]
  },
  {
   "cell_type": "code",
   "execution_count": 37,
   "metadata": {},
   "outputs": [
    {
     "data": {
      "image/png": "[encoded data removed]",
      "text/plain": [
       "<Figure size 432x288 with 1 Axes>"
      ]
     },
     "metadata": {
      "needs_background": "light"
     },
     "output_type": "display_data"
    }
   ],
   "source": [
    "sns.barplot(df['Gender'],df['Salary'])\n",
    "plt.title('Barplot of Gender v/s Salary')\n",
    "plt.show()"
   ]
  },
  {
   "cell_type": "markdown",
   "metadata": {},
   "source": [
    "From the barplot, it can be seen that both the Genders earn almost the same"
   ]
  },
  {
   "cell_type": "code",
   "execution_count": 38,
   "metadata": {},
   "outputs": [
    {
     "data": {
      "image/png": "[encoded data removed]",
      "text/plain": [
       "<Figure size 432x288 with 1 Axes>"
      ]
     },
     "metadata": {
      "needs_background": "light"
     },
     "output_type": "display_data"
    }
   ],
   "source": [
    "sns.boxplot(df['Region'],df['Salary'],hue=df['Gender'])\n",
    "plt.title('Boxplot of Region v/s salary wrt Gender')\n",
    "plt.show()"
   ]
  },
  {
   "cell_type": "markdown",
   "metadata": {},
   "source": [
    "From the above boxplot, it can be observed that males in all regions earn slightly more than females"
   ]
  },
  {
   "cell_type": "code",
   "execution_count": 39,
   "metadata": {},
   "outputs": [
    {
     "data": {
      "image/png": "[encoded data removed]",
      "text/plain": [
       "<Figure size 432x288 with 1 Axes>"
      ]
     },
     "metadata": {
      "needs_background": "light"
     },
     "output_type": "display_data"
    }
   ],
   "source": [
    "plt.bar(df['Name Prefix'],df['Salary'])\n",
    "plt.title('Barplot of Honorifics v/s Salary')\n",
    "plt.show()"
   ]
  },
  {
   "cell_type": "markdown",
   "metadata": {},
   "source": [
    "From the above bar graph, it can be seen that all the honorifics were paid almost the same"
   ]
  },
  {
   "cell_type": "code",
   "execution_count": 40,
   "metadata": {},
   "outputs": [
    {
     "data": {
      "image/png": "[encoded data removed]",
      "text/plain": [
       "<Figure size 432x288 with 1 Axes>"
      ]
     },
     "metadata": {
      "needs_background": "light"
     },
     "output_type": "display_data"
    }
   ],
   "source": [
    "sns.scatterplot(df['Age in Company (Years)'],df['Salary'])\n",
    "plt.title(\"Scatterplot of Age in Company v/s Salary\")\n",
    "plt.show()"
   ]
  },
  {
   "cell_type": "markdown",
   "metadata": {},
   "source": [
    "From the above scatter plot,years of experience in the company doesn't affect salary to that extent. It can also be seen that most of the employees are present in the company from past 20 years."
   ]
  },
  {
   "cell_type": "code",
   "execution_count": 41,
   "metadata": {},
   "outputs": [
    {
     "data": {
      "image/png": "[encoded data removed]",
      "text/plain": [
       "<Figure size 432x288 with 1 Axes>"
      ]
     },
     "metadata": {
      "needs_background": "light"
     },
     "output_type": "display_data"
    }
   ],
   "source": [
    "sns.barplot(df['Year of Joining'],df['Salary'])\n",
    "plt.title('Barplot of Year of joining v/s Salary')\n",
    "plt.show()"
   ]
  },
  {
   "cell_type": "markdown",
   "metadata": {},
   "source": [
    "From the above barplot, category 3 ie. joining between 1999-2009 earn more salary than other categories"
   ]
  },
  {
   "cell_type": "code",
   "execution_count": 42,
   "metadata": {},
   "outputs": [
    {
     "data": {
      "image/png": "[encoded data removed]",
      "text/plain": [
       "<Figure size 432x288 with 1 Axes>"
      ]
     },
     "metadata": {
      "needs_background": "light"
     },
     "output_type": "display_data"
    }
   ],
   "source": [
    "sns.barplot(df['Last % Hike'],df['Salary'])\n",
    "plt.title('Barplot of Last % Hike v/s Salary')\n",
    "plt.show()"
   ]
  },
  {
   "cell_type": "markdown",
   "metadata": {},
   "source": [
    "Employees who received a hike of 20 to 24% recently, have higher salaries as compared to others."
   ]
  },
  {
   "cell_type": "code",
   "execution_count": 43,
   "metadata": {},
   "outputs": [
    {
     "data": {
      "image/png": "[encoded data removed]",
      "text/plain": [
       "<Figure size 432x288 with 1 Axes>"
      ]
     },
     "metadata": {
      "needs_background": "light"
     },
     "output_type": "display_data"
    }
   ],
   "source": [
    "sns.violinplot(df['Age in Yrs.'])\n",
    "plt.title(\"Violin plot of age\")\n",
    "plt.show()"
   ]
  },
  {
   "cell_type": "markdown",
   "metadata": {},
   "source": [
    "From the above violin plot , it can be seen that most of the employees lie between 25-55 years of age."
   ]
  },
  {
   "cell_type": "code",
   "execution_count": 44,
   "metadata": {},
   "outputs": [
    {
     "data": {
      "image/png": "[encoded data removed]",
      "text/plain": [
       "<Figure size 432x288 with 1 Axes>"
      ]
     },
     "metadata": {
      "needs_background": "light"
     },
     "output_type": "display_data"
    }
   ],
   "source": [
    "sns.distplot(df[\"Salary\"])\n",
    "plt.title(\"Distribution plot of Salary\")\n",
    "plt.show()"
   ]
  },
  {
   "cell_type": "markdown",
   "metadata": {},
   "source": [
    "From the above distplot, it can be seen that salary mostly lie between 55,000 to 1,75,000."
   ]
  },
  {
   "cell_type": "code",
   "execution_count": 45,
   "metadata": {},
   "outputs": [
    {
     "data": {
      "image/png": "[encoded data removed]",
      "text/plain": [
       "<Figure size 720x720 with 2 Axes>"
      ]
     },
     "metadata": {
      "needs_background": "light"
     },
     "output_type": "display_data"
    }
   ],
   "source": [
    "plt.figure(figsize=(10,10))\n",
    "sns.heatmap(df.corr(),annot=True)\n",
    "plt.show()"
   ]
  },
  {
   "cell_type": "markdown",
   "metadata": {},
   "source": [
    "From the heatmap, we can observe that Salary is positively correlated with the years employees have spent in the organization, their age and negatively correlated with Year employee has joined and month of joining."
   ]
  },
  {
   "cell_type": "markdown",
   "metadata": {},
   "source": [
    "## Label Encoding"
   ]
  },
  {
   "cell_type": "code",
   "execution_count": 46,
   "metadata": {},
   "outputs": [],
   "source": [
    "from sklearn.preprocessing import LabelEncoder\n",
    "le=LabelEncoder()"
   ]
  },
  {
   "cell_type": "code",
   "execution_count": 47,
   "metadata": {},
   "outputs": [],
   "source": [
    "df['Gender']=le.fit_transform(df['Gender'])\n",
    "df['Quarter of Joining']=le.fit_transform(df['Quarter of Joining'])\n",
    "df['Half of Joining']=le.fit_transform(df['Half of Joining'])\n",
    "df['Region']=le.fit_transform(df['Region'])"
   ]
  },
  {
   "cell_type": "markdown",
   "metadata": {},
   "source": [
    "## Get dummies method for other object columns"
   ]
  },
  {
   "cell_type": "code",
   "execution_count": 48,
   "metadata": {},
   "outputs": [],
   "source": [
    "status=pd.get_dummies(df['Name Prefix'],drop_first=True,prefix='Name_prefix')\n",
    "df=pd.concat([df,status],axis=1)\n",
    "df.drop('Name Prefix',axis=1,inplace=True)\n"
   ]
  },
  {
   "cell_type": "code",
   "execution_count": 49,
   "metadata": {},
   "outputs": [],
   "source": [
    "#Applying label encoding\n",
    "df['Year of Joining']=le.fit_transform(df['Year of Joining'])"
   ]
  },
  {
   "cell_type": "code",
   "execution_count": 50,
   "metadata": {},
   "outputs": [
    {
     "data": {
      "text/html": [
       "<div>\n",
       "<style scoped>\n",
       "    .dataframe tbody tr th:only-of-type {\n",
       "        vertical-align: middle;\n",
       "    }\n",
       "\n",
       "    .dataframe tbody tr th {\n",
       "        vertical-align: top;\n",
       "    }\n",
       "\n",
       "    .dataframe thead th {\n",
       "        text-align: right;\n",
       "    }\n",
       "</style>\n",
       "<table border=\"1\" class=\"dataframe\">\n",
       "  <thead>\n",
       "    <tr style=\"text-align: right;\">\n",
       "      <th></th>\n",
       "      <th>Gender</th>\n",
       "      <th>Age in Yrs.</th>\n",
       "      <th>Quarter of Joining</th>\n",
       "      <th>Half of Joining</th>\n",
       "      <th>Month of Joining</th>\n",
       "      <th>Age in Company (Years)</th>\n",
       "      <th>Salary</th>\n",
       "      <th>Region</th>\n",
       "      <th>Year of Joining</th>\n",
       "      <th>Last % Hike</th>\n",
       "      <th>Name_prefix_Drs.</th>\n",
       "      <th>Name_prefix_Hon.</th>\n",
       "      <th>Name_prefix_Mr.</th>\n",
       "      <th>Name_prefix_Mrs.</th>\n",
       "      <th>Name_prefix_Ms.</th>\n",
       "      <th>Name_prefix_Prof.</th>\n",
       "    </tr>\n",
       "  </thead>\n",
       "  <tbody>\n",
       "    <tr>\n",
       "      <th>0</th>\n",
       "      <td>0</td>\n",
       "      <td>45.66</td>\n",
       "      <td>3</td>\n",
       "      <td>1</td>\n",
       "      <td>12</td>\n",
       "      <td>6.61</td>\n",
       "      <td>119090</td>\n",
       "      <td>3</td>\n",
       "      <td>3</td>\n",
       "      <td>4</td>\n",
       "      <td>0</td>\n",
       "      <td>0</td>\n",
       "      <td>0</td>\n",
       "      <td>0</td>\n",
       "      <td>1</td>\n",
       "      <td>0</td>\n",
       "    </tr>\n",
       "    <tr>\n",
       "      <th>1</th>\n",
       "      <td>1</td>\n",
       "      <td>23.76</td>\n",
       "      <td>1</td>\n",
       "      <td>0</td>\n",
       "      <td>4</td>\n",
       "      <td>0.26</td>\n",
       "      <td>117991</td>\n",
       "      <td>0</td>\n",
       "      <td>3</td>\n",
       "      <td>3</td>\n",
       "      <td>0</td>\n",
       "      <td>0</td>\n",
       "      <td>1</td>\n",
       "      <td>0</td>\n",
       "      <td>0</td>\n",
       "      <td>0</td>\n",
       "    </tr>\n",
       "    <tr>\n",
       "      <th>2</th>\n",
       "      <td>0</td>\n",
       "      <td>22.68</td>\n",
       "      <td>0</td>\n",
       "      <td>0</td>\n",
       "      <td>3</td>\n",
       "      <td>0.34</td>\n",
       "      <td>161045</td>\n",
       "      <td>2</td>\n",
       "      <td>3</td>\n",
       "      <td>6</td>\n",
       "      <td>1</td>\n",
       "      <td>0</td>\n",
       "      <td>0</td>\n",
       "      <td>0</td>\n",
       "      <td>0</td>\n",
       "      <td>0</td>\n",
       "    </tr>\n",
       "    <tr>\n",
       "      <th>3</th>\n",
       "      <td>0</td>\n",
       "      <td>41.70</td>\n",
       "      <td>0</td>\n",
       "      <td>0</td>\n",
       "      <td>2</td>\n",
       "      <td>14.43</td>\n",
       "      <td>142616</td>\n",
       "      <td>0</td>\n",
       "      <td>2</td>\n",
       "      <td>4</td>\n",
       "      <td>0</td>\n",
       "      <td>0</td>\n",
       "      <td>0</td>\n",
       "      <td>1</td>\n",
       "      <td>0</td>\n",
       "      <td>0</td>\n",
       "    </tr>\n",
       "    <tr>\n",
       "      <th>4</th>\n",
       "      <td>0</td>\n",
       "      <td>22.39</td>\n",
       "      <td>3</td>\n",
       "      <td>1</td>\n",
       "      <td>10</td>\n",
       "      <td>0.79</td>\n",
       "      <td>135706</td>\n",
       "      <td>3</td>\n",
       "      <td>3</td>\n",
       "      <td>3</td>\n",
       "      <td>0</td>\n",
       "      <td>1</td>\n",
       "      <td>0</td>\n",
       "      <td>0</td>\n",
       "      <td>0</td>\n",
       "      <td>0</td>\n",
       "    </tr>\n",
       "  </tbody>\n",
       "</table>\n",
       "</div>"
      ],
      "text/plain": [
       "   Gender  Age in Yrs.  Quarter of Joining  Half of Joining  Month of Joining  \\\n",
       "0       0        45.66                   3                1                12   \n",
       "1       1        23.76                   1                0                 4   \n",
       "2       0        22.68                   0                0                 3   \n",
       "3       0        41.70                   0                0                 2   \n",
       "4       0        22.39                   3                1                10   \n",
       "\n",
       "   Age in Company (Years)  Salary  Region  Year of Joining Last % Hike  \\\n",
       "0                    6.61  119090       3                3           4   \n",
       "1                    0.26  117991       0                3           3   \n",
       "2                    0.34  161045       2                3           6   \n",
       "3                   14.43  142616       0                2           4   \n",
       "4                    0.79  135706       3                3           3   \n",
       "\n",
       "   Name_prefix_Drs.  Name_prefix_Hon.  Name_prefix_Mr.  Name_prefix_Mrs.  \\\n",
       "0                 0                 0                0                 0   \n",
       "1                 0                 0                1                 0   \n",
       "2                 1                 0                0                 0   \n",
       "3                 0                 0                0                 1   \n",
       "4                 0                 1                0                 0   \n",
       "\n",
       "   Name_prefix_Ms.  Name_prefix_Prof.  \n",
       "0                1                  0  \n",
       "1                0                  0  \n",
       "2                0                  0  \n",
       "3                0                  0  \n",
       "4                0                  0  "
      ]
     },
     "execution_count": 50,
     "metadata": {},
     "output_type": "execute_result"
    }
   ],
   "source": [
    "df.head()"
   ]
  },
  {
   "cell_type": "code",
   "execution_count": 51,
   "metadata": {},
   "outputs": [
    {
     "data": {
      "text/plain": [
       "3    484\n",
       "2    327\n",
       "1    136\n",
       "0     53\n",
       "Name: Year of Joining, dtype: int64"
      ]
     },
     "execution_count": 51,
     "metadata": {},
     "output_type": "execute_result"
    }
   ],
   "source": [
    "df['Year of Joining'].value_counts()"
   ]
  },
  {
   "cell_type": "markdown",
   "metadata": {},
   "source": [
    "3---->2009-2018   2---->1999-2008   1---->1989-1998   0---->1979-1988"
   ]
  },
  {
   "cell_type": "code",
   "execution_count": 52,
   "metadata": {},
   "outputs": [
    {
     "data": {
      "text/plain": [
       "4    175\n",
       "5    173\n",
       "6    165\n",
       "1    157\n",
       "2    149\n",
       "3    141\n",
       "7     40\n",
       "Name: Last % Hike, dtype: int64"
      ]
     },
     "execution_count": 52,
     "metadata": {},
     "output_type": "execute_result"
    }
   ],
   "source": [
    "df['Last % Hike'].value_counts()"
   ]
  },
  {
   "cell_type": "markdown",
   "metadata": {},
   "source": [
    "1--->0% to 4%     \n",
    "2--->5% to 9%   \n",
    "3--->10% to 14%    \n",
    "4--->15% to 19%   \n",
    "5--->20% to 24%  \n",
    "6--->25% to 29%  \n",
    "7--->30% to 34%"
   ]
  },
  {
   "cell_type": "code",
   "execution_count": 53,
   "metadata": {},
   "outputs": [],
   "source": [
    "status=pd.get_dummies(df['Last % Hike'],drop_first=True,prefix='Last % Hike')\n",
    "df=pd.concat([df,status],axis=1)\n",
    "df.drop('Last % Hike',axis=1,inplace=True)"
   ]
  },
  {
   "cell_type": "code",
   "execution_count": 54,
   "metadata": {},
   "outputs": [
    {
     "data": {
      "text/plain": [
       "Gender                      int32\n",
       "Age in Yrs.               float64\n",
       "Quarter of Joining          int32\n",
       "Half of Joining             int32\n",
       "Month of Joining            int64\n",
       "Age in Company (Years)    float64\n",
       "Salary                      int64\n",
       "Region                      int32\n",
       "Year of Joining             int64\n",
       "Name_prefix_Drs.            uint8\n",
       "Name_prefix_Hon.            uint8\n",
       "Name_prefix_Mr.             uint8\n",
       "Name_prefix_Mrs.            uint8\n",
       "Name_prefix_Ms.             uint8\n",
       "Name_prefix_Prof.           uint8\n",
       "Last % Hike_2               uint8\n",
       "Last % Hike_3               uint8\n",
       "Last % Hike_4               uint8\n",
       "Last % Hike_5               uint8\n",
       "Last % Hike_6               uint8\n",
       "Last % Hike_7               uint8\n",
       "dtype: object"
      ]
     },
     "execution_count": 54,
     "metadata": {},
     "output_type": "execute_result"
    }
   ],
   "source": [
    "df.dtypes"
   ]
  },
  {
   "cell_type": "markdown",
   "metadata": {},
   "source": [
    "## Checking for outliers"
   ]
  },
  {
   "cell_type": "code",
   "execution_count": 55,
   "metadata": {},
   "outputs": [
    {
     "data": {
      "text/plain": [
       "Gender                   -0.036060\n",
       "Age in Yrs.               0.006173\n",
       "Quarter of Joining        0.045158\n",
       "Half of Joining           0.076169\n",
       "Month of Joining          0.057287\n",
       "Age in Company (Years)    0.968211\n",
       "Salary                    0.034356\n",
       "Region                   -0.069554\n",
       "Year of Joining          -0.959521\n",
       "Name_prefix_Drs.          3.787608\n",
       "Name_prefix_Hon.          2.891145\n",
       "Name_prefix_Mr.           0.643802\n",
       "Name_prefix_Mrs.          1.847515\n",
       "Name_prefix_Ms.           1.305396\n",
       "Name_prefix_Prof.         3.952525\n",
       "Last % Hike_2             1.974383\n",
       "Last % Hike_3             2.066191\n",
       "Last % Hike_4             1.713245\n",
       "Last % Hike_5             1.731626\n",
       "Last % Hike_6             1.807764\n",
       "Last % Hike_7             4.701911\n",
       "dtype: float64"
      ]
     },
     "execution_count": 55,
     "metadata": {},
     "output_type": "execute_result"
    }
   ],
   "source": [
    "df.skew()"
   ]
  },
  {
   "cell_type": "markdown",
   "metadata": {},
   "source": [
    "## Define X and y"
   ]
  },
  {
   "cell_type": "code",
   "execution_count": null,
   "metadata": {},
   "outputs": [],
   "source": []
  },
  {
   "cell_type": "code",
   "execution_count": 56,
   "metadata": {},
   "outputs": [
    {
     "data": {
      "text/html": [
       "<div>\n",
       "<style scoped>\n",
       "    .dataframe tbody tr th:only-of-type {\n",
       "        vertical-align: middle;\n",
       "    }\n",
       "\n",
       "    .dataframe tbody tr th {\n",
       "        vertical-align: top;\n",
       "    }\n",
       "\n",
       "    .dataframe thead th {\n",
       "        text-align: right;\n",
       "    }\n",
       "</style>\n",
       "<table border=\"1\" class=\"dataframe\">\n",
       "  <thead>\n",
       "    <tr style=\"text-align: right;\">\n",
       "      <th></th>\n",
       "      <th>Gender</th>\n",
       "      <th>Age in Yrs.</th>\n",
       "      <th>Quarter of Joining</th>\n",
       "      <th>Half of Joining</th>\n",
       "      <th>Month of Joining</th>\n",
       "      <th>Age in Company (Years)</th>\n",
       "      <th>Region</th>\n",
       "      <th>Year of Joining</th>\n",
       "      <th>Name_prefix_Drs.</th>\n",
       "      <th>Name_prefix_Hon.</th>\n",
       "      <th>Name_prefix_Mr.</th>\n",
       "      <th>Name_prefix_Mrs.</th>\n",
       "      <th>Name_prefix_Ms.</th>\n",
       "      <th>Name_prefix_Prof.</th>\n",
       "      <th>Last % Hike_2</th>\n",
       "      <th>Last % Hike_3</th>\n",
       "      <th>Last % Hike_4</th>\n",
       "      <th>Last % Hike_5</th>\n",
       "      <th>Last % Hike_6</th>\n",
       "      <th>Last % Hike_7</th>\n",
       "    </tr>\n",
       "  </thead>\n",
       "  <tbody>\n",
       "    <tr>\n",
       "      <th>0</th>\n",
       "      <td>0</td>\n",
       "      <td>45.66</td>\n",
       "      <td>3</td>\n",
       "      <td>1</td>\n",
       "      <td>12</td>\n",
       "      <td>6.61</td>\n",
       "      <td>3</td>\n",
       "      <td>3</td>\n",
       "      <td>0</td>\n",
       "      <td>0</td>\n",
       "      <td>0</td>\n",
       "      <td>0</td>\n",
       "      <td>1</td>\n",
       "      <td>0</td>\n",
       "      <td>0</td>\n",
       "      <td>0</td>\n",
       "      <td>1</td>\n",
       "      <td>0</td>\n",
       "      <td>0</td>\n",
       "      <td>0</td>\n",
       "    </tr>\n",
       "    <tr>\n",
       "      <th>1</th>\n",
       "      <td>1</td>\n",
       "      <td>23.76</td>\n",
       "      <td>1</td>\n",
       "      <td>0</td>\n",
       "      <td>4</td>\n",
       "      <td>0.26</td>\n",
       "      <td>0</td>\n",
       "      <td>3</td>\n",
       "      <td>0</td>\n",
       "      <td>0</td>\n",
       "      <td>1</td>\n",
       "      <td>0</td>\n",
       "      <td>0</td>\n",
       "      <td>0</td>\n",
       "      <td>0</td>\n",
       "      <td>1</td>\n",
       "      <td>0</td>\n",
       "      <td>0</td>\n",
       "      <td>0</td>\n",
       "      <td>0</td>\n",
       "    </tr>\n",
       "    <tr>\n",
       "      <th>2</th>\n",
       "      <td>0</td>\n",
       "      <td>22.68</td>\n",
       "      <td>0</td>\n",
       "      <td>0</td>\n",
       "      <td>3</td>\n",
       "      <td>0.34</td>\n",
       "      <td>2</td>\n",
       "      <td>3</td>\n",
       "      <td>1</td>\n",
       "      <td>0</td>\n",
       "      <td>0</td>\n",
       "      <td>0</td>\n",
       "      <td>0</td>\n",
       "      <td>0</td>\n",
       "      <td>0</td>\n",
       "      <td>0</td>\n",
       "      <td>0</td>\n",
       "      <td>0</td>\n",
       "      <td>1</td>\n",
       "      <td>0</td>\n",
       "    </tr>\n",
       "    <tr>\n",
       "      <th>3</th>\n",
       "      <td>0</td>\n",
       "      <td>41.70</td>\n",
       "      <td>0</td>\n",
       "      <td>0</td>\n",
       "      <td>2</td>\n",
       "      <td>14.43</td>\n",
       "      <td>0</td>\n",
       "      <td>2</td>\n",
       "      <td>0</td>\n",
       "      <td>0</td>\n",
       "      <td>0</td>\n",
       "      <td>1</td>\n",
       "      <td>0</td>\n",
       "      <td>0</td>\n",
       "      <td>0</td>\n",
       "      <td>0</td>\n",
       "      <td>1</td>\n",
       "      <td>0</td>\n",
       "      <td>0</td>\n",
       "      <td>0</td>\n",
       "    </tr>\n",
       "    <tr>\n",
       "      <th>4</th>\n",
       "      <td>0</td>\n",
       "      <td>22.39</td>\n",
       "      <td>3</td>\n",
       "      <td>1</td>\n",
       "      <td>10</td>\n",
       "      <td>0.79</td>\n",
       "      <td>3</td>\n",
       "      <td>3</td>\n",
       "      <td>0</td>\n",
       "      <td>1</td>\n",
       "      <td>0</td>\n",
       "      <td>0</td>\n",
       "      <td>0</td>\n",
       "      <td>0</td>\n",
       "      <td>0</td>\n",
       "      <td>1</td>\n",
       "      <td>0</td>\n",
       "      <td>0</td>\n",
       "      <td>0</td>\n",
       "      <td>0</td>\n",
       "    </tr>\n",
       "  </tbody>\n",
       "</table>\n",
       "</div>"
      ],
      "text/plain": [
       "   Gender  Age in Yrs.  Quarter of Joining  Half of Joining  Month of Joining  \\\n",
       "0       0        45.66                   3                1                12   \n",
       "1       1        23.76                   1                0                 4   \n",
       "2       0        22.68                   0                0                 3   \n",
       "3       0        41.70                   0                0                 2   \n",
       "4       0        22.39                   3                1                10   \n",
       "\n",
       "   Age in Company (Years)  Region  Year of Joining  Name_prefix_Drs.  \\\n",
       "0                    6.61       3                3                 0   \n",
       "1                    0.26       0                3                 0   \n",
       "2                    0.34       2                3                 1   \n",
       "3                   14.43       0                2                 0   \n",
       "4                    0.79       3                3                 0   \n",
       "\n",
       "   Name_prefix_Hon.  Name_prefix_Mr.  Name_prefix_Mrs.  Name_prefix_Ms.  \\\n",
       "0                 0                0                 0                1   \n",
       "1                 0                1                 0                0   \n",
       "2                 0                0                 0                0   \n",
       "3                 0                0                 1                0   \n",
       "4                 1                0                 0                0   \n",
       "\n",
       "   Name_prefix_Prof.  Last % Hike_2  Last % Hike_3  Last % Hike_4  \\\n",
       "0                  0              0              0              1   \n",
       "1                  0              0              1              0   \n",
       "2                  0              0              0              0   \n",
       "3                  0              0              0              1   \n",
       "4                  0              0              1              0   \n",
       "\n",
       "   Last % Hike_5  Last % Hike_6  Last % Hike_7  \n",
       "0              0              0              0  \n",
       "1              0              0              0  \n",
       "2              0              1              0  \n",
       "3              0              0              0  \n",
       "4              0              0              0  "
      ]
     },
     "execution_count": 56,
     "metadata": {},
     "output_type": "execute_result"
    }
   ],
   "source": [
    "X=df.drop('Salary',axis=1)\n",
    "X.head()"
   ]
  },
  {
   "cell_type": "code",
   "execution_count": 57,
   "metadata": {},
   "outputs": [
    {
     "data": {
      "text/plain": [
       "0    119090\n",
       "1    117991\n",
       "2    161045\n",
       "3    142616\n",
       "4    135706\n",
       "Name: Salary, dtype: int64"
      ]
     },
     "execution_count": 57,
     "metadata": {},
     "output_type": "execute_result"
    }
   ],
   "source": [
    "y=df['Salary']\n",
    "y.head()"
   ]
  },
  {
   "cell_type": "markdown",
   "metadata": {},
   "source": [
    "## Train_test_split"
   ]
  },
  {
   "cell_type": "code",
   "execution_count": 58,
   "metadata": {},
   "outputs": [],
   "source": [
    "from sklearn.model_selection import train_test_split\n",
    "X_train,X_test,y_train,y_test=train_test_split(X,y,test_size=0.3,random_state=101)"
   ]
  },
  {
   "cell_type": "code",
   "execution_count": 59,
   "metadata": {},
   "outputs": [],
   "source": [
    "from sklearn.linear_model import LinearRegression\n",
    "lr=LinearRegression()"
   ]
  },
  {
   "cell_type": "code",
   "execution_count": 60,
   "metadata": {},
   "outputs": [
    {
     "data": {
      "text/plain": [
       "LinearRegression(copy_X=True, fit_intercept=True, n_jobs=None,\n",
       "         normalize=False)"
      ]
     },
     "execution_count": 60,
     "metadata": {},
     "output_type": "execute_result"
    }
   ],
   "source": [
    "#fit the model to train data\n",
    "lr.fit(X_train,y_train)"
   ]
  },
  {
   "cell_type": "code",
   "execution_count": 61,
   "metadata": {},
   "outputs": [],
   "source": [
    "#train data\n",
    "y_pred_train=lr.predict(X_train)"
   ]
  },
  {
   "cell_type": "code",
   "execution_count": 62,
   "metadata": {},
   "outputs": [
    {
     "data": {
      "text/plain": [
       "0.028738939339642555"
      ]
     },
     "execution_count": 62,
     "metadata": {},
     "output_type": "execute_result"
    }
   ],
   "source": [
    "from sklearn.metrics import r2_score\n",
    "r2_score(y_train,y_pred_train)"
   ]
  },
  {
   "cell_type": "markdown",
   "metadata": {},
   "source": [
    "## Scaling done using standard scaler"
   ]
  },
  {
   "cell_type": "code",
   "execution_count": 63,
   "metadata": {},
   "outputs": [],
   "source": [
    "from sklearn.model_selection import train_test_split"
   ]
  },
  {
   "cell_type": "code",
   "execution_count": 64,
   "metadata": {},
   "outputs": [],
   "source": [
    "df_train,df_test=train_test_split(df,test_size=0.3,random_state=101)"
   ]
  },
  {
   "cell_type": "code",
   "execution_count": 65,
   "metadata": {},
   "outputs": [],
   "source": [
    "from sklearn.preprocessing import StandardScaler\n",
    "sc=StandardScaler()"
   ]
  },
  {
   "cell_type": "code",
   "execution_count": 66,
   "metadata": {},
   "outputs": [],
   "source": [
    "df_train_scaled=pd.DataFrame(sc.fit_transform(df_train),columns=df.columns)\n",
    "df_test_scaled=pd.DataFrame(sc.transform(df_test),columns=df.columns)"
   ]
  },
  {
   "cell_type": "code",
   "execution_count": 67,
   "metadata": {},
   "outputs": [
    {
     "data": {
      "text/plain": [
       "(700, 21)"
      ]
     },
     "execution_count": 67,
     "metadata": {},
     "output_type": "execute_result"
    }
   ],
   "source": [
    "df_train_scaled.shape"
   ]
  },
  {
   "cell_type": "code",
   "execution_count": 68,
   "metadata": {},
   "outputs": [
    {
     "data": {
      "text/plain": [
       "(300, 21)"
      ]
     },
     "execution_count": 68,
     "metadata": {},
     "output_type": "execute_result"
    }
   ],
   "source": [
    "df_test_scaled.shape"
   ]
  },
  {
   "cell_type": "code",
   "execution_count": 69,
   "metadata": {},
   "outputs": [],
   "source": [
    "X_train=df_train_scaled.drop(\"Salary\",axis=1)\n",
    "X_test=df_test_scaled.drop(\"Salary\",axis=1)"
   ]
  },
  {
   "cell_type": "code",
   "execution_count": 70,
   "metadata": {},
   "outputs": [],
   "source": [
    "y_train=df_train_scaled.Salary\n",
    "y_test=df_test_scaled.Salary"
   ]
  },
  {
   "cell_type": "code",
   "execution_count": 71,
   "metadata": {},
   "outputs": [],
   "source": [
    "from sklearn.linear_model import LinearRegression\n",
    "lr=LinearRegression()"
   ]
  },
  {
   "cell_type": "code",
   "execution_count": 72,
   "metadata": {},
   "outputs": [
    {
     "data": {
      "text/plain": [
       "LinearRegression(copy_X=True, fit_intercept=True, n_jobs=None,\n",
       "         normalize=False)"
      ]
     },
     "execution_count": 72,
     "metadata": {},
     "output_type": "execute_result"
    }
   ],
   "source": [
    "lr.fit(X_train,y_train)"
   ]
  },
  {
   "cell_type": "code",
   "execution_count": 73,
   "metadata": {},
   "outputs": [],
   "source": [
    "y_train_pred=lr.predict(X_train)"
   ]
  },
  {
   "cell_type": "code",
   "execution_count": 74,
   "metadata": {},
   "outputs": [
    {
     "data": {
      "text/plain": [
       "0.028738939339642555"
      ]
     },
     "execution_count": 74,
     "metadata": {},
     "output_type": "execute_result"
    }
   ],
   "source": [
    "from sklearn.metrics import r2_score\n",
    "r2_score(y_train,y_train_pred)"
   ]
  },
  {
   "cell_type": "code",
   "execution_count": 75,
   "metadata": {},
   "outputs": [],
   "source": [
    "y_test_pred=lr.predict(X_test)"
   ]
  },
  {
   "cell_type": "code",
   "execution_count": 76,
   "metadata": {},
   "outputs": [
    {
     "data": {
      "text/plain": [
       "-0.06809400212064554"
      ]
     },
     "execution_count": 76,
     "metadata": {},
     "output_type": "execute_result"
    }
   ],
   "source": [
    "from sklearn.metrics import r2_score\n",
    "r2_score(y_test,y_test_pred)"
   ]
  },
  {
   "cell_type": "markdown",
   "metadata": {},
   "source": [
    "I don't know what and where I have missed something because of which my model isn't working. Please provide me suggestions \n",
    "where should I correct something to get my model working. "
   ]
  }
 ],
 "metadata": {
  "kernelspec": {
   "display_name": "Python 3",
   "language": "python",
   "name": "python3"
  },
  "language_info": {
   "codemirror_mode": {
    "name": "ipython",
    "version": 3
   },
   "file_extension": ".py",
   "mimetype": "text/x-python",
   "name": "python",
   "nbconvert_exporter": "python",
   "pygments_lexer": "ipython3",
   "version": "3.7.1"
  }
 },
 "nbformat": 4,
 "nbformat_minor": 2
}
