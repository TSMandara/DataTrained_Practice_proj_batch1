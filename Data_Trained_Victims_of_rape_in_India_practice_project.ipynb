{
 "cells": [
  {
   "cell_type": "markdown",
   "metadata": {},
   "source": [
    "### The aim of this project is to analyse the dataset of victims of rape"
   ]
  },
  {
   "cell_type": "code",
   "execution_count": 1,
   "metadata": {},
   "outputs": [],
   "source": [
    "import pandas as pd\n",
    "import numpy as np\n",
    "import seaborn as sns\n",
    "import matplotlib.pyplot as plt\n",
    "import warnings\n",
    "warnings.filterwarnings(\"ignore\")"
   ]
  },
  {
   "cell_type": "code",
   "execution_count": 2,
   "metadata": {},
   "outputs": [
    {
     "data": {
      "text/html": [
       "<div>\n",
       "<style scoped>\n",
       "    .dataframe tbody tr th:only-of-type {\n",
       "        vertical-align: middle;\n",
       "    }\n",
       "\n",
       "    .dataframe tbody tr th {\n",
       "        vertical-align: top;\n",
       "    }\n",
       "\n",
       "    .dataframe thead th {\n",
       "        text-align: right;\n",
       "    }\n",
       "</style>\n",
       "<table border=\"1\" class=\"dataframe\">\n",
       "  <thead>\n",
       "    <tr style=\"text-align: right;\">\n",
       "      <th></th>\n",
       "      <th>Area_Name</th>\n",
       "      <th>Year</th>\n",
       "      <th>Subgroup</th>\n",
       "      <th>Rape_Cases_Reported</th>\n",
       "      <th>Victims_Above_50_Yrs</th>\n",
       "      <th>Victims_Between_10-14_Yrs</th>\n",
       "      <th>Victims_Between_14-18_Yrs</th>\n",
       "      <th>Victims_Between_18-30_Yrs</th>\n",
       "      <th>Victims_Between_30-50_Yrs</th>\n",
       "      <th>Victims_of_Rape_Total</th>\n",
       "      <th>Victims_Upto_10_Yrs</th>\n",
       "    </tr>\n",
       "  </thead>\n",
       "  <tbody>\n",
       "    <tr>\n",
       "      <th>0</th>\n",
       "      <td>Andaman &amp; Nicobar Islands</td>\n",
       "      <td>2001</td>\n",
       "      <td>Total Rape Victims</td>\n",
       "      <td>3</td>\n",
       "      <td>0</td>\n",
       "      <td>0</td>\n",
       "      <td>3</td>\n",
       "      <td>0</td>\n",
       "      <td>0</td>\n",
       "      <td>3</td>\n",
       "      <td>0</td>\n",
       "    </tr>\n",
       "    <tr>\n",
       "      <th>1</th>\n",
       "      <td>Andaman &amp; Nicobar Islands</td>\n",
       "      <td>2001</td>\n",
       "      <td>Victims of Incest Rape</td>\n",
       "      <td>1</td>\n",
       "      <td>0</td>\n",
       "      <td>0</td>\n",
       "      <td>1</td>\n",
       "      <td>0</td>\n",
       "      <td>0</td>\n",
       "      <td>1</td>\n",
       "      <td>0</td>\n",
       "    </tr>\n",
       "    <tr>\n",
       "      <th>2</th>\n",
       "      <td>Andaman &amp; Nicobar Islands</td>\n",
       "      <td>2001</td>\n",
       "      <td>Victims of Other Rape</td>\n",
       "      <td>2</td>\n",
       "      <td>0</td>\n",
       "      <td>0</td>\n",
       "      <td>2</td>\n",
       "      <td>0</td>\n",
       "      <td>0</td>\n",
       "      <td>2</td>\n",
       "      <td>0</td>\n",
       "    </tr>\n",
       "    <tr>\n",
       "      <th>3</th>\n",
       "      <td>Andaman &amp; Nicobar Islands</td>\n",
       "      <td>2002</td>\n",
       "      <td>Total Rape Victims</td>\n",
       "      <td>2</td>\n",
       "      <td>0</td>\n",
       "      <td>0</td>\n",
       "      <td>1</td>\n",
       "      <td>1</td>\n",
       "      <td>0</td>\n",
       "      <td>2</td>\n",
       "      <td>0</td>\n",
       "    </tr>\n",
       "    <tr>\n",
       "      <th>4</th>\n",
       "      <td>Andaman &amp; Nicobar Islands</td>\n",
       "      <td>2002</td>\n",
       "      <td>Victims of Incest Rape</td>\n",
       "      <td>0</td>\n",
       "      <td>0</td>\n",
       "      <td>0</td>\n",
       "      <td>0</td>\n",
       "      <td>0</td>\n",
       "      <td>0</td>\n",
       "      <td>0</td>\n",
       "      <td>0</td>\n",
       "    </tr>\n",
       "    <tr>\n",
       "      <th>5</th>\n",
       "      <td>Andaman &amp; Nicobar Islands</td>\n",
       "      <td>2002</td>\n",
       "      <td>Victims of Other Rape</td>\n",
       "      <td>2</td>\n",
       "      <td>0</td>\n",
       "      <td>0</td>\n",
       "      <td>1</td>\n",
       "      <td>1</td>\n",
       "      <td>0</td>\n",
       "      <td>2</td>\n",
       "      <td>0</td>\n",
       "    </tr>\n",
       "    <tr>\n",
       "      <th>6</th>\n",
       "      <td>Andaman &amp; Nicobar Islands</td>\n",
       "      <td>2003</td>\n",
       "      <td>Total Rape Victims</td>\n",
       "      <td>2</td>\n",
       "      <td>0</td>\n",
       "      <td>0</td>\n",
       "      <td>1</td>\n",
       "      <td>0</td>\n",
       "      <td>0</td>\n",
       "      <td>2</td>\n",
       "      <td>1</td>\n",
       "    </tr>\n",
       "    <tr>\n",
       "      <th>7</th>\n",
       "      <td>Andaman &amp; Nicobar Islands</td>\n",
       "      <td>2003</td>\n",
       "      <td>Victims of Incest Rape</td>\n",
       "      <td>0</td>\n",
       "      <td>0</td>\n",
       "      <td>0</td>\n",
       "      <td>0</td>\n",
       "      <td>0</td>\n",
       "      <td>0</td>\n",
       "      <td>0</td>\n",
       "      <td>0</td>\n",
       "    </tr>\n",
       "    <tr>\n",
       "      <th>8</th>\n",
       "      <td>Andaman &amp; Nicobar Islands</td>\n",
       "      <td>2003</td>\n",
       "      <td>Victims of Other Rape</td>\n",
       "      <td>2</td>\n",
       "      <td>0</td>\n",
       "      <td>0</td>\n",
       "      <td>1</td>\n",
       "      <td>0</td>\n",
       "      <td>0</td>\n",
       "      <td>2</td>\n",
       "      <td>1</td>\n",
       "    </tr>\n",
       "    <tr>\n",
       "      <th>9</th>\n",
       "      <td>Andaman &amp; Nicobar Islands</td>\n",
       "      <td>2004</td>\n",
       "      <td>Total Rape Victims</td>\n",
       "      <td>10</td>\n",
       "      <td>0</td>\n",
       "      <td>1</td>\n",
       "      <td>7</td>\n",
       "      <td>1</td>\n",
       "      <td>1</td>\n",
       "      <td>10</td>\n",
       "      <td>0</td>\n",
       "    </tr>\n",
       "  </tbody>\n",
       "</table>\n",
       "</div>"
      ],
      "text/plain": [
       "                   Area_Name  Year                Subgroup  \\\n",
       "0  Andaman & Nicobar Islands  2001      Total Rape Victims   \n",
       "1  Andaman & Nicobar Islands  2001  Victims of Incest Rape   \n",
       "2  Andaman & Nicobar Islands  2001   Victims of Other Rape   \n",
       "3  Andaman & Nicobar Islands  2002      Total Rape Victims   \n",
       "4  Andaman & Nicobar Islands  2002  Victims of Incest Rape   \n",
       "5  Andaman & Nicobar Islands  2002   Victims of Other Rape   \n",
       "6  Andaman & Nicobar Islands  2003      Total Rape Victims   \n",
       "7  Andaman & Nicobar Islands  2003  Victims of Incest Rape   \n",
       "8  Andaman & Nicobar Islands  2003   Victims of Other Rape   \n",
       "9  Andaman & Nicobar Islands  2004      Total Rape Victims   \n",
       "\n",
       "   Rape_Cases_Reported  Victims_Above_50_Yrs  Victims_Between_10-14_Yrs  \\\n",
       "0                    3                     0                          0   \n",
       "1                    1                     0                          0   \n",
       "2                    2                     0                          0   \n",
       "3                    2                     0                          0   \n",
       "4                    0                     0                          0   \n",
       "5                    2                     0                          0   \n",
       "6                    2                     0                          0   \n",
       "7                    0                     0                          0   \n",
       "8                    2                     0                          0   \n",
       "9                   10                     0                          1   \n",
       "\n",
       "   Victims_Between_14-18_Yrs  Victims_Between_18-30_Yrs  \\\n",
       "0                          3                          0   \n",
       "1                          1                          0   \n",
       "2                          2                          0   \n",
       "3                          1                          1   \n",
       "4                          0                          0   \n",
       "5                          1                          1   \n",
       "6                          1                          0   \n",
       "7                          0                          0   \n",
       "8                          1                          0   \n",
       "9                          7                          1   \n",
       "\n",
       "   Victims_Between_30-50_Yrs  Victims_of_Rape_Total  Victims_Upto_10_Yrs  \n",
       "0                          0                      3                    0  \n",
       "1                          0                      1                    0  \n",
       "2                          0                      2                    0  \n",
       "3                          0                      2                    0  \n",
       "4                          0                      0                    0  \n",
       "5                          0                      2                    0  \n",
       "6                          0                      2                    1  \n",
       "7                          0                      0                    0  \n",
       "8                          0                      2                    1  \n",
       "9                          1                     10                    0  "
      ]
     },
     "execution_count": 2,
     "metadata": {},
     "output_type": "execute_result"
    }
   ],
   "source": [
    "df=pd.read_csv(\"20_Victims_of_rape.csv\")\n",
    "df.head(10)"
   ]
  },
  {
   "cell_type": "code",
   "execution_count": 3,
   "metadata": {},
   "outputs": [
    {
     "data": {
      "text/plain": [
       "(1050, 11)"
      ]
     },
     "execution_count": 3,
     "metadata": {},
     "output_type": "execute_result"
    }
   ],
   "source": [
    "df.shape"
   ]
  },
  {
   "cell_type": "code",
   "execution_count": 4,
   "metadata": {},
   "outputs": [
    {
     "name": "stdout",
     "output_type": "stream",
     "text": [
      "<class 'pandas.core.frame.DataFrame'>\n",
      "RangeIndex: 1050 entries, 0 to 1049\n",
      "Data columns (total 11 columns):\n",
      "Area_Name                    1050 non-null object\n",
      "Year                         1050 non-null int64\n",
      "Subgroup                     1050 non-null object\n",
      "Rape_Cases_Reported          1050 non-null int64\n",
      "Victims_Above_50_Yrs         1050 non-null int64\n",
      "Victims_Between_10-14_Yrs    1050 non-null int64\n",
      "Victims_Between_14-18_Yrs    1050 non-null int64\n",
      "Victims_Between_18-30_Yrs    1050 non-null int64\n",
      "Victims_Between_30-50_Yrs    1050 non-null int64\n",
      "Victims_of_Rape_Total        1050 non-null int64\n",
      "Victims_Upto_10_Yrs          1050 non-null int64\n",
      "dtypes: int64(9), object(2)\n",
      "memory usage: 90.3+ KB\n"
     ]
    }
   ],
   "source": [
    "df.info()"
   ]
  },
  {
   "cell_type": "code",
   "execution_count": 5,
   "metadata": {},
   "outputs": [
    {
     "data": {
      "text/plain": [
       "Victims of Incest Rape    350\n",
       "Total Rape Victims        350\n",
       "Victims of Other Rape     350\n",
       "Name: Subgroup, dtype: int64"
      ]
     },
     "execution_count": 5,
     "metadata": {},
     "output_type": "execute_result"
    }
   ],
   "source": [
    "df['Subgroup'].value_counts()"
   ]
  },
  {
   "cell_type": "code",
   "execution_count": 6,
   "metadata": {},
   "outputs": [
    {
     "data": {
      "text/plain": [
       "35"
      ]
     },
     "execution_count": 6,
     "metadata": {},
     "output_type": "execute_result"
    }
   ],
   "source": [
    "df['Area_Name'].value_counts().count()"
   ]
  },
  {
   "cell_type": "code",
   "execution_count": 7,
   "metadata": {},
   "outputs": [
    {
     "data": {
      "text/plain": [
       "2010    105\n",
       "2009    105\n",
       "2008    105\n",
       "2007    105\n",
       "2006    105\n",
       "2005    105\n",
       "2004    105\n",
       "2003    105\n",
       "2002    105\n",
       "2001    105\n",
       "Name: Year, dtype: int64"
      ]
     },
     "execution_count": 7,
     "metadata": {},
     "output_type": "execute_result"
    }
   ],
   "source": [
    "df['Year'].value_counts()"
   ]
  },
  {
   "cell_type": "markdown",
   "metadata": {},
   "source": [
    "### Creating different dataframes for different subgroups"
   ]
  },
  {
   "cell_type": "code",
   "execution_count": 8,
   "metadata": {},
   "outputs": [],
   "source": [
    "df1=df[(df['Subgroup']=='Total Rape Victims')&((df['Year']==2005) | (df['Year']==2010))]\n",
    "df1.drop('Subgroup',axis=1,inplace=True)"
   ]
  },
  {
   "cell_type": "code",
   "execution_count": 9,
   "metadata": {},
   "outputs": [
    {
     "data": {
      "text/html": [
       "<div>\n",
       "<style scoped>\n",
       "    .dataframe tbody tr th:only-of-type {\n",
       "        vertical-align: middle;\n",
       "    }\n",
       "\n",
       "    .dataframe tbody tr th {\n",
       "        vertical-align: top;\n",
       "    }\n",
       "\n",
       "    .dataframe thead th {\n",
       "        text-align: right;\n",
       "    }\n",
       "</style>\n",
       "<table border=\"1\" class=\"dataframe\">\n",
       "  <thead>\n",
       "    <tr style=\"text-align: right;\">\n",
       "      <th></th>\n",
       "      <th>Area_Name</th>\n",
       "      <th>Year</th>\n",
       "      <th>Rape_Cases_Reported</th>\n",
       "      <th>Victims_Above_50_Yrs</th>\n",
       "      <th>Victims_Between_10-14_Yrs</th>\n",
       "      <th>Victims_Between_14-18_Yrs</th>\n",
       "      <th>Victims_Between_18-30_Yrs</th>\n",
       "      <th>Victims_Between_30-50_Yrs</th>\n",
       "      <th>Victims_of_Rape_Total</th>\n",
       "      <th>Victims_Upto_10_Yrs</th>\n",
       "    </tr>\n",
       "  </thead>\n",
       "  <tbody>\n",
       "    <tr>\n",
       "      <th>12</th>\n",
       "      <td>Andaman &amp; Nicobar Islands</td>\n",
       "      <td>2005</td>\n",
       "      <td>4</td>\n",
       "      <td>0</td>\n",
       "      <td>0</td>\n",
       "      <td>2</td>\n",
       "      <td>2</td>\n",
       "      <td>0</td>\n",
       "      <td>4</td>\n",
       "      <td>0</td>\n",
       "    </tr>\n",
       "    <tr>\n",
       "      <th>27</th>\n",
       "      <td>Andaman &amp; Nicobar Islands</td>\n",
       "      <td>2010</td>\n",
       "      <td>24</td>\n",
       "      <td>0</td>\n",
       "      <td>1</td>\n",
       "      <td>12</td>\n",
       "      <td>8</td>\n",
       "      <td>1</td>\n",
       "      <td>24</td>\n",
       "      <td>2</td>\n",
       "    </tr>\n",
       "    <tr>\n",
       "      <th>42</th>\n",
       "      <td>Andhra Pradesh</td>\n",
       "      <td>2005</td>\n",
       "      <td>935</td>\n",
       "      <td>6</td>\n",
       "      <td>106</td>\n",
       "      <td>177</td>\n",
       "      <td>490</td>\n",
       "      <td>124</td>\n",
       "      <td>935</td>\n",
       "      <td>32</td>\n",
       "    </tr>\n",
       "    <tr>\n",
       "      <th>57</th>\n",
       "      <td>Andhra Pradesh</td>\n",
       "      <td>2010</td>\n",
       "      <td>1362</td>\n",
       "      <td>15</td>\n",
       "      <td>133</td>\n",
       "      <td>283</td>\n",
       "      <td>749</td>\n",
       "      <td>152</td>\n",
       "      <td>1362</td>\n",
       "      <td>30</td>\n",
       "    </tr>\n",
       "    <tr>\n",
       "      <th>72</th>\n",
       "      <td>Arunachal Pradesh</td>\n",
       "      <td>2005</td>\n",
       "      <td>35</td>\n",
       "      <td>0</td>\n",
       "      <td>5</td>\n",
       "      <td>2</td>\n",
       "      <td>25</td>\n",
       "      <td>0</td>\n",
       "      <td>35</td>\n",
       "      <td>3</td>\n",
       "    </tr>\n",
       "  </tbody>\n",
       "</table>\n",
       "</div>"
      ],
      "text/plain": [
       "                    Area_Name  Year  Rape_Cases_Reported  \\\n",
       "12  Andaman & Nicobar Islands  2005                    4   \n",
       "27  Andaman & Nicobar Islands  2010                   24   \n",
       "42             Andhra Pradesh  2005                  935   \n",
       "57             Andhra Pradesh  2010                 1362   \n",
       "72          Arunachal Pradesh  2005                   35   \n",
       "\n",
       "    Victims_Above_50_Yrs  Victims_Between_10-14_Yrs  \\\n",
       "12                     0                          0   \n",
       "27                     0                          1   \n",
       "42                     6                        106   \n",
       "57                    15                        133   \n",
       "72                     0                          5   \n",
       "\n",
       "    Victims_Between_14-18_Yrs  Victims_Between_18-30_Yrs  \\\n",
       "12                          2                          2   \n",
       "27                         12                          8   \n",
       "42                        177                        490   \n",
       "57                        283                        749   \n",
       "72                          2                         25   \n",
       "\n",
       "    Victims_Between_30-50_Yrs  Victims_of_Rape_Total  Victims_Upto_10_Yrs  \n",
       "12                          0                      4                    0  \n",
       "27                          1                     24                    2  \n",
       "42                        124                    935                   32  \n",
       "57                        152                   1362                   30  \n",
       "72                          0                     35                    3  "
      ]
     },
     "execution_count": 9,
     "metadata": {},
     "output_type": "execute_result"
    }
   ],
   "source": [
    "df1.head()"
   ]
  },
  {
   "cell_type": "code",
   "execution_count": 10,
   "metadata": {},
   "outputs": [],
   "source": [
    "df2=df[(df['Subgroup']=='Victims of Other Rape')&((df['Year']==2005) | (df['Year']==2010))]\n",
    "df2.drop('Subgroup',axis=1,inplace=True)\n"
   ]
  },
  {
   "cell_type": "code",
   "execution_count": 11,
   "metadata": {},
   "outputs": [
    {
     "data": {
      "text/html": [
       "<div>\n",
       "<style scoped>\n",
       "    .dataframe tbody tr th:only-of-type {\n",
       "        vertical-align: middle;\n",
       "    }\n",
       "\n",
       "    .dataframe tbody tr th {\n",
       "        vertical-align: top;\n",
       "    }\n",
       "\n",
       "    .dataframe thead th {\n",
       "        text-align: right;\n",
       "    }\n",
       "</style>\n",
       "<table border=\"1\" class=\"dataframe\">\n",
       "  <thead>\n",
       "    <tr style=\"text-align: right;\">\n",
       "      <th></th>\n",
       "      <th>Area_Name</th>\n",
       "      <th>Year</th>\n",
       "      <th>Rape_Cases_Reported</th>\n",
       "      <th>Victims_Above_50_Yrs</th>\n",
       "      <th>Victims_Between_10-14_Yrs</th>\n",
       "      <th>Victims_Between_14-18_Yrs</th>\n",
       "      <th>Victims_Between_18-30_Yrs</th>\n",
       "      <th>Victims_Between_30-50_Yrs</th>\n",
       "      <th>Victims_of_Rape_Total</th>\n",
       "      <th>Victims_Upto_10_Yrs</th>\n",
       "    </tr>\n",
       "  </thead>\n",
       "  <tbody>\n",
       "    <tr>\n",
       "      <th>14</th>\n",
       "      <td>Andaman &amp; Nicobar Islands</td>\n",
       "      <td>2005</td>\n",
       "      <td>4</td>\n",
       "      <td>0</td>\n",
       "      <td>0</td>\n",
       "      <td>2</td>\n",
       "      <td>2</td>\n",
       "      <td>0</td>\n",
       "      <td>4</td>\n",
       "      <td>0</td>\n",
       "    </tr>\n",
       "    <tr>\n",
       "      <th>29</th>\n",
       "      <td>Andaman &amp; Nicobar Islands</td>\n",
       "      <td>2010</td>\n",
       "      <td>24</td>\n",
       "      <td>0</td>\n",
       "      <td>1</td>\n",
       "      <td>12</td>\n",
       "      <td>8</td>\n",
       "      <td>1</td>\n",
       "      <td>24</td>\n",
       "      <td>2</td>\n",
       "    </tr>\n",
       "    <tr>\n",
       "      <th>44</th>\n",
       "      <td>Andhra Pradesh</td>\n",
       "      <td>2005</td>\n",
       "      <td>917</td>\n",
       "      <td>6</td>\n",
       "      <td>102</td>\n",
       "      <td>177</td>\n",
       "      <td>484</td>\n",
       "      <td>118</td>\n",
       "      <td>917</td>\n",
       "      <td>30</td>\n",
       "    </tr>\n",
       "    <tr>\n",
       "      <th>59</th>\n",
       "      <td>Andhra Pradesh</td>\n",
       "      <td>2010</td>\n",
       "      <td>1362</td>\n",
       "      <td>15</td>\n",
       "      <td>133</td>\n",
       "      <td>283</td>\n",
       "      <td>749</td>\n",
       "      <td>152</td>\n",
       "      <td>1362</td>\n",
       "      <td>30</td>\n",
       "    </tr>\n",
       "    <tr>\n",
       "      <th>74</th>\n",
       "      <td>Arunachal Pradesh</td>\n",
       "      <td>2005</td>\n",
       "      <td>35</td>\n",
       "      <td>0</td>\n",
       "      <td>5</td>\n",
       "      <td>2</td>\n",
       "      <td>25</td>\n",
       "      <td>0</td>\n",
       "      <td>35</td>\n",
       "      <td>3</td>\n",
       "    </tr>\n",
       "  </tbody>\n",
       "</table>\n",
       "</div>"
      ],
      "text/plain": [
       "                    Area_Name  Year  Rape_Cases_Reported  \\\n",
       "14  Andaman & Nicobar Islands  2005                    4   \n",
       "29  Andaman & Nicobar Islands  2010                   24   \n",
       "44             Andhra Pradesh  2005                  917   \n",
       "59             Andhra Pradesh  2010                 1362   \n",
       "74          Arunachal Pradesh  2005                   35   \n",
       "\n",
       "    Victims_Above_50_Yrs  Victims_Between_10-14_Yrs  \\\n",
       "14                     0                          0   \n",
       "29                     0                          1   \n",
       "44                     6                        102   \n",
       "59                    15                        133   \n",
       "74                     0                          5   \n",
       "\n",
       "    Victims_Between_14-18_Yrs  Victims_Between_18-30_Yrs  \\\n",
       "14                          2                          2   \n",
       "29                         12                          8   \n",
       "44                        177                        484   \n",
       "59                        283                        749   \n",
       "74                          2                         25   \n",
       "\n",
       "    Victims_Between_30-50_Yrs  Victims_of_Rape_Total  Victims_Upto_10_Yrs  \n",
       "14                          0                      4                    0  \n",
       "29                          1                     24                    2  \n",
       "44                        118                    917                   30  \n",
       "59                        152                   1362                   30  \n",
       "74                          0                     35                    3  "
      ]
     },
     "execution_count": 11,
     "metadata": {},
     "output_type": "execute_result"
    }
   ],
   "source": [
    "df2.head()"
   ]
  },
  {
   "cell_type": "code",
   "execution_count": 12,
   "metadata": {},
   "outputs": [],
   "source": [
    "df3=df[(df['Subgroup']=='Victims of Incest Rape') &((df['Year']==2005) | (df['Year']==2010))]\n",
    "df3.drop('Subgroup',axis=1,inplace=True)"
   ]
  },
  {
   "cell_type": "code",
   "execution_count": 13,
   "metadata": {},
   "outputs": [
    {
     "data": {
      "text/html": [
       "<div>\n",
       "<style scoped>\n",
       "    .dataframe tbody tr th:only-of-type {\n",
       "        vertical-align: middle;\n",
       "    }\n",
       "\n",
       "    .dataframe tbody tr th {\n",
       "        vertical-align: top;\n",
       "    }\n",
       "\n",
       "    .dataframe thead th {\n",
       "        text-align: right;\n",
       "    }\n",
       "</style>\n",
       "<table border=\"1\" class=\"dataframe\">\n",
       "  <thead>\n",
       "    <tr style=\"text-align: right;\">\n",
       "      <th></th>\n",
       "      <th>Area_Name</th>\n",
       "      <th>Year</th>\n",
       "      <th>Rape_Cases_Reported</th>\n",
       "      <th>Victims_Above_50_Yrs</th>\n",
       "      <th>Victims_Between_10-14_Yrs</th>\n",
       "      <th>Victims_Between_14-18_Yrs</th>\n",
       "      <th>Victims_Between_18-30_Yrs</th>\n",
       "      <th>Victims_Between_30-50_Yrs</th>\n",
       "      <th>Victims_of_Rape_Total</th>\n",
       "      <th>Victims_Upto_10_Yrs</th>\n",
       "    </tr>\n",
       "  </thead>\n",
       "  <tbody>\n",
       "    <tr>\n",
       "      <th>13</th>\n",
       "      <td>Andaman &amp; Nicobar Islands</td>\n",
       "      <td>2005</td>\n",
       "      <td>0</td>\n",
       "      <td>0</td>\n",
       "      <td>0</td>\n",
       "      <td>0</td>\n",
       "      <td>0</td>\n",
       "      <td>0</td>\n",
       "      <td>0</td>\n",
       "      <td>0</td>\n",
       "    </tr>\n",
       "    <tr>\n",
       "      <th>28</th>\n",
       "      <td>Andaman &amp; Nicobar Islands</td>\n",
       "      <td>2010</td>\n",
       "      <td>0</td>\n",
       "      <td>0</td>\n",
       "      <td>0</td>\n",
       "      <td>0</td>\n",
       "      <td>0</td>\n",
       "      <td>0</td>\n",
       "      <td>0</td>\n",
       "      <td>0</td>\n",
       "    </tr>\n",
       "    <tr>\n",
       "      <th>43</th>\n",
       "      <td>Andhra Pradesh</td>\n",
       "      <td>2005</td>\n",
       "      <td>18</td>\n",
       "      <td>0</td>\n",
       "      <td>4</td>\n",
       "      <td>0</td>\n",
       "      <td>6</td>\n",
       "      <td>6</td>\n",
       "      <td>18</td>\n",
       "      <td>2</td>\n",
       "    </tr>\n",
       "    <tr>\n",
       "      <th>58</th>\n",
       "      <td>Andhra Pradesh</td>\n",
       "      <td>2010</td>\n",
       "      <td>0</td>\n",
       "      <td>0</td>\n",
       "      <td>0</td>\n",
       "      <td>0</td>\n",
       "      <td>0</td>\n",
       "      <td>0</td>\n",
       "      <td>0</td>\n",
       "      <td>0</td>\n",
       "    </tr>\n",
       "    <tr>\n",
       "      <th>73</th>\n",
       "      <td>Arunachal Pradesh</td>\n",
       "      <td>2005</td>\n",
       "      <td>0</td>\n",
       "      <td>0</td>\n",
       "      <td>0</td>\n",
       "      <td>0</td>\n",
       "      <td>0</td>\n",
       "      <td>0</td>\n",
       "      <td>0</td>\n",
       "      <td>0</td>\n",
       "    </tr>\n",
       "  </tbody>\n",
       "</table>\n",
       "</div>"
      ],
      "text/plain": [
       "                    Area_Name  Year  Rape_Cases_Reported  \\\n",
       "13  Andaman & Nicobar Islands  2005                    0   \n",
       "28  Andaman & Nicobar Islands  2010                    0   \n",
       "43             Andhra Pradesh  2005                   18   \n",
       "58             Andhra Pradesh  2010                    0   \n",
       "73          Arunachal Pradesh  2005                    0   \n",
       "\n",
       "    Victims_Above_50_Yrs  Victims_Between_10-14_Yrs  \\\n",
       "13                     0                          0   \n",
       "28                     0                          0   \n",
       "43                     0                          4   \n",
       "58                     0                          0   \n",
       "73                     0                          0   \n",
       "\n",
       "    Victims_Between_14-18_Yrs  Victims_Between_18-30_Yrs  \\\n",
       "13                          0                          0   \n",
       "28                          0                          0   \n",
       "43                          0                          6   \n",
       "58                          0                          0   \n",
       "73                          0                          0   \n",
       "\n",
       "    Victims_Between_30-50_Yrs  Victims_of_Rape_Total  Victims_Upto_10_Yrs  \n",
       "13                          0                      0                    0  \n",
       "28                          0                      0                    0  \n",
       "43                          6                     18                    2  \n",
       "58                          0                      0                    0  \n",
       "73                          0                      0                    0  "
      ]
     },
     "execution_count": 13,
     "metadata": {},
     "output_type": "execute_result"
    }
   ],
   "source": [
    "df3.head()"
   ]
  },
  {
   "cell_type": "code",
   "execution_count": 14,
   "metadata": {},
   "outputs": [
    {
     "data": {
      "text/html": [
       "<div>\n",
       "<style scoped>\n",
       "    .dataframe tbody tr th:only-of-type {\n",
       "        vertical-align: middle;\n",
       "    }\n",
       "\n",
       "    .dataframe tbody tr th {\n",
       "        vertical-align: top;\n",
       "    }\n",
       "\n",
       "    .dataframe thead th {\n",
       "        text-align: right;\n",
       "    }\n",
       "</style>\n",
       "<table border=\"1\" class=\"dataframe\">\n",
       "  <thead>\n",
       "    <tr style=\"text-align: right;\">\n",
       "      <th></th>\n",
       "      <th>Area_Name</th>\n",
       "      <th>Year</th>\n",
       "      <th>Rape_Cases_Reported</th>\n",
       "      <th>Victims_Above_50_Yrs</th>\n",
       "      <th>Victims_Between_10-14_Yrs</th>\n",
       "      <th>Victims_Between_14-18_Yrs</th>\n",
       "      <th>Victims_Between_18-30_Yrs</th>\n",
       "      <th>Victims_Between_30-50_Yrs</th>\n",
       "      <th>Victims_of_Rape_Total</th>\n",
       "      <th>Victims_Upto_10_Yrs</th>\n",
       "    </tr>\n",
       "  </thead>\n",
       "  <tbody>\n",
       "    <tr>\n",
       "      <th>597</th>\n",
       "      <td>Madhya Pradesh</td>\n",
       "      <td>2010</td>\n",
       "      <td>3135</td>\n",
       "      <td>12</td>\n",
       "      <td>304</td>\n",
       "      <td>826</td>\n",
       "      <td>1364</td>\n",
       "      <td>577</td>\n",
       "      <td>3136</td>\n",
       "      <td>53</td>\n",
       "    </tr>\n",
       "    <tr>\n",
       "      <th>582</th>\n",
       "      <td>Madhya Pradesh</td>\n",
       "      <td>2005</td>\n",
       "      <td>2921</td>\n",
       "      <td>26</td>\n",
       "      <td>294</td>\n",
       "      <td>474</td>\n",
       "      <td>1396</td>\n",
       "      <td>629</td>\n",
       "      <td>2921</td>\n",
       "      <td>102</td>\n",
       "    </tr>\n",
       "    <tr>\n",
       "      <th>1047</th>\n",
       "      <td>West Bengal</td>\n",
       "      <td>2010</td>\n",
       "      <td>2311</td>\n",
       "      <td>0</td>\n",
       "      <td>22</td>\n",
       "      <td>51</td>\n",
       "      <td>1779</td>\n",
       "      <td>459</td>\n",
       "      <td>2311</td>\n",
       "      <td>0</td>\n",
       "    </tr>\n",
       "    <tr>\n",
       "      <th>117</th>\n",
       "      <td>Assam</td>\n",
       "      <td>2010</td>\n",
       "      <td>1721</td>\n",
       "      <td>10</td>\n",
       "      <td>9</td>\n",
       "      <td>29</td>\n",
       "      <td>1116</td>\n",
       "      <td>556</td>\n",
       "      <td>1721</td>\n",
       "      <td>1</td>\n",
       "    </tr>\n",
       "    <tr>\n",
       "      <th>1032</th>\n",
       "      <td>West Bengal</td>\n",
       "      <td>2005</td>\n",
       "      <td>1686</td>\n",
       "      <td>1</td>\n",
       "      <td>0</td>\n",
       "      <td>3</td>\n",
       "      <td>1451</td>\n",
       "      <td>228</td>\n",
       "      <td>1686</td>\n",
       "      <td>3</td>\n",
       "    </tr>\n",
       "    <tr>\n",
       "      <th>627</th>\n",
       "      <td>Maharashtra</td>\n",
       "      <td>2010</td>\n",
       "      <td>1599</td>\n",
       "      <td>11</td>\n",
       "      <td>134</td>\n",
       "      <td>515</td>\n",
       "      <td>675</td>\n",
       "      <td>168</td>\n",
       "      <td>1611</td>\n",
       "      <td>108</td>\n",
       "    </tr>\n",
       "    <tr>\n",
       "      <th>867</th>\n",
       "      <td>Rajasthan</td>\n",
       "      <td>2010</td>\n",
       "      <td>1571</td>\n",
       "      <td>36</td>\n",
       "      <td>72</td>\n",
       "      <td>277</td>\n",
       "      <td>805</td>\n",
       "      <td>346</td>\n",
       "      <td>1573</td>\n",
       "      <td>37</td>\n",
       "    </tr>\n",
       "    <tr>\n",
       "      <th>987</th>\n",
       "      <td>Uttar Pradesh</td>\n",
       "      <td>2010</td>\n",
       "      <td>1563</td>\n",
       "      <td>0</td>\n",
       "      <td>162</td>\n",
       "      <td>246</td>\n",
       "      <td>862</td>\n",
       "      <td>250</td>\n",
       "      <td>1563</td>\n",
       "      <td>43</td>\n",
       "    </tr>\n",
       "    <tr>\n",
       "      <th>612</th>\n",
       "      <td>Maharashtra</td>\n",
       "      <td>2005</td>\n",
       "      <td>1545</td>\n",
       "      <td>2</td>\n",
       "      <td>132</td>\n",
       "      <td>421</td>\n",
       "      <td>735</td>\n",
       "      <td>174</td>\n",
       "      <td>1549</td>\n",
       "      <td>85</td>\n",
       "    </tr>\n",
       "    <tr>\n",
       "      <th>57</th>\n",
       "      <td>Andhra Pradesh</td>\n",
       "      <td>2010</td>\n",
       "      <td>1362</td>\n",
       "      <td>15</td>\n",
       "      <td>133</td>\n",
       "      <td>283</td>\n",
       "      <td>749</td>\n",
       "      <td>152</td>\n",
       "      <td>1362</td>\n",
       "      <td>30</td>\n",
       "    </tr>\n",
       "  </tbody>\n",
       "</table>\n",
       "</div>"
      ],
      "text/plain": [
       "           Area_Name  Year  Rape_Cases_Reported  Victims_Above_50_Yrs  \\\n",
       "597   Madhya Pradesh  2010                 3135                    12   \n",
       "582   Madhya Pradesh  2005                 2921                    26   \n",
       "1047     West Bengal  2010                 2311                     0   \n",
       "117            Assam  2010                 1721                    10   \n",
       "1032     West Bengal  2005                 1686                     1   \n",
       "627      Maharashtra  2010                 1599                    11   \n",
       "867        Rajasthan  2010                 1571                    36   \n",
       "987    Uttar Pradesh  2010                 1563                     0   \n",
       "612      Maharashtra  2005                 1545                     2   \n",
       "57    Andhra Pradesh  2010                 1362                    15   \n",
       "\n",
       "      Victims_Between_10-14_Yrs  Victims_Between_14-18_Yrs  \\\n",
       "597                         304                        826   \n",
       "582                         294                        474   \n",
       "1047                         22                         51   \n",
       "117                           9                         29   \n",
       "1032                          0                          3   \n",
       "627                         134                        515   \n",
       "867                          72                        277   \n",
       "987                         162                        246   \n",
       "612                         132                        421   \n",
       "57                          133                        283   \n",
       "\n",
       "      Victims_Between_18-30_Yrs  Victims_Between_30-50_Yrs  \\\n",
       "597                        1364                        577   \n",
       "582                        1396                        629   \n",
       "1047                       1779                        459   \n",
       "117                        1116                        556   \n",
       "1032                       1451                        228   \n",
       "627                         675                        168   \n",
       "867                         805                        346   \n",
       "987                         862                        250   \n",
       "612                         735                        174   \n",
       "57                          749                        152   \n",
       "\n",
       "      Victims_of_Rape_Total  Victims_Upto_10_Yrs  \n",
       "597                    3136                   53  \n",
       "582                    2921                  102  \n",
       "1047                   2311                    0  \n",
       "117                    1721                    1  \n",
       "1032                   1686                    3  \n",
       "627                    1611                  108  \n",
       "867                    1573                   37  \n",
       "987                    1563                   43  \n",
       "612                    1549                   85  \n",
       "57                     1362                   30  "
      ]
     },
     "execution_count": 14,
     "metadata": {},
     "output_type": "execute_result"
    }
   ],
   "source": [
    "df4=df1.sort_values(by=['Rape_Cases_Reported'],ascending=False)\n",
    "df4.head(10)"
   ]
  },
  {
   "cell_type": "code",
   "execution_count": 15,
   "metadata": {},
   "outputs": [
    {
     "data": {
      "text/html": [
       "<div>\n",
       "<style scoped>\n",
       "    .dataframe tbody tr th:only-of-type {\n",
       "        vertical-align: middle;\n",
       "    }\n",
       "\n",
       "    .dataframe tbody tr th {\n",
       "        vertical-align: top;\n",
       "    }\n",
       "\n",
       "    .dataframe thead th {\n",
       "        text-align: right;\n",
       "    }\n",
       "</style>\n",
       "<table border=\"1\" class=\"dataframe\">\n",
       "  <thead>\n",
       "    <tr style=\"text-align: right;\">\n",
       "      <th></th>\n",
       "      <th>Area_Name</th>\n",
       "      <th>Year</th>\n",
       "      <th>Rape_Cases_Reported</th>\n",
       "      <th>Victims_Above_50_Yrs</th>\n",
       "      <th>Victims_Between_10-14_Yrs</th>\n",
       "      <th>Victims_Between_14-18_Yrs</th>\n",
       "      <th>Victims_Between_18-30_Yrs</th>\n",
       "      <th>Victims_Between_30-50_Yrs</th>\n",
       "      <th>Victims_of_Rape_Total</th>\n",
       "      <th>Victims_Upto_10_Yrs</th>\n",
       "    </tr>\n",
       "  </thead>\n",
       "  <tbody>\n",
       "    <tr>\n",
       "      <th>599</th>\n",
       "      <td>Madhya Pradesh</td>\n",
       "      <td>2010</td>\n",
       "      <td>3114</td>\n",
       "      <td>12</td>\n",
       "      <td>303</td>\n",
       "      <td>816</td>\n",
       "      <td>1360</td>\n",
       "      <td>573</td>\n",
       "      <td>3115</td>\n",
       "      <td>51</td>\n",
       "    </tr>\n",
       "    <tr>\n",
       "      <th>584</th>\n",
       "      <td>Madhya Pradesh</td>\n",
       "      <td>2005</td>\n",
       "      <td>2780</td>\n",
       "      <td>25</td>\n",
       "      <td>276</td>\n",
       "      <td>431</td>\n",
       "      <td>1339</td>\n",
       "      <td>616</td>\n",
       "      <td>2780</td>\n",
       "      <td>93</td>\n",
       "    </tr>\n",
       "    <tr>\n",
       "      <th>1049</th>\n",
       "      <td>West Bengal</td>\n",
       "      <td>2010</td>\n",
       "      <td>2307</td>\n",
       "      <td>0</td>\n",
       "      <td>21</td>\n",
       "      <td>51</td>\n",
       "      <td>1777</td>\n",
       "      <td>458</td>\n",
       "      <td>2307</td>\n",
       "      <td>0</td>\n",
       "    </tr>\n",
       "    <tr>\n",
       "      <th>119</th>\n",
       "      <td>Assam</td>\n",
       "      <td>2010</td>\n",
       "      <td>1708</td>\n",
       "      <td>10</td>\n",
       "      <td>9</td>\n",
       "      <td>29</td>\n",
       "      <td>1106</td>\n",
       "      <td>553</td>\n",
       "      <td>1708</td>\n",
       "      <td>1</td>\n",
       "    </tr>\n",
       "    <tr>\n",
       "      <th>1034</th>\n",
       "      <td>West Bengal</td>\n",
       "      <td>2005</td>\n",
       "      <td>1650</td>\n",
       "      <td>1</td>\n",
       "      <td>0</td>\n",
       "      <td>3</td>\n",
       "      <td>1420</td>\n",
       "      <td>223</td>\n",
       "      <td>1650</td>\n",
       "      <td>3</td>\n",
       "    </tr>\n",
       "    <tr>\n",
       "      <th>989</th>\n",
       "      <td>Uttar Pradesh</td>\n",
       "      <td>2010</td>\n",
       "      <td>1559</td>\n",
       "      <td>0</td>\n",
       "      <td>161</td>\n",
       "      <td>244</td>\n",
       "      <td>861</td>\n",
       "      <td>250</td>\n",
       "      <td>1559</td>\n",
       "      <td>43</td>\n",
       "    </tr>\n",
       "    <tr>\n",
       "      <th>629</th>\n",
       "      <td>Maharashtra</td>\n",
       "      <td>2010</td>\n",
       "      <td>1555</td>\n",
       "      <td>11</td>\n",
       "      <td>126</td>\n",
       "      <td>502</td>\n",
       "      <td>657</td>\n",
       "      <td>167</td>\n",
       "      <td>1567</td>\n",
       "      <td>104</td>\n",
       "    </tr>\n",
       "    <tr>\n",
       "      <th>869</th>\n",
       "      <td>Rajasthan</td>\n",
       "      <td>2010</td>\n",
       "      <td>1547</td>\n",
       "      <td>36</td>\n",
       "      <td>70</td>\n",
       "      <td>271</td>\n",
       "      <td>795</td>\n",
       "      <td>342</td>\n",
       "      <td>1549</td>\n",
       "      <td>35</td>\n",
       "    </tr>\n",
       "    <tr>\n",
       "      <th>614</th>\n",
       "      <td>Maharashtra</td>\n",
       "      <td>2005</td>\n",
       "      <td>1507</td>\n",
       "      <td>2</td>\n",
       "      <td>127</td>\n",
       "      <td>408</td>\n",
       "      <td>721</td>\n",
       "      <td>171</td>\n",
       "      <td>1511</td>\n",
       "      <td>82</td>\n",
       "    </tr>\n",
       "    <tr>\n",
       "      <th>59</th>\n",
       "      <td>Andhra Pradesh</td>\n",
       "      <td>2010</td>\n",
       "      <td>1362</td>\n",
       "      <td>15</td>\n",
       "      <td>133</td>\n",
       "      <td>283</td>\n",
       "      <td>749</td>\n",
       "      <td>152</td>\n",
       "      <td>1362</td>\n",
       "      <td>30</td>\n",
       "    </tr>\n",
       "  </tbody>\n",
       "</table>\n",
       "</div>"
      ],
      "text/plain": [
       "           Area_Name  Year  Rape_Cases_Reported  Victims_Above_50_Yrs  \\\n",
       "599   Madhya Pradesh  2010                 3114                    12   \n",
       "584   Madhya Pradesh  2005                 2780                    25   \n",
       "1049     West Bengal  2010                 2307                     0   \n",
       "119            Assam  2010                 1708                    10   \n",
       "1034     West Bengal  2005                 1650                     1   \n",
       "989    Uttar Pradesh  2010                 1559                     0   \n",
       "629      Maharashtra  2010                 1555                    11   \n",
       "869        Rajasthan  2010                 1547                    36   \n",
       "614      Maharashtra  2005                 1507                     2   \n",
       "59    Andhra Pradesh  2010                 1362                    15   \n",
       "\n",
       "      Victims_Between_10-14_Yrs  Victims_Between_14-18_Yrs  \\\n",
       "599                         303                        816   \n",
       "584                         276                        431   \n",
       "1049                         21                         51   \n",
       "119                           9                         29   \n",
       "1034                          0                          3   \n",
       "989                         161                        244   \n",
       "629                         126                        502   \n",
       "869                          70                        271   \n",
       "614                         127                        408   \n",
       "59                          133                        283   \n",
       "\n",
       "      Victims_Between_18-30_Yrs  Victims_Between_30-50_Yrs  \\\n",
       "599                        1360                        573   \n",
       "584                        1339                        616   \n",
       "1049                       1777                        458   \n",
       "119                        1106                        553   \n",
       "1034                       1420                        223   \n",
       "989                         861                        250   \n",
       "629                         657                        167   \n",
       "869                         795                        342   \n",
       "614                         721                        171   \n",
       "59                          749                        152   \n",
       "\n",
       "      Victims_of_Rape_Total  Victims_Upto_10_Yrs  \n",
       "599                    3115                   51  \n",
       "584                    2780                   93  \n",
       "1049                   2307                    0  \n",
       "119                    1708                    1  \n",
       "1034                   1650                    3  \n",
       "989                    1559                   43  \n",
       "629                    1567                  104  \n",
       "869                    1549                   35  \n",
       "614                    1511                   82  \n",
       "59                     1362                   30  "
      ]
     },
     "execution_count": 15,
     "metadata": {},
     "output_type": "execute_result"
    }
   ],
   "source": [
    "df5=df2.sort_values(by=['Rape_Cases_Reported'],ascending=False)\n",
    "df5.head(10)"
   ]
  },
  {
   "cell_type": "code",
   "execution_count": 16,
   "metadata": {},
   "outputs": [
    {
     "data": {
      "text/html": [
       "<div>\n",
       "<style scoped>\n",
       "    .dataframe tbody tr th:only-of-type {\n",
       "        vertical-align: middle;\n",
       "    }\n",
       "\n",
       "    .dataframe tbody tr th {\n",
       "        vertical-align: top;\n",
       "    }\n",
       "\n",
       "    .dataframe thead th {\n",
       "        text-align: right;\n",
       "    }\n",
       "</style>\n",
       "<table border=\"1\" class=\"dataframe\">\n",
       "  <thead>\n",
       "    <tr style=\"text-align: right;\">\n",
       "      <th></th>\n",
       "      <th>Area_Name</th>\n",
       "      <th>Year</th>\n",
       "      <th>Rape_Cases_Reported</th>\n",
       "      <th>Victims_Above_50_Yrs</th>\n",
       "      <th>Victims_Between_10-14_Yrs</th>\n",
       "      <th>Victims_Between_14-18_Yrs</th>\n",
       "      <th>Victims_Between_18-30_Yrs</th>\n",
       "      <th>Victims_Between_30-50_Yrs</th>\n",
       "      <th>Victims_of_Rape_Total</th>\n",
       "      <th>Victims_Upto_10_Yrs</th>\n",
       "    </tr>\n",
       "  </thead>\n",
       "  <tbody>\n",
       "    <tr>\n",
       "      <th>583</th>\n",
       "      <td>Madhya Pradesh</td>\n",
       "      <td>2005</td>\n",
       "      <td>141</td>\n",
       "      <td>1</td>\n",
       "      <td>18</td>\n",
       "      <td>43</td>\n",
       "      <td>57</td>\n",
       "      <td>13</td>\n",
       "      <td>141</td>\n",
       "      <td>9</td>\n",
       "    </tr>\n",
       "    <tr>\n",
       "      <th>463</th>\n",
       "      <td>Jharkhand</td>\n",
       "      <td>2005</td>\n",
       "      <td>120</td>\n",
       "      <td>0</td>\n",
       "      <td>4</td>\n",
       "      <td>8</td>\n",
       "      <td>65</td>\n",
       "      <td>41</td>\n",
       "      <td>120</td>\n",
       "      <td>2</td>\n",
       "    </tr>\n",
       "    <tr>\n",
       "      <th>193</th>\n",
       "      <td>Chhattisgarh</td>\n",
       "      <td>2005</td>\n",
       "      <td>110</td>\n",
       "      <td>0</td>\n",
       "      <td>10</td>\n",
       "      <td>33</td>\n",
       "      <td>39</td>\n",
       "      <td>27</td>\n",
       "      <td>110</td>\n",
       "      <td>1</td>\n",
       "    </tr>\n",
       "    <tr>\n",
       "      <th>973</th>\n",
       "      <td>Uttar Pradesh</td>\n",
       "      <td>2005</td>\n",
       "      <td>70</td>\n",
       "      <td>0</td>\n",
       "      <td>0</td>\n",
       "      <td>18</td>\n",
       "      <td>52</td>\n",
       "      <td>0</td>\n",
       "      <td>70</td>\n",
       "      <td>0</td>\n",
       "    </tr>\n",
       "    <tr>\n",
       "      <th>823</th>\n",
       "      <td>Punjab</td>\n",
       "      <td>2005</td>\n",
       "      <td>50</td>\n",
       "      <td>0</td>\n",
       "      <td>1</td>\n",
       "      <td>11</td>\n",
       "      <td>25</td>\n",
       "      <td>11</td>\n",
       "      <td>50</td>\n",
       "      <td>2</td>\n",
       "    </tr>\n",
       "  </tbody>\n",
       "</table>\n",
       "</div>"
      ],
      "text/plain": [
       "          Area_Name  Year  Rape_Cases_Reported  Victims_Above_50_Yrs  \\\n",
       "583  Madhya Pradesh  2005                  141                     1   \n",
       "463       Jharkhand  2005                  120                     0   \n",
       "193    Chhattisgarh  2005                  110                     0   \n",
       "973   Uttar Pradesh  2005                   70                     0   \n",
       "823          Punjab  2005                   50                     0   \n",
       "\n",
       "     Victims_Between_10-14_Yrs  Victims_Between_14-18_Yrs  \\\n",
       "583                         18                         43   \n",
       "463                          4                          8   \n",
       "193                         10                         33   \n",
       "973                          0                         18   \n",
       "823                          1                         11   \n",
       "\n",
       "     Victims_Between_18-30_Yrs  Victims_Between_30-50_Yrs  \\\n",
       "583                         57                         13   \n",
       "463                         65                         41   \n",
       "193                         39                         27   \n",
       "973                         52                          0   \n",
       "823                         25                         11   \n",
       "\n",
       "     Victims_of_Rape_Total  Victims_Upto_10_Yrs  \n",
       "583                    141                    9  \n",
       "463                    120                    2  \n",
       "193                    110                    1  \n",
       "973                     70                    0  \n",
       "823                     50                    2  "
      ]
     },
     "execution_count": 16,
     "metadata": {},
     "output_type": "execute_result"
    }
   ],
   "source": [
    "df6=df3.sort_values(by=['Rape_Cases_Reported'],ascending=False)\n",
    "df6.head()"
   ]
  },
  {
   "cell_type": "markdown",
   "metadata": {},
   "source": [
    "##### From the above sorting, analysis done on 5 states mainly:\n",
    "1) Madhya Pradesh\n",
    "2) West Bengal\n",
    "3) Assam\n",
    "4) Uttat Pradesh\n",
    "5) Maharashtra"
   ]
  },
  {
   "cell_type": "code",
   "execution_count": 17,
   "metadata": {},
   "outputs": [
    {
     "data": {
      "text/html": [
       "<div>\n",
       "<style scoped>\n",
       "    .dataframe tbody tr th:only-of-type {\n",
       "        vertical-align: middle;\n",
       "    }\n",
       "\n",
       "    .dataframe tbody tr th {\n",
       "        vertical-align: top;\n",
       "    }\n",
       "\n",
       "    .dataframe thead th {\n",
       "        text-align: right;\n",
       "    }\n",
       "</style>\n",
       "<table border=\"1\" class=\"dataframe\">\n",
       "  <thead>\n",
       "    <tr style=\"text-align: right;\">\n",
       "      <th></th>\n",
       "      <th>Area_Name</th>\n",
       "      <th>Year</th>\n",
       "      <th>Rape_Cases_Reported</th>\n",
       "      <th>Victims_Above_50_Yrs</th>\n",
       "      <th>Victims_Between_10-14_Yrs</th>\n",
       "      <th>Victims_Between_14-18_Yrs</th>\n",
       "      <th>Victims_Between_18-30_Yrs</th>\n",
       "      <th>Victims_Between_30-50_Yrs</th>\n",
       "      <th>Victims_of_Rape_Total</th>\n",
       "      <th>Victims_Upto_10_Yrs</th>\n",
       "    </tr>\n",
       "  </thead>\n",
       "  <tbody>\n",
       "    <tr>\n",
       "      <th>582</th>\n",
       "      <td>Madhya Pradesh</td>\n",
       "      <td>2005</td>\n",
       "      <td>2921</td>\n",
       "      <td>26</td>\n",
       "      <td>294</td>\n",
       "      <td>474</td>\n",
       "      <td>1396</td>\n",
       "      <td>629</td>\n",
       "      <td>2921</td>\n",
       "      <td>102</td>\n",
       "    </tr>\n",
       "    <tr>\n",
       "      <th>597</th>\n",
       "      <td>Madhya Pradesh</td>\n",
       "      <td>2010</td>\n",
       "      <td>3135</td>\n",
       "      <td>12</td>\n",
       "      <td>304</td>\n",
       "      <td>826</td>\n",
       "      <td>1364</td>\n",
       "      <td>577</td>\n",
       "      <td>3136</td>\n",
       "      <td>53</td>\n",
       "    </tr>\n",
       "  </tbody>\n",
       "</table>\n",
       "</div>"
      ],
      "text/plain": [
       "          Area_Name  Year  Rape_Cases_Reported  Victims_Above_50_Yrs  \\\n",
       "582  Madhya Pradesh  2005                 2921                    26   \n",
       "597  Madhya Pradesh  2010                 3135                    12   \n",
       "\n",
       "     Victims_Between_10-14_Yrs  Victims_Between_14-18_Yrs  \\\n",
       "582                        294                        474   \n",
       "597                        304                        826   \n",
       "\n",
       "     Victims_Between_18-30_Yrs  Victims_Between_30-50_Yrs  \\\n",
       "582                       1396                        629   \n",
       "597                       1364                        577   \n",
       "\n",
       "     Victims_of_Rape_Total  Victims_Upto_10_Yrs  \n",
       "582                   2921                  102  \n",
       "597                   3136                   53  "
      ]
     },
     "execution_count": 17,
     "metadata": {},
     "output_type": "execute_result"
    }
   ],
   "source": [
    "ab1=df1[(df1['Area_Name']=='Madhya Pradesh')& ((df1['Year']==2005)|(df1['Year']==2010))]\n",
    "ab1"
   ]
  },
  {
   "cell_type": "code",
   "execution_count": 18,
   "metadata": {},
   "outputs": [
    {
     "data": {
      "image/png": "[encoded data removed]",
      "text/plain": [
       "<Figure size 432x288 with 1 Axes>"
      ]
     },
     "metadata": {
      "needs_background": "light"
     },
     "output_type": "display_data"
    }
   ],
   "source": [
    "sns.barplot(ab1['Year'],ab1['Rape_Cases_Reported'])\n",
    "plt.title(\"Barplot showing Rape cases reported in two years in MP\")\n",
    "plt.show()"
   ]
  },
  {
   "cell_type": "markdown",
   "metadata": {},
   "source": [
    "From the above barplot, it can be seen that there is a slight increase in Rape cases reported from 2005 to 2010"
   ]
  },
  {
   "cell_type": "code",
   "execution_count": 19,
   "metadata": {},
   "outputs": [
    {
     "data": {
      "image/png": "[encoded data removed]",
      "text/plain": [
       "<Figure size 432x288 with 1 Axes>"
      ]
     },
     "metadata": {
      "needs_background": "light"
     },
     "output_type": "display_data"
    }
   ],
   "source": [
    "sns.barplot(ab1['Year'],ab1['Victims_Between_18-30_Yrs'])\n",
    "plt.show()"
   ]
  },
  {
   "cell_type": "markdown",
   "metadata": {},
   "source": [
    "From the above bar plot, it can be seen that there is slight decrease in rape cases where victims were 18-30 years of age."
   ]
  },
  {
   "cell_type": "code",
   "execution_count": 20,
   "metadata": {},
   "outputs": [
    {
     "name": "stdout",
     "output_type": "stream",
     "text": [
      "Percentage increase in Rape cases reported(Total Rape Victims) in MadhyaPradesh from 2005 to 2010 is 7.3262581307771315%\n"
     ]
    }
   ],
   "source": [
    "a=ab1['Rape_Cases_Reported'].values[0:2]\n",
    "f=((a[1]-a[0])/a[0])*100\n",
    "print(\"Percentage increase in Rape cases reported(Total Rape Victims) in MadhyaPradesh from 2005 to 2010 is {}%\".format(f))"
   ]
  },
  {
   "cell_type": "code",
   "execution_count": 21,
   "metadata": {},
   "outputs": [
    {
     "data": {
      "text/html": [
       "<div>\n",
       "<style scoped>\n",
       "    .dataframe tbody tr th:only-of-type {\n",
       "        vertical-align: middle;\n",
       "    }\n",
       "\n",
       "    .dataframe tbody tr th {\n",
       "        vertical-align: top;\n",
       "    }\n",
       "\n",
       "    .dataframe thead th {\n",
       "        text-align: right;\n",
       "    }\n",
       "</style>\n",
       "<table border=\"1\" class=\"dataframe\">\n",
       "  <thead>\n",
       "    <tr style=\"text-align: right;\">\n",
       "      <th></th>\n",
       "      <th>Area_Name</th>\n",
       "      <th>Year</th>\n",
       "      <th>Rape_Cases_Reported</th>\n",
       "      <th>Victims_Above_50_Yrs</th>\n",
       "      <th>Victims_Between_10-14_Yrs</th>\n",
       "      <th>Victims_Between_14-18_Yrs</th>\n",
       "      <th>Victims_Between_18-30_Yrs</th>\n",
       "      <th>Victims_Between_30-50_Yrs</th>\n",
       "      <th>Victims_of_Rape_Total</th>\n",
       "      <th>Victims_Upto_10_Yrs</th>\n",
       "    </tr>\n",
       "  </thead>\n",
       "  <tbody>\n",
       "    <tr>\n",
       "      <th>1032</th>\n",
       "      <td>West Bengal</td>\n",
       "      <td>2005</td>\n",
       "      <td>1686</td>\n",
       "      <td>1</td>\n",
       "      <td>0</td>\n",
       "      <td>3</td>\n",
       "      <td>1451</td>\n",
       "      <td>228</td>\n",
       "      <td>1686</td>\n",
       "      <td>3</td>\n",
       "    </tr>\n",
       "    <tr>\n",
       "      <th>1047</th>\n",
       "      <td>West Bengal</td>\n",
       "      <td>2010</td>\n",
       "      <td>2311</td>\n",
       "      <td>0</td>\n",
       "      <td>22</td>\n",
       "      <td>51</td>\n",
       "      <td>1779</td>\n",
       "      <td>459</td>\n",
       "      <td>2311</td>\n",
       "      <td>0</td>\n",
       "    </tr>\n",
       "  </tbody>\n",
       "</table>\n",
       "</div>"
      ],
      "text/plain": [
       "        Area_Name  Year  Rape_Cases_Reported  Victims_Above_50_Yrs  \\\n",
       "1032  West Bengal  2005                 1686                     1   \n",
       "1047  West Bengal  2010                 2311                     0   \n",
       "\n",
       "      Victims_Between_10-14_Yrs  Victims_Between_14-18_Yrs  \\\n",
       "1032                          0                          3   \n",
       "1047                         22                         51   \n",
       "\n",
       "      Victims_Between_18-30_Yrs  Victims_Between_30-50_Yrs  \\\n",
       "1032                       1451                        228   \n",
       "1047                       1779                        459   \n",
       "\n",
       "      Victims_of_Rape_Total  Victims_Upto_10_Yrs  \n",
       "1032                   1686                    3  \n",
       "1047                   2311                    0  "
      ]
     },
     "execution_count": 21,
     "metadata": {},
     "output_type": "execute_result"
    }
   ],
   "source": [
    "ab2=df1[(df1['Area_Name']=='West Bengal')& ((df1['Year']==2005)|(df1['Year']==2010))]\n",
    "ab2"
   ]
  },
  {
   "cell_type": "code",
   "execution_count": 22,
   "metadata": {},
   "outputs": [
    {
     "data": {
      "image/png": "[encoded data removed]",
      "text/plain": [
       "<Figure size 432x288 with 1 Axes>"
      ]
     },
     "metadata": {
      "needs_background": "light"
     },
     "output_type": "display_data"
    }
   ],
   "source": [
    "sns.barplot(ab2['Year'],ab2['Rape_Cases_Reported'])\n",
    "plt.title(\"Barplot showing Rape cases reported in two years in WB\")\n",
    "plt.show()"
   ]
  },
  {
   "cell_type": "markdown",
   "metadata": {},
   "source": [
    "From the above barplot, it can be seen that there is a significant increase in Rape cases reported from 2005 to 2010 in WB"
   ]
  },
  {
   "cell_type": "code",
   "execution_count": 23,
   "metadata": {},
   "outputs": [
    {
     "name": "stdout",
     "output_type": "stream",
     "text": [
      "Percentage increase in Rape cases reported(Total Rape Victims) in West Bengal from 2005 to 2010 is 37.0699881376038%\n"
     ]
    }
   ],
   "source": [
    "a=ab2['Rape_Cases_Reported'].values[0:2]\n",
    "f=((a[1]-a[0])/a[0])*100\n",
    "print(\"Percentage increase in Rape cases reported(Total Rape Victims) in West Bengal from 2005 to 2010 is {}%\".format(f))"
   ]
  },
  {
   "cell_type": "code",
   "execution_count": 24,
   "metadata": {},
   "outputs": [
    {
     "data": {
      "text/html": [
       "<div>\n",
       "<style scoped>\n",
       "    .dataframe tbody tr th:only-of-type {\n",
       "        vertical-align: middle;\n",
       "    }\n",
       "\n",
       "    .dataframe tbody tr th {\n",
       "        vertical-align: top;\n",
       "    }\n",
       "\n",
       "    .dataframe thead th {\n",
       "        text-align: right;\n",
       "    }\n",
       "</style>\n",
       "<table border=\"1\" class=\"dataframe\">\n",
       "  <thead>\n",
       "    <tr style=\"text-align: right;\">\n",
       "      <th></th>\n",
       "      <th>Area_Name</th>\n",
       "      <th>Year</th>\n",
       "      <th>Rape_Cases_Reported</th>\n",
       "      <th>Victims_Above_50_Yrs</th>\n",
       "      <th>Victims_Between_10-14_Yrs</th>\n",
       "      <th>Victims_Between_14-18_Yrs</th>\n",
       "      <th>Victims_Between_18-30_Yrs</th>\n",
       "      <th>Victims_Between_30-50_Yrs</th>\n",
       "      <th>Victims_of_Rape_Total</th>\n",
       "      <th>Victims_Upto_10_Yrs</th>\n",
       "    </tr>\n",
       "  </thead>\n",
       "  <tbody>\n",
       "    <tr>\n",
       "      <th>102</th>\n",
       "      <td>Assam</td>\n",
       "      <td>2005</td>\n",
       "      <td>1238</td>\n",
       "      <td>15</td>\n",
       "      <td>34</td>\n",
       "      <td>37</td>\n",
       "      <td>847</td>\n",
       "      <td>286</td>\n",
       "      <td>1238</td>\n",
       "      <td>19</td>\n",
       "    </tr>\n",
       "    <tr>\n",
       "      <th>117</th>\n",
       "      <td>Assam</td>\n",
       "      <td>2010</td>\n",
       "      <td>1721</td>\n",
       "      <td>10</td>\n",
       "      <td>9</td>\n",
       "      <td>29</td>\n",
       "      <td>1116</td>\n",
       "      <td>556</td>\n",
       "      <td>1721</td>\n",
       "      <td>1</td>\n",
       "    </tr>\n",
       "  </tbody>\n",
       "</table>\n",
       "</div>"
      ],
      "text/plain": [
       "    Area_Name  Year  Rape_Cases_Reported  Victims_Above_50_Yrs  \\\n",
       "102     Assam  2005                 1238                    15   \n",
       "117     Assam  2010                 1721                    10   \n",
       "\n",
       "     Victims_Between_10-14_Yrs  Victims_Between_14-18_Yrs  \\\n",
       "102                         34                         37   \n",
       "117                          9                         29   \n",
       "\n",
       "     Victims_Between_18-30_Yrs  Victims_Between_30-50_Yrs  \\\n",
       "102                        847                        286   \n",
       "117                       1116                        556   \n",
       "\n",
       "     Victims_of_Rape_Total  Victims_Upto_10_Yrs  \n",
       "102                   1238                   19  \n",
       "117                   1721                    1  "
      ]
     },
     "execution_count": 24,
     "metadata": {},
     "output_type": "execute_result"
    }
   ],
   "source": [
    "ab3=df1[(df1['Area_Name']=='Assam')& ((df1['Year']==2005)|(df1['Year']==2010))]\n",
    "ab3"
   ]
  },
  {
   "cell_type": "code",
   "execution_count": 25,
   "metadata": {},
   "outputs": [
    {
     "data": {
      "image/png": "[encoded data removed]",
      "text/plain": [
       "<Figure size 432x288 with 1 Axes>"
      ]
     },
     "metadata": {
      "needs_background": "light"
     },
     "output_type": "display_data"
    }
   ],
   "source": [
    "sns.barplot(ab3['Year'],ab3['Rape_Cases_Reported'])\n",
    "plt.title(\"Barplot showing Rape cases reported in two years in Assam\")\n",
    "plt.show()"
   ]
  },
  {
   "cell_type": "markdown",
   "metadata": {},
   "source": [
    "From the above barplot, it can be seen that there is a significant increase in Rape cases reported from 2005 to 2010 in Assam"
   ]
  },
  {
   "cell_type": "code",
   "execution_count": 26,
   "metadata": {},
   "outputs": [
    {
     "name": "stdout",
     "output_type": "stream",
     "text": [
      "Percentage increase in Rape cases reported(Total Rape Victims) in Assam from 2005 to 2010 is 39.01453957996769%\n"
     ]
    }
   ],
   "source": [
    "a=ab3['Rape_Cases_Reported'].values[0:2]\n",
    "f=((a[1]-a[0])/a[0])*100\n",
    "print(\"Percentage increase in Rape cases reported(Total Rape Victims) in Assam from 2005 to 2010 is {}%\".format(f))"
   ]
  },
  {
   "cell_type": "code",
   "execution_count": 27,
   "metadata": {},
   "outputs": [
    {
     "data": {
      "text/html": [
       "<div>\n",
       "<style scoped>\n",
       "    .dataframe tbody tr th:only-of-type {\n",
       "        vertical-align: middle;\n",
       "    }\n",
       "\n",
       "    .dataframe tbody tr th {\n",
       "        vertical-align: top;\n",
       "    }\n",
       "\n",
       "    .dataframe thead th {\n",
       "        text-align: right;\n",
       "    }\n",
       "</style>\n",
       "<table border=\"1\" class=\"dataframe\">\n",
       "  <thead>\n",
       "    <tr style=\"text-align: right;\">\n",
       "      <th></th>\n",
       "      <th>Area_Name</th>\n",
       "      <th>Year</th>\n",
       "      <th>Rape_Cases_Reported</th>\n",
       "      <th>Victims_Above_50_Yrs</th>\n",
       "      <th>Victims_Between_10-14_Yrs</th>\n",
       "      <th>Victims_Between_14-18_Yrs</th>\n",
       "      <th>Victims_Between_18-30_Yrs</th>\n",
       "      <th>Victims_Between_30-50_Yrs</th>\n",
       "      <th>Victims_of_Rape_Total</th>\n",
       "      <th>Victims_Upto_10_Yrs</th>\n",
       "    </tr>\n",
       "  </thead>\n",
       "  <tbody>\n",
       "    <tr>\n",
       "      <th>614</th>\n",
       "      <td>Maharashtra</td>\n",
       "      <td>2005</td>\n",
       "      <td>1507</td>\n",
       "      <td>2</td>\n",
       "      <td>127</td>\n",
       "      <td>408</td>\n",
       "      <td>721</td>\n",
       "      <td>171</td>\n",
       "      <td>1511</td>\n",
       "      <td>82</td>\n",
       "    </tr>\n",
       "    <tr>\n",
       "      <th>629</th>\n",
       "      <td>Maharashtra</td>\n",
       "      <td>2010</td>\n",
       "      <td>1555</td>\n",
       "      <td>11</td>\n",
       "      <td>126</td>\n",
       "      <td>502</td>\n",
       "      <td>657</td>\n",
       "      <td>167</td>\n",
       "      <td>1567</td>\n",
       "      <td>104</td>\n",
       "    </tr>\n",
       "  </tbody>\n",
       "</table>\n",
       "</div>"
      ],
      "text/plain": [
       "       Area_Name  Year  Rape_Cases_Reported  Victims_Above_50_Yrs  \\\n",
       "614  Maharashtra  2005                 1507                     2   \n",
       "629  Maharashtra  2010                 1555                    11   \n",
       "\n",
       "     Victims_Between_10-14_Yrs  Victims_Between_14-18_Yrs  \\\n",
       "614                        127                        408   \n",
       "629                        126                        502   \n",
       "\n",
       "     Victims_Between_18-30_Yrs  Victims_Between_30-50_Yrs  \\\n",
       "614                        721                        171   \n",
       "629                        657                        167   \n",
       "\n",
       "     Victims_of_Rape_Total  Victims_Upto_10_Yrs  \n",
       "614                   1511                   82  \n",
       "629                   1567                  104  "
      ]
     },
     "execution_count": 27,
     "metadata": {},
     "output_type": "execute_result"
    }
   ],
   "source": [
    "ab4=df2[(df2['Area_Name']=='Maharashtra')& ((df2['Year']==2005)|(df2['Year']==2010))]\n",
    "ab4"
   ]
  },
  {
   "cell_type": "code",
   "execution_count": 28,
   "metadata": {},
   "outputs": [
    {
     "data": {
      "image/png": "[encoded data removed]",
      "text/plain": [
       "<Figure size 432x288 with 1 Axes>"
      ]
     },
     "metadata": {
      "needs_background": "light"
     },
     "output_type": "display_data"
    }
   ],
   "source": [
    "sns.barplot(ab4['Year'],ab4['Victims_of_Rape_Total'])\n",
    "plt.title(\"Barplot showing total victims of Rape in two years in Maharashtra\")\n",
    "plt.show()"
   ]
  },
  {
   "cell_type": "markdown",
   "metadata": {},
   "source": [
    "From the above barplot, it can be seen that there is a slight increase in Toatl victims of Rape from 2005 to 2010 in Maharashtra"
   ]
  },
  {
   "cell_type": "code",
   "execution_count": 29,
   "metadata": {},
   "outputs": [
    {
     "name": "stdout",
     "output_type": "stream",
     "text": [
      "Percentage increase in Victims_of_Rape_Total(Victims of Other Rape) in Maharashtra from 2005 to 2010 is 3.7061548643282594%\n"
     ]
    }
   ],
   "source": [
    "a=ab4['Victims_of_Rape_Total'].values[0:2]\n",
    "f=((a[1]-a[0])/a[0])*100\n",
    "print(\"Percentage increase in Victims_of_Rape_Total(Victims of Other Rape) in Maharashtra from 2005 to 2010 is {}%\".format(f))"
   ]
  },
  {
   "cell_type": "code",
   "execution_count": 30,
   "metadata": {},
   "outputs": [
    {
     "data": {
      "text/html": [
       "<div>\n",
       "<style scoped>\n",
       "    .dataframe tbody tr th:only-of-type {\n",
       "        vertical-align: middle;\n",
       "    }\n",
       "\n",
       "    .dataframe tbody tr th {\n",
       "        vertical-align: top;\n",
       "    }\n",
       "\n",
       "    .dataframe thead th {\n",
       "        text-align: right;\n",
       "    }\n",
       "</style>\n",
       "<table border=\"1\" class=\"dataframe\">\n",
       "  <thead>\n",
       "    <tr style=\"text-align: right;\">\n",
       "      <th></th>\n",
       "      <th>Area_Name</th>\n",
       "      <th>Year</th>\n",
       "      <th>Rape_Cases_Reported</th>\n",
       "      <th>Victims_Above_50_Yrs</th>\n",
       "      <th>Victims_Between_10-14_Yrs</th>\n",
       "      <th>Victims_Between_14-18_Yrs</th>\n",
       "      <th>Victims_Between_18-30_Yrs</th>\n",
       "      <th>Victims_Between_30-50_Yrs</th>\n",
       "      <th>Victims_of_Rape_Total</th>\n",
       "      <th>Victims_Upto_10_Yrs</th>\n",
       "    </tr>\n",
       "  </thead>\n",
       "  <tbody>\n",
       "    <tr>\n",
       "      <th>974</th>\n",
       "      <td>Uttar Pradesh</td>\n",
       "      <td>2005</td>\n",
       "      <td>1147</td>\n",
       "      <td>5</td>\n",
       "      <td>103</td>\n",
       "      <td>229</td>\n",
       "      <td>604</td>\n",
       "      <td>162</td>\n",
       "      <td>1147</td>\n",
       "      <td>44</td>\n",
       "    </tr>\n",
       "    <tr>\n",
       "      <th>989</th>\n",
       "      <td>Uttar Pradesh</td>\n",
       "      <td>2010</td>\n",
       "      <td>1559</td>\n",
       "      <td>0</td>\n",
       "      <td>161</td>\n",
       "      <td>244</td>\n",
       "      <td>861</td>\n",
       "      <td>250</td>\n",
       "      <td>1559</td>\n",
       "      <td>43</td>\n",
       "    </tr>\n",
       "  </tbody>\n",
       "</table>\n",
       "</div>"
      ],
      "text/plain": [
       "         Area_Name  Year  Rape_Cases_Reported  Victims_Above_50_Yrs  \\\n",
       "974  Uttar Pradesh  2005                 1147                     5   \n",
       "989  Uttar Pradesh  2010                 1559                     0   \n",
       "\n",
       "     Victims_Between_10-14_Yrs  Victims_Between_14-18_Yrs  \\\n",
       "974                        103                        229   \n",
       "989                        161                        244   \n",
       "\n",
       "     Victims_Between_18-30_Yrs  Victims_Between_30-50_Yrs  \\\n",
       "974                        604                        162   \n",
       "989                        861                        250   \n",
       "\n",
       "     Victims_of_Rape_Total  Victims_Upto_10_Yrs  \n",
       "974                   1147                   44  \n",
       "989                   1559                   43  "
      ]
     },
     "execution_count": 30,
     "metadata": {},
     "output_type": "execute_result"
    }
   ],
   "source": [
    "ab5=df2[(df2['Area_Name']=='Uttar Pradesh')& ((df2['Year']==2005)|(df2['Year']==2010))]\n",
    "ab5"
   ]
  },
  {
   "cell_type": "code",
   "execution_count": 31,
   "metadata": {},
   "outputs": [
    {
     "data": {
      "image/png": "[encoded data removed]",
      "text/plain": [
       "<Figure size 432x288 with 1 Axes>"
      ]
     },
     "metadata": {
      "needs_background": "light"
     },
     "output_type": "display_data"
    }
   ],
   "source": [
    "sns.barplot(ab5['Year'],ab5['Victims_of_Rape_Total'])\n",
    "plt.title(\"Barplot showing total victims of Rape in two years in UP\")\n",
    "plt.show()"
   ]
  },
  {
   "cell_type": "markdown",
   "metadata": {},
   "source": [
    "From the above barplot, it can be seen that there is a significant increase in Toatl victims of Rape from 2005 to 2010 in Uttar Pradesh."
   ]
  },
  {
   "cell_type": "code",
   "execution_count": 32,
   "metadata": {},
   "outputs": [
    {
     "name": "stdout",
     "output_type": "stream",
     "text": [
      "Percentage increase in Victims_of_Rape_Total(Victims of Other Rape) in Uttar Pradesh from 2005 to 2010 is 35.91979075850043%\n"
     ]
    }
   ],
   "source": [
    "a=ab5['Victims_of_Rape_Total'].values[0:2]\n",
    "f=((a[1]-a[0])/a[0])*100\n",
    "print(\"Percentage increase in Victims_of_Rape_Total(Victims of Other Rape) in Uttar Pradesh from 2005 to 2010 is {}%\".format(f))"
   ]
  },
  {
   "cell_type": "code",
   "execution_count": 33,
   "metadata": {},
   "outputs": [
    {
     "data": {
      "text/html": [
       "<div>\n",
       "<style scoped>\n",
       "    .dataframe tbody tr th:only-of-type {\n",
       "        vertical-align: middle;\n",
       "    }\n",
       "\n",
       "    .dataframe tbody tr th {\n",
       "        vertical-align: top;\n",
       "    }\n",
       "\n",
       "    .dataframe thead th {\n",
       "        text-align: right;\n",
       "    }\n",
       "</style>\n",
       "<table border=\"1\" class=\"dataframe\">\n",
       "  <thead>\n",
       "    <tr style=\"text-align: right;\">\n",
       "      <th></th>\n",
       "      <th>Area_Name</th>\n",
       "      <th>Year</th>\n",
       "      <th>Rape_Cases_Reported</th>\n",
       "      <th>Victims_Above_50_Yrs</th>\n",
       "      <th>Victims_Between_10-14_Yrs</th>\n",
       "      <th>Victims_Between_14-18_Yrs</th>\n",
       "      <th>Victims_Between_18-30_Yrs</th>\n",
       "      <th>Victims_Between_30-50_Yrs</th>\n",
       "      <th>Victims_of_Rape_Total</th>\n",
       "      <th>Victims_Upto_10_Yrs</th>\n",
       "    </tr>\n",
       "  </thead>\n",
       "  <tbody>\n",
       "    <tr>\n",
       "      <th>1034</th>\n",
       "      <td>West Bengal</td>\n",
       "      <td>2005</td>\n",
       "      <td>1650</td>\n",
       "      <td>1</td>\n",
       "      <td>0</td>\n",
       "      <td>3</td>\n",
       "      <td>1420</td>\n",
       "      <td>223</td>\n",
       "      <td>1650</td>\n",
       "      <td>3</td>\n",
       "    </tr>\n",
       "    <tr>\n",
       "      <th>1049</th>\n",
       "      <td>West Bengal</td>\n",
       "      <td>2010</td>\n",
       "      <td>2307</td>\n",
       "      <td>0</td>\n",
       "      <td>21</td>\n",
       "      <td>51</td>\n",
       "      <td>1777</td>\n",
       "      <td>458</td>\n",
       "      <td>2307</td>\n",
       "      <td>0</td>\n",
       "    </tr>\n",
       "  </tbody>\n",
       "</table>\n",
       "</div>"
      ],
      "text/plain": [
       "        Area_Name  Year  Rape_Cases_Reported  Victims_Above_50_Yrs  \\\n",
       "1034  West Bengal  2005                 1650                     1   \n",
       "1049  West Bengal  2010                 2307                     0   \n",
       "\n",
       "      Victims_Between_10-14_Yrs  Victims_Between_14-18_Yrs  \\\n",
       "1034                          0                          3   \n",
       "1049                         21                         51   \n",
       "\n",
       "      Victims_Between_18-30_Yrs  Victims_Between_30-50_Yrs  \\\n",
       "1034                       1420                        223   \n",
       "1049                       1777                        458   \n",
       "\n",
       "      Victims_of_Rape_Total  Victims_Upto_10_Yrs  \n",
       "1034                   1650                    3  \n",
       "1049                   2307                    0  "
      ]
     },
     "execution_count": 33,
     "metadata": {},
     "output_type": "execute_result"
    }
   ],
   "source": [
    "ab6=df2[(df2['Area_Name']=='West Bengal')& ((df2['Year']==2005)|(df2['Year']==2010))]\n",
    "ab6"
   ]
  },
  {
   "cell_type": "code",
   "execution_count": 34,
   "metadata": {},
   "outputs": [
    {
     "data": {
      "image/png": "[encoded data removed]",
      "text/plain": [
       "<Figure size 432x288 with 1 Axes>"
      ]
     },
     "metadata": {
      "needs_background": "light"
     },
     "output_type": "display_data"
    }
   ],
   "source": [
    "sns.barplot(ab6['Year'],ab6['Victims_of_Rape_Total'])\n",
    "plt.title(\"Barplot showing total victims of Rape in two years in WB\")\n",
    "plt.show()"
   ]
  },
  {
   "cell_type": "markdown",
   "metadata": {},
   "source": [
    "From the above barplot, it can be seen that there is a significant increase in Toatl victims of Rape from 2005 to 2010 in West Bengal"
   ]
  },
  {
   "cell_type": "code",
   "execution_count": 35,
   "metadata": {},
   "outputs": [
    {
     "name": "stdout",
     "output_type": "stream",
     "text": [
      "Percentage increase in Victims_of_Rape_Total(Victims of Other Rape) in West Bengal from 2005 to 2010 is 39.81818181818182%\n"
     ]
    }
   ],
   "source": [
    "a=ab6['Victims_of_Rape_Total'].values[0:2]\n",
    "f=((a[1]-a[0])/a[0])*100\n",
    "print(\"Percentage increase in Victims_of_Rape_Total(Victims of Other Rape) in West Bengal from 2005 to 2010 is {}%\".format(f))"
   ]
  },
  {
   "cell_type": "code",
   "execution_count": 36,
   "metadata": {},
   "outputs": [
    {
     "data": {
      "text/html": [
       "<div>\n",
       "<style scoped>\n",
       "    .dataframe tbody tr th:only-of-type {\n",
       "        vertical-align: middle;\n",
       "    }\n",
       "\n",
       "    .dataframe tbody tr th {\n",
       "        vertical-align: top;\n",
       "    }\n",
       "\n",
       "    .dataframe thead th {\n",
       "        text-align: right;\n",
       "    }\n",
       "</style>\n",
       "<table border=\"1\" class=\"dataframe\">\n",
       "  <thead>\n",
       "    <tr style=\"text-align: right;\">\n",
       "      <th></th>\n",
       "      <th>Area_Name</th>\n",
       "      <th>Year</th>\n",
       "      <th>Rape_Cases_Reported</th>\n",
       "      <th>Victims_Above_50_Yrs</th>\n",
       "      <th>Victims_Between_10-14_Yrs</th>\n",
       "      <th>Victims_Between_14-18_Yrs</th>\n",
       "      <th>Victims_Between_18-30_Yrs</th>\n",
       "      <th>Victims_Between_30-50_Yrs</th>\n",
       "      <th>Victims_of_Rape_Total</th>\n",
       "      <th>Victims_Upto_10_Yrs</th>\n",
       "    </tr>\n",
       "  </thead>\n",
       "  <tbody>\n",
       "    <tr>\n",
       "      <th>583</th>\n",
       "      <td>Madhya Pradesh</td>\n",
       "      <td>2005</td>\n",
       "      <td>141</td>\n",
       "      <td>1</td>\n",
       "      <td>18</td>\n",
       "      <td>43</td>\n",
       "      <td>57</td>\n",
       "      <td>13</td>\n",
       "      <td>141</td>\n",
       "      <td>9</td>\n",
       "    </tr>\n",
       "    <tr>\n",
       "      <th>598</th>\n",
       "      <td>Madhya Pradesh</td>\n",
       "      <td>2010</td>\n",
       "      <td>21</td>\n",
       "      <td>0</td>\n",
       "      <td>1</td>\n",
       "      <td>10</td>\n",
       "      <td>4</td>\n",
       "      <td>4</td>\n",
       "      <td>21</td>\n",
       "      <td>2</td>\n",
       "    </tr>\n",
       "  </tbody>\n",
       "</table>\n",
       "</div>"
      ],
      "text/plain": [
       "          Area_Name  Year  Rape_Cases_Reported  Victims_Above_50_Yrs  \\\n",
       "583  Madhya Pradesh  2005                  141                     1   \n",
       "598  Madhya Pradesh  2010                   21                     0   \n",
       "\n",
       "     Victims_Between_10-14_Yrs  Victims_Between_14-18_Yrs  \\\n",
       "583                         18                         43   \n",
       "598                          1                         10   \n",
       "\n",
       "     Victims_Between_18-30_Yrs  Victims_Between_30-50_Yrs  \\\n",
       "583                         57                         13   \n",
       "598                          4                          4   \n",
       "\n",
       "     Victims_of_Rape_Total  Victims_Upto_10_Yrs  \n",
       "583                    141                    9  \n",
       "598                     21                    2  "
      ]
     },
     "execution_count": 36,
     "metadata": {},
     "output_type": "execute_result"
    }
   ],
   "source": [
    "ab7=df3[(df3['Area_Name']=='Madhya Pradesh')& ((df3['Year']==2005)|(df3['Year']==2010))]\n",
    "ab7"
   ]
  },
  {
   "cell_type": "code",
   "execution_count": 37,
   "metadata": {},
   "outputs": [
    {
     "data": {
      "image/png": "[encoded data removed]",
      "text/plain": [
       "<Figure size 432x288 with 1 Axes>"
      ]
     },
     "metadata": {
      "needs_background": "light"
     },
     "output_type": "display_data"
    }
   ],
   "source": [
    "sns.barplot(ab7['Year'],ab7['Victims_of_Rape_Total'])\n",
    "plt.title(\"Barplot showing total victims of Rape(Incest rape) in two years in MP\")\n",
    "plt.show()"
   ]
  },
  {
   "cell_type": "markdown",
   "metadata": {},
   "source": [
    "From the above barplot, it can be seen that there is a significant decrease in Toatl victims of Rape(Incest Rape) from 2005 to 2010 in MP."
   ]
  },
  {
   "cell_type": "code",
   "execution_count": 38,
   "metadata": {},
   "outputs": [
    {
     "name": "stdout",
     "output_type": "stream",
     "text": [
      "Percentage decrease in Victims_of_Rape_Total(Victims of Incest Rape) in Madhya Pradesh from 2005 to 2010 is -85.1063829787234%\n"
     ]
    }
   ],
   "source": [
    "a=ab7['Victims_of_Rape_Total'].values[0:2]\n",
    "f=((a[1]-a[0])/a[0])*100\n",
    "print(\"Percentage decrease in Victims_of_Rape_Total(Victims of Incest Rape) in Madhya Pradesh from 2005 to 2010 is {}%\".format(f))"
   ]
  },
  {
   "cell_type": "code",
   "execution_count": 39,
   "metadata": {},
   "outputs": [
    {
     "data": {
      "text/html": [
       "<div>\n",
       "<style scoped>\n",
       "    .dataframe tbody tr th:only-of-type {\n",
       "        vertical-align: middle;\n",
       "    }\n",
       "\n",
       "    .dataframe tbody tr th {\n",
       "        vertical-align: top;\n",
       "    }\n",
       "\n",
       "    .dataframe thead th {\n",
       "        text-align: right;\n",
       "    }\n",
       "</style>\n",
       "<table border=\"1\" class=\"dataframe\">\n",
       "  <thead>\n",
       "    <tr style=\"text-align: right;\">\n",
       "      <th></th>\n",
       "      <th>Area_Name</th>\n",
       "      <th>Year</th>\n",
       "      <th>Rape_Cases_Reported</th>\n",
       "      <th>Victims_Above_50_Yrs</th>\n",
       "      <th>Victims_Between_10-14_Yrs</th>\n",
       "      <th>Victims_Between_14-18_Yrs</th>\n",
       "      <th>Victims_Between_18-30_Yrs</th>\n",
       "      <th>Victims_Between_30-50_Yrs</th>\n",
       "      <th>Victims_of_Rape_Total</th>\n",
       "      <th>Victims_Upto_10_Yrs</th>\n",
       "    </tr>\n",
       "  </thead>\n",
       "  <tbody>\n",
       "    <tr>\n",
       "      <th>1033</th>\n",
       "      <td>West Bengal</td>\n",
       "      <td>2005</td>\n",
       "      <td>36</td>\n",
       "      <td>0</td>\n",
       "      <td>0</td>\n",
       "      <td>0</td>\n",
       "      <td>31</td>\n",
       "      <td>5</td>\n",
       "      <td>36</td>\n",
       "      <td>0</td>\n",
       "    </tr>\n",
       "    <tr>\n",
       "      <th>1048</th>\n",
       "      <td>West Bengal</td>\n",
       "      <td>2010</td>\n",
       "      <td>4</td>\n",
       "      <td>0</td>\n",
       "      <td>1</td>\n",
       "      <td>0</td>\n",
       "      <td>2</td>\n",
       "      <td>1</td>\n",
       "      <td>4</td>\n",
       "      <td>0</td>\n",
       "    </tr>\n",
       "  </tbody>\n",
       "</table>\n",
       "</div>"
      ],
      "text/plain": [
       "        Area_Name  Year  Rape_Cases_Reported  Victims_Above_50_Yrs  \\\n",
       "1033  West Bengal  2005                   36                     0   \n",
       "1048  West Bengal  2010                    4                     0   \n",
       "\n",
       "      Victims_Between_10-14_Yrs  Victims_Between_14-18_Yrs  \\\n",
       "1033                          0                          0   \n",
       "1048                          1                          0   \n",
       "\n",
       "      Victims_Between_18-30_Yrs  Victims_Between_30-50_Yrs  \\\n",
       "1033                         31                          5   \n",
       "1048                          2                          1   \n",
       "\n",
       "      Victims_of_Rape_Total  Victims_Upto_10_Yrs  \n",
       "1033                     36                    0  \n",
       "1048                      4                    0  "
      ]
     },
     "execution_count": 39,
     "metadata": {},
     "output_type": "execute_result"
    }
   ],
   "source": [
    "ab8=df3[(df3['Area_Name']=='West Bengal')& ((df3['Year']==2005)|(df3['Year']==2010))]\n",
    "ab8"
   ]
  },
  {
   "cell_type": "code",
   "execution_count": 40,
   "metadata": {},
   "outputs": [
    {
     "data": {
      "image/png": "[encoded data removed]",
      "text/plain": [
       "<Figure size 432x288 with 1 Axes>"
      ]
     },
     "metadata": {
      "needs_background": "light"
     },
     "output_type": "display_data"
    }
   ],
   "source": [
    "sns.barplot(ab8['Year'],ab8['Victims_of_Rape_Total'])\n",
    "plt.title(\"Barplot showing total victims of Rape(Incest rape) in two years in WB\")\n",
    "plt.show()"
   ]
  },
  {
   "cell_type": "markdown",
   "metadata": {},
   "source": [
    "From the above barplot, it can be seen that there is a significant decrease in Toatl victims of Rape(Incest Rape) from 2005 to 2010 in WB."
   ]
  },
  {
   "cell_type": "code",
   "execution_count": 41,
   "metadata": {},
   "outputs": [
    {
     "name": "stdout",
     "output_type": "stream",
     "text": [
      "Percentage decrease in Victims_of_Rape_Total(Victims of Incest Rape) in West Bengal from 2005 to 2010 is -88.88888888888889%\n"
     ]
    }
   ],
   "source": [
    "a=ab8['Victims_of_Rape_Total'].values[0:2]\n",
    "f=((a[1]-a[0])/a[0])*100\n",
    "print(\"Percentage decrease in Victims_of_Rape_Total(Victims of Incest Rape) in West Bengal from 2005 to 2010 is {}%\".format(f))"
   ]
  },
  {
   "cell_type": "code",
   "execution_count": 42,
   "metadata": {},
   "outputs": [
    {
     "data": {
      "text/html": [
       "<div>\n",
       "<style scoped>\n",
       "    .dataframe tbody tr th:only-of-type {\n",
       "        vertical-align: middle;\n",
       "    }\n",
       "\n",
       "    .dataframe tbody tr th {\n",
       "        vertical-align: top;\n",
       "    }\n",
       "\n",
       "    .dataframe thead th {\n",
       "        text-align: right;\n",
       "    }\n",
       "</style>\n",
       "<table border=\"1\" class=\"dataframe\">\n",
       "  <thead>\n",
       "    <tr style=\"text-align: right;\">\n",
       "      <th></th>\n",
       "      <th>Area_Name</th>\n",
       "      <th>Year</th>\n",
       "      <th>Rape_Cases_Reported</th>\n",
       "      <th>Victims_Above_50_Yrs</th>\n",
       "      <th>Victims_Between_10-14_Yrs</th>\n",
       "      <th>Victims_Between_14-18_Yrs</th>\n",
       "      <th>Victims_Between_18-30_Yrs</th>\n",
       "      <th>Victims_Between_30-50_Yrs</th>\n",
       "      <th>Victims_of_Rape_Total</th>\n",
       "      <th>Victims_Upto_10_Yrs</th>\n",
       "    </tr>\n",
       "  </thead>\n",
       "  <tbody>\n",
       "    <tr>\n",
       "      <th>973</th>\n",
       "      <td>Uttar Pradesh</td>\n",
       "      <td>2005</td>\n",
       "      <td>70</td>\n",
       "      <td>0</td>\n",
       "      <td>0</td>\n",
       "      <td>18</td>\n",
       "      <td>52</td>\n",
       "      <td>0</td>\n",
       "      <td>70</td>\n",
       "      <td>0</td>\n",
       "    </tr>\n",
       "    <tr>\n",
       "      <th>988</th>\n",
       "      <td>Uttar Pradesh</td>\n",
       "      <td>2010</td>\n",
       "      <td>4</td>\n",
       "      <td>0</td>\n",
       "      <td>1</td>\n",
       "      <td>2</td>\n",
       "      <td>1</td>\n",
       "      <td>0</td>\n",
       "      <td>4</td>\n",
       "      <td>0</td>\n",
       "    </tr>\n",
       "  </tbody>\n",
       "</table>\n",
       "</div>"
      ],
      "text/plain": [
       "         Area_Name  Year  Rape_Cases_Reported  Victims_Above_50_Yrs  \\\n",
       "973  Uttar Pradesh  2005                   70                     0   \n",
       "988  Uttar Pradesh  2010                    4                     0   \n",
       "\n",
       "     Victims_Between_10-14_Yrs  Victims_Between_14-18_Yrs  \\\n",
       "973                          0                         18   \n",
       "988                          1                          2   \n",
       "\n",
       "     Victims_Between_18-30_Yrs  Victims_Between_30-50_Yrs  \\\n",
       "973                         52                          0   \n",
       "988                          1                          0   \n",
       "\n",
       "     Victims_of_Rape_Total  Victims_Upto_10_Yrs  \n",
       "973                     70                    0  \n",
       "988                      4                    0  "
      ]
     },
     "execution_count": 42,
     "metadata": {},
     "output_type": "execute_result"
    }
   ],
   "source": [
    "ab9=df3[(df3['Area_Name']=='Uttar Pradesh')& ((df3['Year']==2005)|(df3['Year']==2010))]\n",
    "ab9"
   ]
  },
  {
   "cell_type": "code",
   "execution_count": 43,
   "metadata": {},
   "outputs": [
    {
     "data": {
      "image/png": "[encoded data removed]",
      "text/plain": [
       "<Figure size 432x288 with 1 Axes>"
      ]
     },
     "metadata": {
      "needs_background": "light"
     },
     "output_type": "display_data"
    }
   ],
   "source": [
    "sns.barplot(ab9['Year'],ab9['Victims_of_Rape_Total'])\n",
    "plt.title(\"Barplot showing total victims of Rape(Incest rape) in two years in UP\")\n",
    "plt.show()"
   ]
  },
  {
   "cell_type": "markdown",
   "metadata": {},
   "source": [
    "From the above barplot, it can be seen that there is a significant decrease in Toatl victims of Rape(Incest Rape) from 2005 to 2010 in UP"
   ]
  },
  {
   "cell_type": "code",
   "execution_count": 44,
   "metadata": {},
   "outputs": [
    {
     "name": "stdout",
     "output_type": "stream",
     "text": [
      "Percentage decrease in Victims_of_Rape_Total(Victims of Incest Rape) in Uttar Pradesh from 2005 to 2010 is -94.28571428571428%\n"
     ]
    }
   ],
   "source": [
    "a=ab9['Victims_of_Rape_Total'].values[0:2]\n",
    "f=((a[1]-a[0])/a[0])*100\n",
    "print(\"Percentage decrease in Victims_of_Rape_Total(Victims of Incest Rape) in Uttar Pradesh from 2005 to 2010 is {}%\".format(f))"
   ]
  }
 ],
 "metadata": {
  "kernelspec": {
   "display_name": "Python 3",
   "language": "python",
   "name": "python3"
  },
  "language_info": {
   "codemirror_mode": {
    "name": "ipython",
    "version": 3
   },
   "file_extension": ".py",
   "mimetype": "text/x-python",
   "name": "python",
   "nbconvert_exporter": "python",
   "pygments_lexer": "ipython3",
   "version": "3.7.1"
  }
 },
 "nbformat": 4,
 "nbformat_minor": 2
}
