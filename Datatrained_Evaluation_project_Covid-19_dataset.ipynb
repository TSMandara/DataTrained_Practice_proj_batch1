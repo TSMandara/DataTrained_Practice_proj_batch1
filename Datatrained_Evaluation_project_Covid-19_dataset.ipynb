{
 "cells": [
  {
   "cell_type": "markdown",
   "metadata": {},
   "source": [
    "#### The aim of this project is to predict the number of deaths due to covid 19. Its a regression problem. So accordingly data cleaning, pre-processing, exploratory data analysis is carried out."
   ]
  },
  {
   "cell_type": "markdown",
   "metadata": {},
   "source": [
    "Steps followed in the project:\n",
    "\n",
    "1) Importing the packages/libraries\n",
    "\n",
    "2) Reading the dataset\n",
    "\n",
    "3) Checking the shape\n",
    "\n",
    "4) Checking the info\n",
    "\n",
    "5) Data cleaning( Treating the missing values, dropping unwanted columns/rows)\n",
    "\n",
    "6) Exploratory data analysis\n",
    "\n",
    "7) Label encoding/One hot encoding\n",
    "\n",
    "8) Outlier treatment\n",
    "\n",
    "9) Defining X and y(independent and dependent variable)\n",
    "\n",
    "10) Splitting the data into train and test\n",
    "\n",
    "11) Fitting different models using GridhSearchCV\n",
    "\n",
    "12) Checking the metrics for model evaluation"
   ]
  },
  {
   "cell_type": "code",
   "execution_count": 315,
   "metadata": {},
   "outputs": [],
   "source": [
    "import pandas as pd\n",
    "import numpy as np\n",
    "import seaborn as sns\n",
    "import matplotlib.pyplot as plt\n",
    "import warnings\n",
    "warnings.filterwarnings(\"ignore\")\n",
    "from sklearn.metrics import accuracy_score,confusion_matrix,classification_report"
   ]
  },
  {
   "cell_type": "code",
   "execution_count": 316,
   "metadata": {},
   "outputs": [
    {
     "data": {
      "text/html": [
       "<div>\n",
       "<style scoped>\n",
       "    .dataframe tbody tr th:only-of-type {\n",
       "        vertical-align: middle;\n",
       "    }\n",
       "\n",
       "    .dataframe tbody tr th {\n",
       "        vertical-align: top;\n",
       "    }\n",
       "\n",
       "    .dataframe thead th {\n",
       "        text-align: right;\n",
       "    }\n",
       "</style>\n",
       "<table border=\"1\" class=\"dataframe\">\n",
       "  <thead>\n",
       "    <tr style=\"text-align: right;\">\n",
       "      <th></th>\n",
       "      <th>Province_State</th>\n",
       "      <th>Country_Region</th>\n",
       "      <th>Last_Update</th>\n",
       "      <th>Lat</th>\n",
       "      <th>Long_</th>\n",
       "      <th>Confirmed</th>\n",
       "      <th>Deaths</th>\n",
       "      <th>Recovered</th>\n",
       "      <th>Active</th>\n",
       "      <th>FIPS</th>\n",
       "      <th>Incident_Rate</th>\n",
       "      <th>People_Tested</th>\n",
       "      <th>People_Hospitalized</th>\n",
       "      <th>Mortality_Rate</th>\n",
       "      <th>UID</th>\n",
       "      <th>ISO3</th>\n",
       "      <th>Testing_Rate</th>\n",
       "      <th>Hospitalization_Rate</th>\n",
       "    </tr>\n",
       "  </thead>\n",
       "  <tbody>\n",
       "    <tr>\n",
       "      <th>0</th>\n",
       "      <td>Alabama</td>\n",
       "      <td>US</td>\n",
       "      <td>2020-05-21 02:32:54</td>\n",
       "      <td>32.3182</td>\n",
       "      <td>-86.9023</td>\n",
       "      <td>13052</td>\n",
       "      <td>522</td>\n",
       "      <td>NaN</td>\n",
       "      <td>12530.0</td>\n",
       "      <td>1</td>\n",
       "      <td>266.194321</td>\n",
       "      <td>164450.0</td>\n",
       "      <td>1493.0</td>\n",
       "      <td>3.999387</td>\n",
       "      <td>84000001</td>\n",
       "      <td>USA</td>\n",
       "      <td>3353.942386</td>\n",
       "      <td>11.438860</td>\n",
       "    </tr>\n",
       "    <tr>\n",
       "      <th>1</th>\n",
       "      <td>Alaska</td>\n",
       "      <td>US</td>\n",
       "      <td>2020-05-21 02:32:54</td>\n",
       "      <td>61.3707</td>\n",
       "      <td>-152.4044</td>\n",
       "      <td>401</td>\n",
       "      <td>10</td>\n",
       "      <td>352.0</td>\n",
       "      <td>39.0</td>\n",
       "      <td>2</td>\n",
       "      <td>54.815493</td>\n",
       "      <td>37045.0</td>\n",
       "      <td>NaN</td>\n",
       "      <td>2.493766</td>\n",
       "      <td>84000002</td>\n",
       "      <td>USA</td>\n",
       "      <td>5063.940017</td>\n",
       "      <td>NaN</td>\n",
       "    </tr>\n",
       "    <tr>\n",
       "      <th>2</th>\n",
       "      <td>American Samoa</td>\n",
       "      <td>US</td>\n",
       "      <td>2020-05-21 02:32:54</td>\n",
       "      <td>-14.2710</td>\n",
       "      <td>-170.1320</td>\n",
       "      <td>0</td>\n",
       "      <td>0</td>\n",
       "      <td>NaN</td>\n",
       "      <td>0.0</td>\n",
       "      <td>60</td>\n",
       "      <td>0.000000</td>\n",
       "      <td>124.0</td>\n",
       "      <td>NaN</td>\n",
       "      <td>NaN</td>\n",
       "      <td>16</td>\n",
       "      <td>ASM</td>\n",
       "      <td>222.857246</td>\n",
       "      <td>NaN</td>\n",
       "    </tr>\n",
       "    <tr>\n",
       "      <th>3</th>\n",
       "      <td>Arizona</td>\n",
       "      <td>US</td>\n",
       "      <td>2020-05-21 02:32:54</td>\n",
       "      <td>33.7298</td>\n",
       "      <td>-111.4312</td>\n",
       "      <td>14906</td>\n",
       "      <td>747</td>\n",
       "      <td>3773.0</td>\n",
       "      <td>10386.0</td>\n",
       "      <td>4</td>\n",
       "      <td>204.788838</td>\n",
       "      <td>165435.0</td>\n",
       "      <td>1792.0</td>\n",
       "      <td>5.011405</td>\n",
       "      <td>84000004</td>\n",
       "      <td>USA</td>\n",
       "      <td>2272.859351</td>\n",
       "      <td>12.022005</td>\n",
       "    </tr>\n",
       "    <tr>\n",
       "      <th>4</th>\n",
       "      <td>Arkansas</td>\n",
       "      <td>US</td>\n",
       "      <td>2020-05-21 02:32:54</td>\n",
       "      <td>34.9697</td>\n",
       "      <td>-92.3731</td>\n",
       "      <td>5003</td>\n",
       "      <td>107</td>\n",
       "      <td>3852.0</td>\n",
       "      <td>1044.0</td>\n",
       "      <td>5</td>\n",
       "      <td>165.782801</td>\n",
       "      <td>96258.0</td>\n",
       "      <td>535.0</td>\n",
       "      <td>2.138717</td>\n",
       "      <td>84000005</td>\n",
       "      <td>USA</td>\n",
       "      <td>3189.670370</td>\n",
       "      <td>10.693584</td>\n",
       "    </tr>\n",
       "  </tbody>\n",
       "</table>\n",
       "</div>"
      ],
      "text/plain": [
       "   Province_State Country_Region          Last_Update      Lat     Long_  \\\n",
       "0         Alabama             US  2020-05-21 02:32:54  32.3182  -86.9023   \n",
       "1          Alaska             US  2020-05-21 02:32:54  61.3707 -152.4044   \n",
       "2  American Samoa             US  2020-05-21 02:32:54 -14.2710 -170.1320   \n",
       "3         Arizona             US  2020-05-21 02:32:54  33.7298 -111.4312   \n",
       "4        Arkansas             US  2020-05-21 02:32:54  34.9697  -92.3731   \n",
       "\n",
       "   Confirmed  Deaths  Recovered   Active  FIPS  Incident_Rate  People_Tested  \\\n",
       "0      13052     522        NaN  12530.0     1     266.194321       164450.0   \n",
       "1        401      10      352.0     39.0     2      54.815493        37045.0   \n",
       "2          0       0        NaN      0.0    60       0.000000          124.0   \n",
       "3      14906     747     3773.0  10386.0     4     204.788838       165435.0   \n",
       "4       5003     107     3852.0   1044.0     5     165.782801        96258.0   \n",
       "\n",
       "   People_Hospitalized  Mortality_Rate       UID ISO3  Testing_Rate  \\\n",
       "0               1493.0        3.999387  84000001  USA   3353.942386   \n",
       "1                  NaN        2.493766  84000002  USA   5063.940017   \n",
       "2                  NaN             NaN        16  ASM    222.857246   \n",
       "3               1792.0        5.011405  84000004  USA   2272.859351   \n",
       "4                535.0        2.138717  84000005  USA   3189.670370   \n",
       "\n",
       "   Hospitalization_Rate  \n",
       "0             11.438860  \n",
       "1                   NaN  \n",
       "2                   NaN  \n",
       "3             12.022005  \n",
       "4             10.693584  "
      ]
     },
     "execution_count": 316,
     "metadata": {},
     "output_type": "execute_result"
    }
   ],
   "source": [
    "df=pd.read_csv(\"csse_covid_19_daily_reports_us.txt\")\n",
    "df.head()"
   ]
  },
  {
   "cell_type": "code",
   "execution_count": 317,
   "metadata": {},
   "outputs": [
    {
     "data": {
      "text/plain": [
       "(58, 18)"
      ]
     },
     "execution_count": 317,
     "metadata": {},
     "output_type": "execute_result"
    }
   ],
   "source": [
    "df.shape"
   ]
  },
  {
   "cell_type": "code",
   "execution_count": 318,
   "metadata": {},
   "outputs": [
    {
     "name": "stdout",
     "output_type": "stream",
     "text": [
      "<class 'pandas.core.frame.DataFrame'>\n",
      "RangeIndex: 58 entries, 0 to 57\n",
      "Data columns (total 18 columns):\n",
      "Province_State          58 non-null object\n",
      "Country_Region          58 non-null object\n",
      "Last_Update             58 non-null object\n",
      "Lat                     56 non-null float64\n",
      "Long_                   56 non-null float64\n",
      "Confirmed               58 non-null int64\n",
      "Deaths                  58 non-null int64\n",
      "Recovered               42 non-null float64\n",
      "Active                  58 non-null float64\n",
      "FIPS                    58 non-null int64\n",
      "Incident_Rate           56 non-null float64\n",
      "People_Tested           56 non-null float64\n",
      "People_Hospitalized     33 non-null float64\n",
      "Mortality_Rate          57 non-null float64\n",
      "UID                     58 non-null int64\n",
      "ISO3                    58 non-null object\n",
      "Testing_Rate            56 non-null float64\n",
      "Hospitalization_Rate    33 non-null float64\n",
      "dtypes: float64(10), int64(4), object(4)\n",
      "memory usage: 8.2+ KB\n"
     ]
    }
   ],
   "source": [
    "df.info()"
   ]
  },
  {
   "cell_type": "code",
   "execution_count": 319,
   "metadata": {},
   "outputs": [
    {
     "data": {
      "text/html": [
       "<div>\n",
       "<style scoped>\n",
       "    .dataframe tbody tr th:only-of-type {\n",
       "        vertical-align: middle;\n",
       "    }\n",
       "\n",
       "    .dataframe tbody tr th {\n",
       "        vertical-align: top;\n",
       "    }\n",
       "\n",
       "    .dataframe thead th {\n",
       "        text-align: right;\n",
       "    }\n",
       "</style>\n",
       "<table border=\"1\" class=\"dataframe\">\n",
       "  <thead>\n",
       "    <tr style=\"text-align: right;\">\n",
       "      <th></th>\n",
       "      <th>Lat</th>\n",
       "      <th>Long_</th>\n",
       "      <th>Confirmed</th>\n",
       "      <th>Deaths</th>\n",
       "      <th>Recovered</th>\n",
       "      <th>Active</th>\n",
       "      <th>FIPS</th>\n",
       "      <th>Incident_Rate</th>\n",
       "      <th>People_Tested</th>\n",
       "      <th>People_Hospitalized</th>\n",
       "      <th>Mortality_Rate</th>\n",
       "      <th>UID</th>\n",
       "      <th>Testing_Rate</th>\n",
       "      <th>Hospitalization_Rate</th>\n",
       "    </tr>\n",
       "  </thead>\n",
       "  <tbody>\n",
       "    <tr>\n",
       "      <th>count</th>\n",
       "      <td>56.000000</td>\n",
       "      <td>56.000000</td>\n",
       "      <td>58.000000</td>\n",
       "      <td>58.000000</td>\n",
       "      <td>42.000000</td>\n",
       "      <td>58.000000</td>\n",
       "      <td>58.000000</td>\n",
       "      <td>56.000000</td>\n",
       "      <td>5.600000e+01</td>\n",
       "      <td>33.000000</td>\n",
       "      <td>57.000000</td>\n",
       "      <td>5.800000e+01</td>\n",
       "      <td>56.000000</td>\n",
       "      <td>33.000000</td>\n",
       "    </tr>\n",
       "    <tr>\n",
       "      <th>mean</th>\n",
       "      <td>36.840089</td>\n",
       "      <td>-85.206614</td>\n",
       "      <td>26756.086207</td>\n",
       "      <td>1611.017241</td>\n",
       "      <td>7007.428571</td>\n",
       "      <td>20070.724138</td>\n",
       "      <td>3288.086207</td>\n",
       "      <td>396.230806</td>\n",
       "      <td>2.258534e+05</td>\n",
       "      <td>4897.454545</td>\n",
       "      <td>4.458248</td>\n",
       "      <td>7.676194e+07</td>\n",
       "      <td>3894.186870</td>\n",
       "      <td>14.342541</td>\n",
       "    </tr>\n",
       "    <tr>\n",
       "      <th>std</th>\n",
       "      <td>10.887035</td>\n",
       "      <td>49.754449</td>\n",
       "      <td>52562.031122</td>\n",
       "      <td>4084.750891</td>\n",
       "      <td>11674.490020</td>\n",
       "      <td>41294.705318</td>\n",
       "      <td>17408.350591</td>\n",
       "      <td>402.682539</td>\n",
       "      <td>2.987834e+05</td>\n",
       "      <td>13185.628145</td>\n",
       "      <td>2.135002</td>\n",
       "      <td>2.378302e+07</td>\n",
       "      <td>1933.169297</td>\n",
       "      <td>5.047403</td>\n",
       "    </tr>\n",
       "    <tr>\n",
       "      <th>min</th>\n",
       "      <td>-14.271000</td>\n",
       "      <td>-170.132000</td>\n",
       "      <td>0.000000</td>\n",
       "      <td>0.000000</td>\n",
       "      <td>13.000000</td>\n",
       "      <td>0.000000</td>\n",
       "      <td>1.000000</td>\n",
       "      <td>0.000000</td>\n",
       "      <td>1.240000e+02</td>\n",
       "      <td>65.000000</td>\n",
       "      <td>0.000000</td>\n",
       "      <td>1.600000e+01</td>\n",
       "      <td>97.702058</td>\n",
       "      <td>6.778043</td>\n",
       "    </tr>\n",
       "    <tr>\n",
       "      <th>25%</th>\n",
       "      <td>34.594600</td>\n",
       "      <td>-101.165775</td>\n",
       "      <td>2596.000000</td>\n",
       "      <td>74.000000</td>\n",
       "      <td>970.000000</td>\n",
       "      <td>812.500000</td>\n",
       "      <td>18.250000</td>\n",
       "      <td>148.521021</td>\n",
       "      <td>4.608100e+04</td>\n",
       "      <td>535.000000</td>\n",
       "      <td>3.072626</td>\n",
       "      <td>8.400001e+07</td>\n",
       "      <td>2712.800274</td>\n",
       "      <td>10.000000</td>\n",
       "    </tr>\n",
       "    <tr>\n",
       "      <th>50%</th>\n",
       "      <td>39.061850</td>\n",
       "      <td>-87.944200</td>\n",
       "      <td>10148.500000</td>\n",
       "      <td>385.000000</td>\n",
       "      <td>3008.000000</td>\n",
       "      <td>5644.500000</td>\n",
       "      <td>32.500000</td>\n",
       "      <td>250.477287</td>\n",
       "      <td>1.386545e+05</td>\n",
       "      <td>1493.000000</td>\n",
       "      <td>4.403318</td>\n",
       "      <td>8.400003e+07</td>\n",
       "      <td>3469.782532</td>\n",
       "      <td>13.598326</td>\n",
       "    </tr>\n",
       "    <tr>\n",
       "      <th>75%</th>\n",
       "      <td>42.361650</td>\n",
       "      <td>-76.970625</td>\n",
       "      <td>29395.500000</td>\n",
       "      <td>1394.250000</td>\n",
       "      <td>7326.750000</td>\n",
       "      <td>19291.250000</td>\n",
       "      <td>47.750000</td>\n",
       "      <td>477.888542</td>\n",
       "      <td>2.796948e+05</td>\n",
       "      <td>4389.000000</td>\n",
       "      <td>5.466238</td>\n",
       "      <td>8.400004e+07</td>\n",
       "      <td>4763.649736</td>\n",
       "      <td>17.658649</td>\n",
       "    </tr>\n",
       "    <tr>\n",
       "      <th>max</th>\n",
       "      <td>61.370700</td>\n",
       "      <td>145.673900</td>\n",
       "      <td>354370.000000</td>\n",
       "      <td>28636.000000</td>\n",
       "      <td>61886.000000</td>\n",
       "      <td>263848.000000</td>\n",
       "      <td>99999.000000</td>\n",
       "      <td>1821.620216</td>\n",
       "      <td>1.505836e+06</td>\n",
       "      <td>76410.000000</td>\n",
       "      <td>9.545549</td>\n",
       "      <td>8.410000e+07</td>\n",
       "      <td>11377.424693</td>\n",
       "      <td>28.054438</td>\n",
       "    </tr>\n",
       "  </tbody>\n",
       "</table>\n",
       "</div>"
      ],
      "text/plain": [
       "             Lat       Long_      Confirmed        Deaths     Recovered  \\\n",
       "count  56.000000   56.000000      58.000000     58.000000     42.000000   \n",
       "mean   36.840089  -85.206614   26756.086207   1611.017241   7007.428571   \n",
       "std    10.887035   49.754449   52562.031122   4084.750891  11674.490020   \n",
       "min   -14.271000 -170.132000       0.000000      0.000000     13.000000   \n",
       "25%    34.594600 -101.165775    2596.000000     74.000000    970.000000   \n",
       "50%    39.061850  -87.944200   10148.500000    385.000000   3008.000000   \n",
       "75%    42.361650  -76.970625   29395.500000   1394.250000   7326.750000   \n",
       "max    61.370700  145.673900  354370.000000  28636.000000  61886.000000   \n",
       "\n",
       "              Active          FIPS  Incident_Rate  People_Tested  \\\n",
       "count      58.000000     58.000000      56.000000   5.600000e+01   \n",
       "mean    20070.724138   3288.086207     396.230806   2.258534e+05   \n",
       "std     41294.705318  17408.350591     402.682539   2.987834e+05   \n",
       "min         0.000000      1.000000       0.000000   1.240000e+02   \n",
       "25%       812.500000     18.250000     148.521021   4.608100e+04   \n",
       "50%      5644.500000     32.500000     250.477287   1.386545e+05   \n",
       "75%     19291.250000     47.750000     477.888542   2.796948e+05   \n",
       "max    263848.000000  99999.000000    1821.620216   1.505836e+06   \n",
       "\n",
       "       People_Hospitalized  Mortality_Rate           UID  Testing_Rate  \\\n",
       "count            33.000000       57.000000  5.800000e+01     56.000000   \n",
       "mean           4897.454545        4.458248  7.676194e+07   3894.186870   \n",
       "std           13185.628145        2.135002  2.378302e+07   1933.169297   \n",
       "min              65.000000        0.000000  1.600000e+01     97.702058   \n",
       "25%             535.000000        3.072626  8.400001e+07   2712.800274   \n",
       "50%            1493.000000        4.403318  8.400003e+07   3469.782532   \n",
       "75%            4389.000000        5.466238  8.400004e+07   4763.649736   \n",
       "max           76410.000000        9.545549  8.410000e+07  11377.424693   \n",
       "\n",
       "       Hospitalization_Rate  \n",
       "count             33.000000  \n",
       "mean              14.342541  \n",
       "std                5.047403  \n",
       "min                6.778043  \n",
       "25%               10.000000  \n",
       "50%               13.598326  \n",
       "75%               17.658649  \n",
       "max               28.054438  "
      ]
     },
     "execution_count": 319,
     "metadata": {},
     "output_type": "execute_result"
    }
   ],
   "source": [
    "df.describe()"
   ]
  },
  {
   "cell_type": "code",
   "execution_count": 320,
   "metadata": {},
   "outputs": [
    {
     "data": {
      "text/plain": [
       "Province_State           0.000000\n",
       "Country_Region           0.000000\n",
       "Last_Update              0.000000\n",
       "Lat                      3.448276\n",
       "Long_                    3.448276\n",
       "Confirmed                0.000000\n",
       "Deaths                   0.000000\n",
       "Recovered               27.586207\n",
       "Active                   0.000000\n",
       "FIPS                     0.000000\n",
       "Incident_Rate            3.448276\n",
       "People_Tested            3.448276\n",
       "People_Hospitalized     43.103448\n",
       "Mortality_Rate           1.724138\n",
       "UID                      0.000000\n",
       "ISO3                     0.000000\n",
       "Testing_Rate             3.448276\n",
       "Hospitalization_Rate    43.103448\n",
       "dtype: float64"
      ]
     },
     "execution_count": 320,
     "metadata": {},
     "output_type": "execute_result"
    }
   ],
   "source": [
    "df.isnull().sum()/len(df)*100"
   ]
  },
  {
   "cell_type": "markdown",
   "metadata": {},
   "source": [
    "Since Hospitalization_Rate and People_Hospitalized have more than 43% NaN values, we can drop those columns. Because fill those values are filled with median, mean or any value, it will affect the model the same way."
   ]
  },
  {
   "cell_type": "code",
   "execution_count": 321,
   "metadata": {},
   "outputs": [
    {
     "data": {
      "text/plain": [
       "56       1\n",
       "18       1\n",
       "30       1\n",
       "29       1\n",
       "28       1\n",
       "27       1\n",
       "26       1\n",
       "25       1\n",
       "24       1\n",
       "23       1\n",
       "22       1\n",
       "21       1\n",
       "20       1\n",
       "19       1\n",
       "17       1\n",
       "31       1\n",
       "16       1\n",
       "15       1\n",
       "13       1\n",
       "12       1\n",
       "11       1\n",
       "10       1\n",
       "9        1\n",
       "8        1\n",
       "6        1\n",
       "5        1\n",
       "4        1\n",
       "2        1\n",
       "99999    1\n",
       "32       1\n",
       "33       1\n",
       "34       1\n",
       "78       1\n",
       "72       1\n",
       "69       1\n",
       "66       1\n",
       "60       1\n",
       "88888    1\n",
       "55       1\n",
       "54       1\n",
       "53       1\n",
       "51       1\n",
       "50       1\n",
       "49       1\n",
       "48       1\n",
       "47       1\n",
       "46       1\n",
       "45       1\n",
       "44       1\n",
       "42       1\n",
       "41       1\n",
       "40       1\n",
       "39       1\n",
       "38       1\n",
       "37       1\n",
       "36       1\n",
       "35       1\n",
       "1        1\n",
       "Name: FIPS, dtype: int64"
      ]
     },
     "execution_count": 321,
     "metadata": {},
     "output_type": "execute_result"
    }
   ],
   "source": [
    "df['FIPS'].value_counts()"
   ]
  },
  {
   "cell_type": "markdown",
   "metadata": {},
   "source": [
    "Since FIPS-Federal Information Processing Standards code that uniquely identifies counties within the USA are unique. It won't have any effect on the output variable. So it can be dropped."
   ]
  },
  {
   "cell_type": "markdown",
   "metadata": {},
   "source": [
    "Checking the number of unique values in different columns"
   ]
  },
  {
   "cell_type": "code",
   "execution_count": 322,
   "metadata": {},
   "outputs": [
    {
     "data": {
      "text/plain": [
       "58"
      ]
     },
     "execution_count": 322,
     "metadata": {},
     "output_type": "execute_result"
    }
   ],
   "source": [
    "df['UID'].nunique()"
   ]
  },
  {
   "cell_type": "code",
   "execution_count": 323,
   "metadata": {},
   "outputs": [
    {
     "data": {
      "text/plain": [
       "6"
      ]
     },
     "execution_count": 323,
     "metadata": {},
     "output_type": "execute_result"
    }
   ],
   "source": [
    "df['ISO3'].nunique()"
   ]
  },
  {
   "cell_type": "code",
   "execution_count": 324,
   "metadata": {},
   "outputs": [
    {
     "data": {
      "text/plain": [
       "56"
      ]
     },
     "execution_count": 324,
     "metadata": {},
     "output_type": "execute_result"
    }
   ],
   "source": [
    "df['Lat'].nunique()"
   ]
  },
  {
   "cell_type": "code",
   "execution_count": 325,
   "metadata": {},
   "outputs": [
    {
     "data": {
      "text/plain": [
       "56"
      ]
     },
     "execution_count": 325,
     "metadata": {},
     "output_type": "execute_result"
    }
   ],
   "source": [
    "df['Long_'].nunique()"
   ]
  },
  {
   "cell_type": "code",
   "execution_count": 326,
   "metadata": {},
   "outputs": [
    {
     "data": {
      "text/plain": [
       "58"
      ]
     },
     "execution_count": 326,
     "metadata": {},
     "output_type": "execute_result"
    }
   ],
   "source": [
    "df['Province_State'].nunique()"
   ]
  },
  {
   "cell_type": "code",
   "execution_count": 327,
   "metadata": {},
   "outputs": [
    {
     "data": {
      "text/plain": [
       "1"
      ]
     },
     "execution_count": 327,
     "metadata": {},
     "output_type": "execute_result"
    }
   ],
   "source": [
    "df['Country_Region'].nunique()"
   ]
  },
  {
   "cell_type": "markdown",
   "metadata": {},
   "source": [
    "From the above findings we can see that 'UID','Province_State' are having 58 different values. 'Country_Region' is having the same value all through the column. 'Lat' and 'Long_' donot have any effect on prediction.\n",
    "Therefore all these columns can be dropped."
   ]
  },
  {
   "cell_type": "code",
   "execution_count": 328,
   "metadata": {},
   "outputs": [
    {
     "data": {
      "text/plain": [
       "0     2020-05-21 02:32:54\n",
       "1     2020-05-21 02:32:54\n",
       "2     2020-05-21 02:32:54\n",
       "3     2020-05-21 02:32:54\n",
       "4     2020-05-21 02:32:54\n",
       "5     2020-05-21 02:32:54\n",
       "6     2020-05-21 02:32:54\n",
       "7     2020-05-21 02:32:54\n",
       "8     2020-05-21 02:32:54\n",
       "9     2020-05-21 02:32:54\n",
       "10    2020-05-21 02:32:54\n",
       "11    2020-05-21 02:32:54\n",
       "12    2020-05-21 02:32:54\n",
       "13    2020-05-21 02:32:54\n",
       "14    2020-05-21 02:32:54\n",
       "15    2020-05-21 02:32:54\n",
       "16    2020-05-21 02:32:54\n",
       "17    2020-05-21 02:32:54\n",
       "18    2020-05-21 02:32:54\n",
       "19    2020-05-21 02:32:54\n",
       "20    2020-05-21 02:32:54\n",
       "21    2020-05-21 02:32:54\n",
       "22    2020-05-21 02:32:54\n",
       "23    2020-05-21 02:32:54\n",
       "24    2020-05-21 02:32:54\n",
       "25    2020-05-21 02:32:54\n",
       "26    2020-05-21 02:32:54\n",
       "27    2020-05-21 02:32:54\n",
       "28    2020-05-21 02:32:54\n",
       "29    2020-05-21 02:32:54\n",
       "30    2020-05-21 02:32:54\n",
       "31    2020-05-21 02:32:54\n",
       "32    2020-05-21 02:32:54\n",
       "33    2020-05-21 02:32:54\n",
       "34    2020-05-21 02:32:54\n",
       "35    2020-05-21 02:32:54\n",
       "36    2020-05-21 02:32:54\n",
       "37    2020-05-21 02:32:54\n",
       "38    2020-05-21 02:32:54\n",
       "39    2020-05-21 02:32:54\n",
       "40    2020-05-21 02:32:54\n",
       "41    2020-05-21 02:32:54\n",
       "42    2020-05-21 02:32:54\n",
       "43    2020-05-21 02:32:54\n",
       "44    2020-05-21 02:32:54\n",
       "45    2020-05-21 02:32:54\n",
       "46    2020-05-21 02:32:54\n",
       "47    2020-05-21 02:32:54\n",
       "48    2020-05-21 02:32:54\n",
       "49    2020-05-21 02:32:54\n",
       "50    2020-05-21 02:32:54\n",
       "51    2020-05-21 02:32:54\n",
       "52    2020-05-21 02:32:54\n",
       "53    2020-05-21 02:32:54\n",
       "54    2020-05-21 02:32:54\n",
       "55    2020-05-21 02:32:54\n",
       "56    2020-05-21 02:32:54\n",
       "57    2020-05-21 02:32:54\n",
       "Name: Last_Update, dtype: object"
      ]
     },
     "execution_count": 328,
     "metadata": {},
     "output_type": "execute_result"
    }
   ],
   "source": [
    "df['Last_Update']"
   ]
  },
  {
   "cell_type": "markdown",
   "metadata": {},
   "source": [
    "Since all the data has been taken on the same day, Last_Update column can be dropped."
   ]
  },
  {
   "cell_type": "markdown",
   "metadata": {},
   "source": [
    "##### Dropping the above mentioned columns"
   ]
  },
  {
   "cell_type": "code",
   "execution_count": 329,
   "metadata": {},
   "outputs": [
    {
     "data": {
      "text/plain": [
       "Index(['Confirmed', 'Deaths', 'Recovered', 'Active', 'Incident_Rate',\n",
       "       'People_Tested', 'Mortality_Rate', 'ISO3', 'Testing_Rate'],\n",
       "      dtype='object')"
      ]
     },
     "execution_count": 329,
     "metadata": {},
     "output_type": "execute_result"
    }
   ],
   "source": [
    "df.drop(['Country_Region','Province_State','Long_','Lat','UID','Hospitalization_Rate','People_Hospitalized','Last_Update','FIPS'],axis=1,inplace=True)\n",
    "df.columns"
   ]
  },
  {
   "cell_type": "code",
   "execution_count": 330,
   "metadata": {},
   "outputs": [
    {
     "name": "stdout",
     "output_type": "stream",
     "text": [
      "<class 'pandas.core.frame.DataFrame'>\n",
      "RangeIndex: 58 entries, 0 to 57\n",
      "Data columns (total 9 columns):\n",
      "Confirmed         58 non-null int64\n",
      "Deaths            58 non-null int64\n",
      "Recovered         42 non-null float64\n",
      "Active            58 non-null float64\n",
      "Incident_Rate     56 non-null float64\n",
      "People_Tested     56 non-null float64\n",
      "Mortality_Rate    57 non-null float64\n",
      "ISO3              58 non-null object\n",
      "Testing_Rate      56 non-null float64\n",
      "dtypes: float64(6), int64(2), object(1)\n",
      "memory usage: 4.2+ KB\n"
     ]
    }
   ],
   "source": [
    "df.info()"
   ]
  },
  {
   "cell_type": "markdown",
   "metadata": {},
   "source": [
    "#### Filling the Null values"
   ]
  },
  {
   "cell_type": "code",
   "execution_count": 331,
   "metadata": {},
   "outputs": [],
   "source": [
    "df['Testing_Rate'].fillna(value=df['Testing_Rate'].median(),inplace=True)\n",
    "df['Mortality_Rate'].fillna(value=df['Mortality_Rate'].median(),inplace=True)\n",
    "df['People_Tested'].fillna(value=df['People_Tested'].median(),inplace=True)\n",
    "df['Incident_Rate'].fillna(value=df['Incident_Rate'].median(),inplace=True)\n",
    "df['Recovered'].fillna(value=df['Recovered'].median(),inplace=True)"
   ]
  },
  {
   "cell_type": "code",
   "execution_count": 332,
   "metadata": {},
   "outputs": [
    {
     "data": {
      "text/plain": [
       "Confirmed         0\n",
       "Deaths            0\n",
       "Recovered         0\n",
       "Active            0\n",
       "Incident_Rate     0\n",
       "People_Tested     0\n",
       "Mortality_Rate    0\n",
       "ISO3              0\n",
       "Testing_Rate      0\n",
       "dtype: int64"
      ]
     },
     "execution_count": 332,
     "metadata": {},
     "output_type": "execute_result"
    }
   ],
   "source": [
    "df.isnull().sum()"
   ]
  },
  {
   "cell_type": "code",
   "execution_count": 333,
   "metadata": {},
   "outputs": [],
   "source": [
    "h=df.select_dtypes(include=float)"
   ]
  },
  {
   "cell_type": "code",
   "execution_count": 334,
   "metadata": {},
   "outputs": [
    {
     "data": {
      "image/png": "[encoded data removed]",
      "text/plain": [
       "<Figure size 432x288 with 1 Axes>"
      ]
     },
     "metadata": {
      "needs_background": "light"
     },
     "output_type": "display_data"
    },
    {
     "data": {
      "image/png": "[encoded data removed]",
      "text/plain": [
       "<Figure size 432x288 with 1 Axes>"
      ]
     },
     "metadata": {
      "needs_background": "light"
     },
     "output_type": "display_data"
    },
    {
     "data": {
      "image/png": "[encoded data removed]",
      "text/plain": [
       "<Figure size 432x288 with 1 Axes>"
      ]
     },
     "metadata": {
      "needs_background": "light"
     },
     "output_type": "display_data"
    },
    {
     "data": {
      "image/png": "[encoded data removed]",
      "text/plain": [
       "<Figure size 432x288 with 1 Axes>"
      ]
     },
     "metadata": {
      "needs_background": "light"
     },
     "output_type": "display_data"
    },
    {
     "data": {
      "image/png": "[encoded data removed]",
      "text/plain": [
       "<Figure size 432x288 with 1 Axes>"
      ]
     },
     "metadata": {
      "needs_background": "light"
     },
     "output_type": "display_data"
    },
    {
     "data": {
      "image/png": "[encoded data removed]",
      "text/plain": [
       "<Figure size 432x288 with 1 Axes>"
      ]
     },
     "metadata": {
      "needs_background": "light"
     },
     "output_type": "display_data"
    }
   ],
   "source": [
    "#distplot of continous variables\n",
    "for i,x in enumerate(h):\n",
    "    plt.figure(i)\n",
    "    sns.distplot(h[x])"
   ]
  },
  {
   "cell_type": "code",
   "execution_count": 335,
   "metadata": {},
   "outputs": [
    {
     "data": {
      "text/plain": [
       "Confirmed           int64\n",
       "Deaths              int64\n",
       "Recovered         float64\n",
       "Active            float64\n",
       "Incident_Rate     float64\n",
       "People_Tested     float64\n",
       "Mortality_Rate    float64\n",
       "ISO3               object\n",
       "Testing_Rate      float64\n",
       "dtype: object"
      ]
     },
     "execution_count": 335,
     "metadata": {},
     "output_type": "execute_result"
    }
   ],
   "source": [
    "df.dtypes"
   ]
  },
  {
   "cell_type": "markdown",
   "metadata": {},
   "source": [
    "### EDA"
   ]
  },
  {
   "cell_type": "code",
   "execution_count": 336,
   "metadata": {},
   "outputs": [
    {
     "data": {
      "image/png": "[encoded data removed]",
      "text/plain": [
       "<Figure size 432x288 with 1 Axes>"
      ]
     },
     "metadata": {
      "needs_background": "light"
     },
     "output_type": "display_data"
    }
   ],
   "source": [
    "sns.countplot(df['ISO3'])\n",
    "plt.title(\"Countplot of ISO3\")\n",
    "plt.show()"
   ]
  },
  {
   "cell_type": "markdown",
   "metadata": {},
   "source": [
    "From the above countplot it cann be seen that USA has the highest count in ISO3"
   ]
  },
  {
   "cell_type": "code",
   "execution_count": 337,
   "metadata": {},
   "outputs": [
    {
     "data": {
      "image/png": "[encoded data removed]",
      "text/plain": [
       "<Figure size 432x288 with 1 Axes>"
      ]
     },
     "metadata": {
      "needs_background": "light"
     },
     "output_type": "display_data"
    }
   ],
   "source": [
    "sns.scatterplot(df['People_Tested'],df['Confirmed'])\n",
    "plt.title(\"Scatter plot of People tested v/s Confirmed cases\")\n",
    "plt.show()"
   ]
  },
  {
   "cell_type": "markdown",
   "metadata": {},
   "source": [
    "From the above scatterplot it can be observed that People tested and confirmed are slightly positively correlated."
   ]
  },
  {
   "cell_type": "code",
   "execution_count": 338,
   "metadata": {},
   "outputs": [
    {
     "data": {
      "image/png": "[encoded data removed]",
      "text/plain": [
       "<Figure size 432x288 with 1 Axes>"
      ]
     },
     "metadata": {
      "needs_background": "light"
     },
     "output_type": "display_data"
    }
   ],
   "source": [
    "sns.scatterplot(df['People_Tested'],df['Mortality_Rate'])\n",
    "plt.title(\"Scatter plot of People tested v/s Mortality_Rate\")\n",
    "plt.show()"
   ]
  },
  {
   "cell_type": "markdown",
   "metadata": {},
   "source": [
    "From the above scatterplot it can be observed that People tested and mortality rate have very less correlation"
   ]
  },
  {
   "cell_type": "code",
   "execution_count": 339,
   "metadata": {},
   "outputs": [
    {
     "data": {
      "image/png": "[encoded data removed]",
      "text/plain": [
       "<Figure size 432x288 with 1 Axes>"
      ]
     },
     "metadata": {
      "needs_background": "light"
     },
     "output_type": "display_data"
    }
   ],
   "source": [
    "sns.scatterplot(df['People_Tested'],df['Recovered'])\n",
    "plt.title(\"Scatter plot of People tested v/s Recovered\")\n",
    "plt.show()"
   ]
  },
  {
   "cell_type": "markdown",
   "metadata": {},
   "source": [
    "From the above scatterplot it can be observed that People tested and recovered are very very slightly positively correlated."
   ]
  },
  {
   "cell_type": "code",
   "execution_count": 340,
   "metadata": {},
   "outputs": [
    {
     "data": {
      "image/png": "[encoded data removed]",
      "text/plain": [
       "<Figure size 432x288 with 1 Axes>"
      ]
     },
     "metadata": {
      "needs_background": "light"
     },
     "output_type": "display_data"
    }
   ],
   "source": [
    "sns.scatterplot(df['Testing_Rate'],df['Mortality_Rate'])\n",
    "plt.title(\"Scatter plot of Testing_Rate v/s Mortality_Rate\")\n",
    "plt.show()"
   ]
  },
  {
   "cell_type": "markdown",
   "metadata": {},
   "source": [
    "From the above scatterplot it can be observed that Testing rate and mortality rate have very less correlation between them."
   ]
  },
  {
   "cell_type": "code",
   "execution_count": 342,
   "metadata": {},
   "outputs": [
    {
     "data": {
      "image/png": "[encoded data removed]",
      "text/plain": [
       "<Figure size 432x288 with 1 Axes>"
      ]
     },
     "metadata": {
      "needs_background": "light"
     },
     "output_type": "display_data"
    }
   ],
   "source": [
    "sns.scatterplot(df['Testing_Rate'],df['Active'])\n",
    "plt.title(\"Scatter plot of Testing_Rate v/s Active\")\n",
    "plt.show()"
   ]
  },
  {
   "cell_type": "markdown",
   "metadata": {},
   "source": [
    "From the above scatterplot it can be observed that Testing rate and active numbers donot have significant relationship."
   ]
  },
  {
   "cell_type": "code",
   "execution_count": 343,
   "metadata": {},
   "outputs": [
    {
     "data": {
      "image/png": "[encoded data removed]",
      "text/plain": [
       "<Figure size 432x288 with 1 Axes>"
      ]
     },
     "metadata": {
      "needs_background": "light"
     },
     "output_type": "display_data"
    }
   ],
   "source": [
    "sns.scatterplot(df['Confirmed'],df['Active'])\n",
    "plt.title(\"Scatter plot of Confirmed v/s Active\")\n",
    "plt.show()"
   ]
  },
  {
   "cell_type": "markdown",
   "metadata": {},
   "source": [
    "From the above scatterplot it can be observed that confirmed and active are positively correlated."
   ]
  },
  {
   "cell_type": "code",
   "execution_count": 344,
   "metadata": {},
   "outputs": [
    {
     "data": {
      "image/png": "[encoded data removed]",
      "text/plain": [
       "<Figure size 432x288 with 1 Axes>"
      ]
     },
     "metadata": {
      "needs_background": "light"
     },
     "output_type": "display_data"
    }
   ],
   "source": [
    "sns.scatterplot(df['Confirmed'],df['Deaths'])\n",
    "plt.title(\"Scatter plot of Confirmed v/s Deaths\")\n",
    "plt.show()"
   ]
  },
  {
   "cell_type": "markdown",
   "metadata": {},
   "source": [
    "From the above scatterplot it can be observed that confirmed and deaths are slightly positively correlated."
   ]
  },
  {
   "cell_type": "code",
   "execution_count": 345,
   "metadata": {},
   "outputs": [
    {
     "data": {
      "image/png": "[encoded data removed]",
      "text/plain": [
       "<Figure size 432x288 with 1 Axes>"
      ]
     },
     "metadata": {
      "needs_background": "light"
     },
     "output_type": "display_data"
    }
   ],
   "source": [
    "sns.scatterplot(df['Confirmed'],df['Mortality_Rate'])\n",
    "plt.title(\"Scatter plot of Confirmed v/s Mortality_Rate\")\n",
    "plt.show()"
   ]
  },
  {
   "cell_type": "markdown",
   "metadata": {},
   "source": [
    "From the above scatterplot it can be observed that confirmed and mortality rate have no significant relationship"
   ]
  },
  {
   "cell_type": "code",
   "execution_count": 346,
   "metadata": {},
   "outputs": [
    {
     "data": {
      "image/png": "[encoded data removed]",
      "text/plain": [
       "<Figure size 432x288 with 1 Axes>"
      ]
     },
     "metadata": {
      "needs_background": "light"
     },
     "output_type": "display_data"
    }
   ],
   "source": [
    "sns.scatterplot(df['Confirmed'],df['Recovered'])\n",
    "plt.title(\"Scatter plot of Confirmed v/s Recovered\")\n",
    "plt.show()"
   ]
  },
  {
   "cell_type": "markdown",
   "metadata": {},
   "source": [
    "From the above scatterplot it can be observed that confirmed and recovered are slightly positively correlated."
   ]
  },
  {
   "cell_type": "code",
   "execution_count": 347,
   "metadata": {},
   "outputs": [
    {
     "data": {
      "image/png": "[encoded data removed]",
      "text/plain": [
       "<Figure size 720x720 with 2 Axes>"
      ]
     },
     "metadata": {
      "needs_background": "light"
     },
     "output_type": "display_data"
    }
   ],
   "source": [
    "plt.figure(figsize=(10,10))\n",
    "sns.heatmap(df.corr(),annot=True)\n",
    "plt.show()"
   ]
  },
  {
   "cell_type": "markdown",
   "metadata": {},
   "source": [
    "From the above heatmap we can observe that 'Deaths' is more correlated with People tested,Incident rate,active,recovered and confirmed."
   ]
  },
  {
   "cell_type": "markdown",
   "metadata": {},
   "source": [
    "### Get Dummies"
   ]
  },
  {
   "cell_type": "code",
   "execution_count": 348,
   "metadata": {},
   "outputs": [],
   "source": [
    "status=pd.get_dummies(df.ISO3,drop_first=True,prefix=\"ISO\")\n",
    "df=pd.concat([df,status],axis=1)\n",
    "df.drop(\"ISO3\",axis=1,inplace=True)"
   ]
  },
  {
   "cell_type": "markdown",
   "metadata": {},
   "source": [
    "### Removing the outliers"
   ]
  },
  {
   "cell_type": "code",
   "execution_count": 349,
   "metadata": {},
   "outputs": [],
   "source": [
    "from scipy import stats"
   ]
  },
  {
   "cell_type": "code",
   "execution_count": 350,
   "metadata": {},
   "outputs": [],
   "source": [
    "z = np.abs(stats.zscore(df))"
   ]
  },
  {
   "cell_type": "code",
   "execution_count": 351,
   "metadata": {},
   "outputs": [],
   "source": [
    "df1 = df[(z < 3.3).all(axis=1)]"
   ]
  },
  {
   "cell_type": "code",
   "execution_count": 352,
   "metadata": {},
   "outputs": [
    {
     "data": {
      "text/plain": [
       "(50, 13)"
      ]
     },
     "execution_count": 352,
     "metadata": {},
     "output_type": "execute_result"
    }
   ],
   "source": [
    "df1.shape"
   ]
  },
  {
   "cell_type": "code",
   "execution_count": 353,
   "metadata": {},
   "outputs": [
    {
     "data": {
      "text/plain": [
       "Confirmed         1.899198\n",
       "Deaths            2.078861\n",
       "Recovered         2.847559\n",
       "Active            2.455133\n",
       "Incident_Rate     1.630721\n",
       "People_Tested     1.846587\n",
       "Mortality_Rate    0.402198\n",
       "Testing_Rate      0.845479\n",
       "ISO_GUM           0.000000\n",
       "ISO_MNP           0.000000\n",
       "ISO_PRI           0.000000\n",
       "ISO_USA          -7.071068\n",
       "ISO_VIR           0.000000\n",
       "dtype: float64"
      ]
     },
     "execution_count": 353,
     "metadata": {},
     "output_type": "execute_result"
    }
   ],
   "source": [
    "df1.skew()"
   ]
  },
  {
   "cell_type": "code",
   "execution_count": 354,
   "metadata": {},
   "outputs": [
    {
     "name": "stdout",
     "output_type": "stream",
     "text": [
      "<class 'pandas.core.frame.DataFrame'>\n",
      "Int64Index: 50 entries, 0 to 57\n",
      "Data columns (total 13 columns):\n",
      "Confirmed         50 non-null int64\n",
      "Deaths            50 non-null int64\n",
      "Recovered         50 non-null float64\n",
      "Active            50 non-null float64\n",
      "Incident_Rate     50 non-null float64\n",
      "People_Tested     50 non-null float64\n",
      "Mortality_Rate    50 non-null float64\n",
      "Testing_Rate      50 non-null float64\n",
      "ISO_GUM           50 non-null uint8\n",
      "ISO_MNP           50 non-null uint8\n",
      "ISO_PRI           50 non-null uint8\n",
      "ISO_USA           50 non-null uint8\n",
      "ISO_VIR           50 non-null uint8\n",
      "dtypes: float64(6), int64(2), uint8(5)\n",
      "memory usage: 3.8 KB\n"
     ]
    }
   ],
   "source": [
    "df1.info()"
   ]
  },
  {
   "cell_type": "code",
   "execution_count": 355,
   "metadata": {},
   "outputs": [
    {
     "data": {
      "text/html": [
       "<div>\n",
       "<style scoped>\n",
       "    .dataframe tbody tr th:only-of-type {\n",
       "        vertical-align: middle;\n",
       "    }\n",
       "\n",
       "    .dataframe tbody tr th {\n",
       "        vertical-align: top;\n",
       "    }\n",
       "\n",
       "    .dataframe thead th {\n",
       "        text-align: right;\n",
       "    }\n",
       "</style>\n",
       "<table border=\"1\" class=\"dataframe\">\n",
       "  <thead>\n",
       "    <tr style=\"text-align: right;\">\n",
       "      <th></th>\n",
       "      <th>Confirmed</th>\n",
       "      <th>Deaths</th>\n",
       "      <th>Recovered</th>\n",
       "      <th>Active</th>\n",
       "      <th>Incident_Rate</th>\n",
       "      <th>People_Tested</th>\n",
       "      <th>Mortality_Rate</th>\n",
       "      <th>Testing_Rate</th>\n",
       "      <th>ISO_GUM</th>\n",
       "      <th>ISO_MNP</th>\n",
       "      <th>ISO_PRI</th>\n",
       "      <th>ISO_USA</th>\n",
       "      <th>ISO_VIR</th>\n",
       "    </tr>\n",
       "  </thead>\n",
       "  <tbody>\n",
       "    <tr>\n",
       "      <th>0</th>\n",
       "      <td>13052</td>\n",
       "      <td>522</td>\n",
       "      <td>3008.0</td>\n",
       "      <td>12530.0</td>\n",
       "      <td>266.194321</td>\n",
       "      <td>164450.0</td>\n",
       "      <td>3.999387</td>\n",
       "      <td>3353.942386</td>\n",
       "      <td>0</td>\n",
       "      <td>0</td>\n",
       "      <td>0</td>\n",
       "      <td>1</td>\n",
       "      <td>0</td>\n",
       "    </tr>\n",
       "    <tr>\n",
       "      <th>1</th>\n",
       "      <td>401</td>\n",
       "      <td>10</td>\n",
       "      <td>352.0</td>\n",
       "      <td>39.0</td>\n",
       "      <td>54.815493</td>\n",
       "      <td>37045.0</td>\n",
       "      <td>2.493766</td>\n",
       "      <td>5063.940017</td>\n",
       "      <td>0</td>\n",
       "      <td>0</td>\n",
       "      <td>0</td>\n",
       "      <td>1</td>\n",
       "      <td>0</td>\n",
       "    </tr>\n",
       "    <tr>\n",
       "      <th>2</th>\n",
       "      <td>0</td>\n",
       "      <td>0</td>\n",
       "      <td>3008.0</td>\n",
       "      <td>0.0</td>\n",
       "      <td>0.000000</td>\n",
       "      <td>124.0</td>\n",
       "      <td>4.403318</td>\n",
       "      <td>222.857246</td>\n",
       "      <td>0</td>\n",
       "      <td>0</td>\n",
       "      <td>0</td>\n",
       "      <td>0</td>\n",
       "      <td>0</td>\n",
       "    </tr>\n",
       "    <tr>\n",
       "      <th>3</th>\n",
       "      <td>14906</td>\n",
       "      <td>747</td>\n",
       "      <td>3773.0</td>\n",
       "      <td>10386.0</td>\n",
       "      <td>204.788838</td>\n",
       "      <td>165435.0</td>\n",
       "      <td>5.011405</td>\n",
       "      <td>2272.859351</td>\n",
       "      <td>0</td>\n",
       "      <td>0</td>\n",
       "      <td>0</td>\n",
       "      <td>1</td>\n",
       "      <td>0</td>\n",
       "    </tr>\n",
       "    <tr>\n",
       "      <th>4</th>\n",
       "      <td>5003</td>\n",
       "      <td>107</td>\n",
       "      <td>3852.0</td>\n",
       "      <td>1044.0</td>\n",
       "      <td>165.782801</td>\n",
       "      <td>96258.0</td>\n",
       "      <td>2.138717</td>\n",
       "      <td>3189.670370</td>\n",
       "      <td>0</td>\n",
       "      <td>0</td>\n",
       "      <td>0</td>\n",
       "      <td>1</td>\n",
       "      <td>0</td>\n",
       "    </tr>\n",
       "  </tbody>\n",
       "</table>\n",
       "</div>"
      ],
      "text/plain": [
       "   Confirmed  Deaths  Recovered   Active  Incident_Rate  People_Tested  \\\n",
       "0      13052     522     3008.0  12530.0     266.194321       164450.0   \n",
       "1        401      10      352.0     39.0      54.815493        37045.0   \n",
       "2          0       0     3008.0      0.0       0.000000          124.0   \n",
       "3      14906     747     3773.0  10386.0     204.788838       165435.0   \n",
       "4       5003     107     3852.0   1044.0     165.782801        96258.0   \n",
       "\n",
       "   Mortality_Rate  Testing_Rate  ISO_GUM  ISO_MNP  ISO_PRI  ISO_USA  ISO_VIR  \n",
       "0        3.999387   3353.942386        0        0        0        1        0  \n",
       "1        2.493766   5063.940017        0        0        0        1        0  \n",
       "2        4.403318    222.857246        0        0        0        0        0  \n",
       "3        5.011405   2272.859351        0        0        0        1        0  \n",
       "4        2.138717   3189.670370        0        0        0        1        0  "
      ]
     },
     "execution_count": 355,
     "metadata": {},
     "output_type": "execute_result"
    }
   ],
   "source": [
    "df1.head()"
   ]
  },
  {
   "cell_type": "markdown",
   "metadata": {},
   "source": [
    "### Define X and y"
   ]
  },
  {
   "cell_type": "code",
   "execution_count": 356,
   "metadata": {},
   "outputs": [
    {
     "data": {
      "text/plain": [
       "Index(['Confirmed', 'Recovered', 'Active', 'Incident_Rate', 'People_Tested',\n",
       "       'Mortality_Rate', 'Testing_Rate', 'ISO_GUM', 'ISO_MNP', 'ISO_PRI',\n",
       "       'ISO_USA', 'ISO_VIR'],\n",
       "      dtype='object')"
      ]
     },
     "execution_count": 356,
     "metadata": {},
     "output_type": "execute_result"
    }
   ],
   "source": [
    "X=df1.drop('Deaths',axis=1)\n",
    "X.columns"
   ]
  },
  {
   "cell_type": "code",
   "execution_count": 357,
   "metadata": {},
   "outputs": [
    {
     "data": {
      "text/plain": [
       "(50, 12)"
      ]
     },
     "execution_count": 357,
     "metadata": {},
     "output_type": "execute_result"
    }
   ],
   "source": [
    "X.shape"
   ]
  },
  {
   "cell_type": "code",
   "execution_count": 358,
   "metadata": {},
   "outputs": [
    {
     "data": {
      "text/plain": [
       "0    522\n",
       "1     10\n",
       "2      0\n",
       "3    747\n",
       "4    107\n",
       "Name: Deaths, dtype: int64"
      ]
     },
     "execution_count": 358,
     "metadata": {},
     "output_type": "execute_result"
    }
   ],
   "source": [
    "y=df1['Deaths']\n",
    "y.head()"
   ]
  },
  {
   "cell_type": "code",
   "execution_count": 359,
   "metadata": {},
   "outputs": [
    {
     "data": {
      "text/plain": [
       "(50,)"
      ]
     },
     "execution_count": 359,
     "metadata": {},
     "output_type": "execute_result"
    }
   ],
   "source": [
    "y.shape"
   ]
  },
  {
   "cell_type": "markdown",
   "metadata": {},
   "source": [
    "### Train and test split"
   ]
  },
  {
   "cell_type": "code",
   "execution_count": 360,
   "metadata": {},
   "outputs": [],
   "source": [
    "from sklearn.model_selection import train_test_split\n",
    "X_train,X_test,y_train,y_test=train_test_split(X,y,test_size=0.2,random_state=102)"
   ]
  },
  {
   "cell_type": "code",
   "execution_count": 361,
   "metadata": {},
   "outputs": [],
   "source": [
    "from sklearn.linear_model import LinearRegression\n",
    "from sklearn.tree import DecisionTreeRegressor\n",
    "from sklearn.ensemble import RandomForestRegressor\n",
    "from sklearn.svm import SVR\n",
    "from sklearn.model_selection import GridSearchCV,cross_val_score\n",
    "from sklearn.linear_model import Ridge\n",
    "from sklearn.linear_model import Lasso\n",
    "from sklearn.metrics import r2_score,mean_absolute_error,mean_squared_error\n",
    "from numpy import sqrt"
   ]
  },
  {
   "cell_type": "markdown",
   "metadata": {},
   "source": [
    "### Using GridsearchCV to find the best parameters."
   ]
  },
  {
   "cell_type": "code",
   "execution_count": 362,
   "metadata": {},
   "outputs": [
    {
     "name": "stdout",
     "output_type": "stream",
     "text": [
      "{'max_depth': 5, 'random_state': 98}\n"
     ]
    }
   ],
   "source": [
    "#GridsearchCV for Decision Tree regressor\n",
    "parameters={'max_depth':[5,8],'random_state':range(50,105)}\n",
    "dtr=DecisionTreeRegressor()\n",
    "clf=GridSearchCV(dtr,parameters)\n",
    "clf.fit(X,y)\n",
    "print(clf.best_params_)"
   ]
  },
  {
   "cell_type": "code",
   "execution_count": 363,
   "metadata": {},
   "outputs": [
    {
     "name": "stdout",
     "output_type": "stream",
     "text": [
      "{'max_depth': 20, 'max_leaf_nodes': 5, 'random_state': 70}\n"
     ]
    }
   ],
   "source": [
    "#GridsearchCV for Random forest Regressor\n",
    "parameters={'max_leaf_nodes':[5,25],'random_state':range(40,101),'max_depth':[20,25]}\n",
    "rfc=RandomForestRegressor()\n",
    "clf=GridSearchCV(rfc,parameters)\n",
    "clf.fit(X,y)\n",
    "print(clf.best_params_)"
   ]
  },
  {
   "cell_type": "code",
   "execution_count": 364,
   "metadata": {},
   "outputs": [
    {
     "name": "stdout",
     "output_type": "stream",
     "text": [
      "{'alpha': 2.0, 'max_iter': 500, 'random_state': 50}\n"
     ]
    }
   ],
   "source": [
    "#GridsearchCV for Lasso\n",
    "parameters={'max_iter':[500,1000,2000],'alpha':[1.0,1.5,2.0],'random_state':range(50,110)}\n",
    "lasso=Lasso()\n",
    "clf=GridSearchCV(lasso,parameters)\n",
    "clf.fit(X,y)\n",
    "print(clf.best_params_)"
   ]
  },
  {
   "cell_type": "code",
   "execution_count": 365,
   "metadata": {},
   "outputs": [
    {
     "name": "stdout",
     "output_type": "stream",
     "text": [
      "{'alpha': 1.0, 'max_iter': 1000, 'random_state': 45}\n"
     ]
    }
   ],
   "source": [
    "#GridsearchCV for Ridge\n",
    "parameters={'max_iter':[1000,1500,2000,2500],'alpha':[1.0,1.5,2.0,1.2],'random_state':range(45,110)}\n",
    "ridge=Ridge()\n",
    "clf=GridSearchCV(ridge,parameters)\n",
    "clf.fit(X,y)\n",
    "print(clf.best_params_)"
   ]
  },
  {
   "cell_type": "code",
   "execution_count": 366,
   "metadata": {},
   "outputs": [],
   "source": [
    "ridge=Ridge(alpha= 2.0, max_iter=1000, random_state=45)\n",
    "lasso=Lasso(alpha= 2.0, max_iter=500, random_state=50)\n",
    "rfc=RandomForestRegressor(max_depth= 20, max_leaf_nodes= 25, random_state=72)\n",
    "dtr=DecisionTreeRegressor(max_depth= 8, random_state= 86)"
   ]
  },
  {
   "cell_type": "code",
   "execution_count": 367,
   "metadata": {},
   "outputs": [
    {
     "name": "stdout",
     "output_type": "stream",
     "text": [
      "\n",
      " fitting Ridge(alpha=2.0, copy_X=True, fit_intercept=True, max_iter=1000,\n",
      "   normalize=False, random_state=45, solver='auto', tol=0.001) model:\n",
      "\n",
      "r2 score: 0.9286514679982409\n",
      "r2score of test data: 0.9638357688406559\n",
      "\n",
      " fitting Lasso(alpha=2.0, copy_X=True, fit_intercept=True, max_iter=500,\n",
      "   normalize=False, positive=False, precompute=False, random_state=50,\n",
      "   selection='cyclic', tol=0.0001, warm_start=False) model:\n",
      "\n",
      "r2 score: 0.9286466354543519\n",
      "r2score of test data: 0.9637716399497549\n",
      "\n",
      " fitting DecisionTreeRegressor(criterion='mse', max_depth=8, max_features=None,\n",
      "           max_leaf_nodes=None, min_impurity_decrease=0.0,\n",
      "           min_impurity_split=None, min_samples_leaf=1,\n",
      "           min_samples_split=2, min_weight_fraction_leaf=0.0,\n",
      "           presort=False, random_state=86, splitter='best') model:\n",
      "\n",
      "r2 score: 0.9999990808022502\n",
      "r2score of test data: 0.8911830480846066\n",
      "\n",
      " fitting RandomForestRegressor(bootstrap=True, criterion='mse', max_depth=20,\n",
      "           max_features='auto', max_leaf_nodes=25,\n",
      "           min_impurity_decrease=0.0, min_impurity_split=None,\n",
      "           min_samples_leaf=1, min_samples_split=2,\n",
      "           min_weight_fraction_leaf=0.0, n_estimators=10, n_jobs=None,\n",
      "           oob_score=False, random_state=72, verbose=0, warm_start=False) model:\n",
      "\n",
      "r2 score: 0.9480319723018129\n",
      "r2score of test data: 0.8811227726971455\n",
      "\n",
      " fitting LinearRegression(copy_X=True, fit_intercept=True, n_jobs=None,\n",
      "         normalize=False) model:\n",
      "\n",
      "r2 score: 0.9287078116348582\n",
      "r2score of test data: 0.9627938524700745\n"
     ]
    }
   ],
   "source": [
    "models=[ridge,lasso,dtr,rfc,LinearRegression()]\n",
    "for m in models:\n",
    "    m.fit(X_train,y_train)\n",
    "    y_pred_train=m.predict(X_train)\n",
    "    print(\"\\n fitting\",m,\"model:\\n\")\n",
    "    print(\"r2 score:\",r2_score(y_train,y_pred_train))\n",
    "    y_pred_test=m.predict(X_test)\n",
    "    print(\"r2score of test data:\",r2_score(y_test,y_pred_test))"
   ]
  },
  {
   "cell_type": "markdown",
   "metadata": {},
   "source": [
    "From the above results of fitting different models, we can conclude that Linear regression is giveing better r2 score for both train and test data."
   ]
  },
  {
   "cell_type": "code",
   "execution_count": 368,
   "metadata": {},
   "outputs": [],
   "source": [
    "#Saving the model\n",
    "from sklearn.externals import joblib"
   ]
  },
  {
   "cell_type": "code",
   "execution_count": 369,
   "metadata": {},
   "outputs": [
    {
     "data": {
      "text/plain": [
       "['covid_19_LR.pkl']"
      ]
     },
     "execution_count": 369,
     "metadata": {},
     "output_type": "execute_result"
    }
   ],
   "source": [
    "joblib.dump(LinearRegression(),'covid_19_LR.pkl')"
   ]
  },
  {
   "cell_type": "code",
   "execution_count": null,
   "metadata": {},
   "outputs": [],
   "source": []
  }
 ],
 "metadata": {
  "kernelspec": {
   "display_name": "Python 3",
   "language": "python",
   "name": "python3"
  },
  "language_info": {
   "codemirror_mode": {
    "name": "ipython",
    "version": 3
   },
   "file_extension": ".py",
   "mimetype": "text/x-python",
   "name": "python",
   "nbconvert_exporter": "python",
   "pygments_lexer": "ipython3",
   "version": "3.7.1"
  }
 },
 "nbformat": 4,
 "nbformat_minor": 2
}
