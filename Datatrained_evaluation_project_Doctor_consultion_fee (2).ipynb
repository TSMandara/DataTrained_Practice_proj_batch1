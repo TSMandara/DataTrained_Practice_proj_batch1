{
 "cells": [
  {
   "cell_type": "markdown",
   "metadata": {},
   "source": [
    "#### The aim of this project is to predict the consultation fees of a doctor based on different features"
   ]
  },
  {
   "cell_type": "code",
   "execution_count": 1,
   "metadata": {},
   "outputs": [],
   "source": [
    "import pandas as pd\n",
    "import numpy as np\n",
    "import seaborn as sns\n",
    "import matplotlib.pyplot as plt\n",
    "import warnings\n",
    "warnings.filterwarnings(\"ignore\")"
   ]
  },
  {
   "cell_type": "code",
   "execution_count": 2,
   "metadata": {},
   "outputs": [
    {
     "data": {
      "text/html": [
       "<div>\n",
       "<style scoped>\n",
       "    .dataframe tbody tr th:only-of-type {\n",
       "        vertical-align: middle;\n",
       "    }\n",
       "\n",
       "    .dataframe tbody tr th {\n",
       "        vertical-align: top;\n",
       "    }\n",
       "\n",
       "    .dataframe thead th {\n",
       "        text-align: right;\n",
       "    }\n",
       "</style>\n",
       "<table border=\"1\" class=\"dataframe\">\n",
       "  <thead>\n",
       "    <tr style=\"text-align: right;\">\n",
       "      <th></th>\n",
       "      <th>Qualification</th>\n",
       "      <th>Experience</th>\n",
       "      <th>Rating</th>\n",
       "      <th>Place</th>\n",
       "      <th>Profile</th>\n",
       "      <th>Miscellaneous_Info</th>\n",
       "      <th>Fees</th>\n",
       "    </tr>\n",
       "  </thead>\n",
       "  <tbody>\n",
       "    <tr>\n",
       "      <th>0</th>\n",
       "      <td>BHMS, MD - Homeopathy</td>\n",
       "      <td>24 years experience</td>\n",
       "      <td>100%</td>\n",
       "      <td>Kakkanad, Ernakulam</td>\n",
       "      <td>Homeopath</td>\n",
       "      <td>100% 16 Feedback Kakkanad, Ernakulam</td>\n",
       "      <td>100</td>\n",
       "    </tr>\n",
       "    <tr>\n",
       "      <th>1</th>\n",
       "      <td>BAMS, MD - Ayurveda Medicine</td>\n",
       "      <td>12 years experience</td>\n",
       "      <td>98%</td>\n",
       "      <td>Whitefield, Bangalore</td>\n",
       "      <td>Ayurveda</td>\n",
       "      <td>98% 76 Feedback Whitefield, Bangalore</td>\n",
       "      <td>350</td>\n",
       "    </tr>\n",
       "    <tr>\n",
       "      <th>2</th>\n",
       "      <td>MBBS, MS - Otorhinolaryngology</td>\n",
       "      <td>9 years experience</td>\n",
       "      <td>NaN</td>\n",
       "      <td>Mathikere - BEL, Bangalore</td>\n",
       "      <td>ENT Specialist</td>\n",
       "      <td>NaN</td>\n",
       "      <td>300</td>\n",
       "    </tr>\n",
       "    <tr>\n",
       "      <th>3</th>\n",
       "      <td>BSc - Zoology, BAMS</td>\n",
       "      <td>12 years experience</td>\n",
       "      <td>NaN</td>\n",
       "      <td>Bannerghatta Road, Bangalore</td>\n",
       "      <td>Ayurveda</td>\n",
       "      <td>Bannerghatta Road, Bangalore ₹250 Available on...</td>\n",
       "      <td>250</td>\n",
       "    </tr>\n",
       "    <tr>\n",
       "      <th>4</th>\n",
       "      <td>BAMS</td>\n",
       "      <td>20 years experience</td>\n",
       "      <td>100%</td>\n",
       "      <td>Keelkattalai, Chennai</td>\n",
       "      <td>Ayurveda</td>\n",
       "      <td>100% 4 Feedback Keelkattalai, Chennai</td>\n",
       "      <td>250</td>\n",
       "    </tr>\n",
       "  </tbody>\n",
       "</table>\n",
       "</div>"
      ],
      "text/plain": [
       "                    Qualification           Experience Rating  \\\n",
       "0           BHMS, MD - Homeopathy  24 years experience   100%   \n",
       "1    BAMS, MD - Ayurveda Medicine  12 years experience    98%   \n",
       "2  MBBS, MS - Otorhinolaryngology   9 years experience    NaN   \n",
       "3             BSc - Zoology, BAMS  12 years experience    NaN   \n",
       "4                            BAMS  20 years experience   100%   \n",
       "\n",
       "                          Place         Profile  \\\n",
       "0           Kakkanad, Ernakulam       Homeopath   \n",
       "1         Whitefield, Bangalore        Ayurveda   \n",
       "2    Mathikere - BEL, Bangalore  ENT Specialist   \n",
       "3  Bannerghatta Road, Bangalore        Ayurveda   \n",
       "4         Keelkattalai, Chennai        Ayurveda   \n",
       "\n",
       "                                  Miscellaneous_Info  Fees  \n",
       "0               100% 16 Feedback Kakkanad, Ernakulam   100  \n",
       "1              98% 76 Feedback Whitefield, Bangalore   350  \n",
       "2                                                NaN   300  \n",
       "3  Bannerghatta Road, Bangalore ₹250 Available on...   250  \n",
       "4              100% 4 Feedback Keelkattalai, Chennai   250  "
      ]
     },
     "execution_count": 2,
     "metadata": {},
     "output_type": "execute_result"
    }
   ],
   "source": [
    "df=pd.read_excel(\"Final_Train.xlsx\")\n",
    "#pd.set_option('display.max_rows', None)\n",
    "df.head()"
   ]
  },
  {
   "cell_type": "code",
   "execution_count": 3,
   "metadata": {},
   "outputs": [
    {
     "data": {
      "text/plain": [
       "(5961, 7)"
      ]
     },
     "execution_count": 3,
     "metadata": {},
     "output_type": "execute_result"
    }
   ],
   "source": [
    "df.shape"
   ]
  },
  {
   "cell_type": "code",
   "execution_count": 4,
   "metadata": {},
   "outputs": [
    {
     "data": {
      "text/plain": [
       "Qualification          0.000000\n",
       "Experience             0.000000\n",
       "Rating                55.393390\n",
       "Place                  0.419393\n",
       "Profile                0.000000\n",
       "Miscellaneous_Info    43.952357\n",
       "Fees                   0.000000\n",
       "dtype: float64"
      ]
     },
     "execution_count": 4,
     "metadata": {},
     "output_type": "execute_result"
    }
   ],
   "source": [
    "df.isnull().sum()/len(df)*100"
   ]
  },
  {
   "cell_type": "code",
   "execution_count": 5,
   "metadata": {},
   "outputs": [
    {
     "data": {
      "text/html": [
       "<div>\n",
       "<style scoped>\n",
       "    .dataframe tbody tr th:only-of-type {\n",
       "        vertical-align: middle;\n",
       "    }\n",
       "\n",
       "    .dataframe tbody tr th {\n",
       "        vertical-align: top;\n",
       "    }\n",
       "\n",
       "    .dataframe thead th {\n",
       "        text-align: right;\n",
       "    }\n",
       "</style>\n",
       "<table border=\"1\" class=\"dataframe\">\n",
       "  <thead>\n",
       "    <tr style=\"text-align: right;\">\n",
       "      <th></th>\n",
       "      <th>Qualification</th>\n",
       "      <th>Experience</th>\n",
       "      <th>Rating</th>\n",
       "      <th>Place</th>\n",
       "      <th>Profile</th>\n",
       "      <th>Miscellaneous_Info</th>\n",
       "      <th>Fees</th>\n",
       "    </tr>\n",
       "  </thead>\n",
       "  <tbody>\n",
       "    <tr>\n",
       "      <th>91</th>\n",
       "      <td>Get inspired by remarkable stories of people l...</td>\n",
       "      <td>0 years experience</td>\n",
       "      <td>NaN</td>\n",
       "      <td>NaN</td>\n",
       "      <td>Dermatologists</td>\n",
       "      <td>NaN</td>\n",
       "      <td>100</td>\n",
       "    </tr>\n",
       "    <tr>\n",
       "      <th>502</th>\n",
       "      <td>Get inspired by remarkable stories of people l...</td>\n",
       "      <td>0 years experience</td>\n",
       "      <td>NaN</td>\n",
       "      <td>NaN</td>\n",
       "      <td>Dermatologists</td>\n",
       "      <td>NaN</td>\n",
       "      <td>100</td>\n",
       "    </tr>\n",
       "    <tr>\n",
       "      <th>599</th>\n",
       "      <td>Get inspired by remarkable stories of people l...</td>\n",
       "      <td>0 years experience</td>\n",
       "      <td>NaN</td>\n",
       "      <td>NaN</td>\n",
       "      <td>Dermatologists</td>\n",
       "      <td>NaN</td>\n",
       "      <td>100</td>\n",
       "    </tr>\n",
       "    <tr>\n",
       "      <th>605</th>\n",
       "      <td>Get inspired by remarkable stories of people l...</td>\n",
       "      <td>0 years experience</td>\n",
       "      <td>NaN</td>\n",
       "      <td>NaN</td>\n",
       "      <td>Dermatologists</td>\n",
       "      <td>NaN</td>\n",
       "      <td>100</td>\n",
       "    </tr>\n",
       "    <tr>\n",
       "      <th>724</th>\n",
       "      <td>Get inspired by remarkable stories of people l...</td>\n",
       "      <td>0 years experience</td>\n",
       "      <td>NaN</td>\n",
       "      <td>NaN</td>\n",
       "      <td>Dermatologists</td>\n",
       "      <td>NaN</td>\n",
       "      <td>100</td>\n",
       "    </tr>\n",
       "    <tr>\n",
       "      <th>1002</th>\n",
       "      <td>Get inspired by remarkable stories of people l...</td>\n",
       "      <td>0 years experience</td>\n",
       "      <td>NaN</td>\n",
       "      <td>NaN</td>\n",
       "      <td>Dermatologists</td>\n",
       "      <td>NaN</td>\n",
       "      <td>100</td>\n",
       "    </tr>\n",
       "    <tr>\n",
       "      <th>1083</th>\n",
       "      <td>Get inspired by remarkable stories of people l...</td>\n",
       "      <td>0 years experience</td>\n",
       "      <td>NaN</td>\n",
       "      <td>NaN</td>\n",
       "      <td>Dermatologists</td>\n",
       "      <td>NaN</td>\n",
       "      <td>100</td>\n",
       "    </tr>\n",
       "    <tr>\n",
       "      <th>1210</th>\n",
       "      <td>Get inspired by remarkable stories of people l...</td>\n",
       "      <td>0 years experience</td>\n",
       "      <td>NaN</td>\n",
       "      <td>NaN</td>\n",
       "      <td>Dermatologists</td>\n",
       "      <td>NaN</td>\n",
       "      <td>100</td>\n",
       "    </tr>\n",
       "    <tr>\n",
       "      <th>2078</th>\n",
       "      <td>Get inspired by remarkable stories of people l...</td>\n",
       "      <td>0 years experience</td>\n",
       "      <td>NaN</td>\n",
       "      <td>NaN</td>\n",
       "      <td>Dermatologists</td>\n",
       "      <td>NaN</td>\n",
       "      <td>100</td>\n",
       "    </tr>\n",
       "    <tr>\n",
       "      <th>2178</th>\n",
       "      <td>Get inspired by remarkable stories of people l...</td>\n",
       "      <td>0 years experience</td>\n",
       "      <td>NaN</td>\n",
       "      <td>NaN</td>\n",
       "      <td>Dermatologists</td>\n",
       "      <td>NaN</td>\n",
       "      <td>100</td>\n",
       "    </tr>\n",
       "    <tr>\n",
       "      <th>2328</th>\n",
       "      <td>Get inspired by remarkable stories of people l...</td>\n",
       "      <td>0 years experience</td>\n",
       "      <td>NaN</td>\n",
       "      <td>NaN</td>\n",
       "      <td>Dermatologists</td>\n",
       "      <td>NaN</td>\n",
       "      <td>100</td>\n",
       "    </tr>\n",
       "    <tr>\n",
       "      <th>3099</th>\n",
       "      <td>Get inspired by remarkable stories of people l...</td>\n",
       "      <td>0 years experience</td>\n",
       "      <td>NaN</td>\n",
       "      <td>NaN</td>\n",
       "      <td>Dermatologists</td>\n",
       "      <td>NaN</td>\n",
       "      <td>100</td>\n",
       "    </tr>\n",
       "    <tr>\n",
       "      <th>3228</th>\n",
       "      <td>Get inspired by remarkable stories of people l...</td>\n",
       "      <td>0 years experience</td>\n",
       "      <td>NaN</td>\n",
       "      <td>NaN</td>\n",
       "      <td>Dermatologists</td>\n",
       "      <td>NaN</td>\n",
       "      <td>100</td>\n",
       "    </tr>\n",
       "    <tr>\n",
       "      <th>3418</th>\n",
       "      <td>Get inspired by remarkable stories of people l...</td>\n",
       "      <td>0 years experience</td>\n",
       "      <td>NaN</td>\n",
       "      <td>NaN</td>\n",
       "      <td>Dermatologists</td>\n",
       "      <td>NaN</td>\n",
       "      <td>100</td>\n",
       "    </tr>\n",
       "    <tr>\n",
       "      <th>3443</th>\n",
       "      <td>Get inspired by remarkable stories of people l...</td>\n",
       "      <td>0 years experience</td>\n",
       "      <td>NaN</td>\n",
       "      <td>NaN</td>\n",
       "      <td>Dermatologists</td>\n",
       "      <td>NaN</td>\n",
       "      <td>100</td>\n",
       "    </tr>\n",
       "    <tr>\n",
       "      <th>3744</th>\n",
       "      <td>Get inspired by remarkable stories of people l...</td>\n",
       "      <td>0 years experience</td>\n",
       "      <td>NaN</td>\n",
       "      <td>NaN</td>\n",
       "      <td>Dermatologists</td>\n",
       "      <td>NaN</td>\n",
       "      <td>100</td>\n",
       "    </tr>\n",
       "    <tr>\n",
       "      <th>3804</th>\n",
       "      <td>Get inspired by remarkable stories of people l...</td>\n",
       "      <td>0 years experience</td>\n",
       "      <td>NaN</td>\n",
       "      <td>NaN</td>\n",
       "      <td>Dermatologists</td>\n",
       "      <td>NaN</td>\n",
       "      <td>100</td>\n",
       "    </tr>\n",
       "    <tr>\n",
       "      <th>4004</th>\n",
       "      <td>Get inspired by remarkable stories of people l...</td>\n",
       "      <td>0 years experience</td>\n",
       "      <td>NaN</td>\n",
       "      <td>NaN</td>\n",
       "      <td>Dermatologists</td>\n",
       "      <td>NaN</td>\n",
       "      <td>100</td>\n",
       "    </tr>\n",
       "    <tr>\n",
       "      <th>4758</th>\n",
       "      <td>Get inspired by remarkable stories of people l...</td>\n",
       "      <td>0 years experience</td>\n",
       "      <td>NaN</td>\n",
       "      <td>NaN</td>\n",
       "      <td>Dermatologists</td>\n",
       "      <td>NaN</td>\n",
       "      <td>100</td>\n",
       "    </tr>\n",
       "    <tr>\n",
       "      <th>4823</th>\n",
       "      <td>MBBS, DDVL</td>\n",
       "      <td>22 years experience</td>\n",
       "      <td>NaN</td>\n",
       "      <td>NaN</td>\n",
       "      <td>Dermatologists</td>\n",
       "      <td>NaN</td>\n",
       "      <td>150</td>\n",
       "    </tr>\n",
       "    <tr>\n",
       "      <th>4847</th>\n",
       "      <td>Get inspired by remarkable stories of people l...</td>\n",
       "      <td>0 years experience</td>\n",
       "      <td>NaN</td>\n",
       "      <td>NaN</td>\n",
       "      <td>Dermatologists</td>\n",
       "      <td>NaN</td>\n",
       "      <td>100</td>\n",
       "    </tr>\n",
       "    <tr>\n",
       "      <th>5058</th>\n",
       "      <td>Get inspired by remarkable stories of people l...</td>\n",
       "      <td>0 years experience</td>\n",
       "      <td>NaN</td>\n",
       "      <td>NaN</td>\n",
       "      <td>Dermatologists</td>\n",
       "      <td>NaN</td>\n",
       "      <td>100</td>\n",
       "    </tr>\n",
       "    <tr>\n",
       "      <th>5187</th>\n",
       "      <td>Get inspired by remarkable stories of people l...</td>\n",
       "      <td>0 years experience</td>\n",
       "      <td>NaN</td>\n",
       "      <td>NaN</td>\n",
       "      <td>Dermatologists</td>\n",
       "      <td>NaN</td>\n",
       "      <td>100</td>\n",
       "    </tr>\n",
       "    <tr>\n",
       "      <th>5551</th>\n",
       "      <td>Get inspired by remarkable stories of people l...</td>\n",
       "      <td>0 years experience</td>\n",
       "      <td>NaN</td>\n",
       "      <td>NaN</td>\n",
       "      <td>Dermatologists</td>\n",
       "      <td>NaN</td>\n",
       "      <td>100</td>\n",
       "    </tr>\n",
       "    <tr>\n",
       "      <th>5723</th>\n",
       "      <td>Get inspired by remarkable stories of people l...</td>\n",
       "      <td>0 years experience</td>\n",
       "      <td>NaN</td>\n",
       "      <td>NaN</td>\n",
       "      <td>Dermatologists</td>\n",
       "      <td>NaN</td>\n",
       "      <td>100</td>\n",
       "    </tr>\n",
       "  </tbody>\n",
       "</table>\n",
       "</div>"
      ],
      "text/plain": [
       "                                          Qualification           Experience  \\\n",
       "91    Get inspired by remarkable stories of people l...   0 years experience   \n",
       "502   Get inspired by remarkable stories of people l...   0 years experience   \n",
       "599   Get inspired by remarkable stories of people l...   0 years experience   \n",
       "605   Get inspired by remarkable stories of people l...   0 years experience   \n",
       "724   Get inspired by remarkable stories of people l...   0 years experience   \n",
       "1002  Get inspired by remarkable stories of people l...   0 years experience   \n",
       "1083  Get inspired by remarkable stories of people l...   0 years experience   \n",
       "1210  Get inspired by remarkable stories of people l...   0 years experience   \n",
       "2078  Get inspired by remarkable stories of people l...   0 years experience   \n",
       "2178  Get inspired by remarkable stories of people l...   0 years experience   \n",
       "2328  Get inspired by remarkable stories of people l...   0 years experience   \n",
       "3099  Get inspired by remarkable stories of people l...   0 years experience   \n",
       "3228  Get inspired by remarkable stories of people l...   0 years experience   \n",
       "3418  Get inspired by remarkable stories of people l...   0 years experience   \n",
       "3443  Get inspired by remarkable stories of people l...   0 years experience   \n",
       "3744  Get inspired by remarkable stories of people l...   0 years experience   \n",
       "3804  Get inspired by remarkable stories of people l...   0 years experience   \n",
       "4004  Get inspired by remarkable stories of people l...   0 years experience   \n",
       "4758  Get inspired by remarkable stories of people l...   0 years experience   \n",
       "4823                                         MBBS, DDVL  22 years experience   \n",
       "4847  Get inspired by remarkable stories of people l...   0 years experience   \n",
       "5058  Get inspired by remarkable stories of people l...   0 years experience   \n",
       "5187  Get inspired by remarkable stories of people l...   0 years experience   \n",
       "5551  Get inspired by remarkable stories of people l...   0 years experience   \n",
       "5723  Get inspired by remarkable stories of people l...   0 years experience   \n",
       "\n",
       "     Rating Place         Profile Miscellaneous_Info  Fees  \n",
       "91      NaN   NaN  Dermatologists                NaN   100  \n",
       "502     NaN   NaN  Dermatologists                NaN   100  \n",
       "599     NaN   NaN  Dermatologists                NaN   100  \n",
       "605     NaN   NaN  Dermatologists                NaN   100  \n",
       "724     NaN   NaN  Dermatologists                NaN   100  \n",
       "1002    NaN   NaN  Dermatologists                NaN   100  \n",
       "1083    NaN   NaN  Dermatologists                NaN   100  \n",
       "1210    NaN   NaN  Dermatologists                NaN   100  \n",
       "2078    NaN   NaN  Dermatologists                NaN   100  \n",
       "2178    NaN   NaN  Dermatologists                NaN   100  \n",
       "2328    NaN   NaN  Dermatologists                NaN   100  \n",
       "3099    NaN   NaN  Dermatologists                NaN   100  \n",
       "3228    NaN   NaN  Dermatologists                NaN   100  \n",
       "3418    NaN   NaN  Dermatologists                NaN   100  \n",
       "3443    NaN   NaN  Dermatologists                NaN   100  \n",
       "3744    NaN   NaN  Dermatologists                NaN   100  \n",
       "3804    NaN   NaN  Dermatologists                NaN   100  \n",
       "4004    NaN   NaN  Dermatologists                NaN   100  \n",
       "4758    NaN   NaN  Dermatologists                NaN   100  \n",
       "4823    NaN   NaN  Dermatologists                NaN   150  \n",
       "4847    NaN   NaN  Dermatologists                NaN   100  \n",
       "5058    NaN   NaN  Dermatologists                NaN   100  \n",
       "5187    NaN   NaN  Dermatologists                NaN   100  \n",
       "5551    NaN   NaN  Dermatologists                NaN   100  \n",
       "5723    NaN   NaN  Dermatologists                NaN   100  "
      ]
     },
     "execution_count": 5,
     "metadata": {},
     "output_type": "execute_result"
    }
   ],
   "source": [
    "#Taking all the rows where place is NaN\n",
    "df[df['Place'].isna()]"
   ]
  },
  {
   "cell_type": "code",
   "execution_count": 6,
   "metadata": {},
   "outputs": [],
   "source": [
    "#Deleting the unwanted rows with nt meaningful values\n",
    "df=df[df['Qualification']!='Get inspired by remarkable stories of people like you']"
   ]
  },
  {
   "cell_type": "code",
   "execution_count": 7,
   "metadata": {},
   "outputs": [
    {
     "data": {
      "text/plain": [
       "(5937, 7)"
      ]
     },
     "execution_count": 7,
     "metadata": {},
     "output_type": "execute_result"
    }
   ],
   "source": [
    "df.shape"
   ]
  },
  {
   "cell_type": "code",
   "execution_count": 8,
   "metadata": {},
   "outputs": [],
   "source": [
    "#Correcting the index\n",
    "df.index=pd.RangeIndex(0,5937)"
   ]
  },
  {
   "cell_type": "code",
   "execution_count": 9,
   "metadata": {},
   "outputs": [],
   "source": [
    "#Since nearly 44% of data is missing, and it is not having any impact on target variable,we can drop Miscellaneous_Info variable.\n",
    "df.drop('Miscellaneous_Info',axis=1,inplace=True)"
   ]
  },
  {
   "cell_type": "code",
   "execution_count": 10,
   "metadata": {},
   "outputs": [
    {
     "data": {
      "text/plain": [
       "NaN     3278\n",
       "100%     684\n",
       "98%      290\n",
       "99%      259\n",
       "97%      241\n",
       "96%      220\n",
       "95%      178\n",
       "94%      115\n",
       "93%      109\n",
       "90%       66\n",
       "92%       66\n",
       "91%       60\n",
       "89%       42\n",
       "88%       41\n",
       "85%       27\n",
       "82%       23\n",
       "86%       21\n",
       "83%       21\n",
       "80%       19\n",
       "77%       16\n",
       "87%       14\n",
       "79%       13\n",
       "84%       13\n",
       "67%       12\n",
       "81%       12\n",
       "76%        9\n",
       "71%        9\n",
       "73%        8\n",
       "75%        8\n",
       "74%        7\n",
       "60%        7\n",
       "78%        6\n",
       "56%        5\n",
       "68%        5\n",
       "69%        4\n",
       "70%        4\n",
       "72%        3\n",
       "57%        3\n",
       "63%        2\n",
       "33%        2\n",
       "64%        2\n",
       "55%        2\n",
       "62%        2\n",
       "47%        1\n",
       "53%        1\n",
       "40%        1\n",
       "7%         1\n",
       "65%        1\n",
       "48%        1\n",
       "58%        1\n",
       "45%        1\n",
       "36%        1\n",
       "Name: Rating, dtype: int64"
      ]
     },
     "execution_count": 10,
     "metadata": {},
     "output_type": "execute_result"
    }
   ],
   "source": [
    "df['Rating'].value_counts(dropna=False)"
   ]
  },
  {
   "cell_type": "code",
   "execution_count": 11,
   "metadata": {},
   "outputs": [],
   "source": [
    "#df['Rating'].dtype"
   ]
  },
  {
   "cell_type": "code",
   "execution_count": 12,
   "metadata": {},
   "outputs": [],
   "source": [
    "df['Rating'].fillna(value=df['Rating'].mode()[0],inplace=True)"
   ]
  },
  {
   "cell_type": "code",
   "execution_count": 13,
   "metadata": {},
   "outputs": [],
   "source": [
    "#Removing % symbol\n",
    "df['Rating']=df['Rating'].apply(lambda x:x.strip('%'))"
   ]
  },
  {
   "cell_type": "code",
   "execution_count": 14,
   "metadata": {},
   "outputs": [],
   "source": [
    "df['Rating']=df['Rating'].astype(int)"
   ]
  },
  {
   "cell_type": "code",
   "execution_count": 15,
   "metadata": {},
   "outputs": [],
   "source": [
    "#Taking only numbers from experience column\n",
    "df['Experience']=df['Experience'].apply(lambda x: x.split(\" \")[0])"
   ]
  },
  {
   "cell_type": "code",
   "execution_count": 16,
   "metadata": {},
   "outputs": [],
   "source": [
    "df['Experience']=df['Experience'].astype(int)"
   ]
  },
  {
   "cell_type": "markdown",
   "metadata": {},
   "source": []
  },
  {
   "cell_type": "code",
   "execution_count": 17,
   "metadata": {},
   "outputs": [
    {
     "data": {
      "text/html": [
       "<div>\n",
       "<style scoped>\n",
       "    .dataframe tbody tr th:only-of-type {\n",
       "        vertical-align: middle;\n",
       "    }\n",
       "\n",
       "    .dataframe tbody tr th {\n",
       "        vertical-align: top;\n",
       "    }\n",
       "\n",
       "    .dataframe thead th {\n",
       "        text-align: right;\n",
       "    }\n",
       "</style>\n",
       "<table border=\"1\" class=\"dataframe\">\n",
       "  <thead>\n",
       "    <tr style=\"text-align: right;\">\n",
       "      <th></th>\n",
       "      <th>Qualification</th>\n",
       "      <th>Experience</th>\n",
       "      <th>Rating</th>\n",
       "      <th>Place</th>\n",
       "      <th>Profile</th>\n",
       "      <th>Fees</th>\n",
       "    </tr>\n",
       "  </thead>\n",
       "  <tbody>\n",
       "    <tr>\n",
       "      <th>4804</th>\n",
       "      <td>MBBS, DDVL</td>\n",
       "      <td>22</td>\n",
       "      <td>100</td>\n",
       "      <td>NaN</td>\n",
       "      <td>Dermatologists</td>\n",
       "      <td>150</td>\n",
       "    </tr>\n",
       "  </tbody>\n",
       "</table>\n",
       "</div>"
      ],
      "text/plain": [
       "     Qualification  Experience  Rating Place         Profile  Fees\n",
       "4804    MBBS, DDVL          22     100   NaN  Dermatologists   150"
      ]
     },
     "execution_count": 17,
     "metadata": {},
     "output_type": "execute_result"
    }
   ],
   "source": [
    "df[df['Place'].isna()]"
   ]
  },
  {
   "cell_type": "markdown",
   "metadata": {},
   "source": [
    "There is still one row where Place is NaN"
   ]
  },
  {
   "cell_type": "code",
   "execution_count": 18,
   "metadata": {},
   "outputs": [
    {
     "data": {
      "text/plain": [
       "HSR Layout, Bangalore                75\n",
       "Andheri West, Mumbai                 70\n",
       "Dwarka, Delhi                        67\n",
       "Banjara Hills, Hyderabad             64\n",
       "Mulund West, Mumbai                  54\n",
       "Borivali West, Mumbai                52\n",
       "Kandivali West, Mumbai               50\n",
       "Indiranagar, Bangalore               48\n",
       "Whitefield, Bangalore                47\n",
       "Malad West, Mumbai                   47\n",
       "Malleswaram, Bangalore               47\n",
       "Pitampura, Delhi                     45\n",
       "Andheri East, Mumbai                 43\n",
       "Vileparle West, Mumbai               43\n",
       "Powai, Mumbai                        42\n",
       "Jubilee Hills, Hyderabad             40\n",
       "Marathahalli, Bangalore              39\n",
       "Bannerghatta Road, Bangalore         39\n",
       "Ghatkopar East, Mumbai               38\n",
       "Bandra West, Mumbai                  38\n",
       "Kondapur, Hyderabad                  38\n",
       "Secunderabad, Hyderabad              37\n",
       "Rohini, Delhi                        37\n",
       "Janak Puri, Delhi                    37\n",
       "Adyar, Chennai                       37\n",
       "Shalimar Bagh, Delhi                 36\n",
       "Paschim Vihar, Delhi                 36\n",
       "KPHB, Hyderabad                      35\n",
       "Koramangala, Bangalore               35\n",
       "Kukatpally, Hyderabad                34\n",
       "                                     ..\n",
       "Tis Hazari, Delhi                     1\n",
       "Poovachal, Thiruvananthapuram         1\n",
       "Yakutpura, Hyderabad                  1\n",
       "Kala Ghoda, Mumbai                    1\n",
       "Deonar, Mumbai                        1\n",
       "Kapashera, Delhi                      1\n",
       "Nampally, Hyderabad                   1\n",
       "Borabanda, Hyderabad                  1\n",
       "Kalady, Ernakulam                     1\n",
       "Dwarka Sector 10, Delhi               1\n",
       "Chandni Chowk, Delhi                  1\n",
       "Vallakkadavoo, Thiruvananthapuram     1\n",
       "Vyasarpadi, Chennai                   1\n",
       "Venjaramoodu, Thiruvananthapuram      1\n",
       "Durga Puri, Delhi                     1\n",
       "Nayandahalli, Bangalore               1\n",
       "Athani, Ernakulam                     1\n",
       "Fort, Mumbai                          1\n",
       "Gandhinagar, Hyderabad                1\n",
       "Hyder Nagar, Hyderabad                1\n",
       "Rana Pratap Bagh, Delhi               1\n",
       "Kovaipudur, Coimbatore                1\n",
       "Santacruz, Mumbai                     1\n",
       "Peenya, Bangalore                     1\n",
       "Film Nagar, Hyderabad                 1\n",
       "TVM Fort, Thiruvananthapuram          1\n",
       "Bolarum, Hyderabad                    1\n",
       "TV Chalai, Thiruvananthapuram         1\n",
       "Khanpur, Delhi                        1\n",
       "Delhi Cantt, Delhi                    1\n",
       "Name: Place, Length: 877, dtype: int64"
      ]
     },
     "execution_count": 18,
     "metadata": {},
     "output_type": "execute_result"
    }
   ],
   "source": [
    "df['Place'].value_counts()"
   ]
  },
  {
   "cell_type": "code",
   "execution_count": 19,
   "metadata": {},
   "outputs": [],
   "source": [
    "#Removing the rpw with 'e' as an entry\n",
    "df=df[df['Place']!='e']"
   ]
  },
  {
   "cell_type": "code",
   "execution_count": 20,
   "metadata": {},
   "outputs": [
    {
     "data": {
      "text/plain": [
       "(5936, 6)"
      ]
     },
     "execution_count": 20,
     "metadata": {},
     "output_type": "execute_result"
    }
   ],
   "source": [
    "df.shape"
   ]
  },
  {
   "cell_type": "code",
   "execution_count": 21,
   "metadata": {},
   "outputs": [],
   "source": [
    "df.index=pd.RangeIndex(0,5936)"
   ]
  },
  {
   "cell_type": "code",
   "execution_count": 22,
   "metadata": {},
   "outputs": [],
   "source": [
    "df['Place'].fillna(value=df['Place'].mode()[0],inplace=True)"
   ]
  },
  {
   "cell_type": "code",
   "execution_count": 23,
   "metadata": {},
   "outputs": [],
   "source": [
    "#Considering only the place value. Second part of the string after ','\n",
    "df['Place']=df['Place'].apply(lambda x:str(x).split(\",\")[1])"
   ]
  },
  {
   "cell_type": "code",
   "execution_count": 24,
   "metadata": {},
   "outputs": [
    {
     "data": {
      "text/plain": [
       " Bangalore             1259\n",
       " Mumbai                1219\n",
       " Delhi                 1184\n",
       " Hyderabad              951\n",
       " Chennai                855\n",
       " Coimbatore             228\n",
       " Ernakulam              153\n",
       " Thiruvananthapuram      86\n",
       " Sector 5                 1\n",
       "Name: Place, dtype: int64"
      ]
     },
     "execution_count": 24,
     "metadata": {},
     "output_type": "execute_result"
    }
   ],
   "source": [
    "df['Place'].value_counts()"
   ]
  },
  {
   "cell_type": "code",
   "execution_count": 25,
   "metadata": {},
   "outputs": [
    {
     "data": {
      "text/html": [
       "<div>\n",
       "<style scoped>\n",
       "    .dataframe tbody tr th:only-of-type {\n",
       "        vertical-align: middle;\n",
       "    }\n",
       "\n",
       "    .dataframe tbody tr th {\n",
       "        vertical-align: top;\n",
       "    }\n",
       "\n",
       "    .dataframe thead th {\n",
       "        text-align: right;\n",
       "    }\n",
       "</style>\n",
       "<table border=\"1\" class=\"dataframe\">\n",
       "  <thead>\n",
       "    <tr style=\"text-align: right;\">\n",
       "      <th></th>\n",
       "      <th>Qualification</th>\n",
       "      <th>Experience</th>\n",
       "      <th>Rating</th>\n",
       "      <th>Place</th>\n",
       "      <th>Profile</th>\n",
       "      <th>Fees</th>\n",
       "    </tr>\n",
       "  </thead>\n",
       "  <tbody>\n",
       "    <tr>\n",
       "      <th>0</th>\n",
       "      <td>BHMS, MD - Homeopathy</td>\n",
       "      <td>24</td>\n",
       "      <td>100</td>\n",
       "      <td>Ernakulam</td>\n",
       "      <td>Homeopath</td>\n",
       "      <td>100</td>\n",
       "    </tr>\n",
       "    <tr>\n",
       "      <th>1</th>\n",
       "      <td>BAMS, MD - Ayurveda Medicine</td>\n",
       "      <td>12</td>\n",
       "      <td>98</td>\n",
       "      <td>Bangalore</td>\n",
       "      <td>Ayurveda</td>\n",
       "      <td>350</td>\n",
       "    </tr>\n",
       "    <tr>\n",
       "      <th>2</th>\n",
       "      <td>MBBS, MS - Otorhinolaryngology</td>\n",
       "      <td>9</td>\n",
       "      <td>100</td>\n",
       "      <td>Bangalore</td>\n",
       "      <td>ENT Specialist</td>\n",
       "      <td>300</td>\n",
       "    </tr>\n",
       "    <tr>\n",
       "      <th>3</th>\n",
       "      <td>BSc - Zoology, BAMS</td>\n",
       "      <td>12</td>\n",
       "      <td>100</td>\n",
       "      <td>Bangalore</td>\n",
       "      <td>Ayurveda</td>\n",
       "      <td>250</td>\n",
       "    </tr>\n",
       "    <tr>\n",
       "      <th>4</th>\n",
       "      <td>BAMS</td>\n",
       "      <td>20</td>\n",
       "      <td>100</td>\n",
       "      <td>Chennai</td>\n",
       "      <td>Ayurveda</td>\n",
       "      <td>250</td>\n",
       "    </tr>\n",
       "  </tbody>\n",
       "</table>\n",
       "</div>"
      ],
      "text/plain": [
       "                    Qualification  Experience  Rating       Place  \\\n",
       "0           BHMS, MD - Homeopathy          24     100   Ernakulam   \n",
       "1    BAMS, MD - Ayurveda Medicine          12      98   Bangalore   \n",
       "2  MBBS, MS - Otorhinolaryngology           9     100   Bangalore   \n",
       "3             BSc - Zoology, BAMS          12     100   Bangalore   \n",
       "4                            BAMS          20     100     Chennai   \n",
       "\n",
       "          Profile  Fees  \n",
       "0       Homeopath   100  \n",
       "1        Ayurveda   350  \n",
       "2  ENT Specialist   300  \n",
       "3        Ayurveda   250  \n",
       "4        Ayurveda   250  "
      ]
     },
     "execution_count": 25,
     "metadata": {},
     "output_type": "execute_result"
    }
   ],
   "source": [
    "df.head()"
   ]
  },
  {
   "cell_type": "code",
   "execution_count": 26,
   "metadata": {},
   "outputs": [
    {
     "data": {
      "text/plain": [
       "BDS                                                                                                                                                                                                487\n",
       "BHMS                                                                                                                                                                                               477\n",
       "BAMS                                                                                                                                                                                               471\n",
       "MBBS                                                                                                                                                                                               334\n",
       "MBBS, MS - ENT                                                                                                                                                                                     220\n",
       "MBBS, MD - Dermatology                                                                                                                                                                             178\n",
       "MBBS, MD - General Medicine                                                                                                                                                                        177\n",
       "MBBS, MD - Dermatology , Venereology & Leprosy                                                                                                                                                     140\n",
       "BHMS, MD - Homeopathy                                                                                                                                                                               93\n",
       "MBBS, DDVL                                                                                                                                                                                          92\n",
       "MBBS, Diploma in Otorhinolaryngology (DLO)                                                                                                                                                          84\n",
       "BAMS, MD - Ayurveda Medicine                                                                                                                                                                        82\n",
       "BDS, MDS - Conservative Dentistry & Endodontics                                                                                                                                                     68\n",
       "MBBS, DDV                                                                                                                                                                                           66\n",
       "BDS, MDS                                                                                                                                                                                            63\n",
       "BDS, MDS - Oral & Maxillofacial Surgery                                                                                                                                                             57\n",
       "MD - Dermatology , Venereology & Leprosy, MBBS                                                                                                                                                      52\n",
       "BDS, MDS - Prosthodontics                                                                                                                                                                           45\n",
       "MBBS, MS - Otorhinolaryngology                                                                                                                                                                      44\n",
       "MBBS, MD - Internal Medicine                                                                                                                                                                        43\n",
       "BDS, MDS - Orthodontics                                                                                                                                                                             41\n",
       "MBBS, MD - Medicine                                                                                                                                                                                 41\n",
       "MS - ENT, MBBS                                                                                                                                                                                      37\n",
       "BDS, MDS - Paedodontics And Preventive Dentistry                                                                                                                                                    32\n",
       "MD - Dermatology, MBBS                                                                                                                                                                              31\n",
       "MBBS, Diploma in Dermatology                                                                                                                                                                        31\n",
       "BDS, MDS - Periodontology and Oral Implantology                                                                                                                                                     29\n",
       "BDS, MDS - Orthodontics and Dentofacial Orthopaedics                                                                                                                                                29\n",
       "MBBS, Diploma in Otorhinolaryngology (DLO), DNB - ENT                                                                                                                                               27\n",
       "BDS, MDS - Pedodontics                                                                                                                                                                              25\n",
       "                                                                                                                                                                                                  ... \n",
       "MBBS, DNB - Otorhinolaryngology, Fellowship in Head & Neck Oncology Surgery                                                                                                                          1\n",
       "BDS, MDS - Oral & Maxillofacial Surgery, Certificate in Dental Implants, Certification in Aesthetic Dentistry                                                                                        1\n",
       "BDS, PhD - Orthodontics & Dentofacial Orthopaedics, Fellowship and Diplomate in Implantology from ICOI (USA)                                                                                         1\n",
       "MBBS, Member of the Royal College of General Practitioners UK (MRCGP), Post Graduate Diploma in Diabetology (PGDD)                                                                                   1\n",
       "LCEH, BHMS                                                                                                                                                                                           1\n",
       "MBBS, DDV, FICD                                                                                                                                                                                      1\n",
       "MDS - Prosthodontist And Crown Bridge, Fellowship and Diplomate in Implantology from ICOI (USA), BDS                                                                                                 1\n",
       "BAMS, MD-Ayurvedic Vachaspati                                                                                                                                                                        1\n",
       "MBBS, MD - Dermatology, DNB - Dermatology, Venereology & Leprosy                                                                                                                                     1\n",
       "MBBS, Diploma in Preventive & Promotive Healthcare, MS - Counselling & Psychotherapy, MD - Alternate Medicine, Integrated Clinical Hypnotherapy                                                      1\n",
       "BHMS, MD - Pediatrics                                                                                                                                                                                1\n",
       "MBBS, Diploma in Tuberculosis and Chest Diseases (DTCD), MD - Medicine                                                                                                                               1\n",
       "Diploma in Trichology - Cosmetology, Diploma in Aesthetic Dermatology, MD - Alternate Medicine, BAMS, Diploma in Hair Restoration Surgery                                                            1\n",
       "BAMS, Yoga Instructor's Course, Certificate in Food and Nutrition, Certificate course in Reiki                                                                                                       1\n",
       "MBBS, Diploma in Otorhinolaryngology (DLO), MS - ENT, FCPS - Mid. & Gynae, DNB - ENT                                                                                                                 1\n",
       "MBBS, Diploma in Otorhinolaryngology (DLO), DNB, Fellowship in Head & Neck Oncology Surgery                                                                                                          1\n",
       "MBBS, DNB - Internal Medicine, Post Graduate Course in Rheumatology                                                                                                                                  1\n",
       "MBBS, Diploma in Otorhinolaryngology (DLO), PG Diploma In Clinical Cosmetology (PGDCC)                                                                                                               1\n",
       "BDS, Advanced Endotontic Course On Root Canal                                                                                                                                                        1\n",
       "Fellowship in Aesthetic Medicine, MD - Dermatology                                                                                                                                                   1\n",
       "MBBS, DGO, Diploma in Dermatology                                                                                                                                                                    1\n",
       "DNB - Orthopedics/Orthopedic Surgery, MBBS                                                                                                                                                           1\n",
       "MBBS, MD - Dermatology , Venereology & Leprosy, Fellowship in Lasers & Cosmetology                                                                                                                   1\n",
       "MBBS, MD - General Medicine, Fellowship in Non-Invasive Cardiology (FIC), Certificate Course in Evidence Based Diabetes Management (CCEBDM), Certificate Course in Gestational Diabetes (CCGDM)      1\n",
       "MDS - Periodontology and Oral Implantology, Certificate in Cosmetic Dentistry, Post Graduate Certificate in Endodontics (PGCE), BDS, Fellow of Academy of General Education (FAGE)                   1\n",
       "GCEH, Certificate in Child Health (CCH)                                                                                                                                                              1\n",
       "BHMS, Post Graduate Diploma in Emergency Services (PGDEMS), PG Certificate Course In Diabetes Education(PGDCE)                                                                                       1\n",
       "MBBS, MNAMS (Membership of the National Academy), DNB - Otorhinolaryngology, FICS - ENT                                                                                                              1\n",
       "MBBS, MD - Dermatology, Fellowship In Dermatosurgery                                                                                                                                                 1\n",
       "MBBS, MD - Dermatology, Fellow in Dermato - Surgery                                                                                                                                                  1\n",
       "Name: Qualification, Length: 1419, dtype: int64"
      ]
     },
     "execution_count": 26,
     "metadata": {},
     "output_type": "execute_result"
    }
   ],
   "source": [
    "df['Qualification'].value_counts()"
   ]
  },
  {
   "cell_type": "markdown",
   "metadata": {},
   "source": [
    "for i in range(len(df['Qualification'][i])):\n",
    "    if 'MD' in df['Qualification'][i]:\n",
    "        df['Qualification'][i]=2\n",
    "    elif 'MDS' in df['Qualification'][i]:\n",
    "        df['Qualification'][i]=2\n",
    "    elif 'MS' in df['Qualification'][i]:\n",
    "        df['Qualification'][i]=2\n",
    "    else:\n",
    "        df['Qualification'][i]=1"
   ]
  },
  {
   "cell_type": "code",
   "execution_count": 27,
   "metadata": {},
   "outputs": [
    {
     "data": {
      "text/plain": [
       "array(['BHMS, MD - Homeopathy', 'BAMS, MD - Ayurveda Medicine',\n",
       "       'MBBS, MS - Otorhinolaryngology', ...,\n",
       "       'MD - Dermatology , Venereology & Leprosy, MBBS, Fellowship In Dermatosurgery',\n",
       "       'BDS, certification in smile designing',\n",
       "       'MD - Homeopathy, Post Graduate Diploma in Healthcare Management(PGDHM), DHMS (Diploma in Homeopathic Medicine and Surgery)'],\n",
       "      dtype=object)"
      ]
     },
     "execution_count": 27,
     "metadata": {},
     "output_type": "execute_result"
    }
   ],
   "source": [
    "df['Qualification'].unique()"
   ]
  },
  {
   "cell_type": "code",
   "execution_count": 29,
   "metadata": {},
   "outputs": [],
   "source": [
    "df[\"Qualification\"]=df[\"Qualification\"].str.split(\",\")"
   ]
  },
  {
   "cell_type": "code",
   "execution_count": 30,
   "metadata": {},
   "outputs": [
    {
     "data": {
      "text/plain": [
       "0                                [BHMS,  MD - Homeopathy]\n",
       "1                         [BAMS,  MD - Ayurveda Medicine]\n",
       "2                       [MBBS,  MS - Otorhinolaryngology]\n",
       "3                                  [BSc - Zoology,  BAMS]\n",
       "4                                                  [BAMS]\n",
       "5                                                  [BAMS]\n",
       "6                                                  [BHMS]\n",
       "7                                                   [BDS]\n",
       "8                          [MBBS,  MD - General Medicine]\n",
       "9                                             [BSc,  BDS]\n",
       "10                                [MBBS,  MS,  DNB - ENT]\n",
       "11                                                 [BAMS]\n",
       "12                                            [BDS,  MDS]\n",
       "13             [BDS,  MDS - Oral & Maxillofacial Surgery]\n",
       "14      [MBBS,  Diploma in Otorhinolaryngology (DLO), ...\n",
       "15                         [MBBS,  MD - General Medicine]\n",
       "16          [MBBS,  Diploma in Otorhinolaryngology (DLO)]\n",
       "17                                [MBBS,  MF- Homeopathy]\n",
       "18                                      [MBBS,  MS - ENT]\n",
       "19                                                 [MBBS]\n",
       "20                                      [MDS,  DNB,  BDS]\n",
       "21                                     [MBBS,  DNB - ENT]\n",
       "22                                                 [MBBS]\n",
       "23      [MBBS,  Fellowship of College of General Pract...\n",
       "24                                          [MBBS,  DDVL]\n",
       "25                                                  [BDS]\n",
       "26                                   [MBBS,  IBCLC (USA)]\n",
       "27      [MBBS,  MD - General Medicine,  Post Graduate ...\n",
       "28                                            [BDS,  MDS]\n",
       "29                        [Diploma in Dermatology,  MBBS]\n",
       "                              ...                        \n",
       "5906    [MBBS,  MRCP (UK),  Post Graduate Diploma in D...\n",
       "5907                                                [BDS]\n",
       "5908                             [BHMS,  MD - Homeopathy]\n",
       "5909                                               [BHMS]\n",
       "5910    [MDS - Periodontology and Oral Implantology,  ...\n",
       "5911    [MD - Homeopathy,  LCEH,  Diploma in Preventiv...\n",
       "5912                                         [BHMS,  MSc]\n",
       "5913                                               [MBBS]\n",
       "5914                             [BHMS,  MD - Pediatrics]\n",
       "5915                            [MBBS,  MD - Dermatology]\n",
       "5916                                               [BHMS]\n",
       "5917                       [MBBS,  MD - General Medicine]\n",
       "5918                                                [BDS]\n",
       "5919                                           [MS - ENT]\n",
       "5920    [BDS,  FDS Endodontics,  Certified in Advanced...\n",
       "5921                                                [BDS]\n",
       "5922                                               [BHMS]\n",
       "5923                                               [BAMS]\n",
       "5924                                               [BHMS]\n",
       "5925    [MD - Dermatology ,  Venereology & Leprosy,  M...\n",
       "5926             [BDS,  certification in smile designing]\n",
       "5927                                               [MBBS]\n",
       "5928    [MD - Homeopathy,  Post Graduate Diploma in He...\n",
       "5929                                               [BHMS]\n",
       "5930                                    [MD - Homeopathy]\n",
       "5931                                    [MBBS,  MS - ENT]\n",
       "5932                                               [MBBS]\n",
       "5933                                               [MBBS]\n",
       "5934                       [MBBS,  MD - General Medicine]\n",
       "5935                           [BDS,  MDS - Orthodontics]\n",
       "Name: Qualification, Length: 5936, dtype: object"
      ]
     },
     "execution_count": 30,
     "metadata": {},
     "output_type": "execute_result"
    }
   ],
   "source": [
    "df['Qualification']"
   ]
  },
  {
   "cell_type": "markdown",
   "metadata": {},
   "source": [
    "#Tried To convert Qualification column by using Regular expression. I tried to convert Wherever Master degree is there to 1 and Degrees with only bachelors as 0.But it is not successful.\n",
    "\n",
    "import re\n",
    "for i in range(len(df['Qualification'])):\n",
    "    if re.search(r'\\b MD\\b',str(df['Qualification'][i])):\n",
    "        df['Qualification'][i]='1'\n",
    "    elif re.search(r'\\b MD \\b',str(df['Qualification'][i])):\n",
    "        df['Qualification'][i]='1'\n",
    "    elif re.search(r'\\b MDS\\b',str(df['Qualification'][i])):\n",
    "        df['Qualification'][i]='1'\n",
    "    elif re.search(r'\\b MDS \\b',str(df['Qualification'][i])):\n",
    "        df['Qualification'][i]='1'\n",
    "    elif re.search(r'\\b MS\\b',str(df['Qualification'][i])):\n",
    "        df['Qualification'][i]='1'\n",
    "    elif re.search(r'\\b MS \\b',str(df['Qualification'][i])):\n",
    "        df['Qualification'][i]='1'\n",
    "    \n",
    "    else:\n",
    "        df['Qualification'][i]='0'\n",
    "        \n",
    "    \n"
   ]
  },
  {
   "cell_type": "markdown",
   "metadata": {},
   "source": [
    "### Get dummies for Profile and Place"
   ]
  },
  {
   "cell_type": "code",
   "execution_count": 31,
   "metadata": {},
   "outputs": [],
   "source": [
    "status=pd.get_dummies(df.Profile,drop_first=True,prefix=\"Profile\")\n",
    "df=pd.concat([df,status],axis=1)\n",
    "df.drop(\"Profile\",axis=1,inplace=True)\n",
    "\n",
    "status=pd.get_dummies(df.Place,drop_first=True,prefix=\"Place\")\n",
    "df=pd.concat([df,status],axis=1)\n",
    "df.drop(\"Place\",axis=1,inplace=True)"
   ]
  },
  {
   "cell_type": "code",
   "execution_count": 37,
   "metadata": {},
   "outputs": [],
   "source": [
    "df.drop('Qualification',axis=1,inplace=True)"
   ]
  },
  {
   "cell_type": "markdown",
   "metadata": {},
   "source": [
    "### Define X and y"
   ]
  },
  {
   "cell_type": "code",
   "execution_count": 38,
   "metadata": {},
   "outputs": [
    {
     "data": {
      "text/html": [
       "<div>\n",
       "<style scoped>\n",
       "    .dataframe tbody tr th:only-of-type {\n",
       "        vertical-align: middle;\n",
       "    }\n",
       "\n",
       "    .dataframe tbody tr th {\n",
       "        vertical-align: top;\n",
       "    }\n",
       "\n",
       "    .dataframe thead th {\n",
       "        text-align: right;\n",
       "    }\n",
       "</style>\n",
       "<table border=\"1\" class=\"dataframe\">\n",
       "  <thead>\n",
       "    <tr style=\"text-align: right;\">\n",
       "      <th></th>\n",
       "      <th>Experience</th>\n",
       "      <th>Rating</th>\n",
       "      <th>Profile_Dentist</th>\n",
       "      <th>Profile_Dermatologists</th>\n",
       "      <th>Profile_ENT Specialist</th>\n",
       "      <th>Profile_General Medicine</th>\n",
       "      <th>Profile_Homeopath</th>\n",
       "      <th>Place_ Chennai</th>\n",
       "      <th>Place_ Coimbatore</th>\n",
       "      <th>Place_ Delhi</th>\n",
       "      <th>Place_ Ernakulam</th>\n",
       "      <th>Place_ Hyderabad</th>\n",
       "      <th>Place_ Mumbai</th>\n",
       "      <th>Place_ Sector 5</th>\n",
       "      <th>Place_ Thiruvananthapuram</th>\n",
       "    </tr>\n",
       "  </thead>\n",
       "  <tbody>\n",
       "    <tr>\n",
       "      <th>0</th>\n",
       "      <td>24</td>\n",
       "      <td>100</td>\n",
       "      <td>0</td>\n",
       "      <td>0</td>\n",
       "      <td>0</td>\n",
       "      <td>0</td>\n",
       "      <td>1</td>\n",
       "      <td>0</td>\n",
       "      <td>0</td>\n",
       "      <td>0</td>\n",
       "      <td>1</td>\n",
       "      <td>0</td>\n",
       "      <td>0</td>\n",
       "      <td>0</td>\n",
       "      <td>0</td>\n",
       "    </tr>\n",
       "    <tr>\n",
       "      <th>1</th>\n",
       "      <td>12</td>\n",
       "      <td>98</td>\n",
       "      <td>0</td>\n",
       "      <td>0</td>\n",
       "      <td>0</td>\n",
       "      <td>0</td>\n",
       "      <td>0</td>\n",
       "      <td>0</td>\n",
       "      <td>0</td>\n",
       "      <td>0</td>\n",
       "      <td>0</td>\n",
       "      <td>0</td>\n",
       "      <td>0</td>\n",
       "      <td>0</td>\n",
       "      <td>0</td>\n",
       "    </tr>\n",
       "    <tr>\n",
       "      <th>2</th>\n",
       "      <td>9</td>\n",
       "      <td>100</td>\n",
       "      <td>0</td>\n",
       "      <td>0</td>\n",
       "      <td>1</td>\n",
       "      <td>0</td>\n",
       "      <td>0</td>\n",
       "      <td>0</td>\n",
       "      <td>0</td>\n",
       "      <td>0</td>\n",
       "      <td>0</td>\n",
       "      <td>0</td>\n",
       "      <td>0</td>\n",
       "      <td>0</td>\n",
       "      <td>0</td>\n",
       "    </tr>\n",
       "    <tr>\n",
       "      <th>3</th>\n",
       "      <td>12</td>\n",
       "      <td>100</td>\n",
       "      <td>0</td>\n",
       "      <td>0</td>\n",
       "      <td>0</td>\n",
       "      <td>0</td>\n",
       "      <td>0</td>\n",
       "      <td>0</td>\n",
       "      <td>0</td>\n",
       "      <td>0</td>\n",
       "      <td>0</td>\n",
       "      <td>0</td>\n",
       "      <td>0</td>\n",
       "      <td>0</td>\n",
       "      <td>0</td>\n",
       "    </tr>\n",
       "    <tr>\n",
       "      <th>4</th>\n",
       "      <td>20</td>\n",
       "      <td>100</td>\n",
       "      <td>0</td>\n",
       "      <td>0</td>\n",
       "      <td>0</td>\n",
       "      <td>0</td>\n",
       "      <td>0</td>\n",
       "      <td>1</td>\n",
       "      <td>0</td>\n",
       "      <td>0</td>\n",
       "      <td>0</td>\n",
       "      <td>0</td>\n",
       "      <td>0</td>\n",
       "      <td>0</td>\n",
       "      <td>0</td>\n",
       "    </tr>\n",
       "  </tbody>\n",
       "</table>\n",
       "</div>"
      ],
      "text/plain": [
       "   Experience  Rating  Profile_Dentist  Profile_Dermatologists  \\\n",
       "0          24     100                0                       0   \n",
       "1          12      98                0                       0   \n",
       "2           9     100                0                       0   \n",
       "3          12     100                0                       0   \n",
       "4          20     100                0                       0   \n",
       "\n",
       "   Profile_ENT Specialist  Profile_General Medicine  Profile_Homeopath  \\\n",
       "0                       0                         0                  1   \n",
       "1                       0                         0                  0   \n",
       "2                       1                         0                  0   \n",
       "3                       0                         0                  0   \n",
       "4                       0                         0                  0   \n",
       "\n",
       "   Place_ Chennai  Place_ Coimbatore  Place_ Delhi  Place_ Ernakulam  \\\n",
       "0               0                  0             0                 1   \n",
       "1               0                  0             0                 0   \n",
       "2               0                  0             0                 0   \n",
       "3               0                  0             0                 0   \n",
       "4               1                  0             0                 0   \n",
       "\n",
       "   Place_ Hyderabad  Place_ Mumbai  Place_ Sector 5  Place_ Thiruvananthapuram  \n",
       "0                 0              0                0                          0  \n",
       "1                 0              0                0                          0  \n",
       "2                 0              0                0                          0  \n",
       "3                 0              0                0                          0  \n",
       "4                 0              0                0                          0  "
      ]
     },
     "execution_count": 38,
     "metadata": {},
     "output_type": "execute_result"
    }
   ],
   "source": [
    "X=df.drop('Fees',axis=1)\n",
    "X.head()"
   ]
  },
  {
   "cell_type": "code",
   "execution_count": 39,
   "metadata": {},
   "outputs": [
    {
     "data": {
      "text/plain": [
       "0    100\n",
       "1    350\n",
       "2    300\n",
       "3    250\n",
       "4    250\n",
       "Name: Fees, dtype: int64"
      ]
     },
     "execution_count": 39,
     "metadata": {},
     "output_type": "execute_result"
    }
   ],
   "source": [
    "y=df['Fees']\n",
    "y.head()"
   ]
  },
  {
   "cell_type": "markdown",
   "metadata": {},
   "source": [
    "### Linear regression"
   ]
  },
  {
   "cell_type": "code",
   "execution_count": 40,
   "metadata": {},
   "outputs": [],
   "source": [
    "from sklearn.linear_model import LinearRegression\n",
    "lr=LinearRegression()"
   ]
  },
  {
   "cell_type": "code",
   "execution_count": 41,
   "metadata": {},
   "outputs": [
    {
     "data": {
      "text/plain": [
       "LinearRegression(copy_X=True, fit_intercept=True, n_jobs=None,\n",
       "         normalize=False)"
      ]
     },
     "execution_count": 41,
     "metadata": {},
     "output_type": "execute_result"
    }
   ],
   "source": [
    "lr.fit(X,y)"
   ]
  },
  {
   "cell_type": "code",
   "execution_count": 42,
   "metadata": {},
   "outputs": [],
   "source": [
    "y_pred=lr.predict(X)"
   ]
  },
  {
   "cell_type": "code",
   "execution_count": 43,
   "metadata": {},
   "outputs": [],
   "source": [
    "from sklearn.metrics import r2_score,mean_absolute_error,mean_squared_error"
   ]
  },
  {
   "cell_type": "code",
   "execution_count": 44,
   "metadata": {},
   "outputs": [
    {
     "data": {
      "text/plain": [
       "0.16317332285380148"
      ]
     },
     "execution_count": 44,
     "metadata": {},
     "output_type": "execute_result"
    }
   ],
   "source": [
    "r2_score(y,y_pred)"
   ]
  },
  {
   "cell_type": "code",
   "execution_count": 45,
   "metadata": {},
   "outputs": [],
   "source": [
    "from sklearn.svm import SVR\n",
    "svr=SVR()"
   ]
  },
  {
   "cell_type": "code",
   "execution_count": 46,
   "metadata": {},
   "outputs": [
    {
     "data": {
      "text/plain": [
       "SVR(C=1.0, cache_size=200, coef0=0.0, degree=3, epsilon=0.1,\n",
       "  gamma='auto_deprecated', kernel='rbf', max_iter=-1, shrinking=True,\n",
       "  tol=0.001, verbose=False)"
      ]
     },
     "execution_count": 46,
     "metadata": {},
     "output_type": "execute_result"
    }
   ],
   "source": [
    "svr.fit(X,y)"
   ]
  },
  {
   "cell_type": "code",
   "execution_count": 47,
   "metadata": {},
   "outputs": [],
   "source": [
    "y_pred=svr.predict(X)"
   ]
  },
  {
   "cell_type": "code",
   "execution_count": 48,
   "metadata": {},
   "outputs": [
    {
     "data": {
      "text/plain": [
       "0.026205121715479285"
      ]
     },
     "execution_count": 48,
     "metadata": {},
     "output_type": "execute_result"
    }
   ],
   "source": [
    "r2_score(y,y_pred)"
   ]
  },
  {
   "cell_type": "markdown",
   "metadata": {},
   "source": [
    "I tried to convert Qualification column into numerical using Regular Expression. But couldnot succeed in that attempt.So dropped Qualification because of which may be the reason that I couldnot achieve required Accuracy. "
   ]
  },
  {
   "cell_type": "code",
   "execution_count": null,
   "metadata": {},
   "outputs": [],
   "source": []
  }
 ],
 "metadata": {
  "kernelspec": {
   "display_name": "Python 3",
   "language": "python",
   "name": "python3"
  },
  "language_info": {
   "codemirror_mode": {
    "name": "ipython",
    "version": 3
   },
   "file_extension": ".py",
   "mimetype": "text/x-python",
   "name": "python",
   "nbconvert_exporter": "python",
   "pygments_lexer": "ipython3",
   "version": "3.7.1"
  }
 },
 "nbformat": 4,
 "nbformat_minor": 2
}
