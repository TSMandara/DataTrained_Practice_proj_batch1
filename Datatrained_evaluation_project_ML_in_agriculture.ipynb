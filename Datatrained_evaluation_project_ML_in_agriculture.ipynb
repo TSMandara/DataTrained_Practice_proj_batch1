{
 "cells": [
  {
   "cell_type": "markdown",
   "metadata": {},
   "source": [
    "#### The aim of this project is to classify the reasons for crop damage. Its a classification problem and according Exploratory data analysis carried out and appropriate algorithms are built for prdeiction."
   ]
  },
  {
   "cell_type": "markdown",
   "metadata": {},
   "source": [
    "Steps followed in the project:\n",
    "\n",
    "1) Importing the packages/libraries\n",
    "\n",
    "2) Reading the dataset\n",
    "\n",
    "3) Checking the shape\n",
    "\n",
    "4) Checking the info\n",
    "\n",
    "5) Data cleaning( Treating the missing values, dropping unwanted columns/rows)\n",
    "\n",
    "6) Exploratory data analysis\n",
    "\n",
    "7) Label encoding/One hot encoding\n",
    "\n",
    "8) Outlier treatment\n",
    "\n",
    "9) Defining X and y(independent and dependent variable)\n",
    "\n",
    "10) Splitting the data into train and test\n",
    "\n",
    "11) Fitting different models using GridhSearchCV\n",
    "\n",
    "12) Checking the metrics for model evaluation"
   ]
  },
  {
   "cell_type": "code",
   "execution_count": 59,
   "metadata": {},
   "outputs": [],
   "source": [
    "import pandas as pd\n",
    "import numpy as np\n",
    "import seaborn as sns\n",
    "import matplotlib.pyplot as plt\n",
    "import warnings\n",
    "warnings.filterwarnings(\"ignore\")\n",
    "from sklearn.metrics import accuracy_score,confusion_matrix,classification_report"
   ]
  },
  {
   "cell_type": "code",
   "execution_count": 60,
   "metadata": {},
   "outputs": [
    {
     "data": {
      "text/html": [
       "<div>\n",
       "<style scoped>\n",
       "    .dataframe tbody tr th:only-of-type {\n",
       "        vertical-align: middle;\n",
       "    }\n",
       "\n",
       "    .dataframe tbody tr th {\n",
       "        vertical-align: top;\n",
       "    }\n",
       "\n",
       "    .dataframe thead th {\n",
       "        text-align: right;\n",
       "    }\n",
       "</style>\n",
       "<table border=\"1\" class=\"dataframe\">\n",
       "  <thead>\n",
       "    <tr style=\"text-align: right;\">\n",
       "      <th></th>\n",
       "      <th>ID</th>\n",
       "      <th>Estimated_Insects_Count</th>\n",
       "      <th>Crop_Type</th>\n",
       "      <th>Soil_Type</th>\n",
       "      <th>Pesticide_Use_Category</th>\n",
       "      <th>Number_Doses_Week</th>\n",
       "      <th>Number_Weeks_Used</th>\n",
       "      <th>Number_Weeks_Quit</th>\n",
       "      <th>Season</th>\n",
       "      <th>Crop_Damage</th>\n",
       "    </tr>\n",
       "  </thead>\n",
       "  <tbody>\n",
       "    <tr>\n",
       "      <th>0</th>\n",
       "      <td>F00000001</td>\n",
       "      <td>188</td>\n",
       "      <td>1</td>\n",
       "      <td>0</td>\n",
       "      <td>1</td>\n",
       "      <td>0</td>\n",
       "      <td>0.0</td>\n",
       "      <td>0</td>\n",
       "      <td>1</td>\n",
       "      <td>0</td>\n",
       "    </tr>\n",
       "    <tr>\n",
       "      <th>1</th>\n",
       "      <td>F00000003</td>\n",
       "      <td>209</td>\n",
       "      <td>1</td>\n",
       "      <td>0</td>\n",
       "      <td>1</td>\n",
       "      <td>0</td>\n",
       "      <td>0.0</td>\n",
       "      <td>0</td>\n",
       "      <td>2</td>\n",
       "      <td>1</td>\n",
       "    </tr>\n",
       "    <tr>\n",
       "      <th>2</th>\n",
       "      <td>F00000004</td>\n",
       "      <td>257</td>\n",
       "      <td>1</td>\n",
       "      <td>0</td>\n",
       "      <td>1</td>\n",
       "      <td>0</td>\n",
       "      <td>0.0</td>\n",
       "      <td>0</td>\n",
       "      <td>2</td>\n",
       "      <td>1</td>\n",
       "    </tr>\n",
       "    <tr>\n",
       "      <th>3</th>\n",
       "      <td>F00000005</td>\n",
       "      <td>257</td>\n",
       "      <td>1</td>\n",
       "      <td>1</td>\n",
       "      <td>1</td>\n",
       "      <td>0</td>\n",
       "      <td>0.0</td>\n",
       "      <td>0</td>\n",
       "      <td>2</td>\n",
       "      <td>1</td>\n",
       "    </tr>\n",
       "    <tr>\n",
       "      <th>4</th>\n",
       "      <td>F00000006</td>\n",
       "      <td>342</td>\n",
       "      <td>1</td>\n",
       "      <td>0</td>\n",
       "      <td>1</td>\n",
       "      <td>0</td>\n",
       "      <td>0.0</td>\n",
       "      <td>0</td>\n",
       "      <td>2</td>\n",
       "      <td>1</td>\n",
       "    </tr>\n",
       "  </tbody>\n",
       "</table>\n",
       "</div>"
      ],
      "text/plain": [
       "          ID  Estimated_Insects_Count  Crop_Type  Soil_Type  \\\n",
       "0  F00000001                      188          1          0   \n",
       "1  F00000003                      209          1          0   \n",
       "2  F00000004                      257          1          0   \n",
       "3  F00000005                      257          1          1   \n",
       "4  F00000006                      342          1          0   \n",
       "\n",
       "   Pesticide_Use_Category  Number_Doses_Week  Number_Weeks_Used  \\\n",
       "0                       1                  0                0.0   \n",
       "1                       1                  0                0.0   \n",
       "2                       1                  0                0.0   \n",
       "3                       1                  0                0.0   \n",
       "4                       1                  0                0.0   \n",
       "\n",
       "   Number_Weeks_Quit  Season  Crop_Damage  \n",
       "0                  0       1            0  \n",
       "1                  0       2            1  \n",
       "2                  0       2            1  \n",
       "3                  0       2            1  \n",
       "4                  0       2            1  "
      ]
     },
     "execution_count": 60,
     "metadata": {},
     "output_type": "execute_result"
    }
   ],
   "source": [
    "df=pd.read_excel(\"train_agriculture.xlsx\")\n",
    "df1=pd.read_excel(\"test_agriculture.xlsx\")\n",
    "df.head()"
   ]
  },
  {
   "cell_type": "code",
   "execution_count": 61,
   "metadata": {},
   "outputs": [
    {
     "data": {
      "text/html": [
       "<div>\n",
       "<style scoped>\n",
       "    .dataframe tbody tr th:only-of-type {\n",
       "        vertical-align: middle;\n",
       "    }\n",
       "\n",
       "    .dataframe tbody tr th {\n",
       "        vertical-align: top;\n",
       "    }\n",
       "\n",
       "    .dataframe thead th {\n",
       "        text-align: right;\n",
       "    }\n",
       "</style>\n",
       "<table border=\"1\" class=\"dataframe\">\n",
       "  <thead>\n",
       "    <tr style=\"text-align: right;\">\n",
       "      <th></th>\n",
       "      <th>ID</th>\n",
       "      <th>Estimated_Insects_Count</th>\n",
       "      <th>Crop_Type</th>\n",
       "      <th>Soil_Type</th>\n",
       "      <th>Pesticide_Use_Category</th>\n",
       "      <th>Number_Doses_Week</th>\n",
       "      <th>Number_Weeks_Used</th>\n",
       "      <th>Number_Weeks_Quit</th>\n",
       "      <th>Season</th>\n",
       "    </tr>\n",
       "  </thead>\n",
       "  <tbody>\n",
       "    <tr>\n",
       "      <th>0</th>\n",
       "      <td>F00000002</td>\n",
       "      <td>188</td>\n",
       "      <td>1</td>\n",
       "      <td>1</td>\n",
       "      <td>1</td>\n",
       "      <td>0</td>\n",
       "      <td>NaN</td>\n",
       "      <td>0</td>\n",
       "      <td>2</td>\n",
       "    </tr>\n",
       "    <tr>\n",
       "      <th>1</th>\n",
       "      <td>F00000007</td>\n",
       "      <td>410</td>\n",
       "      <td>1</td>\n",
       "      <td>1</td>\n",
       "      <td>1</td>\n",
       "      <td>0</td>\n",
       "      <td>0.0</td>\n",
       "      <td>0</td>\n",
       "      <td>2</td>\n",
       "    </tr>\n",
       "    <tr>\n",
       "      <th>2</th>\n",
       "      <td>F00000011</td>\n",
       "      <td>626</td>\n",
       "      <td>1</td>\n",
       "      <td>0</td>\n",
       "      <td>1</td>\n",
       "      <td>0</td>\n",
       "      <td>0.0</td>\n",
       "      <td>0</td>\n",
       "      <td>2</td>\n",
       "    </tr>\n",
       "    <tr>\n",
       "      <th>3</th>\n",
       "      <td>F00000013</td>\n",
       "      <td>731</td>\n",
       "      <td>1</td>\n",
       "      <td>0</td>\n",
       "      <td>1</td>\n",
       "      <td>0</td>\n",
       "      <td>0.0</td>\n",
       "      <td>0</td>\n",
       "      <td>2</td>\n",
       "    </tr>\n",
       "    <tr>\n",
       "      <th>4</th>\n",
       "      <td>F00000014</td>\n",
       "      <td>789</td>\n",
       "      <td>0</td>\n",
       "      <td>0</td>\n",
       "      <td>1</td>\n",
       "      <td>0</td>\n",
       "      <td>0.0</td>\n",
       "      <td>0</td>\n",
       "      <td>1</td>\n",
       "    </tr>\n",
       "  </tbody>\n",
       "</table>\n",
       "</div>"
      ],
      "text/plain": [
       "          ID  Estimated_Insects_Count  Crop_Type  Soil_Type  \\\n",
       "0  F00000002                      188          1          1   \n",
       "1  F00000007                      410          1          1   \n",
       "2  F00000011                      626          1          0   \n",
       "3  F00000013                      731          1          0   \n",
       "4  F00000014                      789          0          0   \n",
       "\n",
       "   Pesticide_Use_Category  Number_Doses_Week  Number_Weeks_Used  \\\n",
       "0                       1                  0                NaN   \n",
       "1                       1                  0                0.0   \n",
       "2                       1                  0                0.0   \n",
       "3                       1                  0                0.0   \n",
       "4                       1                  0                0.0   \n",
       "\n",
       "   Number_Weeks_Quit  Season  \n",
       "0                  0       2  \n",
       "1                  0       2  \n",
       "2                  0       2  \n",
       "3                  0       2  \n",
       "4                  0       1  "
      ]
     },
     "execution_count": 61,
     "metadata": {},
     "output_type": "execute_result"
    }
   ],
   "source": [
    "df1.head()"
   ]
  },
  {
   "cell_type": "code",
   "execution_count": 62,
   "metadata": {},
   "outputs": [
    {
     "data": {
      "text/plain": [
       "(4599, 10)"
      ]
     },
     "execution_count": 62,
     "metadata": {},
     "output_type": "execute_result"
    }
   ],
   "source": [
    "df.shape"
   ]
  },
  {
   "cell_type": "code",
   "execution_count": 63,
   "metadata": {},
   "outputs": [
    {
     "data": {
      "text/plain": [
       "(1199, 9)"
      ]
     },
     "execution_count": 63,
     "metadata": {},
     "output_type": "execute_result"
    }
   ],
   "source": [
    "df1.shape"
   ]
  },
  {
   "cell_type": "code",
   "execution_count": 64,
   "metadata": {},
   "outputs": [
    {
     "name": "stdout",
     "output_type": "stream",
     "text": [
      "<class 'pandas.core.frame.DataFrame'>\n",
      "RangeIndex: 4599 entries, 0 to 4598\n",
      "Data columns (total 10 columns):\n",
      "ID                         4599 non-null object\n",
      "Estimated_Insects_Count    4599 non-null int64\n",
      "Crop_Type                  4599 non-null int64\n",
      "Soil_Type                  4599 non-null int64\n",
      "Pesticide_Use_Category     4599 non-null int64\n",
      "Number_Doses_Week          4599 non-null int64\n",
      "Number_Weeks_Used          4157 non-null float64\n",
      "Number_Weeks_Quit          4599 non-null int64\n",
      "Season                     4599 non-null int64\n",
      "Crop_Damage                4599 non-null int64\n",
      "dtypes: float64(1), int64(8), object(1)\n",
      "memory usage: 359.4+ KB\n"
     ]
    }
   ],
   "source": [
    "df.info()"
   ]
  },
  {
   "cell_type": "code",
   "execution_count": 65,
   "metadata": {},
   "outputs": [
    {
     "name": "stdout",
     "output_type": "stream",
     "text": [
      "<class 'pandas.core.frame.DataFrame'>\n",
      "RangeIndex: 1199 entries, 0 to 1198\n",
      "Data columns (total 9 columns):\n",
      "ID                         1199 non-null object\n",
      "Estimated_Insects_Count    1199 non-null int64\n",
      "Crop_Type                  1199 non-null int64\n",
      "Soil_Type                  1199 non-null int64\n",
      "Pesticide_Use_Category     1199 non-null int64\n",
      "Number_Doses_Week          1199 non-null int64\n",
      "Number_Weeks_Used          1080 non-null float64\n",
      "Number_Weeks_Quit          1199 non-null int64\n",
      "Season                     1199 non-null int64\n",
      "dtypes: float64(1), int64(7), object(1)\n",
      "memory usage: 84.4+ KB\n"
     ]
    }
   ],
   "source": [
    "df1.info()"
   ]
  },
  {
   "cell_type": "code",
   "execution_count": 66,
   "metadata": {},
   "outputs": [],
   "source": [
    "df.drop('ID',axis=1,inplace=True)"
   ]
  },
  {
   "cell_type": "code",
   "execution_count": 67,
   "metadata": {},
   "outputs": [],
   "source": [
    "df1.drop('ID',axis=1,inplace=True)"
   ]
  },
  {
   "cell_type": "code",
   "execution_count": 68,
   "metadata": {},
   "outputs": [
    {
     "data": {
      "text/plain": [
       "1132    193\n",
       "1212    187\n",
       "1385    182\n",
       "1056    180\n",
       "1478    177\n",
       "984     162\n",
       "1678    159\n",
       "1898    152\n",
       "677     138\n",
       "851     134\n",
       "2267    132\n",
       "915     128\n",
       "577     128\n",
       "448     119\n",
       "1785    118\n",
       "1296    109\n",
       "1576    103\n",
       "488      98\n",
       "789      93\n",
       "531      89\n",
       "625      89\n",
       "2015     88\n",
       "2138     81\n",
       "732      70\n",
       "2016     69\n",
       "2688     67\n",
       "2840     64\n",
       "731      63\n",
       "1786     63\n",
       "2139     59\n",
       "       ... \n",
       "2541     37\n",
       "3337     32\n",
       "3702     30\n",
       "3164     29\n",
       "2402     29\n",
       "411      27\n",
       "3516     27\n",
       "188      24\n",
       "232      24\n",
       "850      23\n",
       "3165     21\n",
       "283      21\n",
       "209      18\n",
       "311      18\n",
       "256      18\n",
       "3895     18\n",
       "312      17\n",
       "150      17\n",
       "489      15\n",
       "4096     14\n",
       "168      13\n",
       "2687     12\n",
       "3336     12\n",
       "257       9\n",
       "3896      8\n",
       "3515      7\n",
       "151       7\n",
       "169       4\n",
       "231       4\n",
       "4097      2\n",
       "Name: Estimated_Insects_Count, Length: 71, dtype: int64"
      ]
     },
     "execution_count": 68,
     "metadata": {},
     "output_type": "execute_result"
    }
   ],
   "source": [
    "df.Estimated_Insects_Count.value_counts()"
   ]
  },
  {
   "cell_type": "code",
   "execution_count": 69,
   "metadata": {},
   "outputs": [
    {
     "data": {
      "text/plain": [
       "0    3565\n",
       "1    1034\n",
       "Name: Crop_Type, dtype: int64"
      ]
     },
     "execution_count": 69,
     "metadata": {},
     "output_type": "execute_result"
    }
   ],
   "source": [
    "df.Crop_Type.value_counts()"
   ]
  },
  {
   "cell_type": "code",
   "execution_count": 70,
   "metadata": {},
   "outputs": [
    {
     "data": {
      "text/plain": [
       "0    966\n",
       "1    233\n",
       "Name: Crop_Type, dtype: int64"
      ]
     },
     "execution_count": 70,
     "metadata": {},
     "output_type": "execute_result"
    }
   ],
   "source": [
    "df1.Crop_Type.value_counts()"
   ]
  },
  {
   "cell_type": "code",
   "execution_count": 71,
   "metadata": {},
   "outputs": [
    {
     "data": {
      "text/plain": [
       "0    2407\n",
       "1    2192\n",
       "Name: Soil_Type, dtype: int64"
      ]
     },
     "execution_count": 71,
     "metadata": {},
     "output_type": "execute_result"
    }
   ],
   "source": [
    "df.Soil_Type.value_counts()"
   ]
  },
  {
   "cell_type": "code",
   "execution_count": 72,
   "metadata": {},
   "outputs": [
    {
     "data": {
      "text/plain": [
       "0    653\n",
       "1    546\n",
       "Name: Soil_Type, dtype: int64"
      ]
     },
     "execution_count": 72,
     "metadata": {},
     "output_type": "execute_result"
    }
   ],
   "source": [
    "df1.Soil_Type.value_counts()"
   ]
  },
  {
   "cell_type": "code",
   "execution_count": 73,
   "metadata": {},
   "outputs": [
    {
     "data": {
      "text/plain": [
       "2    3205\n",
       "3    1349\n",
       "1      45\n",
       "Name: Pesticide_Use_Category, dtype: int64"
      ]
     },
     "execution_count": 73,
     "metadata": {},
     "output_type": "execute_result"
    }
   ],
   "source": [
    "df.Pesticide_Use_Category.value_counts()"
   ]
  },
  {
   "cell_type": "markdown",
   "metadata": {},
   "source": [
    "1-Never\n",
    "2-Previously used\n",
    "3-Currently using"
   ]
  },
  {
   "cell_type": "code",
   "execution_count": 74,
   "metadata": {},
   "outputs": [
    {
     "data": {
      "text/plain": [
       "20    1211\n",
       "40     657\n",
       "30     584\n",
       "10     537\n",
       "15     393\n",
       "5      268\n",
       "25     263\n",
       "60     237\n",
       "50     172\n",
       "35     101\n",
       "45      53\n",
       "0       45\n",
       "80      36\n",
       "70      17\n",
       "55      11\n",
       "90       5\n",
       "85       4\n",
       "65       3\n",
       "75       1\n",
       "95       1\n",
       "Name: Number_Doses_Week, dtype: int64"
      ]
     },
     "execution_count": 74,
     "metadata": {},
     "output_type": "execute_result"
    }
   ],
   "source": [
    "df.Number_Doses_Week.value_counts()"
   ]
  },
  {
   "cell_type": "code",
   "execution_count": 75,
   "metadata": {},
   "outputs": [],
   "source": [
    "df['Number_Weeks_Used'].fillna(value=df['Number_Weeks_Used'].median(),inplace=True)"
   ]
  },
  {
   "cell_type": "code",
   "execution_count": 76,
   "metadata": {},
   "outputs": [],
   "source": [
    "df1['Number_Weeks_Used'].fillna(value=df1['Number_Weeks_Used'].median(),inplace=True)"
   ]
  },
  {
   "cell_type": "code",
   "execution_count": 77,
   "metadata": {},
   "outputs": [
    {
     "data": {
      "text/plain": [
       "28.0    541\n",
       "20.0    209\n",
       "30.0    194\n",
       "25.0    165\n",
       "40.0    133\n",
       "35.0    128\n",
       "26.0    126\n",
       "15.0    124\n",
       "24.0    120\n",
       "17.0    110\n",
       "22.0    108\n",
       "29.0    108\n",
       "18.0    105\n",
       "23.0    103\n",
       "34.0    101\n",
       "27.0     95\n",
       "32.0     93\n",
       "19.0     93\n",
       "33.0     92\n",
       "37.0     91\n",
       "38.0     90\n",
       "10.0     90\n",
       "31.0     89\n",
       "16.0     88\n",
       "21.0     84\n",
       "36.0     83\n",
       "14.0     80\n",
       "12.0     70\n",
       "45.0     69\n",
       "42.0     67\n",
       "       ... \n",
       "50.0     62\n",
       "44.0     57\n",
       "46.0     48\n",
       "47.0     47\n",
       "13.0     45\n",
       "49.0     41\n",
       "11.0     41\n",
       "0.0      40\n",
       "48.0     39\n",
       "5.0      33\n",
       "55.0     27\n",
       "53.0     26\n",
       "8.0      26\n",
       "52.0     25\n",
       "9.0      24\n",
       "54.0     24\n",
       "51.0     23\n",
       "7.0      22\n",
       "6.0      20\n",
       "57.0     19\n",
       "56.0     17\n",
       "60.0     11\n",
       "61.0      9\n",
       "58.0      9\n",
       "63.0      5\n",
       "62.0      5\n",
       "59.0      5\n",
       "65.0      3\n",
       "66.0      3\n",
       "64.0      1\n",
       "Name: Number_Weeks_Used, Length: 63, dtype: int64"
      ]
     },
     "execution_count": 77,
     "metadata": {},
     "output_type": "execute_result"
    }
   ],
   "source": [
    "df.Number_Weeks_Used.value_counts()"
   ]
  },
  {
   "cell_type": "code",
   "execution_count": 78,
   "metadata": {},
   "outputs": [
    {
     "data": {
      "text/plain": [
       "28.0    154\n",
       "20.0     49\n",
       "30.0     48\n",
       "25.0     45\n",
       "35.0     44\n",
       "22.0     39\n",
       "18.0     37\n",
       "40.0     32\n",
       "16.0     30\n",
       "15.0     30\n",
       "34.0     29\n",
       "26.0     27\n",
       "21.0     27\n",
       "24.0     27\n",
       "23.0     26\n",
       "27.0     26\n",
       "36.0     26\n",
       "31.0     23\n",
       "43.0     23\n",
       "32.0     22\n",
       "37.0     22\n",
       "14.0     21\n",
       "29.0     21\n",
       "19.0     21\n",
       "50.0     21\n",
       "13.0     18\n",
       "0.0      18\n",
       "33.0     17\n",
       "45.0     16\n",
       "10.0     16\n",
       "41.0     16\n",
       "12.0     16\n",
       "38.0     16\n",
       "17.0     16\n",
       "49.0     15\n",
       "39.0     14\n",
       "42.0     13\n",
       "54.0     12\n",
       "47.0     12\n",
       "44.0     12\n",
       "46.0     12\n",
       "5.0      12\n",
       "51.0      9\n",
       "57.0      8\n",
       "59.0      7\n",
       "52.0      7\n",
       "48.0      7\n",
       "53.0      7\n",
       "6.0       6\n",
       "9.0       5\n",
       "11.0      5\n",
       "56.0      4\n",
       "58.0      4\n",
       "7.0       3\n",
       "8.0       2\n",
       "55.0      2\n",
       "64.0      1\n",
       "62.0      1\n",
       "Name: Number_Weeks_Used, dtype: int64"
      ]
     },
     "execution_count": 78,
     "metadata": {},
     "output_type": "execute_result"
    }
   ],
   "source": [
    "df1.Number_Weeks_Used.value_counts()"
   ]
  },
  {
   "cell_type": "code",
   "execution_count": 79,
   "metadata": {},
   "outputs": [
    {
     "data": {
      "text/plain": [
       "0     1496\n",
       "14     146\n",
       "2      145\n",
       "6      140\n",
       "12     137\n",
       "15     136\n",
       "10     134\n",
       "5      134\n",
       "1      133\n",
       "20     131\n",
       "8      125\n",
       "3      124\n",
       "13     123\n",
       "7      122\n",
       "9      118\n",
       "4      117\n",
       "11     116\n",
       "16     105\n",
       "17      94\n",
       "19      87\n",
       "18      83\n",
       "22      83\n",
       "21      74\n",
       "23      54\n",
       "24      52\n",
       "25      48\n",
       "28      46\n",
       "29      41\n",
       "26      41\n",
       "27      37\n",
       "30      34\n",
       "31      25\n",
       "32      21\n",
       "33      16\n",
       "34      16\n",
       "35      11\n",
       "37      11\n",
       "41       9\n",
       "38       9\n",
       "36       8\n",
       "40       4\n",
       "39       3\n",
       "42       3\n",
       "44       2\n",
       "43       2\n",
       "47       2\n",
       "46       1\n",
       "Name: Number_Weeks_Quit, dtype: int64"
      ]
     },
     "execution_count": 79,
     "metadata": {},
     "output_type": "execute_result"
    }
   ],
   "source": [
    "df.Number_Weeks_Quit.value_counts()"
   ]
  },
  {
   "cell_type": "code",
   "execution_count": 80,
   "metadata": {},
   "outputs": [
    {
     "data": {
      "text/plain": [
       "2    2327\n",
       "1    1379\n",
       "3     893\n",
       "Name: Season, dtype: int64"
      ]
     },
     "execution_count": 80,
     "metadata": {},
     "output_type": "execute_result"
    }
   ],
   "source": [
    "df.Season.value_counts()"
   ]
  },
  {
   "cell_type": "code",
   "execution_count": 81,
   "metadata": {},
   "outputs": [
    {
     "data": {
      "text/plain": [
       "0    3820\n",
       "1     664\n",
       "2     115\n",
       "Name: Crop_Damage, dtype: int64"
      ]
     },
     "execution_count": 81,
     "metadata": {},
     "output_type": "execute_result"
    }
   ],
   "source": [
    "df.Crop_Damage.value_counts()"
   ]
  },
  {
   "cell_type": "markdown",
   "metadata": {},
   "source": [
    "0- Alive\n",
    "1- Damage due to other reasons\n",
    "2- Damage due to pesticide"
   ]
  },
  {
   "cell_type": "code",
   "execution_count": 82,
   "metadata": {},
   "outputs": [
    {
     "name": "stdout",
     "output_type": "stream",
     "text": [
      "<class 'pandas.core.frame.DataFrame'>\n",
      "RangeIndex: 4599 entries, 0 to 4598\n",
      "Data columns (total 9 columns):\n",
      "Estimated_Insects_Count    4599 non-null int64\n",
      "Crop_Type                  4599 non-null int64\n",
      "Soil_Type                  4599 non-null int64\n",
      "Pesticide_Use_Category     4599 non-null int64\n",
      "Number_Doses_Week          4599 non-null int64\n",
      "Number_Weeks_Used          4599 non-null float64\n",
      "Number_Weeks_Quit          4599 non-null int64\n",
      "Season                     4599 non-null int64\n",
      "Crop_Damage                4599 non-null int64\n",
      "dtypes: float64(1), int64(8)\n",
      "memory usage: 323.4 KB\n"
     ]
    }
   ],
   "source": [
    "df.info()"
   ]
  },
  {
   "cell_type": "code",
   "execution_count": 83,
   "metadata": {},
   "outputs": [
    {
     "name": "stdout",
     "output_type": "stream",
     "text": [
      "<class 'pandas.core.frame.DataFrame'>\n",
      "RangeIndex: 1199 entries, 0 to 1198\n",
      "Data columns (total 8 columns):\n",
      "Estimated_Insects_Count    1199 non-null int64\n",
      "Crop_Type                  1199 non-null int64\n",
      "Soil_Type                  1199 non-null int64\n",
      "Pesticide_Use_Category     1199 non-null int64\n",
      "Number_Doses_Week          1199 non-null int64\n",
      "Number_Weeks_Used          1199 non-null float64\n",
      "Number_Weeks_Quit          1199 non-null int64\n",
      "Season                     1199 non-null int64\n",
      "dtypes: float64(1), int64(7)\n",
      "memory usage: 75.0 KB\n"
     ]
    }
   ],
   "source": [
    "df1.info()"
   ]
  },
  {
   "cell_type": "markdown",
   "metadata": {},
   "source": [
    "## EDA on train data"
   ]
  },
  {
   "cell_type": "code",
   "execution_count": 84,
   "metadata": {},
   "outputs": [
    {
     "data": {
      "text/plain": [
       "Index(['Estimated_Insects_Count', 'Crop_Type', 'Soil_Type',\n",
       "       'Pesticide_Use_Category', 'Number_Doses_Week', 'Number_Weeks_Used',\n",
       "       'Number_Weeks_Quit', 'Season', 'Crop_Damage'],\n",
       "      dtype='object')"
      ]
     },
     "execution_count": 84,
     "metadata": {},
     "output_type": "execute_result"
    }
   ],
   "source": [
    "df.columns"
   ]
  },
  {
   "cell_type": "code",
   "execution_count": 85,
   "metadata": {},
   "outputs": [
    {
     "data": {
      "image/png": "[encoded data removed]",
      "text/plain": [
       "<Figure size 432x288 with 1 Axes>"
      ]
     },
     "metadata": {
      "needs_background": "light"
     },
     "output_type": "display_data"
    }
   ],
   "source": [
    "sns.countplot(df['Crop_Damage'])\n",
    "plt.title(\"Countplot of Crop damage\")\n",
    "plt.show()"
   ]
  },
  {
   "cell_type": "markdown",
   "metadata": {},
   "source": [
    "From the above barplot it can be observed that class 0 of crop damage which is 'Alive' is highest followed by 'Damage due to other reasons' and the least is 'Damage due to pesticides'."
   ]
  },
  {
   "cell_type": "code",
   "execution_count": 86,
   "metadata": {},
   "outputs": [
    {
     "data": {
      "image/png": "[encoded data removed]",
      "text/plain": [
       "<Figure size 432x288 with 1 Axes>"
      ]
     },
     "metadata": {
      "needs_background": "light"
     },
     "output_type": "display_data"
    }
   ],
   "source": [
    "sns.countplot(df['Crop_Type'])\n",
    "plt.title(\"Countplot of Crop Type\")\n",
    "plt.show()"
   ]
  },
  {
   "cell_type": "markdown",
   "metadata": {},
   "source": [
    "From the above countplot we can observe that, Class 0 of crop type are more in number."
   ]
  },
  {
   "cell_type": "code",
   "execution_count": 87,
   "metadata": {},
   "outputs": [
    {
     "data": {
      "image/png": "[encoded data removed]",
      "text/plain": [
       "<Figure size 432x288 with 1 Axes>"
      ]
     },
     "metadata": {
      "needs_background": "light"
     },
     "output_type": "display_data"
    }
   ],
   "source": [
    "sns.countplot(df['Soil_Type'])\n",
    "plt.title(\"Countplot of Soil Type\")\n",
    "plt.show()"
   ]
  },
  {
   "cell_type": "markdown",
   "metadata": {},
   "source": [
    "From the above countplot we can observe that, Class 0 of soil type are slightly more in number as compared to the other class."
   ]
  },
  {
   "cell_type": "code",
   "execution_count": 88,
   "metadata": {},
   "outputs": [
    {
     "data": {
      "image/png": "[encoded data removed]",
      "text/plain": [
       "<Figure size 432x288 with 1 Axes>"
      ]
     },
     "metadata": {
      "needs_background": "light"
     },
     "output_type": "display_data"
    }
   ],
   "source": [
    "sns.distplot(df['Number_Weeks_Used'])\n",
    "plt.title(\"Distribution plot of Number of weeks used\")\n",
    "plt.show()"
   ]
  },
  {
   "cell_type": "markdown",
   "metadata": {},
   "source": [
    "From the above distribution plot we can see that, Number of weeks used is normally distributed."
   ]
  },
  {
   "cell_type": "code",
   "execution_count": 89,
   "metadata": {},
   "outputs": [
    {
     "data": {
      "image/png": "[encoded data removed]",
      "text/plain": [
       "<Figure size 432x288 with 1 Axes>"
      ]
     },
     "metadata": {
      "needs_background": "light"
     },
     "output_type": "display_data"
    }
   ],
   "source": [
    "sns.boxplot(df['Crop_Type'],df['Number_Weeks_Used'],hue=df['Crop_Damage'])\n",
    "plt.title(\"Boxplot of croptype v/s Number of weeks used wrt crop damage\")\n",
    "plt.show()"
   ]
  },
  {
   "cell_type": "markdown",
   "metadata": {},
   "source": [
    "From the above boxplot it can be seen that crop type with class 0 have been used more number of weks"
   ]
  },
  {
   "cell_type": "code",
   "execution_count": 90,
   "metadata": {},
   "outputs": [
    {
     "data": {
      "image/png": "[encoded data removed]",
      "text/plain": [
       "<Figure size 432x288 with 1 Axes>"
      ]
     },
     "metadata": {
      "needs_background": "light"
     },
     "output_type": "display_data"
    }
   ],
   "source": [
    "sns.boxplot(df['Soil_Type'],df['Number_Weeks_Used'],hue=df['Crop_Damage'])\n",
    "plt.title(\"Boxplot of soiltype v/s Number of weeks used wrt crop damage\")\n",
    "plt.show()"
   ]
  },
  {
   "cell_type": "markdown",
   "metadata": {},
   "source": [
    "From the above boxplot it can be seen that soil type with class 0 have been used more number of weeks"
   ]
  },
  {
   "cell_type": "code",
   "execution_count": 91,
   "metadata": {},
   "outputs": [
    {
     "data": {
      "image/png": "[encoded data removed]",
      "text/plain": [
       "<Figure size 432x288 with 1 Axes>"
      ]
     },
     "metadata": {
      "needs_background": "light"
     },
     "output_type": "display_data"
    }
   ],
   "source": [
    "sns.boxplot(df['Soil_Type'],df['Number_Doses_Week'],hue=df['Crop_Damage'])\n",
    "plt.title(\"Boxplot of soiltype v/s Number_Doses_Week wrt crop damage\")\n",
    "plt.show()"
   ]
  },
  {
   "cell_type": "markdown",
   "metadata": {},
   "source": [
    "From the above boxplot it can be seen that soil type with class 1 have been used slightly more number of weeks as compared to class 0."
   ]
  },
  {
   "cell_type": "code",
   "execution_count": 92,
   "metadata": {},
   "outputs": [
    {
     "data": {
      "image/png": "[encoded data removed]",
      "text/plain": [
       "<Figure size 432x288 with 1 Axes>"
      ]
     },
     "metadata": {
      "needs_background": "light"
     },
     "output_type": "display_data"
    }
   ],
   "source": [
    "sns.boxplot(df['Season'],df['Number_Doses_Week'],hue=df['Crop_Damage'])\n",
    "plt.title(\"Boxplot of Season v/s Number_Doses_Week wrt crop damage\")\n",
    "plt.show()"
   ]
  },
  {
   "cell_type": "markdown",
   "metadata": {},
   "source": [
    "From the above boxplot it can be seen that, crop damage due t use of pesticides is more in season with class 2 with doeses per week ranging from 25-40."
   ]
  },
  {
   "cell_type": "code",
   "execution_count": 93,
   "metadata": {},
   "outputs": [
    {
     "data": {
      "image/png": "[encoded data removed]",
      "text/plain": [
       "<Figure size 432x288 with 1 Axes>"
      ]
     },
     "metadata": {
      "needs_background": "light"
     },
     "output_type": "display_data"
    }
   ],
   "source": [
    "sns.boxplot(df['Pesticide_Use_Category'],df['Number_Weeks_Used'],hue=df['Crop_Damage'])\n",
    "plt.title(\"Boxplot of Pesticide_Use_Category v/s Number_Doses_Week wrt crop damage\")\n",
    "plt.show()"
   ]
  },
  {
   "cell_type": "markdown",
   "metadata": {},
   "source": [
    "From the above boxplot it can be seen that, crop damage is more with pesticide use category which is (currently using) as compared to Pesticide use category 2."
   ]
  },
  {
   "cell_type": "markdown",
   "metadata": {},
   "source": [
    "## EDA on test data"
   ]
  },
  {
   "cell_type": "code",
   "execution_count": 94,
   "metadata": {},
   "outputs": [
    {
     "data": {
      "image/png": "[encoded data removed]",
      "text/plain": [
       "<Figure size 432x288 with 1 Axes>"
      ]
     },
     "metadata": {
      "needs_background": "light"
     },
     "output_type": "display_data"
    }
   ],
   "source": [
    "sns.countplot(df1['Crop_Type'])\n",
    "plt.title(\"Countplot of Crop Type\")\n",
    "plt.show()"
   ]
  },
  {
   "cell_type": "markdown",
   "metadata": {},
   "source": [
    "From the above countplot we can observe that, Class 0 of crop type are more in number."
   ]
  },
  {
   "cell_type": "code",
   "execution_count": 95,
   "metadata": {},
   "outputs": [
    {
     "data": {
      "image/png": "[encoded data removed]",
      "text/plain": [
       "<Figure size 432x288 with 1 Axes>"
      ]
     },
     "metadata": {
      "needs_background": "light"
     },
     "output_type": "display_data"
    }
   ],
   "source": [
    "sns.countplot(df1['Soil_Type'])\n",
    "plt.title(\"Countplot of Soil Type\")\n",
    "plt.show()"
   ]
  },
  {
   "cell_type": "markdown",
   "metadata": {},
   "source": [
    "From the above countplot we can observe that, Class 0 of soil type is slightly more in number than class 1 soil type"
   ]
  },
  {
   "cell_type": "code",
   "execution_count": 96,
   "metadata": {},
   "outputs": [
    {
     "data": {
      "image/png": "[encoded data removed]",
      "text/plain": [
       "<Figure size 432x288 with 1 Axes>"
      ]
     },
     "metadata": {
      "needs_background": "light"
     },
     "output_type": "display_data"
    }
   ],
   "source": [
    "sns.violinplot(df1['Number_Weeks_Used'])\n",
    "plt.title(\"Violin plot of Number_Weeks_Used\")\n",
    "plt.show()"
   ]
  },
  {
   "cell_type": "markdown",
   "metadata": {},
   "source": [
    "From the above violin plot it can be seen that Number_Weeks_Used is normally distributed."
   ]
  },
  {
   "cell_type": "code",
   "execution_count": 97,
   "metadata": {},
   "outputs": [
    {
     "data": {
      "image/png": "[encoded data removed]",
      "text/plain": [
       "<Figure size 432x288 with 1 Axes>"
      ]
     },
     "metadata": {
      "needs_background": "light"
     },
     "output_type": "display_data"
    }
   ],
   "source": [
    "sns.boxplot(df1['Soil_Type'],df1['Number_Weeks_Used'])\n",
    "plt.title(\"Boxplot of soil type v/s Number of weeks Used\")\n",
    "plt.show()"
   ]
  },
  {
   "cell_type": "markdown",
   "metadata": {},
   "source": [
    "From the above boxplot it can be seen that with class 0 of soil type, Number of weeks used is more"
   ]
  },
  {
   "cell_type": "code",
   "execution_count": 98,
   "metadata": {},
   "outputs": [
    {
     "data": {
      "image/png": "[encoded data removed]",
      "text/plain": [
       "<Figure size 432x288 with 1 Axes>"
      ]
     },
     "metadata": {
      "needs_background": "light"
     },
     "output_type": "display_data"
    }
   ],
   "source": [
    "sns.boxplot(df1['Season'],df1['Number_Doses_Week'])\n",
    "plt.title(\"Boxplot of Season v/s Number_Doses_Week\")\n",
    "plt.show()"
   ]
  },
  {
   "cell_type": "markdown",
   "metadata": {},
   "source": [
    "From the above boxplot it can be seen that with class 3 of season, more number of doses week is used."
   ]
  },
  {
   "cell_type": "code",
   "execution_count": 99,
   "metadata": {},
   "outputs": [
    {
     "data": {
      "image/png": "[encoded data removed]",
      "text/plain": [
       "<Figure size 432x288 with 1 Axes>"
      ]
     },
     "metadata": {
      "needs_background": "light"
     },
     "output_type": "display_data"
    }
   ],
   "source": [
    "sns.boxplot(df1['Pesticide_Use_Category'],df1['Number_Weeks_Used'])\n",
    "plt.title(\"Boxplot of Pesticide_Use_Category v/s Number_Weeks_Used\")\n",
    "plt.show()"
   ]
  },
  {
   "cell_type": "markdown",
   "metadata": {},
   "source": [
    "From the above boxplot it can be observed that pesticide use category of class 3(Currently using) is being more number of weeks."
   ]
  },
  {
   "cell_type": "code",
   "execution_count": 100,
   "metadata": {},
   "outputs": [
    {
     "data": {
      "image/png": "[encoded data removed]",
      "text/plain": [
       "<Figure size 720x720 with 2 Axes>"
      ]
     },
     "metadata": {
      "needs_background": "light"
     },
     "output_type": "display_data"
    }
   ],
   "source": [
    "plt.figure(figsize=(10,10))\n",
    "sns.heatmap(df.corr(),annot=True)\n",
    "plt.show()"
   ]
  },
  {
   "cell_type": "markdown",
   "metadata": {},
   "source": [
    "Crop damage is positively related to Number of weeks used, Pesticide use category and Estimated insects count.\n",
    "Its negatively correlated with season,number of weeks quit, number of doses week and soil type."
   ]
  },
  {
   "cell_type": "markdown",
   "metadata": {},
   "source": [
    "## Checking skewness inorder to check for outliers"
   ]
  },
  {
   "cell_type": "code",
   "execution_count": 101,
   "metadata": {},
   "outputs": [
    {
     "data": {
      "text/plain": [
       "Estimated_Insects_Count    0.911469\n",
       "Crop_Type                  1.318693\n",
       "Soil_Type                  0.093631\n",
       "Pesticide_Use_Category     0.678586\n",
       "Number_Doses_Week          0.945895\n",
       "Number_Weeks_Used          0.299898\n",
       "Number_Weeks_Quit          0.919771\n",
       "Season                     0.144841\n",
       "Crop_Damage                2.306933\n",
       "dtype: float64"
      ]
     },
     "execution_count": 101,
     "metadata": {},
     "output_type": "execute_result"
    }
   ],
   "source": [
    "df.skew()"
   ]
  },
  {
   "cell_type": "code",
   "execution_count": 102,
   "metadata": {},
   "outputs": [
    {
     "data": {
      "text/plain": [
       "Estimated_Insects_Count    1.098665\n",
       "Crop_Type                  1.546968\n",
       "Soil_Type                  0.179422\n",
       "Pesticide_Use_Category     0.089675\n",
       "Number_Doses_Week          0.872028\n",
       "Number_Weeks_Used          0.245465\n",
       "Number_Weeks_Quit          1.191013\n",
       "Season                     0.155872\n",
       "dtype: float64"
      ]
     },
     "execution_count": 102,
     "metadata": {},
     "output_type": "execute_result"
    }
   ],
   "source": [
    "df1.skew()"
   ]
  },
  {
   "cell_type": "markdown",
   "metadata": {},
   "source": [
    "## Define X and y"
   ]
  },
  {
   "cell_type": "code",
   "execution_count": 103,
   "metadata": {},
   "outputs": [
    {
     "data": {
      "text/plain": [
       "Index(['Estimated_Insects_Count', 'Crop_Type', 'Soil_Type',\n",
       "       'Pesticide_Use_Category', 'Number_Doses_Week', 'Number_Weeks_Used',\n",
       "       'Number_Weeks_Quit', 'Season'],\n",
       "      dtype='object')"
      ]
     },
     "execution_count": 103,
     "metadata": {},
     "output_type": "execute_result"
    }
   ],
   "source": [
    "X=df.drop('Crop_Damage',axis=1)\n",
    "X.columns"
   ]
  },
  {
   "cell_type": "code",
   "execution_count": 104,
   "metadata": {},
   "outputs": [
    {
     "data": {
      "text/plain": [
       "0    0\n",
       "1    1\n",
       "2    1\n",
       "3    1\n",
       "4    1\n",
       "Name: Crop_Damage, dtype: int64"
      ]
     },
     "execution_count": 104,
     "metadata": {},
     "output_type": "execute_result"
    }
   ],
   "source": [
    "y=df.Crop_Damage\n",
    "y.head()"
   ]
  },
  {
   "cell_type": "code",
   "execution_count": 105,
   "metadata": {},
   "outputs": [],
   "source": [
    "from sklearn.model_selection import GridSearchCV,cross_val_score\n",
    "from sklearn.linear_model import LogisticRegression\n",
    "from sklearn.tree import DecisionTreeClassifier\n",
    "from sklearn.ensemble import RandomForestClassifier\n",
    "from sklearn.svm import SVC\n",
    "from sklearn.neighbors import KNeighborsClassifier\n",
    "from xgboost import XGBClassifier"
   ]
  },
  {
   "cell_type": "code",
   "execution_count": 106,
   "metadata": {},
   "outputs": [
    {
     "name": "stdout",
     "output_type": "stream",
     "text": [
      "{'C': 1, 'random_state': 40}\n"
     ]
    }
   ],
   "source": [
    "#GridserachCV for Logistic regression\n",
    "parameters={'C':[1,10],'random_state':range(40,110)}\n",
    "lg=LogisticRegression()\n",
    "clf=GridSearchCV(lg,parameters)\n",
    "clf.fit(X,y)\n",
    "print(clf.best_params_)"
   ]
  },
  {
   "cell_type": "code",
   "execution_count": 107,
   "metadata": {},
   "outputs": [
    {
     "name": "stdout",
     "output_type": "stream",
     "text": [
      "{'criterion': 'gini', 'max_leaf_nodes': 5, 'random_state': 40}\n"
     ]
    }
   ],
   "source": [
    "#GridsearchCV for Decision Tree\n",
    "parameters={'criterion':['gini','entropy'],'max_leaf_nodes':[5,50],'random_state':range(40,105)}\n",
    "dtc=DecisionTreeClassifier()\n",
    "clf=GridSearchCV(dtc,parameters)\n",
    "clf.fit(X,y)\n",
    "print(clf.best_params_)"
   ]
  },
  {
   "cell_type": "code",
   "execution_count": 108,
   "metadata": {},
   "outputs": [
    {
     "name": "stdout",
     "output_type": "stream",
     "text": [
      "{'n_neighbors': 8}\n"
     ]
    }
   ],
   "source": [
    "#GridsearchCV for KNN\n",
    "parameters={'n_neighbors':range(3,10)}\n",
    "knn=KNeighborsClassifier()\n",
    "clf=GridSearchCV(knn,parameters)\n",
    "clf.fit(X,y)\n",
    "print(clf.best_params_)"
   ]
  },
  {
   "cell_type": "code",
   "execution_count": 109,
   "metadata": {},
   "outputs": [
    {
     "name": "stdout",
     "output_type": "stream",
     "text": [
      "{'learning_rate': 0.1}\n"
     ]
    }
   ],
   "source": [
    "#GridsearchCV for XGBoost\n",
    "parameters={'learning_rate':[0.1,0.15,0.2,0.3,0.4,0.5]}\n",
    "xgb=XGBClassifier()\n",
    "clf=GridSearchCV(xgb,parameters)\n",
    "clf.fit(X,y)\n",
    "print(clf.best_params_)"
   ]
  },
  {
   "cell_type": "code",
   "execution_count": 110,
   "metadata": {},
   "outputs": [],
   "source": [
    "#Fitting the model with best parameters\n",
    "LR=LogisticRegression(C=1,random_state=40)\n",
    "dtc=DecisionTreeClassifier(criterion='gini', max_leaf_nodes=5, random_state= 40)\n",
    "knn=KNeighborsClassifier(n_neighbors=8)\n",
    "xgb=XGBClassifier(learning_rate=0.1)"
   ]
  },
  {
   "cell_type": "code",
   "execution_count": 111,
   "metadata": {},
   "outputs": [
    {
     "name": "stdout",
     "output_type": "stream",
     "text": [
      "fitting LogisticRegression(C=1, class_weight=None, dual=False, fit_intercept=True,\n",
      "          intercept_scaling=1, max_iter=100, multi_class='warn',\n",
      "          n_jobs=None, penalty='l2', random_state=40, solver='warn',\n",
      "          tol=0.0001, verbose=0, warm_start=False) model:\n",
      "\n",
      "Accuracy :\n",
      " 0.8267014568384431\n",
      "Confusion matrix :\n",
      " [[3768   52    0]\n",
      " [ 630   34    0]\n",
      " [ 107    8    0]]\n",
      "Classification report :\n",
      "               precision    recall  f1-score   support\n",
      "\n",
      "           0       0.84      0.99      0.91      3820\n",
      "           1       0.36      0.05      0.09       664\n",
      "           2       0.00      0.00      0.00       115\n",
      "\n",
      "   micro avg       0.83      0.83      0.83      4599\n",
      "   macro avg       0.40      0.35      0.33      4599\n",
      "weighted avg       0.75      0.83      0.76      4599\n",
      "\n",
      "fitting DecisionTreeClassifier(class_weight=None, criterion='gini', max_depth=None,\n",
      "            max_features=None, max_leaf_nodes=5, min_impurity_decrease=0.0,\n",
      "            min_impurity_split=None, min_samples_leaf=1,\n",
      "            min_samples_split=2, min_weight_fraction_leaf=0.0,\n",
      "            presort=False, random_state=40, splitter='best') model:\n",
      "\n",
      "Accuracy :\n",
      " 0.8362687540769732\n",
      "Confusion matrix :\n",
      " [[3813    7    0]\n",
      " [ 631   33    0]\n",
      " [ 110    5    0]]\n",
      "Classification report :\n",
      "               precision    recall  f1-score   support\n",
      "\n",
      "           0       0.84      1.00      0.91      3820\n",
      "           1       0.73      0.05      0.09       664\n",
      "           2       0.00      0.00      0.00       115\n",
      "\n",
      "   micro avg       0.84      0.84      0.84      4599\n",
      "   macro avg       0.52      0.35      0.33      4599\n",
      "weighted avg       0.80      0.84      0.77      4599\n",
      "\n",
      "fitting KNeighborsClassifier(algorithm='auto', leaf_size=30, metric='minkowski',\n",
      "           metric_params=None, n_jobs=None, n_neighbors=8, p=2,\n",
      "           weights='uniform') model:\n",
      "\n",
      "Accuracy :\n",
      " 0.8386605783866058\n",
      "Confusion matrix :\n",
      " [[3785   35    0]\n",
      " [ 592   72    0]\n",
      " [ 103   12    0]]\n",
      "Classification report :\n",
      "               precision    recall  f1-score   support\n",
      "\n",
      "           0       0.84      0.99      0.91      3820\n",
      "           1       0.61      0.11      0.18       664\n",
      "           2       0.00      0.00      0.00       115\n",
      "\n",
      "   micro avg       0.84      0.84      0.84      4599\n",
      "   macro avg       0.48      0.37      0.37      4599\n",
      "weighted avg       0.79      0.84      0.78      4599\n",
      "\n",
      "fitting SVC(C=1.0, cache_size=200, class_weight=None, coef0=0.0,\n",
      "  decision_function_shape='ovr', degree=3, gamma='auto_deprecated',\n",
      "  kernel='rbf', max_iter=-1, probability=False, random_state=None,\n",
      "  shrinking=True, tol=0.001, verbose=False) model:\n",
      "\n",
      "Accuracy :\n",
      " 0.9282452707110241\n",
      "Confusion matrix :\n",
      " [[3818    2    0]\n",
      " [ 242  422    0]\n",
      " [  81    5   29]]\n",
      "Classification report :\n",
      "               precision    recall  f1-score   support\n",
      "\n",
      "           0       0.92      1.00      0.96      3820\n",
      "           1       0.98      0.64      0.77       664\n",
      "           2       1.00      0.25      0.40       115\n",
      "\n",
      "   micro avg       0.93      0.93      0.93      4599\n",
      "   macro avg       0.97      0.63      0.71      4599\n",
      "weighted avg       0.93      0.93      0.92      4599\n",
      "\n",
      "fitting RandomForestClassifier(bootstrap=True, class_weight=None, criterion='gini',\n",
      "            max_depth=None, max_features='auto', max_leaf_nodes=None,\n",
      "            min_impurity_decrease=0.0, min_impurity_split=None,\n",
      "            min_samples_leaf=1, min_samples_split=2,\n",
      "            min_weight_fraction_leaf=0.0, n_estimators=10, n_jobs=None,\n",
      "            oob_score=False, random_state=None, verbose=0,\n",
      "            warm_start=False) model:\n",
      "\n",
      "Accuracy :\n",
      " 0.9776038269188954\n",
      "Confusion matrix :\n",
      " [[3813    7    0]\n",
      " [  79  582    3]\n",
      " [  10    4  101]]\n",
      "Classification report :\n",
      "               precision    recall  f1-score   support\n",
      "\n",
      "           0       0.98      1.00      0.99      3820\n",
      "           1       0.98      0.88      0.93       664\n",
      "           2       0.97      0.88      0.92       115\n",
      "\n",
      "   micro avg       0.98      0.98      0.98      4599\n",
      "   macro avg       0.98      0.92      0.95      4599\n",
      "weighted avg       0.98      0.98      0.98      4599\n",
      "\n",
      "fitting XGBClassifier(base_score=0.5, booster='gbtree', colsample_bylevel=1,\n",
      "       colsample_bynode=1, colsample_bytree=1, gamma=0, learning_rate=0.1,\n",
      "       max_delta_step=0, max_depth=3, min_child_weight=1, missing=None,\n",
      "       n_estimators=100, n_jobs=1, nthread=None,\n",
      "       objective='multi:softprob', random_state=0, reg_alpha=0,\n",
      "       reg_lambda=1, scale_pos_weight=1, seed=None, silent=None,\n",
      "       subsample=1, verbosity=1) model:\n",
      "\n",
      "Accuracy :\n",
      " 0.8436616655794738\n",
      "Confusion matrix :\n",
      " [[3793   27    0]\n",
      " [ 577   87    0]\n",
      " [ 101   14    0]]\n",
      "Classification report :\n",
      "               precision    recall  f1-score   support\n",
      "\n",
      "           0       0.85      0.99      0.91      3820\n",
      "           1       0.68      0.13      0.22       664\n",
      "           2       0.00      0.00      0.00       115\n",
      "\n",
      "   micro avg       0.84      0.84      0.84      4599\n",
      "   macro avg       0.51      0.37      0.38      4599\n",
      "weighted avg       0.80      0.84      0.79      4599\n",
      "\n"
     ]
    }
   ],
   "source": [
    "models=[LR,dtc,knn,SVC(),RandomForestClassifier(),xgb]\n",
    "for m in models:\n",
    "    m.fit(X,y)\n",
    "    y_pred=m.predict(X)\n",
    "    print(\"fitting\",m,\"model:\\n\")\n",
    "    print(\"Accuracy :\\n\",accuracy_score(y,y_pred))\n",
    "    print(\"Confusion matrix :\\n\",confusion_matrix(y,y_pred))\n",
    "    print(\"Classification report :\\n\",classification_report(y,y_pred))"
   ]
  },
  {
   "cell_type": "markdown",
   "metadata": {},
   "source": [
    "From the above built models it can be concluded that Random Forest classifier is the best model as its giving the best accuracy,confusion matrix,precision, recall values as compared to other models"
   ]
  },
  {
   "cell_type": "code",
   "execution_count": 112,
   "metadata": {},
   "outputs": [],
   "source": [
    "#Saving the model\n",
    "from sklearn.externals import joblib"
   ]
  },
  {
   "cell_type": "code",
   "execution_count": 113,
   "metadata": {},
   "outputs": [
    {
     "data": {
      "text/plain": [
       "['Space_server_rfc.pkl']"
      ]
     },
     "execution_count": 113,
     "metadata": {},
     "output_type": "execute_result"
    }
   ],
   "source": [
    "joblib.dump(RandomForestClassifier(),'Space_server_rfc.pkl')"
   ]
  },
  {
   "cell_type": "code",
   "execution_count": null,
   "metadata": {},
   "outputs": [],
   "source": []
  }
 ],
 "metadata": {
  "kernelspec": {
   "display_name": "Python 3",
   "language": "python",
   "name": "python3"
  },
  "language_info": {
   "codemirror_mode": {
    "name": "ipython",
    "version": 3
   },
   "file_extension": ".py",
   "mimetype": "text/x-python",
   "name": "python",
   "nbconvert_exporter": "python",
   "pygments_lexer": "ipython3",
   "version": "3.7.1"
  }
 },
 "nbformat": 4,
 "nbformat_minor": 2
}
