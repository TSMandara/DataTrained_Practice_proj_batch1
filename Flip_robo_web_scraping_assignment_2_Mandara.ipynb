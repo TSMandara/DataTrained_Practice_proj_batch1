{
 "cells": [
  {
   "cell_type": "code",
   "execution_count": 255,
   "metadata": {},
   "outputs": [],
   "source": [
    "import selenium\n",
    "import pandas as pd\n",
    "from selenium import webdriver"
   ]
  },
  {
   "cell_type": "code",
   "execution_count": 51,
   "metadata": {},
   "outputs": [],
   "source": [
    "driver=webdriver.Chrome(r\"D:\\chromedriver.exe\")"
   ]
  },
  {
   "cell_type": "code",
   "execution_count": 52,
   "metadata": {},
   "outputs": [],
   "source": [
    "driver.get(\"https://www.naukri.com/\")"
   ]
  },
  {
   "cell_type": "code",
   "execution_count": 4,
   "metadata": {},
   "outputs": [],
   "source": [
    "#Locating the job keyword and location and seting their values\n",
    "search_job=driver.find_element_by_id(\"qsb-keyword-sugg\")\n",
    "search_job.send_keys(\"Data Analyst\")\n",
    "search_loc=driver.find_element_by_xpath(\"//input[@id='qsb-location-sugg']\")\n",
    "search_loc.send_keys(\"Bangalore\")"
   ]
  },
  {
   "cell_type": "code",
   "execution_count": 7,
   "metadata": {},
   "outputs": [],
   "source": [
    "#Locating the search button and clicking it\n",
    "search_btn=driver.find_element_by_xpath(\"//div[@class='search-btn']/button\")\n",
    "search_btn.click()"
   ]
  },
  {
   "cell_type": "code",
   "execution_count": 8,
   "metadata": {},
   "outputs": [],
   "source": [
    "url='https://www.naukri.com/data-analyst-jobs-in-bangalore?k=data%20analyst&l=bangalore'"
   ]
  },
  {
   "cell_type": "code",
   "execution_count": 9,
   "metadata": {},
   "outputs": [],
   "source": [
    "#fetch the above url\n",
    "driver.get(url)"
   ]
  },
  {
   "cell_type": "code",
   "execution_count": 10,
   "metadata": {},
   "outputs": [],
   "source": [
    "#Creating lists to hold the values\n",
    "job_titles=[]\n",
    "company_names=[]\n",
    "location_lists=[]\n",
    "expr_req=[]"
   ]
  },
  {
   "cell_type": "code",
   "execution_count": 11,
   "metadata": {},
   "outputs": [
    {
     "data": {
      "text/plain": [
       "[<selenium.webdriver.remote.webelement.WebElement (session=\"189222abe6e171a9754ec300de1cd4cf\", element=\"c60cae9e-e11b-419a-ba68-19782a16e896\")>,\n",
       " <selenium.webdriver.remote.webelement.WebElement (session=\"189222abe6e171a9754ec300de1cd4cf\", element=\"5d47d601-7627-4930-8da2-9949e4476d52\")>,\n",
       " <selenium.webdriver.remote.webelement.WebElement (session=\"189222abe6e171a9754ec300de1cd4cf\", element=\"2fd4b8b5-7689-477b-8646-18622a6528d2\")>,\n",
       " <selenium.webdriver.remote.webelement.WebElement (session=\"189222abe6e171a9754ec300de1cd4cf\", element=\"ba0057a1-1f63-4cf4-aa15-04a2e0e4860e\")>,\n",
       " <selenium.webdriver.remote.webelement.WebElement (session=\"189222abe6e171a9754ec300de1cd4cf\", element=\"828d8249-b6cd-43de-9172-d7585d8890fc\")>,\n",
       " <selenium.webdriver.remote.webelement.WebElement (session=\"189222abe6e171a9754ec300de1cd4cf\", element=\"f7f185f6-bd16-4417-b069-3c8a7b26f564\")>,\n",
       " <selenium.webdriver.remote.webelement.WebElement (session=\"189222abe6e171a9754ec300de1cd4cf\", element=\"5f2294bd-46d3-4313-a882-c53fbd7e2eff\")>,\n",
       " <selenium.webdriver.remote.webelement.WebElement (session=\"189222abe6e171a9754ec300de1cd4cf\", element=\"eeb46325-f29a-42b8-9063-f15ddad5ac47\")>,\n",
       " <selenium.webdriver.remote.webelement.WebElement (session=\"189222abe6e171a9754ec300de1cd4cf\", element=\"260dd807-e807-4163-90d1-b43aef908ad6\")>]"
      ]
     },
     "execution_count": 11,
     "metadata": {},
     "output_type": "execute_result"
    }
   ],
   "source": [
    "#fetching titles\n",
    "title=driver.find_elements_by_xpath(\"//a[@class='title fw500 ellipsis']\")\n",
    "title[0:9]"
   ]
  },
  {
   "cell_type": "code",
   "execution_count": 12,
   "metadata": {},
   "outputs": [
    {
     "data": {
      "text/plain": [
       "['Data Analyst',\n",
       " 'Data Analyst',\n",
       " 'Data Analyst',\n",
       " 'Data Analyst',\n",
       " 'Business Data Analyst - MIS & Reporting',\n",
       " 'Data Analyst',\n",
       " 'Inviting Business Analyst –Data Science and Insights Bangalore',\n",
       " 'Hiring For Data Analyst',\n",
       " 'Senior Data Analyst',\n",
       " 'Senior Data Analyst',\n",
       " 'Data Analyst / Business Analyst',\n",
       " 'Specialist I / II Data Analyst',\n",
       " 'Data Analyst (SQL, Excel, R/Python, Dashboards, PowerBI) - Contract',\n",
       " 'Data Analyst with Marketing Analytics-Capco',\n",
       " 'Junior Data Analyst',\n",
       " 'SAS Data Analyst',\n",
       " 'Optimize Overseas LLC - Oil & Gas Data Analyst',\n",
       " 'Demand Data Analyst',\n",
       " 'Supply Data Analyst',\n",
       " 'Sr Manager I Data Analyst (MINT)']"
      ]
     },
     "execution_count": 12,
     "metadata": {},
     "output_type": "execute_result"
    }
   ],
   "source": [
    "#fetching them one by one\n",
    "for m in title:\n",
    "    titles=m.text\n",
    "    job_titles.append(titles)\n",
    "job_titles"
   ]
  },
  {
   "cell_type": "code",
   "execution_count": 13,
   "metadata": {},
   "outputs": [
    {
     "data": {
      "text/plain": [
       "['Super India Tech Mark',\n",
       " 'tech mahindra ltd',\n",
       " 'CONDUENT BUSINESS SERVICES INDIA LLP',\n",
       " 'GlaxoSmithKline Pharmaceuticals Limited',\n",
       " 'INTERTRUST GROUP',\n",
       " 'Myntra Designs Pvt. Ltd.',\n",
       " 'GENPACT India Private Limited',\n",
       " 'Concentrix Daksh Services India Private Limited.',\n",
       " 'Cerner',\n",
       " 'Cerner Corporation',\n",
       " 'LatentView Analytics Private Limited',\n",
       " 'Philips India Limited',\n",
       " 'Flipkart Internet Private Limited',\n",
       " 'Capco Technologies Pvt Ltd',\n",
       " 'Happy Marketer Private Ltd',\n",
       " 'Diverse Lynx',\n",
       " 'Optimize Overseas LLC',\n",
       " 'GLOBALFOUNDRIES Engineering Private Limited',\n",
       " 'GLOBALFOUNDRIES Engineering Private Limited',\n",
       " 'Walmart Labs']"
      ]
     },
     "execution_count": 13,
     "metadata": {},
     "output_type": "execute_result"
    }
   ],
   "source": [
    "#Similar operation for company names\n",
    "company=driver.find_elements_by_xpath(\"//a[@class='subTitle ellipsis fleft']\")\n",
    "for n in company:\n",
    "    comp=n.text\n",
    "    company_names.append(comp)\n",
    "company_names"
   ]
  },
  {
   "cell_type": "code",
   "execution_count": 14,
   "metadata": {},
   "outputs": [
    {
     "data": {
      "text/plain": [
       "['Bangalore/Bengaluru(Devalapur)',\n",
       " 'Bangalore/Bengaluru',\n",
       " 'Bangalore/Bengaluru',\n",
       " 'Bangalore/Bengaluru',\n",
       " 'Mumbai, Bangalore/Bengaluru',\n",
       " 'Bangalore/Bengaluru',\n",
       " 'Bangalore/Bengaluru',\n",
       " 'Hyderabad/Secunderabad, Pune, Chennai, Bangalore/Bengaluru, Delhi / NCR, Mumbai (All Areas)',\n",
       " 'Bangalore/Bengaluru',\n",
       " 'Bangalore/Bengaluru',\n",
       " 'Chennai, Bangalore/Bengaluru',\n",
       " 'Bangalore/Bengaluru',\n",
       " 'Bangalore/Bengaluru',\n",
       " 'Pune, Bangalore/Bengaluru',\n",
       " 'Bangalore/Bengaluru, Mumbai (All Areas)',\n",
       " 'Bangalore/Bengaluru',\n",
       " 'Kolkata, Bangalore/Bengaluru, Delhi / NCR',\n",
       " 'Bangalore/Bengaluru',\n",
       " 'Bangalore/Bengaluru',\n",
       " 'Bangalore/Bengaluru']"
      ]
     },
     "execution_count": 14,
     "metadata": {},
     "output_type": "execute_result"
    }
   ],
   "source": [
    "#Similar operation for location\n",
    "loct=driver.find_elements_by_xpath(\"//li[@class='fleft grey-text br2 placeHolderLi location']/span[@class='ellipsis fleft fs12 lh16']\")\n",
    "for j in loct:\n",
    "    loc=j.text\n",
    "    location_lists.append(loc)\n",
    "location_lists"
   ]
  },
  {
   "cell_type": "code",
   "execution_count": 15,
   "metadata": {},
   "outputs": [
    {
     "data": {
      "text/plain": [
       "['0-2 Yrs',\n",
       " '4-8 Yrs',\n",
       " '1-2 Yrs',\n",
       " '2-7 Yrs',\n",
       " '3-7 Yrs',\n",
       " '3-6 Yrs',\n",
       " '0-4 Yrs',\n",
       " '2-7 Yrs',\n",
       " '3-5 Yrs',\n",
       " '4-9 Yrs',\n",
       " '1-6 Yrs',\n",
       " '5-10 Yrs',\n",
       " '1-5 Yrs',\n",
       " '4-9 Yrs',\n",
       " '1-3 Yrs',\n",
       " '2-6 Yrs',\n",
       " '0-3 Yrs',\n",
       " '3-5 Yrs',\n",
       " '3-5 Yrs',\n",
       " '10-15 Yrs']"
      ]
     },
     "execution_count": 15,
     "metadata": {},
     "output_type": "execute_result"
    }
   ],
   "source": [
    "#similar operation for experience required\n",
    "experience=driver.find_elements_by_xpath(\"//li[@class='fleft grey-text br2 placeHolderLi experience']/span[@class='ellipsis fleft fs12 lh16']\")\n",
    "for k in experience:\n",
    "    ex=k.text\n",
    "    expr_req.append(ex)\n",
    "expr_req"
   ]
  },
  {
   "cell_type": "code",
   "execution_count": 16,
   "metadata": {},
   "outputs": [
    {
     "name": "stdout",
     "output_type": "stream",
     "text": [
      "20 20 20 20\n"
     ]
    }
   ],
   "source": [
    "print(len(job_titles),len(company_names),len(location_lists),len(expr_req))"
   ]
  },
  {
   "cell_type": "code",
   "execution_count": 17,
   "metadata": {},
   "outputs": [],
   "source": [
    "#creating a dataframe\n",
    "df=pd.DataFrame({})\n",
    "df['Job Title']=job_titles\n",
    "df['Company name']=company_names\n",
    "df['Location']=location_lists\n",
    "df['Experience required']=expr_req"
   ]
  },
  {
   "cell_type": "code",
   "execution_count": 19,
   "metadata": {},
   "outputs": [
    {
     "data": {
      "text/html": [
       "<div>\n",
       "<style scoped>\n",
       "    .dataframe tbody tr th:only-of-type {\n",
       "        vertical-align: middle;\n",
       "    }\n",
       "\n",
       "    .dataframe tbody tr th {\n",
       "        vertical-align: top;\n",
       "    }\n",
       "\n",
       "    .dataframe thead th {\n",
       "        text-align: right;\n",
       "    }\n",
       "</style>\n",
       "<table border=\"1\" class=\"dataframe\">\n",
       "  <thead>\n",
       "    <tr style=\"text-align: right;\">\n",
       "      <th></th>\n",
       "      <th>Job Title</th>\n",
       "      <th>Company name</th>\n",
       "      <th>Location</th>\n",
       "      <th>Experience required</th>\n",
       "    </tr>\n",
       "  </thead>\n",
       "  <tbody>\n",
       "    <tr>\n",
       "      <th>0</th>\n",
       "      <td>Data Analyst</td>\n",
       "      <td>Super India Tech Mark</td>\n",
       "      <td>Bangalore/Bengaluru(Devalapur)</td>\n",
       "      <td>0-2 Yrs</td>\n",
       "    </tr>\n",
       "    <tr>\n",
       "      <th>1</th>\n",
       "      <td>Data Analyst</td>\n",
       "      <td>tech mahindra ltd</td>\n",
       "      <td>Bangalore/Bengaluru</td>\n",
       "      <td>4-8 Yrs</td>\n",
       "    </tr>\n",
       "    <tr>\n",
       "      <th>2</th>\n",
       "      <td>Data Analyst</td>\n",
       "      <td>CONDUENT BUSINESS SERVICES INDIA LLP</td>\n",
       "      <td>Bangalore/Bengaluru</td>\n",
       "      <td>1-2 Yrs</td>\n",
       "    </tr>\n",
       "    <tr>\n",
       "      <th>3</th>\n",
       "      <td>Data Analyst</td>\n",
       "      <td>GlaxoSmithKline Pharmaceuticals Limited</td>\n",
       "      <td>Bangalore/Bengaluru</td>\n",
       "      <td>2-7 Yrs</td>\n",
       "    </tr>\n",
       "    <tr>\n",
       "      <th>4</th>\n",
       "      <td>Business Data Analyst - MIS &amp; Reporting</td>\n",
       "      <td>INTERTRUST GROUP</td>\n",
       "      <td>Mumbai, Bangalore/Bengaluru</td>\n",
       "      <td>3-7 Yrs</td>\n",
       "    </tr>\n",
       "    <tr>\n",
       "      <th>5</th>\n",
       "      <td>Data Analyst</td>\n",
       "      <td>Myntra Designs Pvt. Ltd.</td>\n",
       "      <td>Bangalore/Bengaluru</td>\n",
       "      <td>3-6 Yrs</td>\n",
       "    </tr>\n",
       "    <tr>\n",
       "      <th>6</th>\n",
       "      <td>Inviting Business Analyst –Data Science and In...</td>\n",
       "      <td>GENPACT India Private Limited</td>\n",
       "      <td>Bangalore/Bengaluru</td>\n",
       "      <td>0-4 Yrs</td>\n",
       "    </tr>\n",
       "    <tr>\n",
       "      <th>7</th>\n",
       "      <td>Hiring For Data Analyst</td>\n",
       "      <td>Concentrix Daksh Services India Private Limited.</td>\n",
       "      <td>Hyderabad/Secunderabad, Pune, Chennai, Bangalo...</td>\n",
       "      <td>2-7 Yrs</td>\n",
       "    </tr>\n",
       "    <tr>\n",
       "      <th>8</th>\n",
       "      <td>Senior Data Analyst</td>\n",
       "      <td>Cerner</td>\n",
       "      <td>Bangalore/Bengaluru</td>\n",
       "      <td>3-5 Yrs</td>\n",
       "    </tr>\n",
       "    <tr>\n",
       "      <th>9</th>\n",
       "      <td>Senior Data Analyst</td>\n",
       "      <td>Cerner Corporation</td>\n",
       "      <td>Bangalore/Bengaluru</td>\n",
       "      <td>4-9 Yrs</td>\n",
       "    </tr>\n",
       "  </tbody>\n",
       "</table>\n",
       "</div>"
      ],
      "text/plain": [
       "                                           Job Title  \\\n",
       "0                                       Data Analyst   \n",
       "1                                       Data Analyst   \n",
       "2                                       Data Analyst   \n",
       "3                                       Data Analyst   \n",
       "4            Business Data Analyst - MIS & Reporting   \n",
       "5                                       Data Analyst   \n",
       "6  Inviting Business Analyst –Data Science and In...   \n",
       "7                            Hiring For Data Analyst   \n",
       "8                                Senior Data Analyst   \n",
       "9                                Senior Data Analyst   \n",
       "\n",
       "                                       Company name  \\\n",
       "0                             Super India Tech Mark   \n",
       "1                                 tech mahindra ltd   \n",
       "2              CONDUENT BUSINESS SERVICES INDIA LLP   \n",
       "3           GlaxoSmithKline Pharmaceuticals Limited   \n",
       "4                                  INTERTRUST GROUP   \n",
       "5                          Myntra Designs Pvt. Ltd.   \n",
       "6                     GENPACT India Private Limited   \n",
       "7  Concentrix Daksh Services India Private Limited.   \n",
       "8                                            Cerner   \n",
       "9                                Cerner Corporation   \n",
       "\n",
       "                                            Location Experience required  \n",
       "0                     Bangalore/Bengaluru(Devalapur)             0-2 Yrs  \n",
       "1                                Bangalore/Bengaluru             4-8 Yrs  \n",
       "2                                Bangalore/Bengaluru             1-2 Yrs  \n",
       "3                                Bangalore/Bengaluru             2-7 Yrs  \n",
       "4                        Mumbai, Bangalore/Bengaluru             3-7 Yrs  \n",
       "5                                Bangalore/Bengaluru             3-6 Yrs  \n",
       "6                                Bangalore/Bengaluru             0-4 Yrs  \n",
       "7  Hyderabad/Secunderabad, Pune, Chennai, Bangalo...             2-7 Yrs  \n",
       "8                                Bangalore/Bengaluru             3-5 Yrs  \n",
       "9                                Bangalore/Bengaluru             4-9 Yrs  "
      ]
     },
     "execution_count": 19,
     "metadata": {},
     "output_type": "execute_result"
    }
   ],
   "source": [
    "df.head(10)"
   ]
  },
  {
   "cell_type": "code",
   "execution_count": 57,
   "metadata": {},
   "outputs": [],
   "source": [
    "driver=webdriver.Chrome(r\"D:\\chromedriver.exe\")"
   ]
  },
  {
   "cell_type": "code",
   "execution_count": 58,
   "metadata": {},
   "outputs": [],
   "source": [
    "driver.get(\"https://www.naukri.com/\")"
   ]
  },
  {
   "cell_type": "code",
   "execution_count": 59,
   "metadata": {},
   "outputs": [],
   "source": [
    "search_job=driver.find_element_by_id(\"qsb-keyword-sugg\")\n",
    "search_job.send_keys(\"Data Scientist\")"
   ]
  },
  {
   "cell_type": "code",
   "execution_count": 60,
   "metadata": {},
   "outputs": [],
   "source": [
    "search_btn=driver.find_element_by_xpath(\"//div[@class='search-btn']/button\")\n",
    "search_btn.click()"
   ]
  },
  {
   "cell_type": "code",
   "execution_count": 61,
   "metadata": {},
   "outputs": [],
   "source": [
    "driver.find_element_by_xpath(\"//div[@class='mt-8 chckBoxCont']\").click()"
   ]
  },
  {
   "cell_type": "code",
   "execution_count": 62,
   "metadata": {},
   "outputs": [],
   "source": [
    "cl_obj=driver.find_element_by_xpath(\"/html/body/div[1]/div[3]/div[2]/section[1]/div[2]/div[3]/div[2]/div[2]/label/p/span[1]\")"
   ]
  },
  {
   "cell_type": "code",
   "execution_count": 63,
   "metadata": {},
   "outputs": [],
   "source": [
    "cl_obj.click()"
   ]
  },
  {
   "cell_type": "code",
   "execution_count": 64,
   "metadata": {},
   "outputs": [],
   "source": [
    "job3_title=[]\n",
    "job3_loc=[]\n",
    "company3_name=[]\n",
    "exp3_req=[]"
   ]
  },
  {
   "cell_type": "code",
   "execution_count": 65,
   "metadata": {},
   "outputs": [
    {
     "data": {
      "text/plain": [
       "['Data Scientist',\n",
       " 'Opportunity For Data Scientist Internship - Bengaluru',\n",
       " 'Associate Data Scientist - CRM & Loyalty',\n",
       " 'Data Scientist/Data Analyst-immediate',\n",
       " 'Data Scientist',\n",
       " 'Data Scientist Entry Level',\n",
       " 'SAS Data Scientist',\n",
       " 'Supply Chain Data Scientist',\n",
       " 'Data Scientist - CRM & Loyalty',\n",
       " 'Data Scientist - Python & Machine Learning',\n",
       " 'Data Scientist - Python & Machine Learning',\n",
       " 'Data Scientist (Github Projects Mandatory with min 3 Months History)',\n",
       " 'Data Scientist - Python / Machine Learning / Tableau / Power BI',\n",
       " 'Data Scientist - Python & Machine Learning',\n",
       " 'Data Scientist - Banking, BFSI Domain',\n",
       " 'Data Scientist - Python/Kafka',\n",
       " 'Required- Data Scientist (NLP)-Axis Bank - 6 months contract',\n",
       " 'Data Scientist - Python & Machine Learning (ISO 20022)',\n",
       " 'Data Scientist - Python / Machine Learning / Tableau / Power BI',\n",
       " 'Data Scientist']"
      ]
     },
     "execution_count": 65,
     "metadata": {},
     "output_type": "execute_result"
    }
   ],
   "source": [
    "job3=driver.find_elements_by_xpath(\"//a[@class='title fw500 ellipsis']\")\n",
    "for u in job3:\n",
    "    job=u.text\n",
    "    job3_title.append(job)\n",
    "job3_title"
   ]
  },
  {
   "cell_type": "code",
   "execution_count": 66,
   "metadata": {},
   "outputs": [
    {
     "data": {
      "text/plain": [
       "['Bangalore/Bengaluru',\n",
       " 'Bangalore/Bengaluru',\n",
       " 'Bangalore/Bengaluru',\n",
       " 'Hyderabad/Secunderabad, Pune, Chennai, Bangalore/Bengaluru',\n",
       " 'Bangalore/Bengaluru(Sector 1 HSR Layout)',\n",
       " 'Bangalore/Bengaluru',\n",
       " 'Bangalore/Bengaluru',\n",
       " 'Bangalore/Bengaluru',\n",
       " 'Bangalore/Bengaluru',\n",
       " 'Hyderabad/Secunderabad, Pune, Chennai, Bangalore/Bengaluru, Delhi / NCR, Mumbai (All Areas)',\n",
       " 'Hyderabad/Secunderabad, Pune, Bangalore/Bengaluru, Delhi / NCR, Mumbai (All Areas)',\n",
       " 'Bangalore/Bengaluru',\n",
       " 'Mumbai, Hyderabad/Secunderabad, Bangalore/Bengaluru, Delhi / NCR',\n",
       " 'Hyderabad/Secunderabad, Bangalore/Bengaluru, Delhi / NCR, Mumbai (All Areas)',\n",
       " 'Pune, Chennai, Bangalore/Bengaluru',\n",
       " 'Bangalore/Bengaluru',\n",
       " 'Kolkata, New Delhi, Hyderabad/Secunderabad, Pune, Chennai, Bangalore/Bengaluru, Mumbai (All Areas)',\n",
       " 'Hyderabad/Secunderabad, Bangalore/Bengaluru, Delhi / NCR',\n",
       " 'Hyderabad/Secunderabad, Bangalore/Bengaluru, Delhi / NCR',\n",
       " 'Bangalore/Bengaluru']"
      ]
     },
     "execution_count": 66,
     "metadata": {},
     "output_type": "execute_result"
    }
   ],
   "source": [
    "loc3=driver.find_elements_by_xpath(\"//li[@class='fleft grey-text br2 placeHolderLi location']/span[@class='ellipsis fleft fs12 lh16']\")\n",
    "for q in loc3:\n",
    "    job3l=q.text\n",
    "    job3_loc.append(job3l)\n",
    "job3_loc"
   ]
  },
  {
   "cell_type": "code",
   "execution_count": 67,
   "metadata": {},
   "outputs": [
    {
     "data": {
      "text/plain": [
       "['CronJ IT Technologies Private Limited',\n",
       " 'Corner Stone Solutions',\n",
       " 'Shell India Markets Private Limited',\n",
       " 'Inflexion Analytix Private Limited',\n",
       " 'Redcan IT Services LLP',\n",
       " 'NeenOpal Intelligent Solutions Pvt. Ltd.',\n",
       " 'HireHappi',\n",
       " 'ITC Infotech India Ltd',\n",
       " 'Shell India Markets Private Limited',\n",
       " 'FUTURES AND CAREERS',\n",
       " 'FUTURES AND CAREERS',\n",
       " 'The millionvisions',\n",
       " 'FUTURES AND CAREERS',\n",
       " 'FUTURES AND CAREERS',\n",
       " 'ORIGIN BUSINESS SOLUTIONS',\n",
       " 'Change leaders',\n",
       " 'Axis Bank Limited',\n",
       " 'FUTURES AND CAREERS',\n",
       " 'FUTURES AND CAREERS',\n",
       " 'NatWest Group']"
      ]
     },
     "execution_count": 67,
     "metadata": {},
     "output_type": "execute_result"
    }
   ],
   "source": [
    "com3=driver.find_elements_by_xpath(\"//div[@class='mt-7 companyInfo subheading lh16']/a[@class='subTitle ellipsis fleft']\")\n",
    "for r in com3:\n",
    "    com33=r.text\n",
    "    company3_name.append(com33)\n",
    "company3_name"
   ]
  },
  {
   "cell_type": "code",
   "execution_count": 68,
   "metadata": {},
   "outputs": [
    {
     "data": {
      "text/plain": [
       "['0-1 Yrs',\n",
       " '0-1 Yrs',\n",
       " '3-5 Yrs',\n",
       " '0-2 Yrs',\n",
       " '0-0 Yrs',\n",
       " '2-4 Yrs',\n",
       " '3-8 Yrs',\n",
       " '5-9 Yrs',\n",
       " '5-7 Yrs',\n",
       " '2-7 Yrs',\n",
       " '2-7 Yrs',\n",
       " '0-0 Yrs',\n",
       " '3-8 Yrs',\n",
       " '2-7 Yrs',\n",
       " '4-9 Yrs',\n",
       " '3-8 Yrs',\n",
       " '4-9 Yrs',\n",
       " '3-8 Yrs',\n",
       " '3-8 Yrs',\n",
       " '3-5 Yrs']"
      ]
     },
     "execution_count": 68,
     "metadata": {},
     "output_type": "execute_result"
    }
   ],
   "source": [
    "exp3=driver.find_elements_by_xpath(\"//li[@class='fleft grey-text br2 placeHolderLi experience']/span[@class='ellipsis fleft fs12 lh16']\")\n",
    "for t in exp3:\n",
    "    exp33=t.text\n",
    "    exp3_req.append(exp33)\n",
    "exp3_req"
   ]
  },
  {
   "cell_type": "code",
   "execution_count": 69,
   "metadata": {},
   "outputs": [
    {
     "name": "stdout",
     "output_type": "stream",
     "text": [
      "20 20 20 20\n"
     ]
    }
   ],
   "source": [
    "print(len(job3_title),len(company3_name),len(job3_loc),len(exp3_req))"
   ]
  },
  {
   "cell_type": "code",
   "execution_count": 73,
   "metadata": {},
   "outputs": [],
   "source": [
    "df3=pd.DataFrame({})\n",
    "df3['Job titles']=job3_title\n",
    "df3['Company Names']=company3_name\n",
    "df3['Location']=job3_loc\n",
    "df3['Experience Required']=exp3_req"
   ]
  },
  {
   "cell_type": "code",
   "execution_count": 74,
   "metadata": {},
   "outputs": [
    {
     "data": {
      "text/html": [
       "<div>\n",
       "<style scoped>\n",
       "    .dataframe tbody tr th:only-of-type {\n",
       "        vertical-align: middle;\n",
       "    }\n",
       "\n",
       "    .dataframe tbody tr th {\n",
       "        vertical-align: top;\n",
       "    }\n",
       "\n",
       "    .dataframe thead th {\n",
       "        text-align: right;\n",
       "    }\n",
       "</style>\n",
       "<table border=\"1\" class=\"dataframe\">\n",
       "  <thead>\n",
       "    <tr style=\"text-align: right;\">\n",
       "      <th></th>\n",
       "      <th>Job titles</th>\n",
       "      <th>Company Names</th>\n",
       "      <th>Location</th>\n",
       "      <th>Experience Required</th>\n",
       "    </tr>\n",
       "  </thead>\n",
       "  <tbody>\n",
       "    <tr>\n",
       "      <th>0</th>\n",
       "      <td>Data Scientist</td>\n",
       "      <td>CronJ IT Technologies Private Limited</td>\n",
       "      <td>Bangalore/Bengaluru</td>\n",
       "      <td>0-1 Yrs</td>\n",
       "    </tr>\n",
       "    <tr>\n",
       "      <th>1</th>\n",
       "      <td>Opportunity For Data Scientist Internship - Be...</td>\n",
       "      <td>Corner Stone Solutions</td>\n",
       "      <td>Bangalore/Bengaluru</td>\n",
       "      <td>0-1 Yrs</td>\n",
       "    </tr>\n",
       "    <tr>\n",
       "      <th>2</th>\n",
       "      <td>Associate Data Scientist - CRM &amp; Loyalty</td>\n",
       "      <td>Shell India Markets Private Limited</td>\n",
       "      <td>Bangalore/Bengaluru</td>\n",
       "      <td>3-5 Yrs</td>\n",
       "    </tr>\n",
       "    <tr>\n",
       "      <th>3</th>\n",
       "      <td>Data Scientist/Data Analyst-immediate</td>\n",
       "      <td>Inflexion Analytix Private Limited</td>\n",
       "      <td>Hyderabad/Secunderabad, Pune, Chennai, Bangalo...</td>\n",
       "      <td>0-2 Yrs</td>\n",
       "    </tr>\n",
       "    <tr>\n",
       "      <th>4</th>\n",
       "      <td>Data Scientist</td>\n",
       "      <td>Redcan IT Services LLP</td>\n",
       "      <td>Bangalore/Bengaluru(Sector 1 HSR Layout)</td>\n",
       "      <td>0-0 Yrs</td>\n",
       "    </tr>\n",
       "    <tr>\n",
       "      <th>5</th>\n",
       "      <td>Data Scientist Entry Level</td>\n",
       "      <td>NeenOpal Intelligent Solutions Pvt. Ltd.</td>\n",
       "      <td>Bangalore/Bengaluru</td>\n",
       "      <td>2-4 Yrs</td>\n",
       "    </tr>\n",
       "    <tr>\n",
       "      <th>6</th>\n",
       "      <td>SAS Data Scientist</td>\n",
       "      <td>HireHappi</td>\n",
       "      <td>Bangalore/Bengaluru</td>\n",
       "      <td>3-8 Yrs</td>\n",
       "    </tr>\n",
       "    <tr>\n",
       "      <th>7</th>\n",
       "      <td>Supply Chain Data Scientist</td>\n",
       "      <td>ITC Infotech India Ltd</td>\n",
       "      <td>Bangalore/Bengaluru</td>\n",
       "      <td>5-9 Yrs</td>\n",
       "    </tr>\n",
       "    <tr>\n",
       "      <th>8</th>\n",
       "      <td>Data Scientist - CRM &amp; Loyalty</td>\n",
       "      <td>Shell India Markets Private Limited</td>\n",
       "      <td>Bangalore/Bengaluru</td>\n",
       "      <td>5-7 Yrs</td>\n",
       "    </tr>\n",
       "    <tr>\n",
       "      <th>9</th>\n",
       "      <td>Data Scientist - Python &amp; Machine Learning</td>\n",
       "      <td>FUTURES AND CAREERS</td>\n",
       "      <td>Hyderabad/Secunderabad, Pune, Chennai, Bangalo...</td>\n",
       "      <td>2-7 Yrs</td>\n",
       "    </tr>\n",
       "  </tbody>\n",
       "</table>\n",
       "</div>"
      ],
      "text/plain": [
       "                                          Job titles  \\\n",
       "0                                     Data Scientist   \n",
       "1  Opportunity For Data Scientist Internship - Be...   \n",
       "2           Associate Data Scientist - CRM & Loyalty   \n",
       "3              Data Scientist/Data Analyst-immediate   \n",
       "4                                     Data Scientist   \n",
       "5                         Data Scientist Entry Level   \n",
       "6                                 SAS Data Scientist   \n",
       "7                        Supply Chain Data Scientist   \n",
       "8                     Data Scientist - CRM & Loyalty   \n",
       "9         Data Scientist - Python & Machine Learning   \n",
       "\n",
       "                              Company Names  \\\n",
       "0     CronJ IT Technologies Private Limited   \n",
       "1                    Corner Stone Solutions   \n",
       "2       Shell India Markets Private Limited   \n",
       "3        Inflexion Analytix Private Limited   \n",
       "4                    Redcan IT Services LLP   \n",
       "5  NeenOpal Intelligent Solutions Pvt. Ltd.   \n",
       "6                                 HireHappi   \n",
       "7                    ITC Infotech India Ltd   \n",
       "8       Shell India Markets Private Limited   \n",
       "9                       FUTURES AND CAREERS   \n",
       "\n",
       "                                            Location Experience Required  \n",
       "0                                Bangalore/Bengaluru             0-1 Yrs  \n",
       "1                                Bangalore/Bengaluru             0-1 Yrs  \n",
       "2                                Bangalore/Bengaluru             3-5 Yrs  \n",
       "3  Hyderabad/Secunderabad, Pune, Chennai, Bangalo...             0-2 Yrs  \n",
       "4           Bangalore/Bengaluru(Sector 1 HSR Layout)             0-0 Yrs  \n",
       "5                                Bangalore/Bengaluru             2-4 Yrs  \n",
       "6                                Bangalore/Bengaluru             3-8 Yrs  \n",
       "7                                Bangalore/Bengaluru             5-9 Yrs  \n",
       "8                                Bangalore/Bengaluru             5-7 Yrs  \n",
       "9  Hyderabad/Secunderabad, Pune, Chennai, Bangalo...             2-7 Yrs  "
      ]
     },
     "execution_count": 74,
     "metadata": {},
     "output_type": "execute_result"
    }
   ],
   "source": [
    "df3.head(10)"
   ]
  },
  {
   "cell_type": "code",
   "execution_count": 328,
   "metadata": {},
   "outputs": [],
   "source": [
    "driver=webdriver.Chrome(r\"D:\\chromedriver.exe\")"
   ]
  },
  {
   "cell_type": "code",
   "execution_count": 329,
   "metadata": {},
   "outputs": [],
   "source": [
    "driver.get(\"https://www.glassdoor.co.in/Salaries/index.htm\")"
   ]
  },
  {
   "cell_type": "code",
   "execution_count": 330,
   "metadata": {},
   "outputs": [],
   "source": [
    "job5=driver.find_element_by_id(\"KeywordSearch\")"
   ]
  },
  {
   "cell_type": "code",
   "execution_count": 331,
   "metadata": {},
   "outputs": [],
   "source": [
    "job5.send_keys(\"Data Scientist\")"
   ]
  },
  {
   "cell_type": "code",
   "execution_count": 332,
   "metadata": {},
   "outputs": [],
   "source": [
    "location5=driver.find_element_by_id(\"LocationSearch\")"
   ]
  },
  {
   "cell_type": "code",
   "execution_count": 333,
   "metadata": {},
   "outputs": [],
   "source": [
    "#Clearing if any entries are already present\n",
    "location5.clear()"
   ]
  },
  {
   "cell_type": "code",
   "execution_count": 334,
   "metadata": {},
   "outputs": [],
   "source": [
    "location5.send_keys(\"Noida(India)\")"
   ]
  },
  {
   "cell_type": "code",
   "execution_count": 335,
   "metadata": {},
   "outputs": [],
   "source": [
    "search5=driver.find_element_by_id(\"HeroSearchButton\").click()"
   ]
  },
  {
   "cell_type": "code",
   "execution_count": 336,
   "metadata": {},
   "outputs": [],
   "source": [
    "company4_name=[]\n",
    "max4_salary=[]\n",
    "avgg4_salary=[]\n",
    "minn4_salary=[]"
   ]
  },
  {
   "cell_type": "code",
   "execution_count": 337,
   "metadata": {},
   "outputs": [],
   "source": [
    "company=driver.find_elements_by_xpath(\"//p[@class='m-0 ']\")"
   ]
  },
  {
   "cell_type": "code",
   "execution_count": 338,
   "metadata": {},
   "outputs": [
    {
     "data": {
      "text/plain": [
       "['Tata Consultancy Services',\n",
       " 'Accenture',\n",
       " 'Delhivery',\n",
       " 'IBM',\n",
       " 'Ericsson-Worldwide',\n",
       " 'UnitedHealth Group',\n",
       " 'Valiance Solutions',\n",
       " 'Innovaccer',\n",
       " 'ZS Associates',\n",
       " 'EXL Service']"
      ]
     },
     "execution_count": 338,
     "metadata": {},
     "output_type": "execute_result"
    }
   ],
   "source": [
    "for l in company[:10]:\n",
    "    companyy=l.text\n",
    "    company4_name.append(companyy)\n",
    "company4_name"
   ]
  },
  {
   "cell_type": "code",
   "execution_count": 339,
   "metadata": {},
   "outputs": [],
   "source": [
    "avg_sal=driver.find_elements_by_xpath(\"//div[@class='col-2 d-none d-md-flex flex-row justify-content-end']/strong\")"
   ]
  },
  {
   "cell_type": "code",
   "execution_count": 340,
   "metadata": {},
   "outputs": [
    {
     "data": {
      "text/plain": [
       "['₹ 5,97,967',\n",
       " '₹ 11,12,243',\n",
       " '₹ 12,12,741',\n",
       " '₹ 7,37,972',\n",
       " '₹ 7,15,984',\n",
       " '₹ 13,41,900',\n",
       " '₹ 7,90,812',\n",
       " '₹ 11,81,047',\n",
       " '₹ 9,89,924',\n",
       " '₹ 11,73,127']"
      ]
     },
     "execution_count": 340,
     "metadata": {},
     "output_type": "execute_result"
    }
   ],
   "source": [
    "for pp in avg_sal[:10]:\n",
    "    avgg=pp.text\n",
    "    avgg4_salary.append(avgg)\n",
    "avgg4_salary"
   ]
  },
  {
   "cell_type": "code",
   "execution_count": 341,
   "metadata": {},
   "outputs": [],
   "source": [
    "min_sal=driver.find_elements_by_xpath(\"//div[@class='common__RangeBarStyle__values d-flex justify-content-between ']/span[1]\")"
   ]
  },
  {
   "cell_type": "code",
   "execution_count": 342,
   "metadata": {},
   "outputs": [
    {
     "data": {
      "text/plain": [
       "['₹333K',\n",
       " '₹560K',\n",
       " '₹436K',\n",
       " '₹569K',\n",
       " '₹350K',\n",
       " '₹1,037K',\n",
       " '₹487K',\n",
       " '₹602K',\n",
       " '₹196K',\n",
       " '₹558K']"
      ]
     },
     "execution_count": 342,
     "metadata": {},
     "output_type": "execute_result"
    }
   ],
   "source": [
    "for f in min_sal[:10]:\n",
    "    minsal=f.text\n",
    "    minn4_salary.append(minsal)\n",
    "minn4_salary"
   ]
  },
  {
   "cell_type": "code",
   "execution_count": 343,
   "metadata": {},
   "outputs": [],
   "source": [
    "maxx4_sal=driver.find_elements_by_xpath(\"//div[@class='common__RangeBarStyle__values d-flex justify-content-between ']/span[2]\")"
   ]
  },
  {
   "cell_type": "code",
   "execution_count": 344,
   "metadata": {},
   "outputs": [
    {
     "data": {
      "text/plain": [
       "['₹1,080K',\n",
       " '₹2,147K',\n",
       " '₹11,274K',\n",
       " '₹2,648K',\n",
       " '₹1,565K',\n",
       " '₹1,500K',\n",
       " '₹1,421K',\n",
       " '₹1,644K',\n",
       " '₹1,755K',\n",
       " '₹1,500K']"
      ]
     },
     "execution_count": 344,
     "metadata": {},
     "output_type": "execute_result"
    }
   ],
   "source": [
    "for f in maxx4_sal[:10]:\n",
    "    maxsal=f.text\n",
    "    max4_salary.append(maxsal)\n",
    "max4_salary"
   ]
  },
  {
   "cell_type": "code",
   "execution_count": 345,
   "metadata": {},
   "outputs": [
    {
     "data": {
      "text/html": [
       "<div>\n",
       "<style scoped>\n",
       "    .dataframe tbody tr th:only-of-type {\n",
       "        vertical-align: middle;\n",
       "    }\n",
       "\n",
       "    .dataframe tbody tr th {\n",
       "        vertical-align: top;\n",
       "    }\n",
       "\n",
       "    .dataframe thead th {\n",
       "        text-align: right;\n",
       "    }\n",
       "</style>\n",
       "<table border=\"1\" class=\"dataframe\">\n",
       "  <thead>\n",
       "    <tr style=\"text-align: right;\">\n",
       "      <th></th>\n",
       "      <th>Company Name</th>\n",
       "      <th>Average salary per year</th>\n",
       "      <th>Minimum salary per year</th>\n",
       "      <th>Maximum salary per year</th>\n",
       "    </tr>\n",
       "  </thead>\n",
       "  <tbody>\n",
       "    <tr>\n",
       "      <th>0</th>\n",
       "      <td>Tata Consultancy Services</td>\n",
       "      <td>₹ 5,97,967</td>\n",
       "      <td>₹333K</td>\n",
       "      <td>₹1,080K</td>\n",
       "    </tr>\n",
       "    <tr>\n",
       "      <th>1</th>\n",
       "      <td>Accenture</td>\n",
       "      <td>₹ 11,12,243</td>\n",
       "      <td>₹560K</td>\n",
       "      <td>₹2,147K</td>\n",
       "    </tr>\n",
       "    <tr>\n",
       "      <th>2</th>\n",
       "      <td>Delhivery</td>\n",
       "      <td>₹ 12,12,741</td>\n",
       "      <td>₹436K</td>\n",
       "      <td>₹11,274K</td>\n",
       "    </tr>\n",
       "    <tr>\n",
       "      <th>3</th>\n",
       "      <td>IBM</td>\n",
       "      <td>₹ 7,37,972</td>\n",
       "      <td>₹569K</td>\n",
       "      <td>₹2,648K</td>\n",
       "    </tr>\n",
       "    <tr>\n",
       "      <th>4</th>\n",
       "      <td>Ericsson-Worldwide</td>\n",
       "      <td>₹ 7,15,984</td>\n",
       "      <td>₹350K</td>\n",
       "      <td>₹1,565K</td>\n",
       "    </tr>\n",
       "    <tr>\n",
       "      <th>5</th>\n",
       "      <td>UnitedHealth Group</td>\n",
       "      <td>₹ 13,41,900</td>\n",
       "      <td>₹1,037K</td>\n",
       "      <td>₹1,500K</td>\n",
       "    </tr>\n",
       "    <tr>\n",
       "      <th>6</th>\n",
       "      <td>Valiance Solutions</td>\n",
       "      <td>₹ 7,90,812</td>\n",
       "      <td>₹487K</td>\n",
       "      <td>₹1,421K</td>\n",
       "    </tr>\n",
       "    <tr>\n",
       "      <th>7</th>\n",
       "      <td>Innovaccer</td>\n",
       "      <td>₹ 11,81,047</td>\n",
       "      <td>₹602K</td>\n",
       "      <td>₹1,644K</td>\n",
       "    </tr>\n",
       "    <tr>\n",
       "      <th>8</th>\n",
       "      <td>ZS Associates</td>\n",
       "      <td>₹ 9,89,924</td>\n",
       "      <td>₹196K</td>\n",
       "      <td>₹1,755K</td>\n",
       "    </tr>\n",
       "    <tr>\n",
       "      <th>9</th>\n",
       "      <td>EXL Service</td>\n",
       "      <td>₹ 11,73,127</td>\n",
       "      <td>₹558K</td>\n",
       "      <td>₹1,500K</td>\n",
       "    </tr>\n",
       "  </tbody>\n",
       "</table>\n",
       "</div>"
      ],
      "text/plain": [
       "                Company Name Average salary per year Minimum salary per year  \\\n",
       "0  Tata Consultancy Services              ₹ 5,97,967                   ₹333K   \n",
       "1                  Accenture             ₹ 11,12,243                   ₹560K   \n",
       "2                  Delhivery             ₹ 12,12,741                   ₹436K   \n",
       "3                        IBM              ₹ 7,37,972                   ₹569K   \n",
       "4         Ericsson-Worldwide              ₹ 7,15,984                   ₹350K   \n",
       "5         UnitedHealth Group             ₹ 13,41,900                 ₹1,037K   \n",
       "6         Valiance Solutions              ₹ 7,90,812                   ₹487K   \n",
       "7                 Innovaccer             ₹ 11,81,047                   ₹602K   \n",
       "8              ZS Associates              ₹ 9,89,924                   ₹196K   \n",
       "9                EXL Service             ₹ 11,73,127                   ₹558K   \n",
       "\n",
       "  Maximum salary per year  \n",
       "0                 ₹1,080K  \n",
       "1                 ₹2,147K  \n",
       "2                ₹11,274K  \n",
       "3                 ₹2,648K  \n",
       "4                 ₹1,565K  \n",
       "5                 ₹1,500K  \n",
       "6                 ₹1,421K  \n",
       "7                 ₹1,644K  \n",
       "8                 ₹1,755K  \n",
       "9                 ₹1,500K  "
      ]
     },
     "execution_count": 345,
     "metadata": {},
     "output_type": "execute_result"
    }
   ],
   "source": [
    "df4=pd.DataFrame({})\n",
    "df4['Company Name']=company4_name\n",
    "df4['Average salary per year']=avgg4_salary\n",
    "df4['Minimum salary per year']=minn4_salary\n",
    "df4['Maximum salary per year']=max4_salary\n",
    "df4"
   ]
  },
  {
   "cell_type": "code",
   "execution_count": 95,
   "metadata": {},
   "outputs": [],
   "source": [
    "driver=webdriver.Chrome(r\"D:\\chromedriver.exe\")"
   ]
  },
  {
   "cell_type": "code",
   "execution_count": 96,
   "metadata": {},
   "outputs": [],
   "source": [
    "driver.get(\"https://www.naukri.com/\")"
   ]
  },
  {
   "cell_type": "code",
   "execution_count": 97,
   "metadata": {},
   "outputs": [],
   "source": [
    "search_job2=driver.find_element_by_id(\"qsb-keyword-sugg\")\n",
    "search_job2.send_keys(\"Data Scientist\")"
   ]
  },
  {
   "cell_type": "code",
   "execution_count": 98,
   "metadata": {},
   "outputs": [],
   "source": [
    "search_loc2=driver.find_element_by_xpath(\"//input[@id='qsb-location-sugg']\")\n",
    "search_loc2.send_keys(\"Bangalore\")"
   ]
  },
  {
   "cell_type": "code",
   "execution_count": 99,
   "metadata": {},
   "outputs": [],
   "source": [
    "search_btn2=driver.find_element_by_xpath(\"//div[@class='search-btn']/button\")\n",
    "search_btn2.click()"
   ]
  },
  {
   "cell_type": "code",
   "execution_count": 100,
   "metadata": {},
   "outputs": [],
   "source": [
    "job2_title=[]\n",
    "company2_name=[]\n",
    "job2_location=[]\n",
    "job2_desc=[]"
   ]
  },
  {
   "cell_type": "code",
   "execution_count": 101,
   "metadata": {},
   "outputs": [
    {
     "data": {
      "text/plain": [
       "['Data Scientist',\n",
       " 'Opportunity For Data Scientist Internship - Bengaluru',\n",
       " 'Data Scientist - Machine Learning',\n",
       " 'Data Scientist || Data Analyst || Data science',\n",
       " 'Data Scientist - IBM Garage',\n",
       " 'DBCG IND - GAMMA Senior Data Scientist',\n",
       " 'Data Scientist/Senior Data Scientist',\n",
       " 'Senior Data Scientist | CES IT LTD | CMMI Level 5',\n",
       " 'Global Medical Data Scientist',\n",
       " 'Associate Data Scientist - CRM & Loyalty']"
      ]
     },
     "execution_count": 101,
     "metadata": {},
     "output_type": "execute_result"
    }
   ],
   "source": [
    "job2=driver.find_elements_by_xpath(\"//a[@class='title fw500 ellipsis']\")\n",
    "for k in job2[:10]:\n",
    "    kk=k.text\n",
    "    job2_title.append(kk)\n",
    "job2_title"
   ]
  },
  {
   "cell_type": "code",
   "execution_count": 102,
   "metadata": {},
   "outputs": [
    {
     "data": {
      "text/plain": [
       "['CronJ IT Technologies Private Limited',\n",
       " 'Corner Stone Solutions',\n",
       " 'AugmatrixGo',\n",
       " 'Inspiration Manpower Consultancy Pvt. Ltd.',\n",
       " 'IBM India Pvt. Limited',\n",
       " 'Boston Consulting Group',\n",
       " 'GANIT BUSINESS SOLUTIONS PRIVATE LIMITED',\n",
       " 'CES Ltd.',\n",
       " 'GlaxoSmithKline Pharmaceuticals Limited',\n",
       " 'Shell India Markets Private Limited']"
      ]
     },
     "execution_count": 102,
     "metadata": {},
     "output_type": "execute_result"
    }
   ],
   "source": [
    "comp2=driver.find_elements_by_xpath(\"//a[@class='subTitle ellipsis fleft']\")\n",
    "for m in comp2[:10]:\n",
    "    mm=m.text\n",
    "    company2_name.append(mm)\n",
    "company2_name"
   ]
  },
  {
   "cell_type": "code",
   "execution_count": 103,
   "metadata": {},
   "outputs": [],
   "source": [
    "loc2=driver.find_elements_by_xpath(\"//li[@class='fleft grey-text br2 placeHolderLi location']/span[@class='ellipsis fleft fs12 lh16']\")"
   ]
  },
  {
   "cell_type": "code",
   "execution_count": 104,
   "metadata": {},
   "outputs": [
    {
     "data": {
      "text/plain": [
       "['Bangalore/Bengaluru',\n",
       " 'Bangalore/Bengaluru',\n",
       " 'Bangalore/Bengaluru',\n",
       " 'Navi Mumbai, Bangalore/Bengaluru',\n",
       " 'Noida, Hyderabad/Secunderabad, Bangalore/Bengaluru',\n",
       " 'Mumbai, New Delhi, Chennai, Bangalore/Bengaluru',\n",
       " 'Hyderabad/Secunderabad, Pune, Chennai, Bangalore/Bengaluru, Mumbai (All Areas)',\n",
       " 'Kolkata, Mumbai, Hyderabad/Secunderabad, Pune, Chennai, Bangalore/Bengaluru, Delhi / NCR',\n",
       " 'Bangalore/Bengaluru',\n",
       " 'Bangalore/Bengaluru']"
      ]
     },
     "execution_count": 104,
     "metadata": {},
     "output_type": "execute_result"
    }
   ],
   "source": [
    "for l in loc2[:10]:\n",
    "    ll=l.text\n",
    "    job2_location.append(ll)\n",
    "job2_location"
   ]
  },
  {
   "cell_type": "code",
   "execution_count": 105,
   "metadata": {},
   "outputs": [],
   "source": [
    "#importing exceptions\n",
    "from selenium.common.exceptions import NoSuchElementException"
   ]
  },
  {
   "cell_type": "code",
   "execution_count": 106,
   "metadata": {},
   "outputs": [],
   "source": [
    "urls=driver.find_elements_by_xpath(\"//a[@class='title fw500 ellipsis']\")\n",
    "UR=[]\n",
    "for j in urls[:10]:\n",
    "    UR.append(j.get_attribute('href'))\n",
    "for i in UR:\n",
    "    driver.get(i)\n",
    "    try:\n",
    "        desc2=driver.find_element_by_xpath(\"//section[@class='job-desc']\")\n",
    "        job2_desc.append(desc2.text)\n",
    "    except NoSuchElementException as  e:\n",
    "        job2_desc.append(\"No job description available\")"
   ]
  },
  {
   "cell_type": "code",
   "execution_count": 107,
   "metadata": {},
   "outputs": [
    {
     "data": {
      "text/plain": [
       "10"
      ]
     },
     "execution_count": 107,
     "metadata": {},
     "output_type": "execute_result"
    }
   ],
   "source": [
    "len(job2_desc)"
   ]
  },
  {
   "cell_type": "code",
   "execution_count": 108,
   "metadata": {},
   "outputs": [
    {
     "name": "stdout",
     "output_type": "stream",
     "text": [
      "10 10 10 10\n"
     ]
    }
   ],
   "source": [
    "print(len(job2_title),len(company2_name),len(job2_location),len(job2_desc))"
   ]
  },
  {
   "cell_type": "code",
   "execution_count": 109,
   "metadata": {},
   "outputs": [],
   "source": [
    "df2=pd.DataFrame({})\n",
    "df2['Job title']=job2_title\n",
    "df2['Company Name']=company2_name\n",
    "df2['Location']=job2_location\n",
    "df2['Job Description']=job2_desc"
   ]
  },
  {
   "cell_type": "code",
   "execution_count": 110,
   "metadata": {},
   "outputs": [
    {
     "data": {
      "text/html": [
       "<div>\n",
       "<style scoped>\n",
       "    .dataframe tbody tr th:only-of-type {\n",
       "        vertical-align: middle;\n",
       "    }\n",
       "\n",
       "    .dataframe tbody tr th {\n",
       "        vertical-align: top;\n",
       "    }\n",
       "\n",
       "    .dataframe thead th {\n",
       "        text-align: right;\n",
       "    }\n",
       "</style>\n",
       "<table border=\"1\" class=\"dataframe\">\n",
       "  <thead>\n",
       "    <tr style=\"text-align: right;\">\n",
       "      <th></th>\n",
       "      <th>Job title</th>\n",
       "      <th>Company Name</th>\n",
       "      <th>Location</th>\n",
       "      <th>Job Description</th>\n",
       "    </tr>\n",
       "  </thead>\n",
       "  <tbody>\n",
       "    <tr>\n",
       "      <th>0</th>\n",
       "      <td>Data Scientist</td>\n",
       "      <td>CronJ IT Technologies Private Limited</td>\n",
       "      <td>Bangalore/Bengaluru</td>\n",
       "      <td>Job description\\nResponsibilities and Duties\\n...</td>\n",
       "    </tr>\n",
       "    <tr>\n",
       "      <th>1</th>\n",
       "      <td>Opportunity For Data Scientist Internship - Be...</td>\n",
       "      <td>Corner Stone Solutions</td>\n",
       "      <td>Bangalore/Bengaluru</td>\n",
       "      <td>Job description\\nLocation - Bangalore / Bengal...</td>\n",
       "    </tr>\n",
       "    <tr>\n",
       "      <th>2</th>\n",
       "      <td>Data Scientist - Machine Learning</td>\n",
       "      <td>AugmatrixGo</td>\n",
       "      <td>Bangalore/Bengaluru</td>\n",
       "      <td>Job description\\nRoles and Responsibilities\\n\\...</td>\n",
       "    </tr>\n",
       "    <tr>\n",
       "      <th>3</th>\n",
       "      <td>Data Scientist || Data Analyst || Data science</td>\n",
       "      <td>Inspiration Manpower Consultancy Pvt. Ltd.</td>\n",
       "      <td>Navi Mumbai, Bangalore/Bengaluru</td>\n",
       "      <td>Job description\\nJob description\\nJob Summary ...</td>\n",
       "    </tr>\n",
       "    <tr>\n",
       "      <th>4</th>\n",
       "      <td>Data Scientist - IBM Garage</td>\n",
       "      <td>IBM India Pvt. Limited</td>\n",
       "      <td>Noida, Hyderabad/Secunderabad, Bangalore/Benga...</td>\n",
       "      <td>No job description available</td>\n",
       "    </tr>\n",
       "    <tr>\n",
       "      <th>5</th>\n",
       "      <td>DBCG IND - GAMMA Senior Data Scientist</td>\n",
       "      <td>Boston Consulting Group</td>\n",
       "      <td>Mumbai, New Delhi, Chennai, Bangalore/Bengaluru</td>\n",
       "      <td>Job description\\n    What Youll Do\\n\\nWe re lo...</td>\n",
       "    </tr>\n",
       "    <tr>\n",
       "      <th>6</th>\n",
       "      <td>Data Scientist/Senior Data Scientist</td>\n",
       "      <td>GANIT BUSINESS SOLUTIONS PRIVATE LIMITED</td>\n",
       "      <td>Hyderabad/Secunderabad, Pune, Chennai, Bangalo...</td>\n",
       "      <td>Job description\\n\\nAbout Ganit Inc\\n\\nFounded ...</td>\n",
       "    </tr>\n",
       "    <tr>\n",
       "      <th>7</th>\n",
       "      <td>Senior Data Scientist | CES IT LTD | CMMI Level 5</td>\n",
       "      <td>CES Ltd.</td>\n",
       "      <td>Kolkata, Mumbai, Hyderabad/Secunderabad, Pune,...</td>\n",
       "      <td>Job description\\nRoles and Responsibilities\\n\\...</td>\n",
       "    </tr>\n",
       "    <tr>\n",
       "      <th>8</th>\n",
       "      <td>Global Medical Data Scientist</td>\n",
       "      <td>GlaxoSmithKline Pharmaceuticals Limited</td>\n",
       "      <td>Bangalore/Bengaluru</td>\n",
       "      <td>No job description available</td>\n",
       "    </tr>\n",
       "    <tr>\n",
       "      <th>9</th>\n",
       "      <td>Associate Data Scientist - CRM &amp; Loyalty</td>\n",
       "      <td>Shell India Markets Private Limited</td>\n",
       "      <td>Bangalore/Bengaluru</td>\n",
       "      <td>Job description\\nThe Role\\nGeneral Position De...</td>\n",
       "    </tr>\n",
       "  </tbody>\n",
       "</table>\n",
       "</div>"
      ],
      "text/plain": [
       "                                           Job title  \\\n",
       "0                                     Data Scientist   \n",
       "1  Opportunity For Data Scientist Internship - Be...   \n",
       "2                  Data Scientist - Machine Learning   \n",
       "3     Data Scientist || Data Analyst || Data science   \n",
       "4                        Data Scientist - IBM Garage   \n",
       "5             DBCG IND - GAMMA Senior Data Scientist   \n",
       "6               Data Scientist/Senior Data Scientist   \n",
       "7  Senior Data Scientist | CES IT LTD | CMMI Level 5   \n",
       "8                      Global Medical Data Scientist   \n",
       "9           Associate Data Scientist - CRM & Loyalty   \n",
       "\n",
       "                                 Company Name  \\\n",
       "0       CronJ IT Technologies Private Limited   \n",
       "1                      Corner Stone Solutions   \n",
       "2                                 AugmatrixGo   \n",
       "3  Inspiration Manpower Consultancy Pvt. Ltd.   \n",
       "4                      IBM India Pvt. Limited   \n",
       "5                     Boston Consulting Group   \n",
       "6    GANIT BUSINESS SOLUTIONS PRIVATE LIMITED   \n",
       "7                                    CES Ltd.   \n",
       "8     GlaxoSmithKline Pharmaceuticals Limited   \n",
       "9         Shell India Markets Private Limited   \n",
       "\n",
       "                                            Location  \\\n",
       "0                                Bangalore/Bengaluru   \n",
       "1                                Bangalore/Bengaluru   \n",
       "2                                Bangalore/Bengaluru   \n",
       "3                   Navi Mumbai, Bangalore/Bengaluru   \n",
       "4  Noida, Hyderabad/Secunderabad, Bangalore/Benga...   \n",
       "5    Mumbai, New Delhi, Chennai, Bangalore/Bengaluru   \n",
       "6  Hyderabad/Secunderabad, Pune, Chennai, Bangalo...   \n",
       "7  Kolkata, Mumbai, Hyderabad/Secunderabad, Pune,...   \n",
       "8                                Bangalore/Bengaluru   \n",
       "9                                Bangalore/Bengaluru   \n",
       "\n",
       "                                     Job Description  \n",
       "0  Job description\\nResponsibilities and Duties\\n...  \n",
       "1  Job description\\nLocation - Bangalore / Bengal...  \n",
       "2  Job description\\nRoles and Responsibilities\\n\\...  \n",
       "3  Job description\\nJob description\\nJob Summary ...  \n",
       "4                       No job description available  \n",
       "5  Job description\\n    What Youll Do\\n\\nWe re lo...  \n",
       "6  Job description\\n\\nAbout Ganit Inc\\n\\nFounded ...  \n",
       "7  Job description\\nRoles and Responsibilities\\n\\...  \n",
       "8                       No job description available  \n",
       "9  Job description\\nThe Role\\nGeneral Position De...  "
      ]
     },
     "execution_count": 110,
     "metadata": {},
     "output_type": "execute_result"
    }
   ],
   "source": [
    "df2"
   ]
  },
  {
   "cell_type": "code",
   "execution_count": 178,
   "metadata": {},
   "outputs": [],
   "source": [
    "driver=webdriver.Chrome(r\"D:\\chromedriver.exe\")"
   ]
  },
  {
   "cell_type": "code",
   "execution_count": 179,
   "metadata": {},
   "outputs": [],
   "source": [
    "driver.get(\"https://www.glassdoor.co.in/index.htm\")"
   ]
  },
  {
   "cell_type": "code",
   "execution_count": 180,
   "metadata": {},
   "outputs": [],
   "source": [
    "job4=driver.find_element_by_id(\"sc.keyword\")"
   ]
  },
  {
   "cell_type": "code",
   "execution_count": 181,
   "metadata": {},
   "outputs": [],
   "source": [
    "job4.send_keys(\"Data Scientist\")"
   ]
  },
  {
   "cell_type": "code",
   "execution_count": 182,
   "metadata": {},
   "outputs": [],
   "source": [
    "loc4=driver.find_element_by_id(\"sc.location\")"
   ]
  },
  {
   "cell_type": "code",
   "execution_count": 122,
   "metadata": {},
   "outputs": [],
   "source": [
    "#loc4=loc4.clear()"
   ]
  },
  {
   "cell_type": "code",
   "execution_count": 183,
   "metadata": {},
   "outputs": [],
   "source": [
    "loc4.send_keys(\"Noida(India)\")"
   ]
  },
  {
   "cell_type": "code",
   "execution_count": 184,
   "metadata": {},
   "outputs": [],
   "source": [
    "search_btn4=driver.find_element_by_xpath(\"//button[@class='gd-ui-button ml-std col-auto SearchStyles__newSearchButton css-iixdfr']\")\n",
    "search_btn4.click()"
   ]
  },
  {
   "cell_type": "code",
   "execution_count": 185,
   "metadata": {},
   "outputs": [],
   "source": [
    "company4_name=[]\n",
    "recency=[]\n",
    "rating=[]"
   ]
  },
  {
   "cell_type": "code",
   "execution_count": 186,
   "metadata": {},
   "outputs": [],
   "source": [
    "comp4_name=driver.find_elements_by_xpath(\"//div[@class='d-flex justify-content-between align-items-start']/a[@class=' css-l2wjgv e1n63ojh0 jobLink']\")"
   ]
  },
  {
   "cell_type": "code",
   "execution_count": 187,
   "metadata": {},
   "outputs": [
    {
     "data": {
      "text/plain": [
       "['BlackRock',\n",
       " 'Elsevier',\n",
       " 'Techlive',\n",
       " 'Adobe',\n",
       " 'Biz2Credit Inc',\n",
       " 'WishFin',\n",
       " 'abc consultants',\n",
       " 'Priority Vendor',\n",
       " 'Healtheoz India',\n",
       " 'Gauge Data Solutions']"
      ]
     },
     "execution_count": 187,
     "metadata": {},
     "output_type": "execute_result"
    }
   ],
   "source": [
    "for h in comp4_name[:10]:\n",
    "    comp4=h.text\n",
    "    company4_name.append(comp4)\n",
    "company4_name"
   ]
  },
  {
   "cell_type": "code",
   "execution_count": 188,
   "metadata": {},
   "outputs": [],
   "source": [
    "recency4=driver.find_elements_by_xpath(\"//div[@class='d-flex align-items-end pl-std css-mi55ob']\")"
   ]
  },
  {
   "cell_type": "code",
   "execution_count": 189,
   "metadata": {},
   "outputs": [
    {
     "data": {
      "text/plain": [
       "['18d', '12d', '5d', '1d', '7d', '10d', '27d', '27d', '27d', '27d']"
      ]
     },
     "execution_count": 189,
     "metadata": {},
     "output_type": "execute_result"
    }
   ],
   "source": [
    "for z in recency4[:10]:\n",
    "    rec4=z.text\n",
    "    recency.append(rec4)\n",
    "recency"
   ]
  },
  {
   "cell_type": "code",
   "execution_count": 190,
   "metadata": {},
   "outputs": [],
   "source": [
    "rating4=driver.find_elements_by_xpath(\"//span[@class='css-19pjha7 e1cjmv6j1']\")"
   ]
  },
  {
   "cell_type": "code",
   "execution_count": 191,
   "metadata": {},
   "outputs": [
    {
     "name": "stdout",
     "output_type": "stream",
     "text": [
      "10\n"
     ]
    }
   ],
   "source": [
    "for r in rating4[:10]:\n",
    "    rate4=r.text\n",
    "    rating.append(rate4)\n",
    "print(len(rating))"
   ]
  },
  {
   "cell_type": "code",
   "execution_count": 192,
   "metadata": {},
   "outputs": [
    {
     "data": {
      "text/plain": [
       "['4.0', '4.3', '5.0', '4.4', '3.8', '3.8', '4.2', '3.7', '4.8', '3.1']"
      ]
     },
     "execution_count": 192,
     "metadata": {},
     "output_type": "execute_result"
    }
   ],
   "source": [
    "rating"
   ]
  },
  {
   "cell_type": "code",
   "execution_count": 193,
   "metadata": {},
   "outputs": [
    {
     "name": "stdout",
     "output_type": "stream",
     "text": [
      "10 10 10\n"
     ]
    }
   ],
   "source": [
    "print(len(company4_name),len(recency),len(rating))"
   ]
  },
  {
   "cell_type": "code",
   "execution_count": 194,
   "metadata": {},
   "outputs": [],
   "source": [
    "df4=pd.DataFrame({})\n",
    "df4['Company Name']=company4_name\n",
    "df4['Recency of job posting']=recency\n",
    "df4['Rating']=rating"
   ]
  },
  {
   "cell_type": "code",
   "execution_count": 195,
   "metadata": {},
   "outputs": [
    {
     "data": {
      "text/html": [
       "<div>\n",
       "<style scoped>\n",
       "    .dataframe tbody tr th:only-of-type {\n",
       "        vertical-align: middle;\n",
       "    }\n",
       "\n",
       "    .dataframe tbody tr th {\n",
       "        vertical-align: top;\n",
       "    }\n",
       "\n",
       "    .dataframe thead th {\n",
       "        text-align: right;\n",
       "    }\n",
       "</style>\n",
       "<table border=\"1\" class=\"dataframe\">\n",
       "  <thead>\n",
       "    <tr style=\"text-align: right;\">\n",
       "      <th></th>\n",
       "      <th>Company Name</th>\n",
       "      <th>Recency of job posting</th>\n",
       "      <th>Rating</th>\n",
       "    </tr>\n",
       "  </thead>\n",
       "  <tbody>\n",
       "    <tr>\n",
       "      <th>0</th>\n",
       "      <td>BlackRock</td>\n",
       "      <td>18d</td>\n",
       "      <td>4.0</td>\n",
       "    </tr>\n",
       "    <tr>\n",
       "      <th>1</th>\n",
       "      <td>Elsevier</td>\n",
       "      <td>12d</td>\n",
       "      <td>4.3</td>\n",
       "    </tr>\n",
       "    <tr>\n",
       "      <th>2</th>\n",
       "      <td>Techlive</td>\n",
       "      <td>5d</td>\n",
       "      <td>5.0</td>\n",
       "    </tr>\n",
       "    <tr>\n",
       "      <th>3</th>\n",
       "      <td>Adobe</td>\n",
       "      <td>1d</td>\n",
       "      <td>4.4</td>\n",
       "    </tr>\n",
       "    <tr>\n",
       "      <th>4</th>\n",
       "      <td>Biz2Credit Inc</td>\n",
       "      <td>7d</td>\n",
       "      <td>3.8</td>\n",
       "    </tr>\n",
       "    <tr>\n",
       "      <th>5</th>\n",
       "      <td>WishFin</td>\n",
       "      <td>10d</td>\n",
       "      <td>3.8</td>\n",
       "    </tr>\n",
       "    <tr>\n",
       "      <th>6</th>\n",
       "      <td>abc consultants</td>\n",
       "      <td>27d</td>\n",
       "      <td>4.2</td>\n",
       "    </tr>\n",
       "    <tr>\n",
       "      <th>7</th>\n",
       "      <td>Priority Vendor</td>\n",
       "      <td>27d</td>\n",
       "      <td>3.7</td>\n",
       "    </tr>\n",
       "    <tr>\n",
       "      <th>8</th>\n",
       "      <td>Healtheoz India</td>\n",
       "      <td>27d</td>\n",
       "      <td>4.8</td>\n",
       "    </tr>\n",
       "    <tr>\n",
       "      <th>9</th>\n",
       "      <td>Gauge Data Solutions</td>\n",
       "      <td>27d</td>\n",
       "      <td>3.1</td>\n",
       "    </tr>\n",
       "  </tbody>\n",
       "</table>\n",
       "</div>"
      ],
      "text/plain": [
       "           Company Name Recency of job posting Rating\n",
       "0             BlackRock                    18d    4.0\n",
       "1              Elsevier                    12d    4.3\n",
       "2              Techlive                     5d    5.0\n",
       "3                 Adobe                     1d    4.4\n",
       "4        Biz2Credit Inc                     7d    3.8\n",
       "5               WishFin                    10d    3.8\n",
       "6       abc consultants                    27d    4.2\n",
       "7       Priority Vendor                    27d    3.7\n",
       "8       Healtheoz India                    27d    4.8\n",
       "9  Gauge Data Solutions                    27d    3.1"
      ]
     },
     "execution_count": 195,
     "metadata": {},
     "output_type": "execute_result"
    }
   ],
   "source": [
    "df4"
   ]
  },
  {
   "cell_type": "code",
   "execution_count": 214,
   "metadata": {},
   "outputs": [],
   "source": [
    "driver=webdriver.Chrome(r\"D:\\chromedriver.exe\")"
   ]
  },
  {
   "cell_type": "code",
   "execution_count": 215,
   "metadata": {},
   "outputs": [],
   "source": [
    "driver.get(\"https://www.myntra.com/shoes\")"
   ]
  },
  {
   "cell_type": "code",
   "execution_count": 212,
   "metadata": {},
   "outputs": [],
   "source": [
    "black_clr_filter=driver.find_element_by_xpath(\"//span[@class='colour-label colour-colorDisplay']\").click()"
   ]
  },
  {
   "cell_type": "code",
   "execution_count": 234,
   "metadata": {},
   "outputs": [],
   "source": [
    "price_filter=driver.find_element_by_xpath(\"//ul[@class='price-list']/li[2]/label[@class='common-customCheckbox vertical-filters-label']/div[@class='common-checkboxIndicator']\").click()"
   ]
  },
  {
   "cell_type": "code",
   "execution_count": 235,
   "metadata": {},
   "outputs": [],
   "source": [
    "brand=[]\n",
    "short_desc=[]\n",
    "price=[]"
   ]
  },
  {
   "cell_type": "code",
   "execution_count": 236,
   "metadata": {},
   "outputs": [],
   "source": [
    "try:\n",
    "    brand_a=driver.find_elements_by_xpath(\"//div[@class='product-productMetaInfo']/h3[@class='product-brand']\")\n",
    "    for i in brand_a:\n",
    "        ii=i.text\n",
    "        brand.append(ii)\n",
    "except NoSuchElementException as e:\n",
    "    price.append(\"Brand Name unavailable\")\n",
    "except ElementNotInteractableException as e:\n",
    "    price.append(\"Brand Name unvailable\")"
   ]
  },
  {
   "cell_type": "code",
   "execution_count": 237,
   "metadata": {},
   "outputs": [
    {
     "data": {
      "text/plain": [
       "50"
      ]
     },
     "execution_count": 237,
     "metadata": {},
     "output_type": "execute_result"
    }
   ],
   "source": [
    "len(brand)"
   ]
  },
  {
   "cell_type": "code",
   "execution_count": 238,
   "metadata": {},
   "outputs": [],
   "source": [
    "try:\n",
    "    short_desc_a=driver.find_elements_by_xpath(\"//div[@class='product-productMetaInfo']/h4[@class='product-product']\")\n",
    "    for j in short_desc_a:\n",
    "        jj=j.text\n",
    "        short_desc.append(jj)\n",
    "except NoSuchElementException as e:\n",
    "    price.append(\"Description unavailable\")\n",
    "except ElementNotInteractableException as e:\n",
    "    price.append(\"Description unvailable\")"
   ]
  },
  {
   "cell_type": "code",
   "execution_count": 239,
   "metadata": {},
   "outputs": [
    {
     "data": {
      "text/plain": [
       "50"
      ]
     },
     "execution_count": 239,
     "metadata": {},
     "output_type": "execute_result"
    }
   ],
   "source": [
    "len(short_desc)"
   ]
  },
  {
   "cell_type": "code",
   "execution_count": 240,
   "metadata": {},
   "outputs": [
    {
     "data": {
      "text/plain": [
       "['Rs. 7799Rs. 12999',\n",
       " 'Rs. 8396Rs. 11995',\n",
       " 'Rs. 10121Rs. 13495',\n",
       " 'Rs. 7197Rs. 11995',\n",
       " 'Rs. 7999',\n",
       " 'Rs. 6996Rs. 9995',\n",
       " 'Rs. 8246Rs. 10995',\n",
       " 'Rs. 6999',\n",
       " 'Rs. 11495',\n",
       " 'Rs. 12495',\n",
       " 'Rs. 10496Rs. 14995',\n",
       " 'Rs. 10846Rs. 15495',\n",
       " 'Rs. 12995',\n",
       " 'Rs. 7721Rs. 10295',\n",
       " 'Rs. 10999',\n",
       " 'Rs. 8295',\n",
       " 'Rs. 10121Rs. 13495',\n",
       " 'Rs. 9999',\n",
       " 'Rs. 6999',\n",
       " 'Rs. 7195',\n",
       " 'Rs. 7999',\n",
       " 'Rs. 9999',\n",
       " 'Rs. 8999',\n",
       " 'Rs. 9999',\n",
       " 'Rs. 9599Rs. 11999',\n",
       " 'Rs. 10999',\n",
       " 'Rs. 10995',\n",
       " 'Rs. 7199Rs. 8999',\n",
       " 'Rs. 9999',\n",
       " 'Rs. 8999',\n",
       " 'Rs. 10999',\n",
       " 'Rs. 8799Rs. 10999',\n",
       " 'Rs. 7999Rs. 9999',\n",
       " 'Rs. 7499',\n",
       " 'Rs. 6399Rs. 7999',\n",
       " 'Rs. 6999',\n",
       " 'Rs. 7999',\n",
       " 'Rs. 7999',\n",
       " 'Rs. 6999',\n",
       " 'Rs. 8999',\n",
       " 'Rs. 7999',\n",
       " 'Rs. 6999',\n",
       " 'Rs. 6795',\n",
       " 'Rs. 9999',\n",
       " 'Rs. 7492Rs. 9990',\n",
       " 'Rs. 7999',\n",
       " 'Rs. 12495',\n",
       " 'Rs. 6995',\n",
       " 'Rs. 7499Rs. 14999',\n",
       " 'Rs. 7149Rs. 12999']"
      ]
     },
     "execution_count": 240,
     "metadata": {},
     "output_type": "execute_result"
    }
   ],
   "source": [
    "try:\n",
    "    price_a=driver.find_elements_by_xpath(\"//div[@class='product-price']/span[1]\")\n",
    "    for k in price_a:\n",
    "        kk=k.text\n",
    "        price.append(kk)\n",
    "except NoSuchElementException as e:\n",
    "    price.append(\"Price unavailable\")\n",
    "except ElementNotInteractableException as e:\n",
    "    price.append(\"Price unvailable\")    \n",
    "price"
   ]
  },
  {
   "cell_type": "code",
   "execution_count": 241,
   "metadata": {},
   "outputs": [
    {
     "data": {
      "text/plain": [
       "50"
      ]
     },
     "execution_count": 241,
     "metadata": {},
     "output_type": "execute_result"
    }
   ],
   "source": [
    "len(price)"
   ]
  },
  {
   "cell_type": "code",
   "execution_count": 242,
   "metadata": {},
   "outputs": [],
   "source": [
    "#Clicking the next button\n",
    "next_button=driver.find_element_by_xpath(\"//li[@class='pagination-next']\").click()"
   ]
  },
  {
   "cell_type": "code",
   "execution_count": 243,
   "metadata": {},
   "outputs": [],
   "source": [
    "try:\n",
    "    brand_a=driver.find_elements_by_xpath(\"//div[@class='product-productMetaInfo']/h3[@class='product-brand']\")\n",
    "    for i in brand_a:\n",
    "        ii=i.text\n",
    "        brand.append(ii)\n",
    "except NoSuchElementException as e:\n",
    "    price.append(\"Brand Name unavailable\")\n",
    "except ElementNotInteractableException as e:\n",
    "    price.append(\"Brand Name unvailable\")"
   ]
  },
  {
   "cell_type": "code",
   "execution_count": 244,
   "metadata": {},
   "outputs": [
    {
     "data": {
      "text/plain": [
       "100"
      ]
     },
     "execution_count": 244,
     "metadata": {},
     "output_type": "execute_result"
    }
   ],
   "source": [
    "len(brand)"
   ]
  },
  {
   "cell_type": "code",
   "execution_count": 245,
   "metadata": {},
   "outputs": [],
   "source": [
    "try:\n",
    "    short_desc_a=driver.find_elements_by_xpath(\"//div[@class='product-productMetaInfo']/h4[@class='product-product']\")\n",
    "    for j in short_desc_a:\n",
    "        jj=j.text\n",
    "        short_desc.append(jj)\n",
    "except NoSuchElementException as e:\n",
    "    price.append(\"Description unavailable\")\n",
    "except ElementNotInteractableException as e:\n",
    "    price.append(\"Description unvailable\")"
   ]
  },
  {
   "cell_type": "code",
   "execution_count": 246,
   "metadata": {},
   "outputs": [
    {
     "data": {
      "text/plain": [
       "100"
      ]
     },
     "execution_count": 246,
     "metadata": {},
     "output_type": "execute_result"
    }
   ],
   "source": [
    "len(short_desc)"
   ]
  },
  {
   "cell_type": "code",
   "execution_count": 247,
   "metadata": {},
   "outputs": [],
   "source": [
    "from selenium.common.exceptions import NoSuchElementException,ElementNotInteractableException"
   ]
  },
  {
   "cell_type": "code",
   "execution_count": 248,
   "metadata": {},
   "outputs": [
    {
     "data": {
      "text/plain": [
       "['Rs. 7799Rs. 12999',\n",
       " 'Rs. 8396Rs. 11995',\n",
       " 'Rs. 10121Rs. 13495',\n",
       " 'Rs. 7197Rs. 11995',\n",
       " 'Rs. 7999',\n",
       " 'Rs. 6996Rs. 9995',\n",
       " 'Rs. 8246Rs. 10995',\n",
       " 'Rs. 6999',\n",
       " 'Rs. 11495',\n",
       " 'Rs. 12495',\n",
       " 'Rs. 10496Rs. 14995',\n",
       " 'Rs. 10846Rs. 15495',\n",
       " 'Rs. 12995',\n",
       " 'Rs. 7721Rs. 10295',\n",
       " 'Rs. 10999',\n",
       " 'Rs. 8295',\n",
       " 'Rs. 10121Rs. 13495',\n",
       " 'Rs. 9999',\n",
       " 'Rs. 6999',\n",
       " 'Rs. 7195',\n",
       " 'Rs. 7999',\n",
       " 'Rs. 9999',\n",
       " 'Rs. 8999',\n",
       " 'Rs. 9999',\n",
       " 'Rs. 9599Rs. 11999',\n",
       " 'Rs. 10999',\n",
       " 'Rs. 10995',\n",
       " 'Rs. 7199Rs. 8999',\n",
       " 'Rs. 9999',\n",
       " 'Rs. 8999',\n",
       " 'Rs. 10999',\n",
       " 'Rs. 8799Rs. 10999',\n",
       " 'Rs. 7999Rs. 9999',\n",
       " 'Rs. 7499',\n",
       " 'Rs. 6399Rs. 7999',\n",
       " 'Rs. 6999',\n",
       " 'Rs. 7999',\n",
       " 'Rs. 7999',\n",
       " 'Rs. 6999',\n",
       " 'Rs. 8999',\n",
       " 'Rs. 7999',\n",
       " 'Rs. 6999',\n",
       " 'Rs. 6795',\n",
       " 'Rs. 9999',\n",
       " 'Rs. 7492Rs. 9990',\n",
       " 'Rs. 7999',\n",
       " 'Rs. 12495',\n",
       " 'Rs. 6995',\n",
       " 'Rs. 7499Rs. 14999',\n",
       " 'Rs. 7149Rs. 12999',\n",
       " 'Rs. 9999',\n",
       " 'Rs. 7492Rs. 9990',\n",
       " 'Rs. 6999',\n",
       " 'Rs. 6995',\n",
       " 'Rs. 7499Rs. 14999',\n",
       " 'Rs. 7149Rs. 12999',\n",
       " 'Rs. 9599Rs. 11999',\n",
       " 'Rs. 6999',\n",
       " 'Rs. 8499',\n",
       " 'Rs. 7499Rs. 9999',\n",
       " 'Rs. 9499',\n",
       " 'Rs. 7999',\n",
       " 'Rs. 6993Rs. 9990',\n",
       " 'Rs. 12999',\n",
       " 'Rs. 7499Rs. 9999',\n",
       " 'Rs. 9349Rs. 10999',\n",
       " 'Rs. 6795',\n",
       " 'Rs. 8799Rs. 10999',\n",
       " 'Rs. 6749Rs. 8999',\n",
       " 'Rs. 7039Rs. 10999',\n",
       " 'Rs. 7499',\n",
       " 'Rs. 6993Rs. 9990',\n",
       " 'Rs. 9999',\n",
       " 'Rs. 6993Rs. 9990',\n",
       " 'Rs. 7440Rs. 8000',\n",
       " 'Rs. 6675Rs. 8900',\n",
       " 'Rs. 11999Rs. 15999',\n",
       " 'Rs. 7999',\n",
       " 'Rs. 7117Rs. 9490',\n",
       " 'Rs. 6999',\n",
       " 'Rs. 8992Rs. 11990',\n",
       " 'Rs. 7117Rs. 9490',\n",
       " 'Rs. 7192Rs. 8990',\n",
       " 'Rs. 7693Rs. 10990',\n",
       " 'Rs. 6990',\n",
       " 'Rs. 9900',\n",
       " 'Rs. 6999',\n",
       " 'Rs. 6999',\n",
       " 'Rs. 8499',\n",
       " 'Rs. 8990',\n",
       " 'Rs. 7192Rs. 8990',\n",
       " 'Rs. 11490',\n",
       " 'Rs. 6749Rs. 8999',\n",
       " 'Rs. 9443Rs. 13490',\n",
       " 'Rs. 11242Rs. 14990',\n",
       " 'Rs. 9196Rs. 11495',\n",
       " 'Rs. 8990',\n",
       " 'Rs. 7492Rs. 9990',\n",
       " 'Rs. 9742Rs. 12990',\n",
       " 'Rs. 7499Rs. 14999']"
      ]
     },
     "execution_count": 248,
     "metadata": {},
     "output_type": "execute_result"
    }
   ],
   "source": [
    "try:\n",
    "    price_a=driver.find_elements_by_xpath(\"//div[@class='product-price']/span[1]\")\n",
    "    for k in price_a:\n",
    "        kk=k.text\n",
    "        price.append(kk)\n",
    "except NoSuchElementException as e:\n",
    "    price.append(\"Price unavailable\")\n",
    "except ElementNotInteractableException as e:\n",
    "    price.append(\"Price unvailable\")    \n",
    "price"
   ]
  },
  {
   "cell_type": "code",
   "execution_count": 249,
   "metadata": {},
   "outputs": [
    {
     "name": "stdout",
     "output_type": "stream",
     "text": [
      "100 100 100\n"
     ]
    }
   ],
   "source": [
    "print(len(brand),len(short_desc),len(price))"
   ]
  },
  {
   "cell_type": "code",
   "execution_count": 250,
   "metadata": {},
   "outputs": [
    {
     "data": {
      "text/html": [
       "<div>\n",
       "<style scoped>\n",
       "    .dataframe tbody tr th:only-of-type {\n",
       "        vertical-align: middle;\n",
       "    }\n",
       "\n",
       "    .dataframe tbody tr th {\n",
       "        vertical-align: top;\n",
       "    }\n",
       "\n",
       "    .dataframe thead th {\n",
       "        text-align: right;\n",
       "    }\n",
       "</style>\n",
       "<table border=\"1\" class=\"dataframe\">\n",
       "  <thead>\n",
       "    <tr style=\"text-align: right;\">\n",
       "      <th></th>\n",
       "      <th>Brand Name</th>\n",
       "      <th>Short Description</th>\n",
       "      <th>Actual price and Price before discount</th>\n",
       "    </tr>\n",
       "  </thead>\n",
       "  <tbody>\n",
       "    <tr>\n",
       "      <th>0</th>\n",
       "      <td>ALDO</td>\n",
       "      <td>Men Leather Loafers</td>\n",
       "      <td>Rs. 7799Rs. 12999</td>\n",
       "    </tr>\n",
       "    <tr>\n",
       "      <th>1</th>\n",
       "      <td>Nike</td>\n",
       "      <td>Women REACT Running Shoes</td>\n",
       "      <td>Rs. 8396Rs. 11995</td>\n",
       "    </tr>\n",
       "    <tr>\n",
       "      <th>2</th>\n",
       "      <td>Nike</td>\n",
       "      <td>Men AIR ZOOM Running Shoes</td>\n",
       "      <td>Rs. 10121Rs. 13495</td>\n",
       "    </tr>\n",
       "    <tr>\n",
       "      <th>3</th>\n",
       "      <td>Nike</td>\n",
       "      <td>Women Running Shoes</td>\n",
       "      <td>Rs. 7197Rs. 11995</td>\n",
       "    </tr>\n",
       "    <tr>\n",
       "      <th>4</th>\n",
       "      <td>PUMA Motorsport</td>\n",
       "      <td>Unisex Mercedes Running Shoes</td>\n",
       "      <td>Rs. 7999</td>\n",
       "    </tr>\n",
       "    <tr>\n",
       "      <th>5</th>\n",
       "      <td>Nike</td>\n",
       "      <td>Women AIR ZOOM Running Shoes</td>\n",
       "      <td>Rs. 6996Rs. 9995</td>\n",
       "    </tr>\n",
       "    <tr>\n",
       "      <th>6</th>\n",
       "      <td>Nike</td>\n",
       "      <td>Men REACT MILER Running Shoes</td>\n",
       "      <td>Rs. 8246Rs. 10995</td>\n",
       "    </tr>\n",
       "    <tr>\n",
       "      <th>7</th>\n",
       "      <td>Bugatti</td>\n",
       "      <td>Men Perforated Mule Sneakers</td>\n",
       "      <td>Rs. 6999</td>\n",
       "    </tr>\n",
       "    <tr>\n",
       "      <th>8</th>\n",
       "      <td>Nike</td>\n",
       "      <td>AIR ZOOM PEGASUS Running Shoes</td>\n",
       "      <td>Rs. 11495</td>\n",
       "    </tr>\n",
       "    <tr>\n",
       "      <th>9</th>\n",
       "      <td>Nike</td>\n",
       "      <td>Men JORDAN DELTA Basketball</td>\n",
       "      <td>Rs. 12495</td>\n",
       "    </tr>\n",
       "    <tr>\n",
       "      <th>10</th>\n",
       "      <td>Nike</td>\n",
       "      <td>Men JOYRIDE Running Shoes</td>\n",
       "      <td>Rs. 10496Rs. 14995</td>\n",
       "    </tr>\n",
       "    <tr>\n",
       "      <th>11</th>\n",
       "      <td>Nike</td>\n",
       "      <td>Men React Infinity Running</td>\n",
       "      <td>Rs. 10846Rs. 15495</td>\n",
       "    </tr>\n",
       "    <tr>\n",
       "      <th>12</th>\n",
       "      <td>Nike</td>\n",
       "      <td>Men KD13 EP Basketball Shoes</td>\n",
       "      <td>Rs. 12995</td>\n",
       "    </tr>\n",
       "    <tr>\n",
       "      <th>13</th>\n",
       "      <td>Nike</td>\n",
       "      <td>Women AIR ZOOM Running Shoes</td>\n",
       "      <td>Rs. 7721Rs. 10295</td>\n",
       "    </tr>\n",
       "    <tr>\n",
       "      <th>14</th>\n",
       "      <td>Puma</td>\n",
       "      <td>Men Velocity Nitro Running</td>\n",
       "      <td>Rs. 10999</td>\n",
       "    </tr>\n",
       "    <tr>\n",
       "      <th>15</th>\n",
       "      <td>Nike</td>\n",
       "      <td>Women REACT ESCAPE Running</td>\n",
       "      <td>Rs. 8295</td>\n",
       "    </tr>\n",
       "    <tr>\n",
       "      <th>16</th>\n",
       "      <td>Nike</td>\n",
       "      <td>Women AIR ZOOM Running</td>\n",
       "      <td>Rs. 10121Rs. 13495</td>\n",
       "    </tr>\n",
       "    <tr>\n",
       "      <th>17</th>\n",
       "      <td>Puma</td>\n",
       "      <td>Men Liberate Nitro Running</td>\n",
       "      <td>Rs. 9999</td>\n",
       "    </tr>\n",
       "    <tr>\n",
       "      <th>18</th>\n",
       "      <td>Skechers</td>\n",
       "      <td>Men VIPER COMPETITOR Training</td>\n",
       "      <td>Rs. 6999</td>\n",
       "    </tr>\n",
       "    <tr>\n",
       "      <th>19</th>\n",
       "      <td>Nike</td>\n",
       "      <td>Women ZOOM SPAN 3 Running</td>\n",
       "      <td>Rs. 7195</td>\n",
       "    </tr>\n",
       "    <tr>\n",
       "      <th>20</th>\n",
       "      <td>Puma</td>\n",
       "      <td>Men Mesh Fuse Training Or Gym Shoes</td>\n",
       "      <td>Rs. 7999</td>\n",
       "    </tr>\n",
       "    <tr>\n",
       "      <th>21</th>\n",
       "      <td>UNDER ARMOUR</td>\n",
       "      <td>Men HOVR STRT Sportstyle Shoes</td>\n",
       "      <td>Rs. 9999</td>\n",
       "    </tr>\n",
       "    <tr>\n",
       "      <th>22</th>\n",
       "      <td>UNDER ARMOUR</td>\n",
       "      <td>Men Charged Impulse Knit</td>\n",
       "      <td>Rs. 8999</td>\n",
       "    </tr>\n",
       "    <tr>\n",
       "      <th>23</th>\n",
       "      <td>Bugatti</td>\n",
       "      <td>Men Solid Leather Formal Derbys</td>\n",
       "      <td>Rs. 9999</td>\n",
       "    </tr>\n",
       "    <tr>\n",
       "      <th>24</th>\n",
       "      <td>UNDER ARMOUR</td>\n",
       "      <td>HOVR Guardian 2 Sports Shoes</td>\n",
       "      <td>Rs. 9599Rs. 11999</td>\n",
       "    </tr>\n",
       "    <tr>\n",
       "      <th>25</th>\n",
       "      <td>UNDER ARMOUR</td>\n",
       "      <td>HOVR Sonic 3 Running Shoes</td>\n",
       "      <td>Rs. 10999</td>\n",
       "    </tr>\n",
       "    <tr>\n",
       "      <th>26</th>\n",
       "      <td>Nike</td>\n",
       "      <td>Men JORDAN DELTA Sneakers</td>\n",
       "      <td>Rs. 10995</td>\n",
       "    </tr>\n",
       "    <tr>\n",
       "      <th>27</th>\n",
       "      <td>UNDER ARMOUR</td>\n",
       "      <td>Women Liquify Rebel Running</td>\n",
       "      <td>Rs. 7199Rs. 8999</td>\n",
       "    </tr>\n",
       "    <tr>\n",
       "      <th>28</th>\n",
       "      <td>Hush Puppies</td>\n",
       "      <td>Men Formal Derbys</td>\n",
       "      <td>Rs. 9999</td>\n",
       "    </tr>\n",
       "    <tr>\n",
       "      <th>29</th>\n",
       "      <td>Hush Puppies</td>\n",
       "      <td>Men Solid Leather Formal Slip-Ons</td>\n",
       "      <td>Rs. 8999</td>\n",
       "    </tr>\n",
       "    <tr>\n",
       "      <th>...</th>\n",
       "      <td>...</td>\n",
       "      <td>...</td>\n",
       "      <td>...</td>\n",
       "    </tr>\n",
       "    <tr>\n",
       "      <th>70</th>\n",
       "      <td>Skechers</td>\n",
       "      <td>SKECH-AIRATLASMISTLYN Sneakers</td>\n",
       "      <td>Rs. 7499</td>\n",
       "    </tr>\n",
       "    <tr>\n",
       "      <th>71</th>\n",
       "      <td>Heel &amp; Buckle London</td>\n",
       "      <td>Women Solid Leather Gladiators</td>\n",
       "      <td>Rs. 6993Rs. 9990</td>\n",
       "    </tr>\n",
       "    <tr>\n",
       "      <th>72</th>\n",
       "      <td>Hush Puppies</td>\n",
       "      <td>Men Solid Leather Formal Derbys</td>\n",
       "      <td>Rs. 9999</td>\n",
       "    </tr>\n",
       "    <tr>\n",
       "      <th>73</th>\n",
       "      <td>Heel &amp; Buckle London</td>\n",
       "      <td>Women Solid Leather Heels</td>\n",
       "      <td>Rs. 6993Rs. 9990</td>\n",
       "    </tr>\n",
       "    <tr>\n",
       "      <th>74</th>\n",
       "      <td>Saint G</td>\n",
       "      <td>Women Heeled Boots</td>\n",
       "      <td>Rs. 7440Rs. 8000</td>\n",
       "    </tr>\n",
       "    <tr>\n",
       "      <th>75</th>\n",
       "      <td>Saint G</td>\n",
       "      <td>Women Leather Heeled Boots</td>\n",
       "      <td>Rs. 6675Rs. 8900</td>\n",
       "    </tr>\n",
       "    <tr>\n",
       "      <th>76</th>\n",
       "      <td>Geox</td>\n",
       "      <td>Men Leather Formal Monks</td>\n",
       "      <td>Rs. 11999Rs. 15999</td>\n",
       "    </tr>\n",
       "    <tr>\n",
       "      <th>77</th>\n",
       "      <td>Hush Puppies</td>\n",
       "      <td>Men Leather Derbys</td>\n",
       "      <td>Rs. 7999</td>\n",
       "    </tr>\n",
       "    <tr>\n",
       "      <th>78</th>\n",
       "      <td>Geox</td>\n",
       "      <td>Solid Leather Wedges</td>\n",
       "      <td>Rs. 7117Rs. 9490</td>\n",
       "    </tr>\n",
       "    <tr>\n",
       "      <th>79</th>\n",
       "      <td>Hush Puppies</td>\n",
       "      <td>Men Textured Oxfords</td>\n",
       "      <td>Rs. 6999</td>\n",
       "    </tr>\n",
       "    <tr>\n",
       "      <th>80</th>\n",
       "      <td>Geox</td>\n",
       "      <td>Women Leather Solid Pumps</td>\n",
       "      <td>Rs. 8992Rs. 11990</td>\n",
       "    </tr>\n",
       "    <tr>\n",
       "      <th>81</th>\n",
       "      <td>Geox</td>\n",
       "      <td>Women Leather Block Heels</td>\n",
       "      <td>Rs. 7117Rs. 9490</td>\n",
       "    </tr>\n",
       "    <tr>\n",
       "      <th>82</th>\n",
       "      <td>Heel &amp; Buckle London</td>\n",
       "      <td>Women Peep Toe Heels</td>\n",
       "      <td>Rs. 7192Rs. 8990</td>\n",
       "    </tr>\n",
       "    <tr>\n",
       "      <th>83</th>\n",
       "      <td>Heel &amp; Buckle London</td>\n",
       "      <td>Men Leather Formal Oxfords</td>\n",
       "      <td>Rs. 7693Rs. 10990</td>\n",
       "    </tr>\n",
       "    <tr>\n",
       "      <th>84</th>\n",
       "      <td>Ruosh</td>\n",
       "      <td>Men Leather Formal Brogues</td>\n",
       "      <td>Rs. 6990</td>\n",
       "    </tr>\n",
       "    <tr>\n",
       "      <th>85</th>\n",
       "      <td>Saint G</td>\n",
       "      <td>Women Leather Heeled Boots</td>\n",
       "      <td>Rs. 9900</td>\n",
       "    </tr>\n",
       "    <tr>\n",
       "      <th>86</th>\n",
       "      <td>Puma</td>\n",
       "      <td>Men IGNITE Ronin Unrest</td>\n",
       "      <td>Rs. 6999</td>\n",
       "    </tr>\n",
       "    <tr>\n",
       "      <th>87</th>\n",
       "      <td>Puma</td>\n",
       "      <td>Men IGNITE Dual Running Shoes</td>\n",
       "      <td>Rs. 6999</td>\n",
       "    </tr>\n",
       "    <tr>\n",
       "      <th>88</th>\n",
       "      <td>Bugatti</td>\n",
       "      <td>Women Solid Block Heels</td>\n",
       "      <td>Rs. 8499</td>\n",
       "    </tr>\n",
       "    <tr>\n",
       "      <th>89</th>\n",
       "      <td>Ruosh</td>\n",
       "      <td>Men Solid Leather Formal Derbys</td>\n",
       "      <td>Rs. 8990</td>\n",
       "    </tr>\n",
       "    <tr>\n",
       "      <th>90</th>\n",
       "      <td>Heel &amp; Buckle London</td>\n",
       "      <td>Women Leather Pumps</td>\n",
       "      <td>Rs. 7192Rs. 8990</td>\n",
       "    </tr>\n",
       "    <tr>\n",
       "      <th>91</th>\n",
       "      <td>Geox</td>\n",
       "      <td>Men Leather Formal Derbys</td>\n",
       "      <td>Rs. 11490</td>\n",
       "    </tr>\n",
       "    <tr>\n",
       "      <th>92</th>\n",
       "      <td>Geox</td>\n",
       "      <td>Women Solid Flatforms</td>\n",
       "      <td>Rs. 6749Rs. 8999</td>\n",
       "    </tr>\n",
       "    <tr>\n",
       "      <th>93</th>\n",
       "      <td>Ruosh</td>\n",
       "      <td>Men Solid Leather Formal Oxfords</td>\n",
       "      <td>Rs. 9443Rs. 13490</td>\n",
       "    </tr>\n",
       "    <tr>\n",
       "      <th>94</th>\n",
       "      <td>Geox</td>\n",
       "      <td>Men Leather Formal Slip-Ons</td>\n",
       "      <td>Rs. 11242Rs. 14990</td>\n",
       "    </tr>\n",
       "    <tr>\n",
       "      <th>95</th>\n",
       "      <td>Nike</td>\n",
       "      <td>Men REACT MILER 2 Running</td>\n",
       "      <td>Rs. 9196Rs. 11495</td>\n",
       "    </tr>\n",
       "    <tr>\n",
       "      <th>96</th>\n",
       "      <td>Geox</td>\n",
       "      <td>Women Leather Boat Shoes</td>\n",
       "      <td>Rs. 8990</td>\n",
       "    </tr>\n",
       "    <tr>\n",
       "      <th>97</th>\n",
       "      <td>Geox</td>\n",
       "      <td>Women Solid Leather Flats</td>\n",
       "      <td>Rs. 7492Rs. 9990</td>\n",
       "    </tr>\n",
       "    <tr>\n",
       "      <th>98</th>\n",
       "      <td>Geox</td>\n",
       "      <td>Men Leather Formal Derbys</td>\n",
       "      <td>Rs. 9742Rs. 12990</td>\n",
       "    </tr>\n",
       "    <tr>\n",
       "      <th>99</th>\n",
       "      <td>Cole Haan</td>\n",
       "      <td>Women Woven Design Sneakers</td>\n",
       "      <td>Rs. 7499Rs. 14999</td>\n",
       "    </tr>\n",
       "  </tbody>\n",
       "</table>\n",
       "<p>100 rows × 3 columns</p>\n",
       "</div>"
      ],
      "text/plain": [
       "              Brand Name                    Short Description  \\\n",
       "0                   ALDO                  Men Leather Loafers   \n",
       "1                   Nike            Women REACT Running Shoes   \n",
       "2                   Nike           Men AIR ZOOM Running Shoes   \n",
       "3                   Nike                  Women Running Shoes   \n",
       "4        PUMA Motorsport        Unisex Mercedes Running Shoes   \n",
       "5                   Nike         Women AIR ZOOM Running Shoes   \n",
       "6                   Nike        Men REACT MILER Running Shoes   \n",
       "7                Bugatti         Men Perforated Mule Sneakers   \n",
       "8                   Nike       AIR ZOOM PEGASUS Running Shoes   \n",
       "9                   Nike          Men JORDAN DELTA Basketball   \n",
       "10                  Nike            Men JOYRIDE Running Shoes   \n",
       "11                  Nike           Men React Infinity Running   \n",
       "12                  Nike         Men KD13 EP Basketball Shoes   \n",
       "13                  Nike         Women AIR ZOOM Running Shoes   \n",
       "14                  Puma           Men Velocity Nitro Running   \n",
       "15                  Nike           Women REACT ESCAPE Running   \n",
       "16                  Nike               Women AIR ZOOM Running   \n",
       "17                  Puma           Men Liberate Nitro Running   \n",
       "18              Skechers        Men VIPER COMPETITOR Training   \n",
       "19                  Nike            Women ZOOM SPAN 3 Running   \n",
       "20                  Puma  Men Mesh Fuse Training Or Gym Shoes   \n",
       "21          UNDER ARMOUR       Men HOVR STRT Sportstyle Shoes   \n",
       "22          UNDER ARMOUR             Men Charged Impulse Knit   \n",
       "23               Bugatti      Men Solid Leather Formal Derbys   \n",
       "24          UNDER ARMOUR         HOVR Guardian 2 Sports Shoes   \n",
       "25          UNDER ARMOUR           HOVR Sonic 3 Running Shoes   \n",
       "26                  Nike            Men JORDAN DELTA Sneakers   \n",
       "27          UNDER ARMOUR          Women Liquify Rebel Running   \n",
       "28          Hush Puppies                    Men Formal Derbys   \n",
       "29          Hush Puppies    Men Solid Leather Formal Slip-Ons   \n",
       "..                   ...                                  ...   \n",
       "70              Skechers       SKECH-AIRATLASMISTLYN Sneakers   \n",
       "71  Heel & Buckle London       Women Solid Leather Gladiators   \n",
       "72          Hush Puppies      Men Solid Leather Formal Derbys   \n",
       "73  Heel & Buckle London            Women Solid Leather Heels   \n",
       "74               Saint G                   Women Heeled Boots   \n",
       "75               Saint G           Women Leather Heeled Boots   \n",
       "76                  Geox             Men Leather Formal Monks   \n",
       "77          Hush Puppies                   Men Leather Derbys   \n",
       "78                  Geox                 Solid Leather Wedges   \n",
       "79          Hush Puppies                 Men Textured Oxfords   \n",
       "80                  Geox            Women Leather Solid Pumps   \n",
       "81                  Geox            Women Leather Block Heels   \n",
       "82  Heel & Buckle London                 Women Peep Toe Heels   \n",
       "83  Heel & Buckle London           Men Leather Formal Oxfords   \n",
       "84                 Ruosh           Men Leather Formal Brogues   \n",
       "85               Saint G           Women Leather Heeled Boots   \n",
       "86                  Puma              Men IGNITE Ronin Unrest   \n",
       "87                  Puma        Men IGNITE Dual Running Shoes   \n",
       "88               Bugatti              Women Solid Block Heels   \n",
       "89                 Ruosh      Men Solid Leather Formal Derbys   \n",
       "90  Heel & Buckle London                  Women Leather Pumps   \n",
       "91                  Geox            Men Leather Formal Derbys   \n",
       "92                  Geox                Women Solid Flatforms   \n",
       "93                 Ruosh     Men Solid Leather Formal Oxfords   \n",
       "94                  Geox          Men Leather Formal Slip-Ons   \n",
       "95                  Nike            Men REACT MILER 2 Running   \n",
       "96                  Geox             Women Leather Boat Shoes   \n",
       "97                  Geox            Women Solid Leather Flats   \n",
       "98                  Geox            Men Leather Formal Derbys   \n",
       "99             Cole Haan          Women Woven Design Sneakers   \n",
       "\n",
       "   Actual price and Price before discount  \n",
       "0                       Rs. 7799Rs. 12999  \n",
       "1                       Rs. 8396Rs. 11995  \n",
       "2                      Rs. 10121Rs. 13495  \n",
       "3                       Rs. 7197Rs. 11995  \n",
       "4                                Rs. 7999  \n",
       "5                        Rs. 6996Rs. 9995  \n",
       "6                       Rs. 8246Rs. 10995  \n",
       "7                                Rs. 6999  \n",
       "8                               Rs. 11495  \n",
       "9                               Rs. 12495  \n",
       "10                     Rs. 10496Rs. 14995  \n",
       "11                     Rs. 10846Rs. 15495  \n",
       "12                              Rs. 12995  \n",
       "13                      Rs. 7721Rs. 10295  \n",
       "14                              Rs. 10999  \n",
       "15                               Rs. 8295  \n",
       "16                     Rs. 10121Rs. 13495  \n",
       "17                               Rs. 9999  \n",
       "18                               Rs. 6999  \n",
       "19                               Rs. 7195  \n",
       "20                               Rs. 7999  \n",
       "21                               Rs. 9999  \n",
       "22                               Rs. 8999  \n",
       "23                               Rs. 9999  \n",
       "24                      Rs. 9599Rs. 11999  \n",
       "25                              Rs. 10999  \n",
       "26                              Rs. 10995  \n",
       "27                       Rs. 7199Rs. 8999  \n",
       "28                               Rs. 9999  \n",
       "29                               Rs. 8999  \n",
       "..                                    ...  \n",
       "70                               Rs. 7499  \n",
       "71                       Rs. 6993Rs. 9990  \n",
       "72                               Rs. 9999  \n",
       "73                       Rs. 6993Rs. 9990  \n",
       "74                       Rs. 7440Rs. 8000  \n",
       "75                       Rs. 6675Rs. 8900  \n",
       "76                     Rs. 11999Rs. 15999  \n",
       "77                               Rs. 7999  \n",
       "78                       Rs. 7117Rs. 9490  \n",
       "79                               Rs. 6999  \n",
       "80                      Rs. 8992Rs. 11990  \n",
       "81                       Rs. 7117Rs. 9490  \n",
       "82                       Rs. 7192Rs. 8990  \n",
       "83                      Rs. 7693Rs. 10990  \n",
       "84                               Rs. 6990  \n",
       "85                               Rs. 9900  \n",
       "86                               Rs. 6999  \n",
       "87                               Rs. 6999  \n",
       "88                               Rs. 8499  \n",
       "89                               Rs. 8990  \n",
       "90                       Rs. 7192Rs. 8990  \n",
       "91                              Rs. 11490  \n",
       "92                       Rs. 6749Rs. 8999  \n",
       "93                      Rs. 9443Rs. 13490  \n",
       "94                     Rs. 11242Rs. 14990  \n",
       "95                      Rs. 9196Rs. 11495  \n",
       "96                               Rs. 8990  \n",
       "97                       Rs. 7492Rs. 9990  \n",
       "98                      Rs. 9742Rs. 12990  \n",
       "99                      Rs. 7499Rs. 14999  \n",
       "\n",
       "[100 rows x 3 columns]"
      ]
     },
     "execution_count": 250,
     "metadata": {},
     "output_type": "execute_result"
    }
   ],
   "source": [
    "df9=pd.DataFrame({})\n",
    "df9['Brand Name']=brand\n",
    "df9['Short Description']=short_desc\n",
    "df9['Actual price and Price before discount']=price\n",
    "df9"
   ]
  },
  {
   "cell_type": "code",
   "execution_count": 112,
   "metadata": {},
   "outputs": [],
   "source": [
    "driver=webdriver.Chrome(r\"D:\\chromedriver.exe\")"
   ]
  },
  {
   "cell_type": "code",
   "execution_count": 113,
   "metadata": {},
   "outputs": [],
   "source": [
    "driver.get(\"https://www.flipkart.com\")"
   ]
  },
  {
   "cell_type": "code",
   "execution_count": 114,
   "metadata": {},
   "outputs": [],
   "source": [
    "product=driver.find_element_by_xpath(\"//div[@class='_3OO5Xc']/input\")"
   ]
  },
  {
   "cell_type": "code",
   "execution_count": 115,
   "metadata": {},
   "outputs": [],
   "source": [
    "product.send_keys(\"sneakers\")"
   ]
  },
  {
   "cell_type": "code",
   "execution_count": 119,
   "metadata": {},
   "outputs": [],
   "source": [
    "search_btn=driver.find_element_by_xpath(\"//div[@class='col-12-12 _2oO9oE']/button\").click()"
   ]
  },
  {
   "cell_type": "code",
   "execution_count": 120,
   "metadata": {},
   "outputs": [],
   "source": [
    "brand8=[]\n",
    "short_desc8=[]\n",
    "price8=[]\n",
    "discount8=[]"
   ]
  },
  {
   "cell_type": "code",
   "execution_count": 121,
   "metadata": {},
   "outputs": [
    {
     "data": {
      "text/plain": [
       "['French Connection',\n",
       " 'BRUTON',\n",
       " 'Chevit',\n",
       " 'Robbie jones',\n",
       " 'Chevit',\n",
       " 'Robbie jones',\n",
       " 'ORICUM',\n",
       " 'Chevit',\n",
       " 'Raftar',\n",
       " 'aadi',\n",
       " 'Shoes Bank',\n",
       " 'Chevit',\n",
       " 'Red Rose',\n",
       " 'Chevit',\n",
       " 'believe',\n",
       " 'richerson',\n",
       " 'Chevit',\n",
       " 'Birde',\n",
       " 'TR',\n",
       " '\"trend\"',\n",
       " 'Numenzo',\n",
       " 'Chevit',\n",
       " 'Magnolia',\n",
       " '\"trend\"',\n",
       " 'T-ROCK',\n",
       " 'Chevit',\n",
       " '\"trend\"',\n",
       " 'HOTSTYLE',\n",
       " 'bluemaker',\n",
       " 'oxpeo',\n",
       " 'Extoes',\n",
       " 'Chevit',\n",
       " 'SCATCHITE',\n",
       " 'well feet',\n",
       " 'HOTSTYLE',\n",
       " 'SPARX',\n",
       " 'Echor',\n",
       " 'Robbie jones',\n",
       " 'Stefano Rads',\n",
       " 'Chevit']"
      ]
     },
     "execution_count": 121,
     "metadata": {},
     "output_type": "execute_result"
    }
   ],
   "source": [
    "try:\n",
    "    brand_a=driver.find_elements_by_xpath(\"//div[@class='_2WkVRV']\")\n",
    "    for g in brand_a:\n",
    "        gg=g.text\n",
    "        brand8.append(gg)\n",
    "except NoSuchElementException as e:\n",
    "    brand8.append('Brand name not shown')\n",
    "except ElementNotInteractableException as e:\n",
    "    brand8.append('Brand name not shown')\n",
    "\n",
    "brand8"
   ]
  },
  {
   "cell_type": "code",
   "execution_count": 122,
   "metadata": {},
   "outputs": [
    {
     "data": {
      "text/plain": [
       "40"
      ]
     },
     "execution_count": 122,
     "metadata": {},
     "output_type": "execute_result"
    }
   ],
   "source": [
    "len(brand8)"
   ]
  },
  {
   "cell_type": "code",
   "execution_count": 123,
   "metadata": {},
   "outputs": [],
   "source": [
    "from selenium.common.exceptions import NoSuchElementException,ElementNotInteractableException"
   ]
  },
  {
   "cell_type": "code",
   "execution_count": 124,
   "metadata": {},
   "outputs": [],
   "source": [
    "try:\n",
    "    short_desc_a=driver.find_elements_by_xpath(\"//div[@class='_2B099V']/a[@class='IRpwTa']\")\n",
    "    for y in short_desc_a:\n",
    "        yy=y.text\n",
    "        short_desc8.append(yy)\n",
    "except NoSuchElementException as e:\n",
    "    short_dec8.append('Description not available')\n",
    "except ElementNotInteractableException as e:\n",
    "    short_dec8.append('Description not available')\n",
    "    "
   ]
  },
  {
   "cell_type": "code",
   "execution_count": 125,
   "metadata": {},
   "outputs": [
    {
     "data": {
      "text/plain": [
       "35"
      ]
     },
     "execution_count": 125,
     "metadata": {},
     "output_type": "execute_result"
    }
   ],
   "source": [
    "len(short_desc8)"
   ]
  },
  {
   "cell_type": "code",
   "execution_count": 107,
   "metadata": {},
   "outputs": [
    {
     "data": {
      "text/plain": [
       "['Sneakers For Men',\n",
       " 'Sneakers For Men',\n",
       " 'Sneakers For Men',\n",
       " 'SM439G Sneakers For Men']"
      ]
     },
     "execution_count": 107,
     "metadata": {},
     "output_type": "execute_result"
    }
   ],
   "source": [
    "short_desc_a=driver.find_elements_by_xpath(\"//div[@class='_2B099V']/a[@class='IRpwTa _2-ICcC']\")\n",
    "short_desc8"
   ]
  },
  {
   "cell_type": "markdown",
   "metadata": {},
   "source": [
    "These four are having different path"
   ]
  },
  {
   "cell_type": "code",
   "execution_count": 126,
   "metadata": {},
   "outputs": [
    {
     "data": {
      "text/plain": [
       "['₹680',\n",
       " '₹499',\n",
       " '₹499',\n",
       " '₹379',\n",
       " '₹420',\n",
       " '₹474',\n",
       " '₹398',\n",
       " '₹474',\n",
       " '₹379',\n",
       " '₹298',\n",
       " '₹349',\n",
       " '₹322',\n",
       " '₹379',\n",
       " '₹420',\n",
       " '₹423',\n",
       " '₹455',\n",
       " '₹254',\n",
       " '₹299',\n",
       " '₹539',\n",
       " '₹499',\n",
       " '₹398',\n",
       " '₹339',\n",
       " '₹330',\n",
       " '₹474',\n",
       " '₹386',\n",
       " '₹211',\n",
       " '₹499',\n",
       " '₹255',\n",
       " '₹419',\n",
       " '₹419',\n",
       " '₹795',\n",
       " '₹211',\n",
       " '₹398',\n",
       " '₹399',\n",
       " '₹172',\n",
       " '₹699',\n",
       " '₹570',\n",
       " '₹450',\n",
       " '₹217',\n",
       " '₹799']"
      ]
     },
     "execution_count": 126,
     "metadata": {},
     "output_type": "execute_result"
    }
   ],
   "source": [
    "try:\n",
    "    price_a=driver.find_elements_by_xpath(\"//div[@class='_25b18c']/div[@class='_30jeq3']\")\n",
    "    for d in price_a:\n",
    "        dd=d.text\n",
    "        price8.append(dd)\n",
    "except NoSuchElementException as e:\n",
    "    price8.append('Price not shown')\n",
    "except ElementNotInteractableException as e:\n",
    "    price8.append('Price not shown')\n",
    "    \n",
    "price8"
   ]
  },
  {
   "cell_type": "code",
   "execution_count": 127,
   "metadata": {},
   "outputs": [
    {
     "data": {
      "text/plain": [
       "40"
      ]
     },
     "execution_count": 127,
     "metadata": {},
     "output_type": "execute_result"
    }
   ],
   "source": [
    "len(price8)"
   ]
  },
  {
   "cell_type": "code",
   "execution_count": 128,
   "metadata": {},
   "outputs": [
    {
     "data": {
      "text/plain": [
       "['65% off',\n",
       " '87% off',\n",
       " '72% off',\n",
       " '62% off',\n",
       " '78% off',\n",
       " '52% off',\n",
       " '60% off',\n",
       " '76% off',\n",
       " '62% off',\n",
       " '70% off',\n",
       " '65% off',\n",
       " '67% off',\n",
       " '62% off',\n",
       " '57% off',\n",
       " '57% off',\n",
       " '54% off',\n",
       " '74% off',\n",
       " '40% off',\n",
       " '73% off',\n",
       " '87% off',\n",
       " '60% off',\n",
       " '57% off',\n",
       " '66% off',\n",
       " '88% off',\n",
       " '61% off',\n",
       " '57% off',\n",
       " '75% off',\n",
       " '48% off',\n",
       " '58% off',\n",
       " '58% off',\n",
       " '46% off',\n",
       " '57% off',\n",
       " '60% off',\n",
       " '33% off',\n",
       " '65% off',\n",
       " '42% off',\n",
       " '54% off',\n",
       " '68% off',\n",
       " '67% off']"
      ]
     },
     "execution_count": 128,
     "metadata": {},
     "output_type": "execute_result"
    }
   ],
   "source": [
    "try:\n",
    "    discount_a=driver.find_elements_by_xpath(\"//div[@class='_3Ay6Sb']/span\")\n",
    "    for e in discount_a:\n",
    "        ee=e.text\n",
    "        discount8.append(ee)\n",
    "except NoSuchElementException as e:\n",
    "    discount8.append(\"Discount not available\")\n",
    "except ElementNotInteractableException as e:\n",
    "    discount8.append(\"Discount not available\")\n",
    "discount8"
   ]
  },
  {
   "cell_type": "code",
   "execution_count": 129,
   "metadata": {},
   "outputs": [
    {
     "data": {
      "text/plain": [
       "39"
      ]
     },
     "execution_count": 129,
     "metadata": {},
     "output_type": "execute_result"
    }
   ],
   "source": [
    "len(discount8)"
   ]
  },
  {
   "cell_type": "code",
   "execution_count": 130,
   "metadata": {},
   "outputs": [],
   "source": [
    "next_button=driver.find_element_by_xpath(\"//a[@class='_1LKTO3']\").click()"
   ]
  },
  {
   "cell_type": "code",
   "execution_count": 131,
   "metadata": {},
   "outputs": [
    {
     "data": {
      "text/plain": [
       "['French Connection',\n",
       " 'BRUTON',\n",
       " 'Chevit',\n",
       " 'Robbie jones',\n",
       " 'Chevit',\n",
       " 'Robbie jones',\n",
       " 'ORICUM',\n",
       " 'Chevit',\n",
       " 'Raftar',\n",
       " 'aadi',\n",
       " 'Shoes Bank',\n",
       " 'Chevit',\n",
       " 'Red Rose',\n",
       " 'Chevit',\n",
       " 'believe',\n",
       " 'richerson',\n",
       " 'Chevit',\n",
       " 'Birde',\n",
       " 'TR',\n",
       " '\"trend\"',\n",
       " 'Numenzo',\n",
       " 'Chevit',\n",
       " 'Magnolia',\n",
       " '\"trend\"',\n",
       " 'T-ROCK',\n",
       " 'Chevit',\n",
       " '\"trend\"',\n",
       " 'HOTSTYLE',\n",
       " 'bluemaker',\n",
       " 'oxpeo',\n",
       " 'Extoes',\n",
       " 'Chevit',\n",
       " 'SCATCHITE',\n",
       " 'well feet',\n",
       " 'HOTSTYLE',\n",
       " 'SPARX',\n",
       " 'Echor',\n",
       " 'Robbie jones',\n",
       " 'Stefano Rads',\n",
       " 'Chevit',\n",
       " 'Absolute comfort',\n",
       " 'D-SNEAKERZ',\n",
       " 'Wika',\n",
       " 'BRUTON',\n",
       " 'Airland',\n",
       " 'Red Rose',\n",
       " 'ESSENCE',\n",
       " 'Edoeviv',\n",
       " 'ROCKFIELD',\n",
       " 'STRANGER BROTHERS',\n",
       " 'ESSENCE',\n",
       " 'zovim',\n",
       " 'Echor',\n",
       " 'PUMA',\n",
       " 'World Wear Footwear',\n",
       " 'ROCKFIELD',\n",
       " 'SPARX',\n",
       " 'HOTSTYLE',\n",
       " 'A ANTIC MOP',\n",
       " 'RED TAPE',\n",
       " 'restinfoot',\n",
       " 'SHOEFLY',\n",
       " 'Bonexy',\n",
       " 'BRUTON',\n",
       " 'BLACK BOTTOM',\n",
       " 'SPARX',\n",
       " 'Chevit',\n",
       " 'shoelife',\n",
       " 'SWIGGY',\n",
       " 'BRUTON',\n",
       " 'Zorth',\n",
       " 'World Wear Footwear',\n",
       " 'Zsyto',\n",
       " 'bluemaker',\n",
       " 'Chevit',\n",
       " 'believe',\n",
       " 'World Wear Footwear',\n",
       " 'Numenzo',\n",
       " 'HOCKWOOD',\n",
       " 'KLICKER']"
      ]
     },
     "execution_count": 131,
     "metadata": {},
     "output_type": "execute_result"
    }
   ],
   "source": [
    "try:\n",
    "    brand_a=driver.find_elements_by_xpath(\"//div[@class='_2WkVRV']\")\n",
    "    for g in brand_a:\n",
    "        gg=g.text\n",
    "        brand8.append(gg)\n",
    "except NoSuchElementException as e:\n",
    "    brand8.append('Brand name not shown')\n",
    "except ElementNotInteractableException as e:\n",
    "    brand8.append('Brand name not shown')\n",
    "brand8      "
   ]
  },
  {
   "cell_type": "code",
   "execution_count": 132,
   "metadata": {},
   "outputs": [
    {
     "data": {
      "text/plain": [
       "80"
      ]
     },
     "execution_count": 132,
     "metadata": {},
     "output_type": "execute_result"
    }
   ],
   "source": [
    "len(brand8)"
   ]
  },
  {
   "cell_type": "code",
   "execution_count": 133,
   "metadata": {},
   "outputs": [
    {
     "data": {
      "text/plain": [
       "['₹680',\n",
       " '₹499',\n",
       " '₹499',\n",
       " '₹379',\n",
       " '₹420',\n",
       " '₹474',\n",
       " '₹398',\n",
       " '₹474',\n",
       " '₹379',\n",
       " '₹298',\n",
       " '₹349',\n",
       " '₹322',\n",
       " '₹379',\n",
       " '₹420',\n",
       " '₹423',\n",
       " '₹455',\n",
       " '₹254',\n",
       " '₹299',\n",
       " '₹539',\n",
       " '₹499',\n",
       " '₹398',\n",
       " '₹339',\n",
       " '₹330',\n",
       " '₹474',\n",
       " '₹386',\n",
       " '₹211',\n",
       " '₹499',\n",
       " '₹255',\n",
       " '₹419',\n",
       " '₹419',\n",
       " '₹795',\n",
       " '₹211',\n",
       " '₹398',\n",
       " '₹399',\n",
       " '₹172',\n",
       " '₹699',\n",
       " '₹570',\n",
       " '₹450',\n",
       " '₹217',\n",
       " '₹799',\n",
       " '₹199',\n",
       " '₹367',\n",
       " '₹449',\n",
       " '₹799',\n",
       " '₹258',\n",
       " '₹379',\n",
       " '₹442',\n",
       " '₹464',\n",
       " '₹360',\n",
       " '₹454',\n",
       " '₹442',\n",
       " '₹399',\n",
       " '₹570',\n",
       " '₹1,047',\n",
       " '₹424',\n",
       " '₹360',\n",
       " '₹699',\n",
       " '₹267',\n",
       " '₹420',\n",
       " '₹1,648',\n",
       " '₹369',\n",
       " '₹254',\n",
       " '₹450',\n",
       " '₹424',\n",
       " '₹449',\n",
       " '₹769',\n",
       " '₹348',\n",
       " '₹449',\n",
       " '₹679',\n",
       " '₹447',\n",
       " '₹599',\n",
       " '₹204',\n",
       " '₹315',\n",
       " '₹419',\n",
       " '₹420',\n",
       " '₹423',\n",
       " '₹169',\n",
       " '₹398',\n",
       " '₹692',\n",
       " '₹379']"
      ]
     },
     "execution_count": 133,
     "metadata": {},
     "output_type": "execute_result"
    }
   ],
   "source": [
    "try:\n",
    "    price_a=driver.find_elements_by_xpath(\"//div[@class='_25b18c']/div[@class='_30jeq3']\")\n",
    "    for d in price_a:\n",
    "        dd=d.text\n",
    "        price8.append(dd)\n",
    "except NoSuchElementException as e:\n",
    "    price8.append('Price not shown')\n",
    "except ElementNotInteractableException as e:\n",
    "    price8.append('Price not shown')   \n",
    "price8"
   ]
  },
  {
   "cell_type": "code",
   "execution_count": 134,
   "metadata": {},
   "outputs": [
    {
     "data": {
      "text/plain": [
       "80"
      ]
     },
     "execution_count": 134,
     "metadata": {},
     "output_type": "execute_result"
    }
   ],
   "source": [
    "len(price8)"
   ]
  },
  {
   "cell_type": "code",
   "execution_count": 135,
   "metadata": {},
   "outputs": [
    {
     "data": {
      "text/html": [
       "<div>\n",
       "<style scoped>\n",
       "    .dataframe tbody tr th:only-of-type {\n",
       "        vertical-align: middle;\n",
       "    }\n",
       "\n",
       "    .dataframe tbody tr th {\n",
       "        vertical-align: top;\n",
       "    }\n",
       "\n",
       "    .dataframe thead th {\n",
       "        text-align: right;\n",
       "    }\n",
       "</style>\n",
       "<table border=\"1\" class=\"dataframe\">\n",
       "  <thead>\n",
       "    <tr style=\"text-align: right;\">\n",
       "      <th></th>\n",
       "      <th>Brand Name</th>\n",
       "      <th>Price</th>\n",
       "    </tr>\n",
       "  </thead>\n",
       "  <tbody>\n",
       "    <tr>\n",
       "      <th>0</th>\n",
       "      <td>French Connection</td>\n",
       "      <td>₹680</td>\n",
       "    </tr>\n",
       "    <tr>\n",
       "      <th>1</th>\n",
       "      <td>BRUTON</td>\n",
       "      <td>₹499</td>\n",
       "    </tr>\n",
       "    <tr>\n",
       "      <th>2</th>\n",
       "      <td>Chevit</td>\n",
       "      <td>₹499</td>\n",
       "    </tr>\n",
       "    <tr>\n",
       "      <th>3</th>\n",
       "      <td>Robbie jones</td>\n",
       "      <td>₹379</td>\n",
       "    </tr>\n",
       "    <tr>\n",
       "      <th>4</th>\n",
       "      <td>Chevit</td>\n",
       "      <td>₹420</td>\n",
       "    </tr>\n",
       "    <tr>\n",
       "      <th>5</th>\n",
       "      <td>Robbie jones</td>\n",
       "      <td>₹474</td>\n",
       "    </tr>\n",
       "    <tr>\n",
       "      <th>6</th>\n",
       "      <td>ORICUM</td>\n",
       "      <td>₹398</td>\n",
       "    </tr>\n",
       "    <tr>\n",
       "      <th>7</th>\n",
       "      <td>Chevit</td>\n",
       "      <td>₹474</td>\n",
       "    </tr>\n",
       "    <tr>\n",
       "      <th>8</th>\n",
       "      <td>Raftar</td>\n",
       "      <td>₹379</td>\n",
       "    </tr>\n",
       "    <tr>\n",
       "      <th>9</th>\n",
       "      <td>aadi</td>\n",
       "      <td>₹298</td>\n",
       "    </tr>\n",
       "    <tr>\n",
       "      <th>10</th>\n",
       "      <td>Shoes Bank</td>\n",
       "      <td>₹349</td>\n",
       "    </tr>\n",
       "    <tr>\n",
       "      <th>11</th>\n",
       "      <td>Chevit</td>\n",
       "      <td>₹322</td>\n",
       "    </tr>\n",
       "    <tr>\n",
       "      <th>12</th>\n",
       "      <td>Red Rose</td>\n",
       "      <td>₹379</td>\n",
       "    </tr>\n",
       "    <tr>\n",
       "      <th>13</th>\n",
       "      <td>Chevit</td>\n",
       "      <td>₹420</td>\n",
       "    </tr>\n",
       "    <tr>\n",
       "      <th>14</th>\n",
       "      <td>believe</td>\n",
       "      <td>₹423</td>\n",
       "    </tr>\n",
       "    <tr>\n",
       "      <th>15</th>\n",
       "      <td>richerson</td>\n",
       "      <td>₹455</td>\n",
       "    </tr>\n",
       "    <tr>\n",
       "      <th>16</th>\n",
       "      <td>Chevit</td>\n",
       "      <td>₹254</td>\n",
       "    </tr>\n",
       "    <tr>\n",
       "      <th>17</th>\n",
       "      <td>Birde</td>\n",
       "      <td>₹299</td>\n",
       "    </tr>\n",
       "    <tr>\n",
       "      <th>18</th>\n",
       "      <td>TR</td>\n",
       "      <td>₹539</td>\n",
       "    </tr>\n",
       "    <tr>\n",
       "      <th>19</th>\n",
       "      <td>\"trend\"</td>\n",
       "      <td>₹499</td>\n",
       "    </tr>\n",
       "    <tr>\n",
       "      <th>20</th>\n",
       "      <td>Numenzo</td>\n",
       "      <td>₹398</td>\n",
       "    </tr>\n",
       "    <tr>\n",
       "      <th>21</th>\n",
       "      <td>Chevit</td>\n",
       "      <td>₹339</td>\n",
       "    </tr>\n",
       "    <tr>\n",
       "      <th>22</th>\n",
       "      <td>Magnolia</td>\n",
       "      <td>₹330</td>\n",
       "    </tr>\n",
       "    <tr>\n",
       "      <th>23</th>\n",
       "      <td>\"trend\"</td>\n",
       "      <td>₹474</td>\n",
       "    </tr>\n",
       "    <tr>\n",
       "      <th>24</th>\n",
       "      <td>T-ROCK</td>\n",
       "      <td>₹386</td>\n",
       "    </tr>\n",
       "    <tr>\n",
       "      <th>25</th>\n",
       "      <td>Chevit</td>\n",
       "      <td>₹211</td>\n",
       "    </tr>\n",
       "    <tr>\n",
       "      <th>26</th>\n",
       "      <td>\"trend\"</td>\n",
       "      <td>₹499</td>\n",
       "    </tr>\n",
       "    <tr>\n",
       "      <th>27</th>\n",
       "      <td>HOTSTYLE</td>\n",
       "      <td>₹255</td>\n",
       "    </tr>\n",
       "    <tr>\n",
       "      <th>28</th>\n",
       "      <td>bluemaker</td>\n",
       "      <td>₹419</td>\n",
       "    </tr>\n",
       "    <tr>\n",
       "      <th>29</th>\n",
       "      <td>oxpeo</td>\n",
       "      <td>₹419</td>\n",
       "    </tr>\n",
       "    <tr>\n",
       "      <th>...</th>\n",
       "      <td>...</td>\n",
       "      <td>...</td>\n",
       "    </tr>\n",
       "    <tr>\n",
       "      <th>50</th>\n",
       "      <td>ESSENCE</td>\n",
       "      <td>₹442</td>\n",
       "    </tr>\n",
       "    <tr>\n",
       "      <th>51</th>\n",
       "      <td>zovim</td>\n",
       "      <td>₹399</td>\n",
       "    </tr>\n",
       "    <tr>\n",
       "      <th>52</th>\n",
       "      <td>Echor</td>\n",
       "      <td>₹570</td>\n",
       "    </tr>\n",
       "    <tr>\n",
       "      <th>53</th>\n",
       "      <td>PUMA</td>\n",
       "      <td>₹1,047</td>\n",
       "    </tr>\n",
       "    <tr>\n",
       "      <th>54</th>\n",
       "      <td>World Wear Footwear</td>\n",
       "      <td>₹424</td>\n",
       "    </tr>\n",
       "    <tr>\n",
       "      <th>55</th>\n",
       "      <td>ROCKFIELD</td>\n",
       "      <td>₹360</td>\n",
       "    </tr>\n",
       "    <tr>\n",
       "      <th>56</th>\n",
       "      <td>SPARX</td>\n",
       "      <td>₹699</td>\n",
       "    </tr>\n",
       "    <tr>\n",
       "      <th>57</th>\n",
       "      <td>HOTSTYLE</td>\n",
       "      <td>₹267</td>\n",
       "    </tr>\n",
       "    <tr>\n",
       "      <th>58</th>\n",
       "      <td>A ANTIC MOP</td>\n",
       "      <td>₹420</td>\n",
       "    </tr>\n",
       "    <tr>\n",
       "      <th>59</th>\n",
       "      <td>RED TAPE</td>\n",
       "      <td>₹1,648</td>\n",
       "    </tr>\n",
       "    <tr>\n",
       "      <th>60</th>\n",
       "      <td>restinfoot</td>\n",
       "      <td>₹369</td>\n",
       "    </tr>\n",
       "    <tr>\n",
       "      <th>61</th>\n",
       "      <td>SHOEFLY</td>\n",
       "      <td>₹254</td>\n",
       "    </tr>\n",
       "    <tr>\n",
       "      <th>62</th>\n",
       "      <td>Bonexy</td>\n",
       "      <td>₹450</td>\n",
       "    </tr>\n",
       "    <tr>\n",
       "      <th>63</th>\n",
       "      <td>BRUTON</td>\n",
       "      <td>₹424</td>\n",
       "    </tr>\n",
       "    <tr>\n",
       "      <th>64</th>\n",
       "      <td>BLACK BOTTOM</td>\n",
       "      <td>₹449</td>\n",
       "    </tr>\n",
       "    <tr>\n",
       "      <th>65</th>\n",
       "      <td>SPARX</td>\n",
       "      <td>₹769</td>\n",
       "    </tr>\n",
       "    <tr>\n",
       "      <th>66</th>\n",
       "      <td>Chevit</td>\n",
       "      <td>₹348</td>\n",
       "    </tr>\n",
       "    <tr>\n",
       "      <th>67</th>\n",
       "      <td>shoelife</td>\n",
       "      <td>₹449</td>\n",
       "    </tr>\n",
       "    <tr>\n",
       "      <th>68</th>\n",
       "      <td>SWIGGY</td>\n",
       "      <td>₹679</td>\n",
       "    </tr>\n",
       "    <tr>\n",
       "      <th>69</th>\n",
       "      <td>BRUTON</td>\n",
       "      <td>₹447</td>\n",
       "    </tr>\n",
       "    <tr>\n",
       "      <th>70</th>\n",
       "      <td>Zorth</td>\n",
       "      <td>₹599</td>\n",
       "    </tr>\n",
       "    <tr>\n",
       "      <th>71</th>\n",
       "      <td>World Wear Footwear</td>\n",
       "      <td>₹204</td>\n",
       "    </tr>\n",
       "    <tr>\n",
       "      <th>72</th>\n",
       "      <td>Zsyto</td>\n",
       "      <td>₹315</td>\n",
       "    </tr>\n",
       "    <tr>\n",
       "      <th>73</th>\n",
       "      <td>bluemaker</td>\n",
       "      <td>₹419</td>\n",
       "    </tr>\n",
       "    <tr>\n",
       "      <th>74</th>\n",
       "      <td>Chevit</td>\n",
       "      <td>₹420</td>\n",
       "    </tr>\n",
       "    <tr>\n",
       "      <th>75</th>\n",
       "      <td>believe</td>\n",
       "      <td>₹423</td>\n",
       "    </tr>\n",
       "    <tr>\n",
       "      <th>76</th>\n",
       "      <td>World Wear Footwear</td>\n",
       "      <td>₹169</td>\n",
       "    </tr>\n",
       "    <tr>\n",
       "      <th>77</th>\n",
       "      <td>Numenzo</td>\n",
       "      <td>₹398</td>\n",
       "    </tr>\n",
       "    <tr>\n",
       "      <th>78</th>\n",
       "      <td>HOCKWOOD</td>\n",
       "      <td>₹692</td>\n",
       "    </tr>\n",
       "    <tr>\n",
       "      <th>79</th>\n",
       "      <td>KLICKER</td>\n",
       "      <td>₹379</td>\n",
       "    </tr>\n",
       "  </tbody>\n",
       "</table>\n",
       "<p>80 rows × 2 columns</p>\n",
       "</div>"
      ],
      "text/plain": [
       "             Brand Name   Price\n",
       "0     French Connection    ₹680\n",
       "1                BRUTON    ₹499\n",
       "2                Chevit    ₹499\n",
       "3          Robbie jones    ₹379\n",
       "4                Chevit    ₹420\n",
       "5          Robbie jones    ₹474\n",
       "6                ORICUM    ₹398\n",
       "7                Chevit    ₹474\n",
       "8                Raftar    ₹379\n",
       "9                  aadi    ₹298\n",
       "10           Shoes Bank    ₹349\n",
       "11               Chevit    ₹322\n",
       "12             Red Rose    ₹379\n",
       "13               Chevit    ₹420\n",
       "14              believe    ₹423\n",
       "15            richerson    ₹455\n",
       "16               Chevit    ₹254\n",
       "17                Birde    ₹299\n",
       "18                   TR    ₹539\n",
       "19              \"trend\"    ₹499\n",
       "20              Numenzo    ₹398\n",
       "21               Chevit    ₹339\n",
       "22             Magnolia    ₹330\n",
       "23              \"trend\"    ₹474\n",
       "24               T-ROCK    ₹386\n",
       "25               Chevit    ₹211\n",
       "26              \"trend\"    ₹499\n",
       "27             HOTSTYLE    ₹255\n",
       "28            bluemaker    ₹419\n",
       "29                oxpeo    ₹419\n",
       "..                  ...     ...\n",
       "50              ESSENCE    ₹442\n",
       "51                zovim    ₹399\n",
       "52                Echor    ₹570\n",
       "53                 PUMA  ₹1,047\n",
       "54  World Wear Footwear    ₹424\n",
       "55            ROCKFIELD    ₹360\n",
       "56                SPARX    ₹699\n",
       "57             HOTSTYLE    ₹267\n",
       "58          A ANTIC MOP    ₹420\n",
       "59             RED TAPE  ₹1,648\n",
       "60           restinfoot    ₹369\n",
       "61              SHOEFLY    ₹254\n",
       "62               Bonexy    ₹450\n",
       "63               BRUTON    ₹424\n",
       "64         BLACK BOTTOM    ₹449\n",
       "65                SPARX    ₹769\n",
       "66               Chevit    ₹348\n",
       "67             shoelife    ₹449\n",
       "68               SWIGGY    ₹679\n",
       "69               BRUTON    ₹447\n",
       "70                Zorth    ₹599\n",
       "71  World Wear Footwear    ₹204\n",
       "72                Zsyto    ₹315\n",
       "73            bluemaker    ₹419\n",
       "74               Chevit    ₹420\n",
       "75              believe    ₹423\n",
       "76  World Wear Footwear    ₹169\n",
       "77              Numenzo    ₹398\n",
       "78             HOCKWOOD    ₹692\n",
       "79              KLICKER    ₹379\n",
       "\n",
       "[80 rows x 2 columns]"
      ]
     },
     "execution_count": 135,
     "metadata": {},
     "output_type": "execute_result"
    }
   ],
   "source": [
    "df8=pd.DataFrame({})\n",
    "df8['Brand Name']=brand8\n",
    "df8['Price']=price8\n",
    "df8"
   ]
  },
  {
   "cell_type": "code",
   "execution_count": 151,
   "metadata": {},
   "outputs": [],
   "source": [
    "driver=webdriver.Chrome(r\"D:\\chromedriver.exe\")"
   ]
  },
  {
   "cell_type": "code",
   "execution_count": 152,
   "metadata": {},
   "outputs": [],
   "source": [
    "driver.get(\"https://www.amazon.in/\")"
   ]
  },
  {
   "cell_type": "code",
   "execution_count": 153,
   "metadata": {},
   "outputs": [],
   "source": [
    "product_req=driver.find_element_by_xpath(\"//input[@id='twotabsearchtextbox']\")"
   ]
  },
  {
   "cell_type": "code",
   "execution_count": 154,
   "metadata": {},
   "outputs": [],
   "source": [
    "product_req.send_keys(\"Laptop\")"
   ]
  },
  {
   "cell_type": "code",
   "execution_count": 155,
   "metadata": {},
   "outputs": [],
   "source": [
    "srch_btn=driver.find_element_by_xpath(\"//input[@id='nav-search-submit-button']\").click()"
   ]
  },
  {
   "cell_type": "code",
   "execution_count": 157,
   "metadata": {},
   "outputs": [],
   "source": [
    "int_core_17=driver.find_elements_by_xpath(\"//a[@class='a-link-normal s-navigation-item']/span[@class='a-size-base a-color-base']\")\n",
    "for i in int_core_17:\n",
    "    if i.text=='Intel Core i7':\n",
    "        i.click()\n",
    "        break"
   ]
  },
  {
   "cell_type": "code",
   "execution_count": 158,
   "metadata": {},
   "outputs": [],
   "source": [
    "int_core_19=driver.find_elements_by_xpath(\"//a[@class='a-link-normal s-navigation-item']/span[@class='a-size-base a-color-base']\")\n",
    "for i in int_core_19:\n",
    "    if i.text=='Intel Core i9':\n",
    "        i.click()\n",
    "        break"
   ]
  },
  {
   "cell_type": "code",
   "execution_count": 159,
   "metadata": {},
   "outputs": [],
   "source": [
    "titles=[]\n",
    "price=[]\n",
    "review=[]"
   ]
  },
  {
   "cell_type": "code",
   "execution_count": 160,
   "metadata": {},
   "outputs": [
    {
     "data": {
      "text/plain": [
       "['Lenovo IdeaPad Flex 5 11th Gen Intel Core i7 14-inch FHD IPS 2-in-1 Touchscreen Laptop (16GB/512GB SSD/Win 10/Office 2019/Lenovo Digital Pen Stylus/Fingerprint Reader/Graphite Grey/1.5Kg), 82HS0092IN',\n",
       " 'ASUS ZenBook 14 (2020) Intel Core i7-1165G7 11th Gen 14-inch FHD Thin and Light Laptop (16GB RAM/512GB NVMe SSD/Windows 10/MS Office 2019/Intel Iris Xᵉ Graphics/Pine Grey/1.17 kg), UX425EA-BM701TS',\n",
       " 'ASUS ROG G703GI-E5148T 17.3-inch FHD 144Hz/3ms Gaming Laptop (8th Gen Intel Core i9-8950HK/64GB/2TB SSHD + 1.5TB NVMe SSD/Windows 10/GTX 1080 8GB Graphics/4.70 Kg), Aluminum',\n",
       " 'Dell Alienware m15(R3) 15.6-inch FHD Gaming Laptop (10th Gen Core i7-10750H/16GB/512GB SSD/Windows 10 Home & MS Office/6GB NVIDIA GTX 1660 Ti Graphics), Lunar Light',\n",
       " 'Lenovo Legion Y540 Intel Core i7 9th Gen 15.6 inch FHD Gaming Laptop (8GB/1TB HDD + 256 GB SSD/Windows 10/4GB NVIDIA GTX 1650/Black/2.3Kg), 81SY00SUIN',\n",
       " 'HP 14 Thin & Light 14-inch FHD Laptop (11th Gen Intel i7-1165G7/8GB/512GB SSD/Windows 10/MS Office 2019/Alexa Built-in/Pale Gold/1.47 kg), 14s-dr2007TU',\n",
       " 'Mi Notebook Horizon Edition 14 Intel Core i5-10210U 10th Gen Thin and Light Laptop(8GB/512GB SSD/Windows 10/Nvidia MX350 2GB Graphics/Grey/1.35Kg), XMA1904-AR+Webcam',\n",
       " 'Lenovo Yoga S740 Intel Core i7 10th Gen 14 inch UHD Ultra Thin and Light Laptop (16GB/1TB SSD/Windows/Office/NVIDIA MX250 2GB/Iron Grey/1.4Kg), 81RS00B0IN',\n",
       " 'Lenovo Legion 5Pi 10th Gen Intel Core i7 15.6\" FHD Gaming Laptop (16GB/1TB SSD/Windows 10/MS Office 2019/144 Hz/NVIDIA RTX 2060 6GB GDDR6/with M300 RGB Gaming Mouse/Iron Grey/2.3Kg), 82AW005SIN',\n",
       " 'Dell XPS 15 9570 8thGeneration Corei7,16GB RAM,512GB SSD,4GB 1050 Graphics,Win10 Home 15.6\" Full HD Laptop']"
      ]
     },
     "execution_count": 160,
     "metadata": {},
     "output_type": "execute_result"
    }
   ],
   "source": [
    "title_a=driver.find_elements_by_xpath(\"//span[@class='a-size-medium a-color-base a-text-normal']\")\n",
    "for j in title_a[:10]:\n",
    "    jj=j.text\n",
    "    titles.append(jj)\n",
    "titles"
   ]
  },
  {
   "cell_type": "code",
   "execution_count": 161,
   "metadata": {},
   "outputs": [
    {
     "data": {
      "text/plain": [
       "['86,790',\n",
       " '95,993',\n",
       " '5,22,077',\n",
       " '1,98,590',\n",
       " '78,990',\n",
       " '76,500',\n",
       " '49,999',\n",
       " '1,35,490',\n",
       " '38,999',\n",
       " '47,190']"
      ]
     },
     "execution_count": 161,
     "metadata": {},
     "output_type": "execute_result"
    }
   ],
   "source": [
    "price_b=driver.find_elements_by_xpath(\"//span[@class='a-price-whole']\")\n",
    "for t in price_b[:10]:\n",
    "    tt=t.text\n",
    "    price.append(tt)\n",
    "price"
   ]
  },
  {
   "cell_type": "code",
   "execution_count": 162,
   "metadata": {},
   "outputs": [],
   "source": [
    "urls=driver.find_elements_by_xpath(\"//a[@class='a-link-normal a-text-normal']\")\n",
    "s=[]\n",
    "for i in urls[:10]:\n",
    "    s.append(i.get_attribute('href'))\n",
    "for j in s:\n",
    "    driver.get(j)\n",
    "    try:\n",
    "        ratings=driver.find_element_by_xpath(\"//span[@id='acrCustomerReviewText']\").click()\n",
    "        \n",
    "        ratings_pst_clk=driver.find_elements_by_xpath(\"//span[@class='a-size-medium a-color-base']\")\n",
    "        for u in ratings_pst_clk:\n",
    "            uu=u.text\n",
    "            review.append(uu)\n",
    "    except NoSuchElementException as e:\n",
    "        review.append(\"Rating not available\")\n",
    "            \n",
    "        "
   ]
  },
  {
   "cell_type": "code",
   "execution_count": 163,
   "metadata": {},
   "outputs": [
    {
     "data": {
      "text/plain": [
       "['4.2 out of 5',\n",
       " '4.4 out of 5',\n",
       " '3.9 out of 5',\n",
       " '3 out of 5',\n",
       " '4.1 out of 5',\n",
       " '4.6 out of 5',\n",
       " '4.4 out of 5',\n",
       " '3.4 out of 5',\n",
       " '4.3 out of 5',\n",
       " '3.9 out of 5']"
      ]
     },
     "execution_count": 163,
     "metadata": {},
     "output_type": "execute_result"
    }
   ],
   "source": [
    "review"
   ]
  },
  {
   "cell_type": "code",
   "execution_count": 164,
   "metadata": {},
   "outputs": [
    {
     "name": "stdout",
     "output_type": "stream",
     "text": [
      "10 10 10\n"
     ]
    }
   ],
   "source": [
    "print(len(titles),len(price),len(review))"
   ]
  },
  {
   "cell_type": "code",
   "execution_count": 165,
   "metadata": {},
   "outputs": [
    {
     "data": {
      "text/html": [
       "<div>\n",
       "<style scoped>\n",
       "    .dataframe tbody tr th:only-of-type {\n",
       "        vertical-align: middle;\n",
       "    }\n",
       "\n",
       "    .dataframe tbody tr th {\n",
       "        vertical-align: top;\n",
       "    }\n",
       "\n",
       "    .dataframe thead th {\n",
       "        text-align: right;\n",
       "    }\n",
       "</style>\n",
       "<table border=\"1\" class=\"dataframe\">\n",
       "  <thead>\n",
       "    <tr style=\"text-align: right;\">\n",
       "      <th></th>\n",
       "      <th>Title of laptops</th>\n",
       "      <th>Price</th>\n",
       "      <th>Ratings</th>\n",
       "    </tr>\n",
       "  </thead>\n",
       "  <tbody>\n",
       "    <tr>\n",
       "      <th>0</th>\n",
       "      <td>Lenovo IdeaPad Flex 5 11th Gen Intel Core i7 1...</td>\n",
       "      <td>86,790</td>\n",
       "      <td>4.2 out of 5</td>\n",
       "    </tr>\n",
       "    <tr>\n",
       "      <th>1</th>\n",
       "      <td>ASUS ZenBook 14 (2020) Intel Core i7-1165G7 11...</td>\n",
       "      <td>95,993</td>\n",
       "      <td>4.4 out of 5</td>\n",
       "    </tr>\n",
       "    <tr>\n",
       "      <th>2</th>\n",
       "      <td>ASUS ROG G703GI-E5148T 17.3-inch FHD 144Hz/3ms...</td>\n",
       "      <td>5,22,077</td>\n",
       "      <td>3.9 out of 5</td>\n",
       "    </tr>\n",
       "    <tr>\n",
       "      <th>3</th>\n",
       "      <td>Dell Alienware m15(R3) 15.6-inch FHD Gaming La...</td>\n",
       "      <td>1,98,590</td>\n",
       "      <td>3 out of 5</td>\n",
       "    </tr>\n",
       "    <tr>\n",
       "      <th>4</th>\n",
       "      <td>Lenovo Legion Y540 Intel Core i7 9th Gen 15.6 ...</td>\n",
       "      <td>78,990</td>\n",
       "      <td>4.1 out of 5</td>\n",
       "    </tr>\n",
       "    <tr>\n",
       "      <th>5</th>\n",
       "      <td>HP 14 Thin &amp; Light 14-inch FHD Laptop (11th Ge...</td>\n",
       "      <td>76,500</td>\n",
       "      <td>4.6 out of 5</td>\n",
       "    </tr>\n",
       "    <tr>\n",
       "      <th>6</th>\n",
       "      <td>Mi Notebook Horizon Edition 14 Intel Core i5-1...</td>\n",
       "      <td>49,999</td>\n",
       "      <td>4.4 out of 5</td>\n",
       "    </tr>\n",
       "    <tr>\n",
       "      <th>7</th>\n",
       "      <td>Lenovo Yoga S740 Intel Core i7 10th Gen 14 inc...</td>\n",
       "      <td>1,35,490</td>\n",
       "      <td>3.4 out of 5</td>\n",
       "    </tr>\n",
       "    <tr>\n",
       "      <th>8</th>\n",
       "      <td>Lenovo Legion 5Pi 10th Gen Intel Core i7 15.6\"...</td>\n",
       "      <td>38,999</td>\n",
       "      <td>4.3 out of 5</td>\n",
       "    </tr>\n",
       "    <tr>\n",
       "      <th>9</th>\n",
       "      <td>Dell XPS 15 9570 8thGeneration Corei7,16GB RAM...</td>\n",
       "      <td>47,190</td>\n",
       "      <td>3.9 out of 5</td>\n",
       "    </tr>\n",
       "  </tbody>\n",
       "</table>\n",
       "</div>"
      ],
      "text/plain": [
       "                                    Title of laptops     Price       Ratings\n",
       "0  Lenovo IdeaPad Flex 5 11th Gen Intel Core i7 1...    86,790  4.2 out of 5\n",
       "1  ASUS ZenBook 14 (2020) Intel Core i7-1165G7 11...    95,993  4.4 out of 5\n",
       "2  ASUS ROG G703GI-E5148T 17.3-inch FHD 144Hz/3ms...  5,22,077  3.9 out of 5\n",
       "3  Dell Alienware m15(R3) 15.6-inch FHD Gaming La...  1,98,590    3 out of 5\n",
       "4  Lenovo Legion Y540 Intel Core i7 9th Gen 15.6 ...    78,990  4.1 out of 5\n",
       "5  HP 14 Thin & Light 14-inch FHD Laptop (11th Ge...    76,500  4.6 out of 5\n",
       "6  Mi Notebook Horizon Edition 14 Intel Core i5-1...    49,999  4.4 out of 5\n",
       "7  Lenovo Yoga S740 Intel Core i7 10th Gen 14 inc...  1,35,490  3.4 out of 5\n",
       "8  Lenovo Legion 5Pi 10th Gen Intel Core i7 15.6\"...    38,999  4.3 out of 5\n",
       "9  Dell XPS 15 9570 8thGeneration Corei7,16GB RAM...    47,190  3.9 out of 5"
      ]
     },
     "execution_count": 165,
     "metadata": {},
     "output_type": "execute_result"
    }
   ],
   "source": [
    "df10=pd.DataFrame({})\n",
    "df10['Title of laptops']=titles\n",
    "df10['Price']=price\n",
    "df10['Ratings']=review\n",
    "df10"
   ]
  },
  {
   "cell_type": "code",
   "execution_count": 194,
   "metadata": {},
   "outputs": [],
   "source": [
    "driver=webdriver.Chrome(r\"D:\\chromedriver.exe\")"
   ]
  },
  {
   "cell_type": "code",
   "execution_count": 195,
   "metadata": {},
   "outputs": [],
   "source": [
    "driver.get(\"https://www.flipkart.com/apple-iphone-11-black-64-gb-includes-earpods-power-adapter/p/itm0f37c2240b217?pid=MOBFKCTSVZAXUHGR&lid=LSTMOBFKCTSVZAXUHGREPBFGI&marketplace.\")"
   ]
  },
  {
   "cell_type": "code",
   "execution_count": 196,
   "metadata": {},
   "outputs": [],
   "source": [
    "#Clicked on all reviews button\n",
    "all_reviews_button=driver.find_element_by_xpath(\"//div[@class='_3UAT2v _16PBlm']\").click()"
   ]
  },
  {
   "cell_type": "code",
   "execution_count": 198,
   "metadata": {},
   "outputs": [],
   "source": [
    "review6=[]\n",
    "rating6=[]\n",
    "full_review6=[]"
   ]
  },
  {
   "cell_type": "code",
   "execution_count": 200,
   "metadata": {},
   "outputs": [
    {
     "data": {
      "text/plain": [
       "['The Best Phone for the Money\\n\\nThe iPhone 11 offers superb cameras, a more durable design and excellent battery life for an affordable price.\\n\\nCompelling ultra-wide camera\\nNew Night mode is excellent\\nLong battery life',\n",
       " 'Amazing phone with great cameras and better battery which gives you the best performance. I just love the camera .',\n",
       " 'Amazing Powerful and Durable Gadget.\\n\\nI’m am very happy with the camera picture quality, Amazing face id unlocked in dark room, Strong battery with perfect screen size as you can carry easily in pocket. This is my third iPhone.\\n\\nI shifted from android Samsung Note series to iPhone because of the strong build quality and peace of mind for next 3-4 years.\\n\\nDon’t think to much just go for it and I suggest you to go for minimum 128gb variant or more 256gb.\\n\\nI’ve attached my puppy pics and no fi...\\nREAD MORE',\n",
       " 'Previously I was using one plus 3t it was a great phone\\nAnd then I decided to upgrade I am stuck between Samsung s10 plus or iPhone 11\\nI have seen the specs and everything were good except the display it’s somewhere between 720-1080 and it’s not even an amoled it’s an LCD display\\nBut I decided to go with iPhone because I have never used an IOS device I have Been an android user from the past 9 years I ordered IPhone 11 (128gb) product red\\nMy experience after using 3 weeks\\n1. The delivery ...\\nREAD MORE',\n",
       " 'iphone 11 is a very good phone to buy only if you can compromise for the display. The display on this is device is pretty good but you can get other options with better displays in this price segment.\\nIf you can survive with an HD+ LCD panel with thicker bezels and a notch up top then this is a very good phone for you.\\nCameras are awesome, battery backup excellent, great performance and a decent premium look. Good job Apple !',\n",
       " 'It’s a must buy who is looking for an upgrade from previous generation of iPhones. If you are using XR then still you can hold on for sometime and upgrade to 2020 model else this phone is a must buy . Camera quality is amazing and wide angle is something to count upon. Performance wise it’s amazing and feels premium while holding in hand. So a big YES for this device. Go for 128 GB variant as the 4K videos will occupy lots of space and the storage can get over very quickly. Try to buy it with...\\nREAD MORE',\n",
       " 'Value for money❤️❤️\\nIts awesome mobile phone in the world ...\\nDisplay was very good and bright ..\\nTrust me freinds you r never regret after Buying..\\nJust go for it....\\nI love this phone and i switch to iphone x to 11',\n",
       " '*Review after 10 months of usage*\\nDoesn\\'t seem bulky with decent touch and camera. The \"standard maintained\" quality of IPhone. Go for it, if your budget is not more enough for pro models. It\\'s a value for money among the 11 series Stereo speakers are so good, you will love the stereo sound. Battery backup is not decent but still better than Iphone 7 and 8.Processor is fast, the phone doesn\\'t lag at all even with heavy games, waterproof, faster face id and with no fingerprint scanners. The ca...\\nREAD MORE',\n",
       " 'This is my first iOS phone. I am very happy with this product. Very much satisfied with this. I love this phone.',\n",
       " 'Best budget Iphone till date ❤️ go for it guys without second thought. Let me explain you guys about Camera, Display, battery, and performance.\\n\\nCamera: at this price range there is no comparison of camera, you’ll love the picture quality as well as video quality. I am a Vlogger I wanted an iPhone with 4k video by front camera and I got this phone and I am more than happy 😃\\n\\nBattery: I use this phone roughly as I am active social media person and I have a youtube channel. so the battery ba...\\nREAD MORE']"
      ]
     },
     "execution_count": 200,
     "metadata": {},
     "output_type": "execute_result"
    }
   ],
   "source": [
    "#Scraping full reviews from first page only\n",
    "full_rview_a=driver.find_elements_by_xpath(\"//div[@class='t-ZTKy']\")\n",
    "for r in full_rview_a:\n",
    "    rr=r.text\n",
    "    full_review6.append(rr)\n",
    "full_review6"
   ]
  },
  {
   "cell_type": "code",
   "execution_count": 201,
   "metadata": {},
   "outputs": [
    {
     "data": {
      "text/plain": [
       "['Brilliant',\n",
       " 'Perfect product!',\n",
       " 'Great product',\n",
       " 'Worth every penny',\n",
       " 'Highly recommended',\n",
       " 'Perfect product!',\n",
       " 'Perfect product!',\n",
       " 'Wonderful',\n",
       " 'Fabulous!',\n",
       " 'Worth every penny']"
      ]
     },
     "execution_count": 201,
     "metadata": {},
     "output_type": "execute_result"
    }
   ],
   "source": [
    "#scraping the one-line-review for first page only\n",
    "review=driver.find_elements_by_xpath(\"//p[@class='_2-N8zT']\")\n",
    "for y in review:\n",
    "    yy=y.text\n",
    "    review6.append(yy)\n",
    "review6"
   ]
  },
  {
   "cell_type": "code",
   "execution_count": 202,
   "metadata": {},
   "outputs": [
    {
     "data": {
      "text/plain": [
       "['5', '5', '5', '5', '5', '5', '5', '5', '5', '5']"
      ]
     },
     "execution_count": 202,
     "metadata": {},
     "output_type": "execute_result"
    }
   ],
   "source": [
    "##scraping the ratings for first page only\n",
    "rating=driver.find_elements_by_xpath(\"//div[@class='_3LWZlK _1BLPMq']\")\n",
    "for q in rating:\n",
    "    qq=q.text\n",
    "    rating6.append(qq)\n",
    "rating6"
   ]
  },
  {
   "cell_type": "code",
   "execution_count": 203,
   "metadata": {},
   "outputs": [],
   "source": [
    "#clicking the first page next button\n",
    "frst_page_next_button=driver.find_element_by_xpath(\"//a[@class='_1LKTO3']\")\n",
    "frst_page_next_button.click()"
   ]
  },
  {
   "cell_type": "code",
   "execution_count": 204,
   "metadata": {},
   "outputs": [],
   "source": [
    "#importing exceptions\n",
    "from selenium.common.exceptions import StaleElementReferenceException,NoSuchElementException\n",
    "import time"
   ]
  },
  {
   "cell_type": "code",
   "execution_count": 205,
   "metadata": {},
   "outputs": [],
   "source": [
    "#while length of  list is less than  to 100.\n",
    "while(len(review6)<100):\n",
    "    try:\n",
    "        #scraping the one line reviews\n",
    "        review_frm_2nd_page=driver.find_elements_by_xpath(\"//p[@class='_2-N8zT']\")\n",
    "        #to append the reviews one by one to the list.\n",
    "        for p in review_frm_2nd_page:\n",
    "            pp=p.text\n",
    "            review6.append(pp)\n",
    "        #print(len(review6))\n",
    "        rating_frm_2nd_page=driver.find_elements_by_xpath(\"//div[@class='_3LWZlK _1BLPMq']\")\n",
    "        for k in rating_frm_2nd_page:\n",
    "            kk=k.text\n",
    "            rating6.append(kk)\n",
    "        full_rview_a=driver.find_elements_by_xpath(\"//div[@class='t-ZTKy']\")\n",
    "        for l in full_rview_a:\n",
    "            ll=l.text\n",
    "            full_review6.append(ll)\n",
    "        \n",
    "        #clicking the next button\n",
    "        next_button_frm_second_page=driver.find_element_by_xpath(\"//a[@class='_1LKTO3'][2]\").click()\n",
    "        time.sleep(2)\n",
    "    #Handling exceptions\n",
    "    except StaleElementReferenceException as e:\n",
    "        review6.append(\"Review unavailable\")\n",
    "    except NoSuchElementException as e:\n",
    "        review6.append(\"Review unavailable\")\n",
    "    except StaleElementReferenceException as e:\n",
    "        rating6.append(\"Rating not available\")\n",
    "    except NoSuchElementException as e:\n",
    "        rating6.append(\"Rating not available\")\n",
    "    except StaleElementReferenceException as e:\n",
    "        full_review6.append(\"Full review not available\")\n",
    "    except NoSuchElementException as e:\n",
    "        full_review6.append(\"Full review not available\")\n",
    "    "
   ]
  },
  {
   "cell_type": "code",
   "execution_count": 206,
   "metadata": {},
   "outputs": [
    {
     "data": {
      "text/plain": [
       "100"
      ]
     },
     "execution_count": 206,
     "metadata": {},
     "output_type": "execute_result"
    }
   ],
   "source": [
    "len(review6)"
   ]
  },
  {
   "cell_type": "code",
   "execution_count": 207,
   "metadata": {},
   "outputs": [
    {
     "data": {
      "text/plain": [
       "['Brilliant',\n",
       " 'Perfect product!',\n",
       " 'Great product',\n",
       " 'Worth every penny',\n",
       " 'Highly recommended',\n",
       " 'Perfect product!',\n",
       " 'Perfect product!',\n",
       " 'Wonderful',\n",
       " 'Fabulous!',\n",
       " 'Worth every penny',\n",
       " 'Simply awesome',\n",
       " 'Worth every penny',\n",
       " 'Perfect product!',\n",
       " 'Nice product',\n",
       " 'Terrific',\n",
       " 'Brilliant',\n",
       " 'Wonderful',\n",
       " 'Must buy!',\n",
       " 'Terrific purchase',\n",
       " 'Classy product',\n",
       " 'Simply awesome',\n",
       " 'Worth every penny',\n",
       " 'Perfect product!',\n",
       " 'Nice product',\n",
       " 'Terrific',\n",
       " 'Brilliant',\n",
       " 'Wonderful',\n",
       " 'Must buy!',\n",
       " 'Terrific purchase',\n",
       " 'Classy product',\n",
       " 'Mind-blowing purchase',\n",
       " 'Great product',\n",
       " 'Terrific purchase',\n",
       " 'Simply awesome',\n",
       " 'Good quality product',\n",
       " 'Very poor',\n",
       " 'Fabulous!',\n",
       " 'Highly recommended',\n",
       " 'Mind-blowing purchase',\n",
       " 'Mind-blowing purchase',\n",
       " 'Wonderful',\n",
       " 'Good choice',\n",
       " 'Perfect product!',\n",
       " 'Classy product',\n",
       " 'Perfect product!',\n",
       " 'Just wow!',\n",
       " 'Awesome',\n",
       " 'Good choice',\n",
       " 'Terrific purchase',\n",
       " 'Perfect product!',\n",
       " 'Highly recommended',\n",
       " 'Perfect product!',\n",
       " 'Excellent',\n",
       " 'Fabulous!',\n",
       " 'Excellent',\n",
       " 'Must buy!',\n",
       " 'Simply awesome',\n",
       " 'Terrific purchase',\n",
       " 'Simply awesome',\n",
       " 'Worth every penny',\n",
       " 'Just wow!',\n",
       " 'Value-for-money',\n",
       " 'Awesome',\n",
       " 'Mind-blowing purchase',\n",
       " 'Awesome',\n",
       " 'Brilliant',\n",
       " 'Super!',\n",
       " 'Worth every penny',\n",
       " 'Good quality product',\n",
       " 'Terrific purchase',\n",
       " 'Awesome',\n",
       " 'Decent product',\n",
       " 'Good quality product',\n",
       " 'Fabulous!',\n",
       " 'Must buy!',\n",
       " 'Super!',\n",
       " 'Wonderful',\n",
       " 'Excellent',\n",
       " 'Mind-blowing purchase',\n",
       " 'Good quality product',\n",
       " 'Just wow!',\n",
       " 'Excellent',\n",
       " 'Awesome',\n",
       " 'Wonderful',\n",
       " 'Brilliant',\n",
       " 'Super!',\n",
       " 'Must buy!',\n",
       " 'Must buy!',\n",
       " 'Mind-blowing purchase',\n",
       " 'Excellent',\n",
       " 'Just wow!',\n",
       " 'Excellent',\n",
       " 'Awesome',\n",
       " 'Wonderful',\n",
       " 'Brilliant',\n",
       " 'Super!',\n",
       " 'Must buy!',\n",
       " 'Must buy!',\n",
       " 'Mind-blowing purchase',\n",
       " 'Excellent']"
      ]
     },
     "execution_count": 207,
     "metadata": {},
     "output_type": "execute_result"
    }
   ],
   "source": [
    "review6"
   ]
  },
  {
   "cell_type": "code",
   "execution_count": 208,
   "metadata": {},
   "outputs": [
    {
     "data": {
      "text/plain": [
       "99"
      ]
     },
     "execution_count": 208,
     "metadata": {},
     "output_type": "execute_result"
    }
   ],
   "source": [
    "len(rating6)"
   ]
  },
  {
   "cell_type": "code",
   "execution_count": 209,
   "metadata": {},
   "outputs": [
    {
     "data": {
      "text/plain": [
       "['5',\n",
       " '5',\n",
       " '5',\n",
       " '5',\n",
       " '5',\n",
       " '5',\n",
       " '5',\n",
       " '5',\n",
       " '5',\n",
       " '5',\n",
       " '5',\n",
       " '5',\n",
       " '5',\n",
       " '4',\n",
       " '5',\n",
       " '5',\n",
       " '5',\n",
       " '5',\n",
       " '5',\n",
       " '5',\n",
       " '5',\n",
       " '5',\n",
       " '5',\n",
       " '4',\n",
       " '5',\n",
       " '5',\n",
       " '5',\n",
       " '5',\n",
       " '5',\n",
       " '5',\n",
       " '5',\n",
       " '5',\n",
       " '5',\n",
       " '5',\n",
       " '4',\n",
       " '5',\n",
       " '5',\n",
       " '5',\n",
       " '5',\n",
       " '5',\n",
       " '4',\n",
       " '5',\n",
       " '5',\n",
       " '5',\n",
       " '5',\n",
       " '5',\n",
       " '4',\n",
       " '5',\n",
       " '5',\n",
       " '5',\n",
       " '5',\n",
       " '5',\n",
       " '5',\n",
       " '5',\n",
       " '5',\n",
       " '5',\n",
       " '5',\n",
       " '5',\n",
       " '5',\n",
       " '5',\n",
       " '4',\n",
       " '5',\n",
       " '5',\n",
       " '5',\n",
       " '5',\n",
       " '5',\n",
       " '5',\n",
       " '4',\n",
       " '5',\n",
       " '5',\n",
       " '3',\n",
       " '4',\n",
       " '5',\n",
       " '5',\n",
       " '5',\n",
       " '4',\n",
       " '5',\n",
       " '5',\n",
       " '4',\n",
       " '5',\n",
       " '5',\n",
       " '5',\n",
       " '5',\n",
       " '5',\n",
       " '5',\n",
       " '5',\n",
       " '5',\n",
       " '5',\n",
       " '5',\n",
       " '5',\n",
       " '5',\n",
       " '5',\n",
       " '5',\n",
       " '5',\n",
       " '5',\n",
       " '5',\n",
       " '5',\n",
       " '5',\n",
       " '5']"
      ]
     },
     "execution_count": 209,
     "metadata": {},
     "output_type": "execute_result"
    }
   ],
   "source": [
    "rating6"
   ]
  },
  {
   "cell_type": "code",
   "execution_count": 210,
   "metadata": {},
   "outputs": [
    {
     "data": {
      "text/plain": [
       "100"
      ]
     },
     "execution_count": 210,
     "metadata": {},
     "output_type": "execute_result"
    }
   ],
   "source": [
    "len(full_review6)"
   ]
  },
  {
   "cell_type": "code",
   "execution_count": 211,
   "metadata": {},
   "outputs": [
    {
     "data": {
      "text/plain": [
       "['The Best Phone for the Money\\n\\nThe iPhone 11 offers superb cameras, a more durable design and excellent battery life for an affordable price.\\n\\nCompelling ultra-wide camera\\nNew Night mode is excellent\\nLong battery life',\n",
       " 'Amazing phone with great cameras and better battery which gives you the best performance. I just love the camera .',\n",
       " 'Amazing Powerful and Durable Gadget.\\n\\nI’m am very happy with the camera picture quality, Amazing face id unlocked in dark room, Strong battery with perfect screen size as you can carry easily in pocket. This is my third iPhone.\\n\\nI shifted from android Samsung Note series to iPhone because of the strong build quality and peace of mind for next 3-4 years.\\n\\nDon’t think to much just go for it and I suggest you to go for minimum 128gb variant or more 256gb.\\n\\nI’ve attached my puppy pics and no fi...\\nREAD MORE',\n",
       " 'Previously I was using one plus 3t it was a great phone\\nAnd then I decided to upgrade I am stuck between Samsung s10 plus or iPhone 11\\nI have seen the specs and everything were good except the display it’s somewhere between 720-1080 and it’s not even an amoled it’s an LCD display\\nBut I decided to go with iPhone because I have never used an IOS device I have Been an android user from the past 9 years I ordered IPhone 11 (128gb) product red\\nMy experience after using 3 weeks\\n1. The delivery ...\\nREAD MORE',\n",
       " 'iphone 11 is a very good phone to buy only if you can compromise for the display. The display on this is device is pretty good but you can get other options with better displays in this price segment.\\nIf you can survive with an HD+ LCD panel with thicker bezels and a notch up top then this is a very good phone for you.\\nCameras are awesome, battery backup excellent, great performance and a decent premium look. Good job Apple !',\n",
       " 'It’s a must buy who is looking for an upgrade from previous generation of iPhones. If you are using XR then still you can hold on for sometime and upgrade to 2020 model else this phone is a must buy . Camera quality is amazing and wide angle is something to count upon. Performance wise it’s amazing and feels premium while holding in hand. So a big YES for this device. Go for 128 GB variant as the 4K videos will occupy lots of space and the storage can get over very quickly. Try to buy it with...\\nREAD MORE',\n",
       " 'Value for money❤️❤️\\nIts awesome mobile phone in the world ...\\nDisplay was very good and bright ..\\nTrust me freinds you r never regret after Buying..\\nJust go for it....\\nI love this phone and i switch to iphone x to 11',\n",
       " '*Review after 10 months of usage*\\nDoesn\\'t seem bulky with decent touch and camera. The \"standard maintained\" quality of IPhone. Go for it, if your budget is not more enough for pro models. It\\'s a value for money among the 11 series Stereo speakers are so good, you will love the stereo sound. Battery backup is not decent but still better than Iphone 7 and 8.Processor is fast, the phone doesn\\'t lag at all even with heavy games, waterproof, faster face id and with no fingerprint scanners. The ca...\\nREAD MORE',\n",
       " 'This is my first iOS phone. I am very happy with this product. Very much satisfied with this. I love this phone.',\n",
       " 'Best budget Iphone till date ❤️ go for it guys without second thought. Let me explain you guys about Camera, Display, battery, and performance.\\n\\nCamera: at this price range there is no comparison of camera, you’ll love the picture quality as well as video quality. I am a Vlogger I wanted an iPhone with 4k video by front camera and I got this phone and I am more than happy 😃\\n\\nBattery: I use this phone roughly as I am active social media person and I have a youtube channel. so the battery ba...\\nREAD MORE',\n",
       " 'Excellent camera, good performance, no lag. The lcd display is also good.. but difference come when we watch movie in prime and Netflix, the colours are not vibrant.. as we see in amoled display.. and the charger in box is of 5 watts.. takes more than 3 hours to charge from 0 to 100.. so guys be prepare to buy 18 watts charger . Finally I am an android user, it was my first Iapple phone, I promise u guys the iOS is so smooth.. overall the phone is damn good.... close eyes to buy it.. thanks t...\\nREAD MORE',\n",
       " 'It’s been almost a month since I have been using this phone. I upgraded from an iPhone 8. The main issue with my 8 was battery and this phone is just awesome when it comes to battery. It lasts a day and a half for me with my regular use , internet connected always with 4g\\nCan’t move forward without saying this. Battery of this phone is a life saver when I am traveling or at work when I don’t get the option to charge\\nCamera is superb. Front cam selfies and back cam photos are just awesome.\\n...\\nREAD MORE',\n",
       " \"Iphone is just awesome.. battery backup is very very nice.. continuously for 10 hours we can use it.camera is just awesome.. display is just fab.i love it alot..i had to wait 15 days for it as i pre ordered it..overalll it's worth the price..these all images are clicked by my iPhone..and i love it.\",\n",
       " 'Awesome Phone. Slightly high price but worth. Better than iPhone XR.\\nCamera is superb and wide angle camera is very clear.\\n12MP selfie camera is also very good.\\nA13 Chip gives a very good and smooth performance.',\n",
       " 'Really worth of money. i just love it. It is the best phone ever.',\n",
       " 'I have migrated from OP 7pro... and trust me, iPhone 11 is totally worth it.. following are the reasons:-\\n1)there is ABSOLUTELY NO ISSUE WITH THE DISPLAY... its crisp, sharp and I found it to be much much better than OP7 pro. Netflix, Prime video all run crisply... you won’t miss a thing. True Tone works flawlessly...the display brightness is perfect. OP have not calibrated their screens properly.\\n2) iPhone 11 series have really good cameras... others have spoken in depth about them.\\n3) bat...\\nREAD MORE',\n",
       " 'This is my first ever I phone. Before this I was using my google nexus 5. But moving from android to iOS is a great experience. It’s worth at this price. I will highly recommend it if you want to move to iOS. The best part of this phone is it’s camera and it’s battery life. This two things have won my heart. I loved it. Happy to have it in my hand. Still exploring its features. And can’t forget to mention Flipkart service. Very prompt service and fast delivery.',\n",
       " 'It’s an amazing product from apple and the camera is simply superb. Phone is faster.Night shot is simply superb and detailing and colour differentiation from camera is an added advantage\\n\\nThis review I have written from iPhone 11 only and I am glad to say outside.\\n\\nCons wise if we see HD+ display only, no battery percentage indicator as in older iPhone 8.\\nNo assistive touch control button in it\\nNo oleophobic coating on back panel glass and finger prints are visible but since I bought mint gr...\\nREAD MORE',\n",
       " 'Upgraded from iphone 6 to 11 best phone for iphone users battery is much better than other iphones camera is awesome love to use it.camera is so clear in night.',\n",
       " 'Superb Product !!!\\nA big and worthy upgrade from mi 3S to iphone 11 .\\nTotally loved it !',\n",
       " 'Excellent camera, good performance, no lag. The lcd display is also good.. but difference come when we watch movie in prime and Netflix, the colours are not vibrant.. as we see in amoled display.. and the charger in box is of 5 watts.. takes more than 3 hours to charge from 0 to 100.. so guys be prepare to buy 18 watts charger . Finally I am an android user, it was my first Iapple phone, I promise u guys the iOS is so smooth.. overall the phone is damn good.... close eyes to buy it.. thanks t...\\nREAD MORE',\n",
       " 'It’s been almost a month since I have been using this phone. I upgraded from an iPhone 8. The main issue with my 8 was battery and this phone is just awesome when it comes to battery. It lasts a day and a half for me with my regular use , internet connected always with 4g\\nCan’t move forward without saying this. Battery of this phone is a life saver when I am traveling or at work when I don’t get the option to charge\\nCamera is superb. Front cam selfies and back cam photos are just awesome.\\n...\\nREAD MORE',\n",
       " \"Iphone is just awesome.. battery backup is very very nice.. continuously for 10 hours we can use it.camera is just awesome.. display is just fab.i love it alot..i had to wait 15 days for it as i pre ordered it..overalll it's worth the price..these all images are clicked by my iPhone..and i love it.\",\n",
       " 'Awesome Phone. Slightly high price but worth. Better than iPhone XR.\\nCamera is superb and wide angle camera is very clear.\\n12MP selfie camera is also very good.\\nA13 Chip gives a very good and smooth performance.',\n",
       " 'Really worth of money. i just love it. It is the best phone ever.',\n",
       " 'I have migrated from OP 7pro... and trust me, iPhone 11 is totally worth it.. following are the reasons:-\\n1)there is ABSOLUTELY NO ISSUE WITH THE DISPLAY... its crisp, sharp and I found it to be much much better than OP7 pro. Netflix, Prime video all run crisply... you won’t miss a thing. True Tone works flawlessly...the display brightness is perfect. OP have not calibrated their screens properly.\\n2) iPhone 11 series have really good cameras... others have spoken in depth about them.\\n3) bat...\\nREAD MORE',\n",
       " 'This is my first ever I phone. Before this I was using my google nexus 5. But moving from android to iOS is a great experience. It’s worth at this price. I will highly recommend it if you want to move to iOS. The best part of this phone is it’s camera and it’s battery life. This two things have won my heart. I loved it. Happy to have it in my hand. Still exploring its features. And can’t forget to mention Flipkart service. Very prompt service and fast delivery.',\n",
       " 'It’s an amazing product from apple and the camera is simply superb. Phone is faster.Night shot is simply superb and detailing and colour differentiation from camera is an added advantage\\n\\nThis review I have written from iPhone 11 only and I am glad to say outside.\\n\\nCons wise if we see HD+ display only, no battery percentage indicator as in older iPhone 8.\\nNo assistive touch control button in it\\nNo oleophobic coating on back panel glass and finger prints are visible but since I bought mint gr...\\nREAD MORE',\n",
       " 'Upgraded from iphone 6 to 11 best phone for iphone users battery is much better than other iphones camera is awesome love to use it.camera is so clear in night.',\n",
       " 'Superb Product !!!\\nA big and worthy upgrade from mi 3S to iphone 11 .\\nTotally loved it !',\n",
       " 'This will help you more. See if you are planning to buy iPhone 11. I will say. Yes. But there are some plans I just want to disclose before you buy. 1) If you are an existing iPhone X/XS/XS Max/ XR user, better you guys do not think it to buy. You guys have more or less better gadget. 2) If you are an android user and planning to buy premium phone. I will suggest them to please buy iPhone instead of buying an Android. I bet you will never go back to android after using IOS. Now I want to shar...\\nREAD MORE',\n",
       " 'Well you all know the specifications . One of a kind. Best iPhone till date. Many enhancements to the camera app with many options. Love the glass body with matte finish in the lens area on the back. Lovely colours to choose from. Best battery in an iPhone till date, enough to last more than a day in normal usage. I tested my iPhone 11 battery and lasted for than 24 hours after full charge still with 30% battery charge left. Watched movies for some time. Normal usage on calls, browsing, musi...\\nREAD MORE',\n",
       " 'The built quality is not very premium.\\nThe battery back is great .\\nThe LCD panel is not so sharp but the brightness level is very High .\\nCamera is super duper awesome.\\nThe red colour which people think is bright is actually very soothing and excellent colour to choose from .\\nThe A13 Bionic chip is really a flagship processor and can beat any phone which even has 12 gb ram .\\nCamera module is very great and looks very stylish.',\n",
       " 'Really good actually this is my first apple product am using its really awesome performance wise excellent. Am really happy with this iphone11',\n",
       " 'it is very good at performance. Camera is best like before and very smooth response even in water. Don’t buy 12 mini buy iPhone 11 , it is far better than 12 mini believe me ! Have a nice day \\uf8ff ☺️',\n",
       " 'Reviewing again after 5 months. At the beginning the battery and performance was good but it degraded soon. Also I was facing heating issues. The mobile will heat up like a stove sometimes. You cannot even play Pubg even in low settings properly, performance is not a problem but heating is. Also if you play that game for 10 mins the brightness will be automatically down due to over heating even when the auto brightness is set to off. This will not be solved even if u manually increase the bri...\\nREAD MORE',\n",
       " \"I can say I'm damn impressed with iPhone 11. As they says iPhone 11 have the toughest glass ever in the smartphone which you'll find on the front and back and it's totally smooth. The fit and finish is full apple quality - there's no sense that any cheaping out has happened in the construction. Without saying it's camera features this review won't complete. The iPhone 11 has a dual camera system, consisting of a wide angle len's that's pretty much same as found on the iPhone XR last year, but...\\nREAD MORE\",\n",
       " \"It's my first time to use iOS phone and I am loving my upgradation 😍😍 I love the color, I love the assebility of the phone....I need to learn more about its functionality, but as far as I have seen, it's quite easy and it has a lot of functions to work on, specially if you are a content writer or a blogger you get a lot of content creation platforms and they are really amazing.\\n\\nThis phone not only for good quality photography but a lot of other task too.😍💯\",\n",
       " 'Best Quality Product OF iPhone Series , Sound Quality & Camera quality is very awesome, Battery Life is very Sufficient for 24 hr Backup With Full Internet Access , I love this this Product too much , It is very fast & making me Very fast in all my daily Routine\\nHighlights;\\n1.Camera: 5 STAR\\n2.Video Recording: 5 star\\n3.Night mODE sHOOTING & Camera:4 star\\n4. Audio Quality: Awesome\\n5. Battery : 5 Star\\n6. Touch:5 Star\\n7. Processor: Very Fast\\nThe M...\\nREAD MORE',\n",
       " 'First thanks to Flipkart for this amazing deal and phone is outstanding. I upgraded from iPhone 7 and this is like very big upgrade. But the packaging was very basic I expected a good packaging as they only wrapped one layer of bubble wrap which I don’t think is enough to protect this expensive phone. And I recommend this phone and seller as well.\\n\\nAnd I’m posting this review after using it for 4 days.',\n",
       " 'I just directly switch from iphone 6s to iphone 11 .The best premium smartphone I recommend to everyone. Excellent quality and colors the iphone have in 11 series.\\nCamera quality is just awesome and the major feel when we hold in our hands. The sound quality and volume is also higher then the previous models.\\nI will recommend to buy iphone 11 instead of pro models , there is nothing much difference as this model contains everything which fulfill our needs.\\n\\nOnly one thing that I dislike abo...\\nREAD MORE',\n",
       " 'Looking so good 👍 😍 super 👌 stylish 😎 phone\\nClean box 📦 good 👍 delivery 👌 fast delivery\\nOriginal box Original iphone 📱 👌 😍😍😍',\n",
       " 'Battery backup is extraordinary, camera is decent & performance offered by A13 bionic is awsome. The display is good in practical usage like the visibility of display is very good in direct sun light compare to pro models. Iam extremely satisfied for the money I spent.',\n",
       " 'Well while switching from android to iOS the first thing you need to be careful about is that you will loose all your whatsapp chat backups as both are different operating systems. Camera clarity is awesome and though being an lcd screen clarity and resolution is good. Battery backup is also good unlike previous gen iPhone. So far the experience is good will Padre after a few months of usage.\\n\\nP.S the black is more of a dark grey shade and not jet black',\n",
       " 'In love with this iphone great performance,camera ,battery everything. Go for it have a uncompareble battery backup, no doubts in iPhone camera here You can see the picture which is shot on my iPhone In love with this iphone great performance,camera ,battery everything. Go for it have a uncompareble battery backup, no doubts in iPhone camera here You can see the picture which is shot on my iPhone In love with this iphone great performance,camera ,battery everything. Go for it have a uncompare...\\nREAD MORE',\n",
       " 'Best in class. Battery backup is good especially when you play games like Pubg COD. But it is sort of heavy when you hold in hands. Portrait mode is best to click pictures. Stage light effect is awesome. Try to click photos outside in nature because photos inside home or room will not give you the quality in any phone even in DSLR.',\n",
       " 'Very excited to have this phone. This phone has the real power unlike the android phones having SD 855 . The battery life is very good and the camera quality is excellent as comapred to redmi and other phones except google pixel. I M enjoying every single bit of it. Would recommed only if you have the budget.',\n",
       " 'So far it’s been an AMAZING experience coming back to iOS after nearly a decade but it’s not as versatile as android though phone is sturdy dropped it accidentally a couple of times and nothing happened fortunately camera is awesome',\n",
       " 'Its Very awesome product working and good camera quality and all about best product and also flipkart is very great deal and offer nice price',\n",
       " 'After 1 month use I found camera quality best compared to my previous Samsung note 10+.Display not good as note 10 also charging too slow.Apple should add fast charger like 11 plus and pro.Best phone for daily use',\n",
       " 'What a camera .....just awesome ..you can feel this iPhone just awesome . Good for gaming also ...try pubg in hd it’s just wow',\n",
       " 'Awesome purchase. Amazing phone with good battery backup. It’s a top notch device. White colour looks amazing. Phone has a few extra feature than iPhone XR. Overall, this is value for money',\n",
       " 'Amazing camera and feel super machine I am not describe my feeling but this is amazing Phone I am so lucky I have this',\n",
       " 'awesome phone to have. it has got many smart features apart from mind blowing looks, camera, display, battery and sound. have fallen in love with this phone. must buy phone if you have got enough money. thanks to flipkart and apple of course..',\n",
       " 'Its a fabulous mobile look awesome performance unbeaten camera like dslr battery good i think this is a beast of mobile',\n",
       " 'Dear friends... I want to share my experience with you about this amazing I phone 11....this is my first iPhone and special things about this mobile is it has great camera, battery backup and awesome display.... I mean everything is perfect.loved it 👍👍👍',\n",
       " \"It's very high performances devise i am like the service of flipkart delevary very fast and packing very nice perfect phone\",\n",
       " 'finally an iPhone with very nice battery backup. update from iPhone 7 and happy to have it. camera is not up to the mark in low light but overall a recommended phone if your budget allows 😀',\n",
       " 'Really satisfied with the Product I received... It’s totally genuine and the packaging was also really good so if ur planning to buy just go for it.',\n",
       " 'i11 is worthy to buy, too much happy with the product. Thank u flipkart I received the item on time..loved it..',\n",
       " 'Great iphone.\\nI am writing this review after 2 months of usage.\\nCamera is excellent, especially the nightmode\\nDisplay perfect\\nBattery backup awesome\\nSound quality very good\\nOverall Apple gives you a perfect iphone in this range.\\nReally in love with iPhone 11',\n",
       " \"I'm Really happy with the product\\nDelivery was fast as well\\n..it was a gift for my sister and she loved it so much.\",\n",
       " 'Always love the apple products, upgraded from old iPhone 6S plus to this after having my first baby. I just love to click baby’s photos with it. Overall I just love this phone. Battery back up is okay, sound quality is good. Haven’t tested yet waterproof yet. Only one thing I hate is apple could have given charger & headphones in box.',\n",
       " 'awesome Phone Smooth Touch Too good Sexyy looks one word Awesome',\n",
       " 'Value for money\\n5 star rating\\nExcellent camera\\nBattery backup full day in single charge.\\n\\nTougher and water resistant design, glossy back.\\nThe screen has excellent brightness and contrast.\\nApple A13 Bionic is the fastest smartphone chip on the planet.\\nExcellent battery life, fast charging support.\\nStereo speakers with great quality.',\n",
       " 'Amazing phone and on great deal I received with super fast delivery by Flipkart...',\n",
       " 'Did an upgrade from 6s plus to iphone 11.\\nAo far the experience is well and good. Felt smoother than 6s plus. The camera quality is superb. Battery backup is descent. Not a heavy user, and gets power more than a day. Go for it if you need an alrounder iphone in a competitve price.',\n",
       " 'Smooth like butter, camera like fantabulous, sound is crystal clear & its red color is damn attractive, i am just loving it. Must buy if you love photography.\\n\\nLucky to get it in sale, thank you Flipkart.',\n",
       " 'I was torn between the oneplus 8 pro and the iphone 11. I had to shell out extra money for this, but I say if you can afford it, this truely is the best package.\\nMind blowing camera, battery and overall performance. Face Id works like magic even in complete darkness without firing up the screen brightness. The phones with in display fingerprint scanners do this at night time and it really burns your eyes.\\nI wanted the oneplus for its display but tbh the OLEDs on oneplus is really bad. Flick...\\nREAD MORE',\n",
       " 'I use a Note10+ and have been using both iOS and Android devices.\\n\\nCamera has really good features and portraits are super good, better than Samsung flagship. Overall camera setup can still be enhanced and hopeful for better upgrades on software in next release\\n\\nOperating system is quite a breeze and user experience of daily usage is very high as compared to Android. I moved to iOS very swiftly in 2 days for all my office work from Note10+\\n\\nBattery holds up quite well with 4 hrs of call and ...\\nREAD MORE',\n",
       " 'The phone is completely good\\nAs far as camera Apple is king of it\\nAnd its a beast in performance\\nAnd the battery is pretty good too',\n",
       " 'Everything u ll like it when u use this iPhone. Simple changes only not many to lower models but it’s nice to use. Little heavy compared to previous models like 7,8',\n",
       " \"I'm switching this phone to oppo reno 10x zoom\\nIt's really impressive\\nRarely I'm missing smooth display touch response like oppo reno but\\nI really loved it.\\nCamera really impressive\",\n",
       " 'I purchased the iPhone 11 a month back. I must say Apple has impressed me yet again . I have been an Apple user for past 5 years . The phone is power packed with amazing features . What impressed me the most was the battery backup the phone offers . Battery can easily run upto 1.5 days in single charge with moderate to\\nHeavy usage . If you’re looking for a value for money device , I don’t see any other phone in the price range which can match the iPhone 11 .\\nOne thing I didn’t like was that ...\\nREAD MORE',\n",
       " 'Best Apple iPhone that i have bought at a very reasonable price, camera quality is next level just awesome n of superior quality android phones not even close(RIP) to that and also battery is really good but packaging by Flipkart of iPhone was very poor of such a expensive product, firstly im bit worried about the quality of product if i purchased it through online how was the product but i think now this was mine best decision to bought it through Flipkart online because i got genuine Apple...\\nREAD MORE',\n",
       " \"It's a great phone. From camera to display everything is best for the price.\\nBest camera , best performance. I think everyone should buy it . This phone has best battery life so far in iphone series which I had used earlier. Happy to have it. Thanks Flipkart\",\n",
       " \"I genuinely liked it. One of the best mobile phones I have used. It's sho smooth and it's security is very astonishing. Plus it has a very good camera quality. so overall it's a win win.\",\n",
       " \"Just go for it.\\nThis phone is really amazing. I ordered it for my wife and we click photos on this thing which are better than dslr. I own OnePlus 6t but it's camera sucks. iPhone is really amazing when it comes to camera. It's worth spending 50k on this. Cons- only display is lcd. While using u don't feel it but if u compare with other phone then u can see difference quite easily.\\nChanging from Android to iphone is bit difficult coz most of things u don't know but I liked it. Some of the a...\\nREAD MORE\",\n",
       " 'Absolutely powerful gadget. Loved it’s look! Soo glassy and classy. I would definitely recommend this model of Apple. Only disappointed with the 5W charger, one should purchase an 18W adapter for fast charging. Though battery backup is great. Bought it in September 2020, reviewing after so long so I’m gonna put the genuine review here.✅',\n",
       " 'Awesome camera, smooth and fast UI, display is great (though not LED) but the black area at the top could have been reduced. Battery remains a day even if used heavily. Charger in the box is ok, but 12 or 18W could have been nothing like anything. Overall an excellent product and comfortable to use. I have got it almost a month back and so far so good.',\n",
       " 'The ultimate performance\\nCamera is superb\\nThe battery backup also very good i never saw iphone gives this much of battery backup\\nIf any one wana buy iphone 11 definitely i will recommend this mobile\\nIt has the better battery and powerfull processer peak performance glorious camera and the display also 100% high quality lcd display if u had money for for 12 if u dont wana invest much money on that then go for iphone 11 it has maximum same specs only main difference between the 12 and 11 is...\\nREAD MORE',\n",
       " 'Seller - SuperComNet ( my trust in you has grown deeper. Thanks for the genuine product )\\nThe package came packed perfectly. The box was sealed which gave me a big relief.\\n\\nApple needs no introduction since its the dominant market player. I just love the way how IPhone 11 stands out so boldly. The moment I took it out from the box, I could feel the premium intensity. The body is remarkable and crafted for giving you a elite vibe.\\n\\nCamera is to die for. There is no other phone that can beat...\\nREAD MORE',\n",
       " 'Can’t beat the software and hardware integration of apple.\\nPerforms like a beast. Great quality camera\\n6-7 hours screen on time which is good. Nothing much to complaint about the screen. Good connectivity speeds.\\nGreat buy and Flipkart’s delivery top notch as usual',\n",
       " 'Superfast delivery by Flipkart. Thanks.\\n\\n1. iPhone 11 is a pretty solid phone for the money you are paying.\\n2. All the bad reviews about the display is confusing. It’s not that bad.\\n3. I switched from a Oneplus 7t. I have no complaints about the display quality of iPhone. Yes, it’s not OLED, so, we are missing on the deep blacks. But that’s it. It is a very colour accurate display. Gets adequately bright and I could not find any pixelation.\\n4. Performance is one of the best, if not best, in ...\\nREAD MORE',\n",
       " 'Excellent camera and display touching very nice and smooth very improvement against iPhone XR and new processor is very fast',\n",
       " 'This is my first ever iPhone.\\nAnd I truly don’t regret switching to IOS from my Android.\\n\\nIt is easily an alternative to a DSLR camera.\\nIf you’re obsessed with photos and videos, just don’t think twice or don’t compare to other androids(Samsung S10 lite or OnePlus 8/8T), as it’s far better from them in every field.\\nComparing will only make you confused.\\n\\nI am getting an average Screen on Time of around 10 hours with 30 percent left. I haven’t let my device discharged below 30 % as it aff...\\nREAD MORE',\n",
       " 'I rate this product 5* as it has got amazing user experience with the best performing A13 bionic processor. The screen responds and graphics rendering is top notch. With casual gaming and internet browsing, the battery lasts for approx. 1 day. Camera is very good. You will fall in love with the portrait mode. You can call me a loyal Apple customer or whatever but I won’t stop praising the products and overall experience. That user experience matters and is worth every penny you pay.\\n\\nBelow ar...\\nREAD MORE',\n",
       " 'Damn this phone is a blast . Upgraded from android to ios and is a duperb experience. Battery backup is top notch and display also pretty good',\n",
       " \"i was confused between 11 and 11 pro. i was going towards 11 pro, but the screen size was not enough for me.\\nAnd i saw 11 in the showroom. i didn't find much difference in screen quality.And cameras seems to be ok with me. And i saw offer's in flipkart and made the purchase.\\nthe device is fabulous. The hardware and software quality is excellent. The new iOS is something you need to experience yourself. The drawback i found was absence of fast charger, but the pricing can compensate that. Am...\\nREAD MORE\",\n",
       " 'Value for money product. This iphone 11 is really amazing. Again nice release by apple. Great camera, battery backup is excellent. I just love this phone',\n",
       " 'The ultimate performance\\nCamera is superb\\nThe battery backup also very good i never saw iphone gives this much of battery backup\\nIf any one wana buy iphone 11 definitely i will recommend this mobile\\nIt has the better battery and powerfull processer peak performance glorious camera and the display also 100% high quality lcd display if u had money for for 12 if u dont wana invest much money on that then go for iphone 11 it has maximum same specs only main difference between the 12 and 11 is...\\nREAD MORE',\n",
       " 'Seller - SuperComNet ( my trust in you has grown deeper. Thanks for the genuine product )\\nThe package came packed perfectly. The box was sealed which gave me a big relief.\\n\\nApple needs no introduction since its the dominant market player. I just love the way how IPhone 11 stands out so boldly. The moment I took it out from the box, I could feel the premium intensity. The body is remarkable and crafted for giving you a elite vibe.\\n\\nCamera is to die for. There is no other phone that can beat...\\nREAD MORE',\n",
       " 'Can’t beat the software and hardware integration of apple.\\nPerforms like a beast. Great quality camera\\n6-7 hours screen on time which is good. Nothing much to complaint about the screen. Good connectivity speeds.\\nGreat buy and Flipkart’s delivery top notch as usual',\n",
       " 'Superfast delivery by Flipkart. Thanks.\\n\\n1. iPhone 11 is a pretty solid phone for the money you are paying.\\n2. All the bad reviews about the display is confusing. It’s not that bad.\\n3. I switched from a Oneplus 7t. I have no complaints about the display quality of iPhone. Yes, it’s not OLED, so, we are missing on the deep blacks. But that’s it. It is a very colour accurate display. Gets adequately bright and I could not find any pixelation.\\n4. Performance is one of the best, if not best, in ...\\nREAD MORE',\n",
       " 'Excellent camera and display touching very nice and smooth very improvement against iPhone XR and new processor is very fast',\n",
       " 'This is my first ever iPhone.\\nAnd I truly don’t regret switching to IOS from my Android.\\n\\nIt is easily an alternative to a DSLR camera.\\nIf you’re obsessed with photos and videos, just don’t think twice or don’t compare to other androids(Samsung S10 lite or OnePlus 8/8T), as it’s far better from them in every field.\\nComparing will only make you confused.\\n\\nI am getting an average Screen on Time of around 10 hours with 30 percent left. I haven’t let my device discharged below 30 % as it aff...\\nREAD MORE',\n",
       " 'I rate this product 5* as it has got amazing user experience with the best performing A13 bionic processor. The screen responds and graphics rendering is top notch. With casual gaming and internet browsing, the battery lasts for approx. 1 day. Camera is very good. You will fall in love with the portrait mode. You can call me a loyal Apple customer or whatever but I won’t stop praising the products and overall experience. That user experience matters and is worth every penny you pay.\\n\\nBelow ar...\\nREAD MORE',\n",
       " 'Damn this phone is a blast . Upgraded from android to ios and is a duperb experience. Battery backup is top notch and display also pretty good',\n",
       " \"i was confused between 11 and 11 pro. i was going towards 11 pro, but the screen size was not enough for me.\\nAnd i saw 11 in the showroom. i didn't find much difference in screen quality.And cameras seems to be ok with me. And i saw offer's in flipkart and made the purchase.\\nthe device is fabulous. The hardware and software quality is excellent. The new iOS is something you need to experience yourself. The drawback i found was absence of fast charger, but the pricing can compensate that. Am...\\nREAD MORE\",\n",
       " 'Value for money product. This iphone 11 is really amazing. Again nice release by apple. Great camera, battery backup is excellent. I just love this phone']"
      ]
     },
     "execution_count": 211,
     "metadata": {},
     "output_type": "execute_result"
    }
   ],
   "source": [
    "full_review6"
   ]
  },
  {
   "cell_type": "code",
   "execution_count": 212,
   "metadata": {},
   "outputs": [
    {
     "name": "stdout",
     "output_type": "stream",
     "text": [
      "100 99 100\n"
     ]
    }
   ],
   "source": [
    "print(len(review6),len(rating6),len(full_review6))"
   ]
  },
  {
   "cell_type": "code",
   "execution_count": 213,
   "metadata": {},
   "outputs": [
    {
     "data": {
      "text/html": [
       "<div>\n",
       "<style scoped>\n",
       "    .dataframe tbody tr th:only-of-type {\n",
       "        vertical-align: middle;\n",
       "    }\n",
       "\n",
       "    .dataframe tbody tr th {\n",
       "        vertical-align: top;\n",
       "    }\n",
       "\n",
       "    .dataframe thead th {\n",
       "        text-align: right;\n",
       "    }\n",
       "</style>\n",
       "<table border=\"1\" class=\"dataframe\">\n",
       "  <thead>\n",
       "    <tr style=\"text-align: right;\">\n",
       "      <th></th>\n",
       "      <th>One line review</th>\n",
       "      <th>Full review</th>\n",
       "    </tr>\n",
       "  </thead>\n",
       "  <tbody>\n",
       "    <tr>\n",
       "      <th>0</th>\n",
       "      <td>Brilliant</td>\n",
       "      <td>The Best Phone for the Money\\n\\nThe iPhone 11 ...</td>\n",
       "    </tr>\n",
       "    <tr>\n",
       "      <th>1</th>\n",
       "      <td>Perfect product!</td>\n",
       "      <td>Amazing phone with great cameras and better ba...</td>\n",
       "    </tr>\n",
       "    <tr>\n",
       "      <th>2</th>\n",
       "      <td>Great product</td>\n",
       "      <td>Amazing Powerful and Durable Gadget.\\n\\nI’m am...</td>\n",
       "    </tr>\n",
       "    <tr>\n",
       "      <th>3</th>\n",
       "      <td>Worth every penny</td>\n",
       "      <td>Previously I was using one plus 3t it was a gr...</td>\n",
       "    </tr>\n",
       "    <tr>\n",
       "      <th>4</th>\n",
       "      <td>Highly recommended</td>\n",
       "      <td>iphone 11 is a very good phone to buy only if ...</td>\n",
       "    </tr>\n",
       "    <tr>\n",
       "      <th>5</th>\n",
       "      <td>Perfect product!</td>\n",
       "      <td>It’s a must buy who is looking for an upgrade ...</td>\n",
       "    </tr>\n",
       "    <tr>\n",
       "      <th>6</th>\n",
       "      <td>Perfect product!</td>\n",
       "      <td>Value for money❤️❤️\\nIts awesome mobile phone ...</td>\n",
       "    </tr>\n",
       "    <tr>\n",
       "      <th>7</th>\n",
       "      <td>Wonderful</td>\n",
       "      <td>*Review after 10 months of usage*\\nDoesn't see...</td>\n",
       "    </tr>\n",
       "    <tr>\n",
       "      <th>8</th>\n",
       "      <td>Fabulous!</td>\n",
       "      <td>This is my first iOS phone. I am very happy wi...</td>\n",
       "    </tr>\n",
       "    <tr>\n",
       "      <th>9</th>\n",
       "      <td>Worth every penny</td>\n",
       "      <td>Best budget Iphone till date ❤️ go for it guys...</td>\n",
       "    </tr>\n",
       "    <tr>\n",
       "      <th>10</th>\n",
       "      <td>Simply awesome</td>\n",
       "      <td>Excellent camera, good performance, no lag. Th...</td>\n",
       "    </tr>\n",
       "    <tr>\n",
       "      <th>11</th>\n",
       "      <td>Worth every penny</td>\n",
       "      <td>It’s been almost a month since I have been usi...</td>\n",
       "    </tr>\n",
       "    <tr>\n",
       "      <th>12</th>\n",
       "      <td>Perfect product!</td>\n",
       "      <td>Iphone is just awesome.. battery backup is ver...</td>\n",
       "    </tr>\n",
       "    <tr>\n",
       "      <th>13</th>\n",
       "      <td>Nice product</td>\n",
       "      <td>Awesome Phone. Slightly high price but worth. ...</td>\n",
       "    </tr>\n",
       "    <tr>\n",
       "      <th>14</th>\n",
       "      <td>Terrific</td>\n",
       "      <td>Really worth of money. i just love it. It is t...</td>\n",
       "    </tr>\n",
       "    <tr>\n",
       "      <th>15</th>\n",
       "      <td>Brilliant</td>\n",
       "      <td>I have migrated from OP 7pro... and trust me, ...</td>\n",
       "    </tr>\n",
       "    <tr>\n",
       "      <th>16</th>\n",
       "      <td>Wonderful</td>\n",
       "      <td>This is my first ever I phone. Before this I w...</td>\n",
       "    </tr>\n",
       "    <tr>\n",
       "      <th>17</th>\n",
       "      <td>Must buy!</td>\n",
       "      <td>It’s an amazing product from apple and the cam...</td>\n",
       "    </tr>\n",
       "    <tr>\n",
       "      <th>18</th>\n",
       "      <td>Terrific purchase</td>\n",
       "      <td>Upgraded from iphone 6 to 11 best phone for ip...</td>\n",
       "    </tr>\n",
       "    <tr>\n",
       "      <th>19</th>\n",
       "      <td>Classy product</td>\n",
       "      <td>Superb Product !!!\\nA big and worthy upgrade f...</td>\n",
       "    </tr>\n",
       "    <tr>\n",
       "      <th>20</th>\n",
       "      <td>Simply awesome</td>\n",
       "      <td>Excellent camera, good performance, no lag. Th...</td>\n",
       "    </tr>\n",
       "    <tr>\n",
       "      <th>21</th>\n",
       "      <td>Worth every penny</td>\n",
       "      <td>It’s been almost a month since I have been usi...</td>\n",
       "    </tr>\n",
       "    <tr>\n",
       "      <th>22</th>\n",
       "      <td>Perfect product!</td>\n",
       "      <td>Iphone is just awesome.. battery backup is ver...</td>\n",
       "    </tr>\n",
       "    <tr>\n",
       "      <th>23</th>\n",
       "      <td>Nice product</td>\n",
       "      <td>Awesome Phone. Slightly high price but worth. ...</td>\n",
       "    </tr>\n",
       "    <tr>\n",
       "      <th>24</th>\n",
       "      <td>Terrific</td>\n",
       "      <td>Really worth of money. i just love it. It is t...</td>\n",
       "    </tr>\n",
       "    <tr>\n",
       "      <th>25</th>\n",
       "      <td>Brilliant</td>\n",
       "      <td>I have migrated from OP 7pro... and trust me, ...</td>\n",
       "    </tr>\n",
       "    <tr>\n",
       "      <th>26</th>\n",
       "      <td>Wonderful</td>\n",
       "      <td>This is my first ever I phone. Before this I w...</td>\n",
       "    </tr>\n",
       "    <tr>\n",
       "      <th>27</th>\n",
       "      <td>Must buy!</td>\n",
       "      <td>It’s an amazing product from apple and the cam...</td>\n",
       "    </tr>\n",
       "    <tr>\n",
       "      <th>28</th>\n",
       "      <td>Terrific purchase</td>\n",
       "      <td>Upgraded from iphone 6 to 11 best phone for ip...</td>\n",
       "    </tr>\n",
       "    <tr>\n",
       "      <th>29</th>\n",
       "      <td>Classy product</td>\n",
       "      <td>Superb Product !!!\\nA big and worthy upgrade f...</td>\n",
       "    </tr>\n",
       "    <tr>\n",
       "      <th>...</th>\n",
       "      <td>...</td>\n",
       "      <td>...</td>\n",
       "    </tr>\n",
       "    <tr>\n",
       "      <th>70</th>\n",
       "      <td>Awesome</td>\n",
       "      <td>The phone is completely good\\nAs far as camera...</td>\n",
       "    </tr>\n",
       "    <tr>\n",
       "      <th>71</th>\n",
       "      <td>Decent product</td>\n",
       "      <td>Everything u ll like it when u use this iPhone...</td>\n",
       "    </tr>\n",
       "    <tr>\n",
       "      <th>72</th>\n",
       "      <td>Good quality product</td>\n",
       "      <td>I'm switching this phone to oppo reno 10x zoom...</td>\n",
       "    </tr>\n",
       "    <tr>\n",
       "      <th>73</th>\n",
       "      <td>Fabulous!</td>\n",
       "      <td>I purchased the iPhone 11 a month back. I must...</td>\n",
       "    </tr>\n",
       "    <tr>\n",
       "      <th>74</th>\n",
       "      <td>Must buy!</td>\n",
       "      <td>Best Apple iPhone that i have bought at a very...</td>\n",
       "    </tr>\n",
       "    <tr>\n",
       "      <th>75</th>\n",
       "      <td>Super!</td>\n",
       "      <td>It's a great phone. From camera to display eve...</td>\n",
       "    </tr>\n",
       "    <tr>\n",
       "      <th>76</th>\n",
       "      <td>Wonderful</td>\n",
       "      <td>I genuinely liked it. One of the best mobile p...</td>\n",
       "    </tr>\n",
       "    <tr>\n",
       "      <th>77</th>\n",
       "      <td>Excellent</td>\n",
       "      <td>Just go for it.\\nThis phone is really amazing....</td>\n",
       "    </tr>\n",
       "    <tr>\n",
       "      <th>78</th>\n",
       "      <td>Mind-blowing purchase</td>\n",
       "      <td>Absolutely powerful gadget. Loved it’s look! S...</td>\n",
       "    </tr>\n",
       "    <tr>\n",
       "      <th>79</th>\n",
       "      <td>Good quality product</td>\n",
       "      <td>Awesome camera, smooth and fast UI, display is...</td>\n",
       "    </tr>\n",
       "    <tr>\n",
       "      <th>80</th>\n",
       "      <td>Just wow!</td>\n",
       "      <td>The ultimate performance\\nCamera is superb\\nTh...</td>\n",
       "    </tr>\n",
       "    <tr>\n",
       "      <th>81</th>\n",
       "      <td>Excellent</td>\n",
       "      <td>Seller - SuperComNet ( my trust in you has gro...</td>\n",
       "    </tr>\n",
       "    <tr>\n",
       "      <th>82</th>\n",
       "      <td>Awesome</td>\n",
       "      <td>Can’t beat the software and hardware integrati...</td>\n",
       "    </tr>\n",
       "    <tr>\n",
       "      <th>83</th>\n",
       "      <td>Wonderful</td>\n",
       "      <td>Superfast delivery by Flipkart. Thanks.\\n\\n1. ...</td>\n",
       "    </tr>\n",
       "    <tr>\n",
       "      <th>84</th>\n",
       "      <td>Brilliant</td>\n",
       "      <td>Excellent camera and display touching very nic...</td>\n",
       "    </tr>\n",
       "    <tr>\n",
       "      <th>85</th>\n",
       "      <td>Super!</td>\n",
       "      <td>This is my first ever iPhone.\\nAnd I truly don...</td>\n",
       "    </tr>\n",
       "    <tr>\n",
       "      <th>86</th>\n",
       "      <td>Must buy!</td>\n",
       "      <td>I rate this product 5* as it has got amazing u...</td>\n",
       "    </tr>\n",
       "    <tr>\n",
       "      <th>87</th>\n",
       "      <td>Must buy!</td>\n",
       "      <td>Damn this phone is a blast . Upgraded from and...</td>\n",
       "    </tr>\n",
       "    <tr>\n",
       "      <th>88</th>\n",
       "      <td>Mind-blowing purchase</td>\n",
       "      <td>i was confused between 11 and 11 pro. i was go...</td>\n",
       "    </tr>\n",
       "    <tr>\n",
       "      <th>89</th>\n",
       "      <td>Excellent</td>\n",
       "      <td>Value for money product. This iphone 11 is rea...</td>\n",
       "    </tr>\n",
       "    <tr>\n",
       "      <th>90</th>\n",
       "      <td>Just wow!</td>\n",
       "      <td>The ultimate performance\\nCamera is superb\\nTh...</td>\n",
       "    </tr>\n",
       "    <tr>\n",
       "      <th>91</th>\n",
       "      <td>Excellent</td>\n",
       "      <td>Seller - SuperComNet ( my trust in you has gro...</td>\n",
       "    </tr>\n",
       "    <tr>\n",
       "      <th>92</th>\n",
       "      <td>Awesome</td>\n",
       "      <td>Can’t beat the software and hardware integrati...</td>\n",
       "    </tr>\n",
       "    <tr>\n",
       "      <th>93</th>\n",
       "      <td>Wonderful</td>\n",
       "      <td>Superfast delivery by Flipkart. Thanks.\\n\\n1. ...</td>\n",
       "    </tr>\n",
       "    <tr>\n",
       "      <th>94</th>\n",
       "      <td>Brilliant</td>\n",
       "      <td>Excellent camera and display touching very nic...</td>\n",
       "    </tr>\n",
       "    <tr>\n",
       "      <th>95</th>\n",
       "      <td>Super!</td>\n",
       "      <td>This is my first ever iPhone.\\nAnd I truly don...</td>\n",
       "    </tr>\n",
       "    <tr>\n",
       "      <th>96</th>\n",
       "      <td>Must buy!</td>\n",
       "      <td>I rate this product 5* as it has got amazing u...</td>\n",
       "    </tr>\n",
       "    <tr>\n",
       "      <th>97</th>\n",
       "      <td>Must buy!</td>\n",
       "      <td>Damn this phone is a blast . Upgraded from and...</td>\n",
       "    </tr>\n",
       "    <tr>\n",
       "      <th>98</th>\n",
       "      <td>Mind-blowing purchase</td>\n",
       "      <td>i was confused between 11 and 11 pro. i was go...</td>\n",
       "    </tr>\n",
       "    <tr>\n",
       "      <th>99</th>\n",
       "      <td>Excellent</td>\n",
       "      <td>Value for money product. This iphone 11 is rea...</td>\n",
       "    </tr>\n",
       "  </tbody>\n",
       "</table>\n",
       "<p>100 rows × 2 columns</p>\n",
       "</div>"
      ],
      "text/plain": [
       "          One line review                                        Full review\n",
       "0               Brilliant  The Best Phone for the Money\\n\\nThe iPhone 11 ...\n",
       "1        Perfect product!  Amazing phone with great cameras and better ba...\n",
       "2           Great product  Amazing Powerful and Durable Gadget.\\n\\nI’m am...\n",
       "3       Worth every penny  Previously I was using one plus 3t it was a gr...\n",
       "4      Highly recommended  iphone 11 is a very good phone to buy only if ...\n",
       "5        Perfect product!  It’s a must buy who is looking for an upgrade ...\n",
       "6        Perfect product!  Value for money❤️❤️\\nIts awesome mobile phone ...\n",
       "7               Wonderful  *Review after 10 months of usage*\\nDoesn't see...\n",
       "8               Fabulous!  This is my first iOS phone. I am very happy wi...\n",
       "9       Worth every penny  Best budget Iphone till date ❤️ go for it guys...\n",
       "10         Simply awesome  Excellent camera, good performance, no lag. Th...\n",
       "11      Worth every penny  It’s been almost a month since I have been usi...\n",
       "12       Perfect product!  Iphone is just awesome.. battery backup is ver...\n",
       "13           Nice product  Awesome Phone. Slightly high price but worth. ...\n",
       "14               Terrific  Really worth of money. i just love it. It is t...\n",
       "15              Brilliant  I have migrated from OP 7pro... and trust me, ...\n",
       "16              Wonderful  This is my first ever I phone. Before this I w...\n",
       "17              Must buy!  It’s an amazing product from apple and the cam...\n",
       "18      Terrific purchase  Upgraded from iphone 6 to 11 best phone for ip...\n",
       "19         Classy product  Superb Product !!!\\nA big and worthy upgrade f...\n",
       "20         Simply awesome  Excellent camera, good performance, no lag. Th...\n",
       "21      Worth every penny  It’s been almost a month since I have been usi...\n",
       "22       Perfect product!  Iphone is just awesome.. battery backup is ver...\n",
       "23           Nice product  Awesome Phone. Slightly high price but worth. ...\n",
       "24               Terrific  Really worth of money. i just love it. It is t...\n",
       "25              Brilliant  I have migrated from OP 7pro... and trust me, ...\n",
       "26              Wonderful  This is my first ever I phone. Before this I w...\n",
       "27              Must buy!  It’s an amazing product from apple and the cam...\n",
       "28      Terrific purchase  Upgraded from iphone 6 to 11 best phone for ip...\n",
       "29         Classy product  Superb Product !!!\\nA big and worthy upgrade f...\n",
       "..                    ...                                                ...\n",
       "70                Awesome  The phone is completely good\\nAs far as camera...\n",
       "71         Decent product  Everything u ll like it when u use this iPhone...\n",
       "72   Good quality product  I'm switching this phone to oppo reno 10x zoom...\n",
       "73              Fabulous!  I purchased the iPhone 11 a month back. I must...\n",
       "74              Must buy!  Best Apple iPhone that i have bought at a very...\n",
       "75                 Super!  It's a great phone. From camera to display eve...\n",
       "76              Wonderful  I genuinely liked it. One of the best mobile p...\n",
       "77              Excellent  Just go for it.\\nThis phone is really amazing....\n",
       "78  Mind-blowing purchase  Absolutely powerful gadget. Loved it’s look! S...\n",
       "79   Good quality product  Awesome camera, smooth and fast UI, display is...\n",
       "80              Just wow!  The ultimate performance\\nCamera is superb\\nTh...\n",
       "81              Excellent  Seller - SuperComNet ( my trust in you has gro...\n",
       "82                Awesome  Can’t beat the software and hardware integrati...\n",
       "83              Wonderful  Superfast delivery by Flipkart. Thanks.\\n\\n1. ...\n",
       "84              Brilliant  Excellent camera and display touching very nic...\n",
       "85                 Super!  This is my first ever iPhone.\\nAnd I truly don...\n",
       "86              Must buy!  I rate this product 5* as it has got amazing u...\n",
       "87              Must buy!  Damn this phone is a blast . Upgraded from and...\n",
       "88  Mind-blowing purchase  i was confused between 11 and 11 pro. i was go...\n",
       "89              Excellent  Value for money product. This iphone 11 is rea...\n",
       "90              Just wow!  The ultimate performance\\nCamera is superb\\nTh...\n",
       "91              Excellent  Seller - SuperComNet ( my trust in you has gro...\n",
       "92                Awesome  Can’t beat the software and hardware integrati...\n",
       "93              Wonderful  Superfast delivery by Flipkart. Thanks.\\n\\n1. ...\n",
       "94              Brilliant  Excellent camera and display touching very nic...\n",
       "95                 Super!  This is my first ever iPhone.\\nAnd I truly don...\n",
       "96              Must buy!  I rate this product 5* as it has got amazing u...\n",
       "97              Must buy!  Damn this phone is a blast . Upgraded from and...\n",
       "98  Mind-blowing purchase  i was confused between 11 and 11 pro. i was go...\n",
       "99              Excellent  Value for money product. This iphone 11 is rea...\n",
       "\n",
       "[100 rows x 2 columns]"
      ]
     },
     "execution_count": 213,
     "metadata": {},
     "output_type": "execute_result"
    }
   ],
   "source": [
    "df6=pd.DataFrame({})\n",
    "df6['One line review']=review6\n",
    "df6['Full review']=full_review6\n",
    "#df6['Rating']=rating6\n",
    "df6"
   ]
  },
  {
   "cell_type": "code",
   "execution_count": 272,
   "metadata": {},
   "outputs": [],
   "source": [
    "driver=webdriver.Chrome(r\"D:\\chromedriver.exe\")"
   ]
  },
  {
   "cell_type": "code",
   "execution_count": 273,
   "metadata": {},
   "outputs": [],
   "source": [
    "driver.get(\"https://www.flipkart.com\")"
   ]
  },
  {
   "cell_type": "code",
   "execution_count": 274,
   "metadata": {},
   "outputs": [],
   "source": [
    "product=driver.find_element_by_xpath(\"//div[@class='_3OO5Xc']/input\")"
   ]
  },
  {
   "cell_type": "code",
   "execution_count": 275,
   "metadata": {},
   "outputs": [],
   "source": [
    "product.send_keys(\"sunglasses\")"
   ]
  },
  {
   "cell_type": "code",
   "execution_count": 276,
   "metadata": {},
   "outputs": [],
   "source": [
    "search_btn=driver.find_element_by_xpath(\"//div[@class='col-12-12 _2oO9oE']/button\").click()"
   ]
  },
  {
   "cell_type": "code",
   "execution_count": 280,
   "metadata": {},
   "outputs": [],
   "source": [
    "brand7=[]\n",
    "desc7=[]\n",
    "price7=[]\n",
    "discount7=[]"
   ]
  },
  {
   "cell_type": "code",
   "execution_count": 281,
   "metadata": {},
   "outputs": [
    {
     "data": {
      "text/plain": [
       "['PIRASO',\n",
       " 'PIRASO',\n",
       " 'Fastrack',\n",
       " 'PIRASO',\n",
       " 'Fastrack',\n",
       " 'Fastrack',\n",
       " 'Silver Kartz',\n",
       " 'PIRASO',\n",
       " 'Fastrack',\n",
       " 'ROZZETTA CRAFT',\n",
       " 'Fastrack',\n",
       " 'PIRASO',\n",
       " 'ROZZETTA CRAFT',\n",
       " 'PIRASO',\n",
       " 'phenomenal',\n",
       " 'Fastrack',\n",
       " 'Singco India',\n",
       " 'phenomenal',\n",
       " 'Fastrack',\n",
       " 'NuVew',\n",
       " 'Singco India',\n",
       " 'Fastrack',\n",
       " 'Fastrack',\n",
       " 'ROYAL SON',\n",
       " 'HIPPON',\n",
       " 'NuVew',\n",
       " 'Fastrack',\n",
       " 'ROZZETTA CRAFT',\n",
       " 'Fastrack',\n",
       " 'New Specs',\n",
       " 'Fastrack',\n",
       " 'Singco India',\n",
       " 'Fastrack',\n",
       " 'PIRASO',\n",
       " 'phenomenal',\n",
       " 'DEIXELS',\n",
       " 'PIRASO',\n",
       " 'Singco India',\n",
       " 'ROZZETTA CRAFT',\n",
       " 'Aislin']"
      ]
     },
     "execution_count": 281,
     "metadata": {},
     "output_type": "execute_result"
    }
   ],
   "source": [
    "try:\n",
    "    brand_x=driver.find_elements_by_xpath(\"//div[@class='_2WkVRV']\")\n",
    "    for a in brand_x:\n",
    "        aa=a.text\n",
    "        brand7.append(aa)\n",
    "except NoSuchElementException as e:\n",
    "    brand7.append('Brand name not present')\n",
    "except ElementNotInteractableException as e:\n",
    "    brand7.append('Brand name not present')\n",
    "brand7"
   ]
  },
  {
   "cell_type": "code",
   "execution_count": 282,
   "metadata": {},
   "outputs": [
    {
     "data": {
      "text/plain": [
       "40"
      ]
     },
     "execution_count": 282,
     "metadata": {},
     "output_type": "execute_result"
    }
   ],
   "source": [
    "len(brand7)"
   ]
  },
  {
   "cell_type": "code",
   "execution_count": 283,
   "metadata": {},
   "outputs": [],
   "source": [
    "try:\n",
    "    desc_x=driver.find_elements_by_xpath(\"//a[@class='IRpwTa']\")\n",
    "    for b in desc_x:\n",
    "        bb=b.text\n",
    "        desc7.append(bb)\n",
    "except NoSuchElementException as e:\n",
    "    desc7.append('Description not present')\n",
    "except ElementNotInteractableException as e:\n",
    "    desc7.append('Description not present')    "
   ]
  },
  {
   "cell_type": "code",
   "execution_count": 284,
   "metadata": {},
   "outputs": [
    {
     "data": {
      "text/plain": [
       "38"
      ]
     },
     "execution_count": 284,
     "metadata": {},
     "output_type": "execute_result"
    }
   ],
   "source": [
    "len(desc7)"
   ]
  },
  {
   "cell_type": "code",
   "execution_count": 285,
   "metadata": {},
   "outputs": [],
   "source": [
    "try:\n",
    "    price_x=driver.find_elements_by_xpath(\"//div[@class='_30jeq3']\")\n",
    "    for c in price_x:\n",
    "        cc=c.text\n",
    "        price7.append(cc)\n",
    "except NoSuchElementException as e:\n",
    "    price7.append('Price not present')\n",
    "except ElementNotInteractableException as e:\n",
    "    price7.append('Price not present') "
   ]
  },
  {
   "cell_type": "code",
   "execution_count": 286,
   "metadata": {},
   "outputs": [
    {
     "data": {
      "text/plain": [
       "40"
      ]
     },
     "execution_count": 286,
     "metadata": {},
     "output_type": "execute_result"
    }
   ],
   "source": [
    "len(price7)"
   ]
  },
  {
   "cell_type": "code",
   "execution_count": 287,
   "metadata": {},
   "outputs": [],
   "source": [
    "try:\n",
    "    discount_x=driver.find_elements_by_xpath(\"//div[@class='_3Ay6Sb']/span[1]\")\n",
    "    for d in discount_x:\n",
    "        dd=d.text\n",
    "        discount7.append(dd)\n",
    "except NoSuchElementException as e:\n",
    "    discount7.append('No discount')\n",
    "except ElementNotInteractableException as e:\n",
    "    discount7.append('No discount')     "
   ]
  },
  {
   "cell_type": "code",
   "execution_count": 288,
   "metadata": {},
   "outputs": [
    {
     "data": {
      "text/plain": [
       "40"
      ]
     },
     "execution_count": 288,
     "metadata": {},
     "output_type": "execute_result"
    }
   ],
   "source": [
    "len(discount7)"
   ]
  },
  {
   "cell_type": "code",
   "execution_count": 289,
   "metadata": {},
   "outputs": [],
   "source": [
    "next_btn_1st_page=driver.find_element_by_xpath(\"//a[@class='_1LKTO3']\").click()"
   ]
  },
  {
   "cell_type": "code",
   "execution_count": 290,
   "metadata": {},
   "outputs": [],
   "source": [
    "brand_x=driver.find_elements_by_xpath(\"//div[@class='_2WkVRV']\")\n",
    "for a in brand_x:\n",
    "    aa=a.text\n",
    "    brand7.append(aa)\n",
    "price_x=driver.find_elements_by_xpath(\"//div[@class='_30jeq3']\")\n",
    "for c in price_x:\n",
    "    cc=c.text\n",
    "    price7.append(cc)\n",
    "discount_x=driver.find_elements_by_xpath(\"//div[@class='_3Ay6Sb']/span[1]\")\n",
    "for d in discount_x:\n",
    "    dd=d.text\n",
    "    discount7.append(dd)"
   ]
  },
  {
   "cell_type": "code",
   "execution_count": 291,
   "metadata": {},
   "outputs": [
    {
     "name": "stdout",
     "output_type": "stream",
     "text": [
      "80 80 80\n"
     ]
    }
   ],
   "source": [
    "print(len(brand7),len(price7),len(discount7))"
   ]
  },
  {
   "cell_type": "code",
   "execution_count": 293,
   "metadata": {},
   "outputs": [
    {
     "data": {
      "text/html": [
       "<div>\n",
       "<style scoped>\n",
       "    .dataframe tbody tr th:only-of-type {\n",
       "        vertical-align: middle;\n",
       "    }\n",
       "\n",
       "    .dataframe tbody tr th {\n",
       "        vertical-align: top;\n",
       "    }\n",
       "\n",
       "    .dataframe thead th {\n",
       "        text-align: right;\n",
       "    }\n",
       "</style>\n",
       "<table border=\"1\" class=\"dataframe\">\n",
       "  <thead>\n",
       "    <tr style=\"text-align: right;\">\n",
       "      <th></th>\n",
       "      <th>Brand Name</th>\n",
       "      <th>Price</th>\n",
       "      <th>Discount offered</th>\n",
       "    </tr>\n",
       "  </thead>\n",
       "  <tbody>\n",
       "    <tr>\n",
       "      <th>0</th>\n",
       "      <td>PIRASO</td>\n",
       "      <td>₹179</td>\n",
       "      <td>88% off</td>\n",
       "    </tr>\n",
       "    <tr>\n",
       "      <th>1</th>\n",
       "      <td>PIRASO</td>\n",
       "      <td>₹209</td>\n",
       "      <td>86% off</td>\n",
       "    </tr>\n",
       "    <tr>\n",
       "      <th>2</th>\n",
       "      <td>Fastrack</td>\n",
       "      <td>₹683</td>\n",
       "      <td>24% off</td>\n",
       "    </tr>\n",
       "    <tr>\n",
       "      <th>3</th>\n",
       "      <td>PIRASO</td>\n",
       "      <td>₹187</td>\n",
       "      <td>88% off</td>\n",
       "    </tr>\n",
       "    <tr>\n",
       "      <th>4</th>\n",
       "      <td>Fastrack</td>\n",
       "      <td>₹469</td>\n",
       "      <td>53% off</td>\n",
       "    </tr>\n",
       "    <tr>\n",
       "      <th>5</th>\n",
       "      <td>Fastrack</td>\n",
       "      <td>₹570</td>\n",
       "      <td>28% off</td>\n",
       "    </tr>\n",
       "    <tr>\n",
       "      <th>6</th>\n",
       "      <td>Silver Kartz</td>\n",
       "      <td>₹233</td>\n",
       "      <td>84% off</td>\n",
       "    </tr>\n",
       "    <tr>\n",
       "      <th>7</th>\n",
       "      <td>PIRASO</td>\n",
       "      <td>₹296</td>\n",
       "      <td>81% off</td>\n",
       "    </tr>\n",
       "    <tr>\n",
       "      <th>8</th>\n",
       "      <td>Fastrack</td>\n",
       "      <td>₹685</td>\n",
       "      <td>23% off</td>\n",
       "    </tr>\n",
       "    <tr>\n",
       "      <th>9</th>\n",
       "      <td>ROZZETTA CRAFT</td>\n",
       "      <td>₹499</td>\n",
       "      <td>77% off</td>\n",
       "    </tr>\n",
       "    <tr>\n",
       "      <th>10</th>\n",
       "      <td>Fastrack</td>\n",
       "      <td>₹609</td>\n",
       "      <td>23% off</td>\n",
       "    </tr>\n",
       "    <tr>\n",
       "      <th>11</th>\n",
       "      <td>PIRASO</td>\n",
       "      <td>₹212</td>\n",
       "      <td>86% off</td>\n",
       "    </tr>\n",
       "    <tr>\n",
       "      <th>12</th>\n",
       "      <td>ROZZETTA CRAFT</td>\n",
       "      <td>₹404</td>\n",
       "      <td>79% off</td>\n",
       "    </tr>\n",
       "    <tr>\n",
       "      <th>13</th>\n",
       "      <td>PIRASO</td>\n",
       "      <td>₹449</td>\n",
       "      <td>85% off</td>\n",
       "    </tr>\n",
       "    <tr>\n",
       "      <th>14</th>\n",
       "      <td>phenomenal</td>\n",
       "      <td>₹399</td>\n",
       "      <td>80% off</td>\n",
       "    </tr>\n",
       "    <tr>\n",
       "      <th>15</th>\n",
       "      <td>Fastrack</td>\n",
       "      <td>₹951</td>\n",
       "      <td>26% off</td>\n",
       "    </tr>\n",
       "    <tr>\n",
       "      <th>16</th>\n",
       "      <td>Singco India</td>\n",
       "      <td>₹202</td>\n",
       "      <td>71% off</td>\n",
       "    </tr>\n",
       "    <tr>\n",
       "      <th>17</th>\n",
       "      <td>phenomenal</td>\n",
       "      <td>₹399</td>\n",
       "      <td>80% off</td>\n",
       "    </tr>\n",
       "    <tr>\n",
       "      <th>18</th>\n",
       "      <td>Fastrack</td>\n",
       "      <td>₹987</td>\n",
       "      <td>24% off</td>\n",
       "    </tr>\n",
       "    <tr>\n",
       "      <th>19</th>\n",
       "      <td>NuVew</td>\n",
       "      <td>₹296</td>\n",
       "      <td>80% off</td>\n",
       "    </tr>\n",
       "    <tr>\n",
       "      <th>20</th>\n",
       "      <td>Singco India</td>\n",
       "      <td>₹199</td>\n",
       "      <td>80% off</td>\n",
       "    </tr>\n",
       "    <tr>\n",
       "      <th>21</th>\n",
       "      <td>Fastrack</td>\n",
       "      <td>₹685</td>\n",
       "      <td>23% off</td>\n",
       "    </tr>\n",
       "    <tr>\n",
       "      <th>22</th>\n",
       "      <td>Fastrack</td>\n",
       "      <td>₹684</td>\n",
       "      <td>23% off</td>\n",
       "    </tr>\n",
       "    <tr>\n",
       "      <th>23</th>\n",
       "      <td>ROYAL SON</td>\n",
       "      <td>₹509</td>\n",
       "      <td>66% off</td>\n",
       "    </tr>\n",
       "    <tr>\n",
       "      <th>24</th>\n",
       "      <td>HIPPON</td>\n",
       "      <td>₹251</td>\n",
       "      <td>79% off</td>\n",
       "    </tr>\n",
       "    <tr>\n",
       "      <th>25</th>\n",
       "      <td>NuVew</td>\n",
       "      <td>₹183</td>\n",
       "      <td>76% off</td>\n",
       "    </tr>\n",
       "    <tr>\n",
       "      <th>26</th>\n",
       "      <td>Fastrack</td>\n",
       "      <td>₹609</td>\n",
       "      <td>23% off</td>\n",
       "    </tr>\n",
       "    <tr>\n",
       "      <th>27</th>\n",
       "      <td>ROZZETTA CRAFT</td>\n",
       "      <td>₹499</td>\n",
       "      <td>77% off</td>\n",
       "    </tr>\n",
       "    <tr>\n",
       "      <th>28</th>\n",
       "      <td>Fastrack</td>\n",
       "      <td>₹725</td>\n",
       "      <td>9% off</td>\n",
       "    </tr>\n",
       "    <tr>\n",
       "      <th>29</th>\n",
       "      <td>New Specs</td>\n",
       "      <td>₹287</td>\n",
       "      <td>79% off</td>\n",
       "    </tr>\n",
       "    <tr>\n",
       "      <th>...</th>\n",
       "      <td>...</td>\n",
       "      <td>...</td>\n",
       "      <td>...</td>\n",
       "    </tr>\n",
       "    <tr>\n",
       "      <th>50</th>\n",
       "      <td>Fastrack</td>\n",
       "      <td>₹539</td>\n",
       "      <td>32% off</td>\n",
       "    </tr>\n",
       "    <tr>\n",
       "      <th>51</th>\n",
       "      <td>DEIXELS</td>\n",
       "      <td>₹202</td>\n",
       "      <td>83% off</td>\n",
       "    </tr>\n",
       "    <tr>\n",
       "      <th>52</th>\n",
       "      <td>Fastrack</td>\n",
       "      <td>₹685</td>\n",
       "      <td>23% off</td>\n",
       "    </tr>\n",
       "    <tr>\n",
       "      <th>53</th>\n",
       "      <td>PIRASO</td>\n",
       "      <td>₹296</td>\n",
       "      <td>81% off</td>\n",
       "    </tr>\n",
       "    <tr>\n",
       "      <th>54</th>\n",
       "      <td>phenomenal</td>\n",
       "      <td>₹399</td>\n",
       "      <td>80% off</td>\n",
       "    </tr>\n",
       "    <tr>\n",
       "      <th>55</th>\n",
       "      <td>Fastrack</td>\n",
       "      <td>₹685</td>\n",
       "      <td>23% off</td>\n",
       "    </tr>\n",
       "    <tr>\n",
       "      <th>56</th>\n",
       "      <td>NuVew</td>\n",
       "      <td>₹167</td>\n",
       "      <td>80% off</td>\n",
       "    </tr>\n",
       "    <tr>\n",
       "      <th>57</th>\n",
       "      <td>ROYAL SON</td>\n",
       "      <td>₹194</td>\n",
       "      <td>80% off</td>\n",
       "    </tr>\n",
       "    <tr>\n",
       "      <th>58</th>\n",
       "      <td>NuVew</td>\n",
       "      <td>₹209</td>\n",
       "      <td>73% off</td>\n",
       "    </tr>\n",
       "    <tr>\n",
       "      <th>59</th>\n",
       "      <td>ROZZETTA CRAFT</td>\n",
       "      <td>₹426</td>\n",
       "      <td>84% off</td>\n",
       "    </tr>\n",
       "    <tr>\n",
       "      <th>60</th>\n",
       "      <td>ROZZETTA CRAFT</td>\n",
       "      <td>₹449</td>\n",
       "      <td>80% off</td>\n",
       "    </tr>\n",
       "    <tr>\n",
       "      <th>61</th>\n",
       "      <td>ROYAL SON</td>\n",
       "      <td>₹1,104</td>\n",
       "      <td>55% off</td>\n",
       "    </tr>\n",
       "    <tr>\n",
       "      <th>62</th>\n",
       "      <td>Fastrack</td>\n",
       "      <td>₹607</td>\n",
       "      <td>24% off</td>\n",
       "    </tr>\n",
       "    <tr>\n",
       "      <th>63</th>\n",
       "      <td>PIRASO</td>\n",
       "      <td>₹339</td>\n",
       "      <td>86% off</td>\n",
       "    </tr>\n",
       "    <tr>\n",
       "      <th>64</th>\n",
       "      <td>NuVew</td>\n",
       "      <td>₹177</td>\n",
       "      <td>81% off</td>\n",
       "    </tr>\n",
       "    <tr>\n",
       "      <th>65</th>\n",
       "      <td>Singco</td>\n",
       "      <td>₹345</td>\n",
       "      <td>82% off</td>\n",
       "    </tr>\n",
       "    <tr>\n",
       "      <th>66</th>\n",
       "      <td>GANSTA</td>\n",
       "      <td>₹284</td>\n",
       "      <td>85% off</td>\n",
       "    </tr>\n",
       "    <tr>\n",
       "      <th>67</th>\n",
       "      <td>ROZZETTA CRAFT</td>\n",
       "      <td>₹426</td>\n",
       "      <td>78% off</td>\n",
       "    </tr>\n",
       "    <tr>\n",
       "      <th>68</th>\n",
       "      <td>Fastrack</td>\n",
       "      <td>₹609</td>\n",
       "      <td>23% off</td>\n",
       "    </tr>\n",
       "    <tr>\n",
       "      <th>69</th>\n",
       "      <td>ROYAL SON</td>\n",
       "      <td>₹594</td>\n",
       "      <td>70% off</td>\n",
       "    </tr>\n",
       "    <tr>\n",
       "      <th>70</th>\n",
       "      <td>Silver Kartz</td>\n",
       "      <td>₹299</td>\n",
       "      <td>75% off</td>\n",
       "    </tr>\n",
       "    <tr>\n",
       "      <th>71</th>\n",
       "      <td>Fravy</td>\n",
       "      <td>₹329</td>\n",
       "      <td>83% off</td>\n",
       "    </tr>\n",
       "    <tr>\n",
       "      <th>72</th>\n",
       "      <td>Fastrack</td>\n",
       "      <td>₹567</td>\n",
       "      <td>43% off</td>\n",
       "    </tr>\n",
       "    <tr>\n",
       "      <th>73</th>\n",
       "      <td>ROYAL SON</td>\n",
       "      <td>₹594</td>\n",
       "      <td>60% off</td>\n",
       "    </tr>\n",
       "    <tr>\n",
       "      <th>74</th>\n",
       "      <td>Fastrack</td>\n",
       "      <td>₹609</td>\n",
       "      <td>23% off</td>\n",
       "    </tr>\n",
       "    <tr>\n",
       "      <th>75</th>\n",
       "      <td>Fastrack</td>\n",
       "      <td>₹609</td>\n",
       "      <td>23% off</td>\n",
       "    </tr>\n",
       "    <tr>\n",
       "      <th>76</th>\n",
       "      <td>Fastrack</td>\n",
       "      <td>₹685</td>\n",
       "      <td>23% off</td>\n",
       "    </tr>\n",
       "    <tr>\n",
       "      <th>77</th>\n",
       "      <td>ROYAL SON</td>\n",
       "      <td>₹339</td>\n",
       "      <td>77% off</td>\n",
       "    </tr>\n",
       "    <tr>\n",
       "      <th>78</th>\n",
       "      <td>Aislin</td>\n",
       "      <td>₹614</td>\n",
       "      <td>71% off</td>\n",
       "    </tr>\n",
       "    <tr>\n",
       "      <th>79</th>\n",
       "      <td>Aislin</td>\n",
       "      <td>₹592</td>\n",
       "      <td>72% off</td>\n",
       "    </tr>\n",
       "  </tbody>\n",
       "</table>\n",
       "<p>80 rows × 3 columns</p>\n",
       "</div>"
      ],
      "text/plain": [
       "        Brand Name   Price Discount offered\n",
       "0           PIRASO    ₹179          88% off\n",
       "1           PIRASO    ₹209          86% off\n",
       "2         Fastrack    ₹683          24% off\n",
       "3           PIRASO    ₹187          88% off\n",
       "4         Fastrack    ₹469          53% off\n",
       "5         Fastrack    ₹570          28% off\n",
       "6     Silver Kartz    ₹233          84% off\n",
       "7           PIRASO    ₹296          81% off\n",
       "8         Fastrack    ₹685          23% off\n",
       "9   ROZZETTA CRAFT    ₹499          77% off\n",
       "10        Fastrack    ₹609          23% off\n",
       "11          PIRASO    ₹212          86% off\n",
       "12  ROZZETTA CRAFT    ₹404          79% off\n",
       "13          PIRASO    ₹449          85% off\n",
       "14      phenomenal    ₹399          80% off\n",
       "15        Fastrack    ₹951          26% off\n",
       "16    Singco India    ₹202          71% off\n",
       "17      phenomenal    ₹399          80% off\n",
       "18        Fastrack    ₹987          24% off\n",
       "19           NuVew    ₹296          80% off\n",
       "20    Singco India    ₹199          80% off\n",
       "21        Fastrack    ₹685          23% off\n",
       "22        Fastrack    ₹684          23% off\n",
       "23       ROYAL SON    ₹509          66% off\n",
       "24          HIPPON    ₹251          79% off\n",
       "25           NuVew    ₹183          76% off\n",
       "26        Fastrack    ₹609          23% off\n",
       "27  ROZZETTA CRAFT    ₹499          77% off\n",
       "28        Fastrack    ₹725           9% off\n",
       "29       New Specs    ₹287          79% off\n",
       "..             ...     ...              ...\n",
       "50        Fastrack    ₹539          32% off\n",
       "51         DEIXELS    ₹202          83% off\n",
       "52        Fastrack    ₹685          23% off\n",
       "53          PIRASO    ₹296          81% off\n",
       "54      phenomenal    ₹399          80% off\n",
       "55        Fastrack    ₹685          23% off\n",
       "56           NuVew    ₹167          80% off\n",
       "57       ROYAL SON    ₹194          80% off\n",
       "58           NuVew    ₹209          73% off\n",
       "59  ROZZETTA CRAFT    ₹426          84% off\n",
       "60  ROZZETTA CRAFT    ₹449          80% off\n",
       "61       ROYAL SON  ₹1,104          55% off\n",
       "62        Fastrack    ₹607          24% off\n",
       "63          PIRASO    ₹339          86% off\n",
       "64           NuVew    ₹177          81% off\n",
       "65          Singco    ₹345          82% off\n",
       "66          GANSTA    ₹284          85% off\n",
       "67  ROZZETTA CRAFT    ₹426          78% off\n",
       "68        Fastrack    ₹609          23% off\n",
       "69       ROYAL SON    ₹594          70% off\n",
       "70    Silver Kartz    ₹299          75% off\n",
       "71           Fravy    ₹329          83% off\n",
       "72        Fastrack    ₹567          43% off\n",
       "73       ROYAL SON    ₹594          60% off\n",
       "74        Fastrack    ₹609          23% off\n",
       "75        Fastrack    ₹609          23% off\n",
       "76        Fastrack    ₹685          23% off\n",
       "77       ROYAL SON    ₹339          77% off\n",
       "78          Aislin    ₹614          71% off\n",
       "79          Aislin    ₹592          72% off\n",
       "\n",
       "[80 rows x 3 columns]"
      ]
     },
     "execution_count": 293,
     "metadata": {},
     "output_type": "execute_result"
    }
   ],
   "source": [
    "df7=pd.DataFrame({})\n",
    "df7['Brand Name']=brand7\n",
    "df7['Price']=price7\n",
    "df7['Discount offered']=discount7\n",
    "df7"
   ]
  }
 ],
 "metadata": {
  "kernelspec": {
   "display_name": "Python 3",
   "language": "python",
   "name": "python3"
  },
  "language_info": {
   "codemirror_mode": {
    "name": "ipython",
    "version": 3
   },
   "file_extension": ".py",
   "mimetype": "text/x-python",
   "name": "python",
   "nbconvert_exporter": "python",
   "pygments_lexer": "ipython3",
   "version": "3.7.1"
  }
 },
 "nbformat": 4,
 "nbformat_minor": 2
}
