{
 "cells": [
  {
   "cell_type": "code",
   "execution_count": 2,
   "metadata": {},
   "outputs": [
    {
     "name": "stdout",
     "output_type": "stream",
     "text": [
      "Collecting selenium\n",
      "  Downloading https://files.pythonhosted.org/packages/80/d6/4294f0b4bce4de0abf13e17190289f9d0613b0a44e5dd6a7f5ca98459853/selenium-3.141.0-py2.py3-none-any.whl (904kB)\n",
      "Requirement already satisfied: urllib3 in h:\\anaconda\\lib\\site-packages (from selenium) (1.24.2)\n",
      "Installing collected packages: selenium\n",
      "Successfully installed selenium-3.141.0\n"
     ]
    }
   ],
   "source": [
    "!pip install selenium\n",
    "import pandas as pd\n",
    "import selenium\n",
    "from selenium import webdriver"
   ]
  },
  {
   "cell_type": "code",
   "execution_count": 3,
   "metadata": {},
   "outputs": [],
   "source": [
    "from selenium.common.exceptions import NoSuchElementException,StaleElementReferenceException"
   ]
  },
  {
   "cell_type": "code",
   "execution_count": 4,
   "metadata": {},
   "outputs": [],
   "source": [
    "from selenium.webdriver.common.keys import Keys"
   ]
  },
  {
   "cell_type": "code",
   "execution_count": 6,
   "metadata": {},
   "outputs": [],
   "source": [
    "driver=webdriver.Chrome(r\"D:\\chromedriver.exe\")"
   ]
  },
  {
   "cell_type": "code",
   "execution_count": 188,
   "metadata": {},
   "outputs": [],
   "source": [
    "driver.get(\"https://www.digit.in\")"
   ]
  },
  {
   "cell_type": "code",
   "execution_count": 189,
   "metadata": {},
   "outputs": [],
   "source": [
    "search_btn=driver.find_element_by_xpath(\"//div[@class='search']/a\").click()"
   ]
  },
  {
   "cell_type": "code",
   "execution_count": 190,
   "metadata": {},
   "outputs": [],
   "source": [
    "ele=driver.find_element_by_id(\"globalPageSearchText\")"
   ]
  },
  {
   "cell_type": "code",
   "execution_count": 191,
   "metadata": {},
   "outputs": [],
   "source": [
    "ele.send_keys(\"Gaming laptops\")"
   ]
  },
  {
   "cell_type": "code",
   "execution_count": 192,
   "metadata": {},
   "outputs": [],
   "source": [
    "ele.send_keys(Keys.ENTER)"
   ]
  },
  {
   "cell_type": "code",
   "execution_count": 193,
   "metadata": {},
   "outputs": [],
   "source": [
    "top_10_btn=driver.find_element_by_xpath(\"//input[@id='content_top10']\").click()"
   ]
  },
  {
   "cell_type": "code",
   "execution_count": 194,
   "metadata": {},
   "outputs": [],
   "source": [
    "gam_laptop_opt=driver.find_element_by_xpath(\"//div[@class='searchProduct-desc']\").click()"
   ]
  },
  {
   "cell_type": "code",
   "execution_count": 195,
   "metadata": {},
   "outputs": [],
   "source": [
    "product_names=[]\n",
    "seller=[]\n",
    "price=[]\n",
    "os=[]\n",
    "display=[]\n",
    "processor=[]\n",
    "memory=[]\n",
    "description=[]\n",
    "weight=[]\n",
    "graphics_processor=[]"
   ]
  },
  {
   "cell_type": "code",
   "execution_count": 196,
   "metadata": {},
   "outputs": [
    {
     "data": {
      "text/plain": [
       "['MSI GT76 TITAN DT 9SG',\n",
       " 'Alienware 17 Area-51m',\n",
       " 'HP Omen 15 2020',\n",
       " 'Asus Zephyrus G14',\n",
       " 'Lenovo Legion Y540',\n",
       " 'Asus ROG Zephyrus G GA502',\n",
       " 'Asus ROG Zephyrus S GX531',\n",
       " 'MSI GT83VR 7RE Titan SLI',\n",
       " 'ASUS ROG ZEPHYRUS DUO 15',\n",
       " 'Dell G3']"
      ]
     },
     "execution_count": 196,
     "metadata": {},
     "output_type": "execute_result"
    }
   ],
   "source": [
    "name=driver.find_elements_by_xpath(\"//table[@id='summtable']/tbody/tr/td[1]\")\n",
    "for r in name:\n",
    "    product_names.append(r.text)\n",
    "product_names"
   ]
  },
  {
   "cell_type": "code",
   "execution_count": 197,
   "metadata": {},
   "outputs": [
    {
     "data": {
      "text/plain": [
       "['₹379990',\n",
       " '₹422000',\n",
       " '₹117790',\n",
       " '₹164990',\n",
       " '₹79990',\n",
       " '₹79990',\n",
       " '₹239990',\n",
       " '₹349990',\n",
       " '₹244990',\n",
       " '₹73900']"
      ]
     },
     "execution_count": 197,
     "metadata": {},
     "output_type": "execute_result"
    }
   ],
   "source": [
    "price_a=driver.find_elements_by_xpath(\"//table[@id='summtable']/tbody/tr/td[3]\")\n",
    "for g in price_a:\n",
    "    price.append(g.text)\n",
    "price"
   ]
  },
  {
   "cell_type": "code",
   "execution_count": 198,
   "metadata": {},
   "outputs": [
    {
     "data": {
      "text/plain": [
       "['N/A',\n",
       " 'amazon',\n",
       " 'Tatacliq',\n",
       " 'amazon',\n",
       " 'flipkart',\n",
       " 'flipkart',\n",
       " 'flipkart',\n",
       " 'N/A',\n",
       " 'amazon',\n",
       " 'amazon']"
      ]
     },
     "execution_count": 198,
     "metadata": {},
     "output_type": "execute_result"
    }
   ],
   "source": [
    "seller_a=driver.find_elements_by_xpath(\"//table[@id='summtable']/tbody/tr/td[2]\")\n",
    "for p in seller_a:\n",
    "    seller.append(p.text)\n",
    "seller"
   ]
  },
  {
   "cell_type": "code",
   "execution_count": 199,
   "metadata": {},
   "outputs": [],
   "source": [
    "try:\n",
    "    display_a=driver.find_elements_by_xpath(\"//div[@class='Specs-Wrap']/ul/li[2]/div[@class='Wrap-pop']/div[@class='value']\")\n",
    "    for z in display_a:\n",
    "        display.append(z.text)\n",
    "except NoSuchElementException as e:\n",
    "    display.append('-')\n",
    "except StaleElementReferenceException as e:\n",
    "    display.append('-')"
   ]
  },
  {
   "cell_type": "code",
   "execution_count": 200,
   "metadata": {},
   "outputs": [
    {
     "data": {
      "text/plain": [
       "['17.3\" (UHD 3840X2160)',\n",
       " '17.3\" (FHD (1920 X 1080))',\n",
       " '15.6\" (1920 X 1080)',\n",
       " '14\" (1920 X 1080)',\n",
       " '15.6\" (1920 X 1080)',\n",
       " '15.6\" (1920 X 1080)',\n",
       " '15.6\" (1920 X 1080)',\n",
       " '18.4\" (1920 X 1080)',\n",
       " '15.6\" (3840 X 1100)',\n",
       " '15.6 MP | NA']"
      ]
     },
     "execution_count": 200,
     "metadata": {},
     "output_type": "execute_result"
    }
   ],
   "source": [
    "display"
   ]
  },
  {
   "cell_type": "code",
   "execution_count": 201,
   "metadata": {},
   "outputs": [],
   "source": [
    "try:\n",
    "    processor_a=driver.find_elements_by_xpath(\"//div[@class='Specs-Wrap']/ul/li[3]/div[@class='Wrap-pop']/div[@class='value']\")\n",
    "    for a in processor_a:\n",
    "        processor.append(a.text)\n",
    "except NoSuchElementException as e:\n",
    "    processor.append('-')\n",
    "except StaleElementReferenceException as e:\n",
    "    processor.append('-')"
   ]
  },
  {
   "cell_type": "code",
   "execution_count": 202,
   "metadata": {},
   "outputs": [
    {
     "data": {
      "text/plain": [
       "['INTEL 9TH GEN CORE I9-9900K | 5000 MHZ',\n",
       " 'INTEL 9TH GEN CORE I9-9900K | 5000 MHZ',\n",
       " 'INTEL I7-10750H 10TH GEN | 1.6GHZ',\n",
       " 'AMD 3RD GENERATION RYZEN 9 | 3.3 GHZ',\n",
       " '9TH GENERATION CORE INTEL I7-9750H | 2.6 GHZ',\n",
       " 'AMD RYZEN 7 QUAD CORE 3750H | 2.3 GHZ',\n",
       " '9TH GEN INTEL CORE I7-8750H | 2.2 GHZ',\n",
       " 'INTEL CM238 CORE I7-7820HK+CM238 7TH GEN | 3.5GHZ',\n",
       " 'INTEL CORE I7 10TH GEN 10875H | NA',\n",
       " '8TH GEN INTEL CORE I5-8300H | 2.3GHZ']"
      ]
     },
     "execution_count": 202,
     "metadata": {},
     "output_type": "execute_result"
    }
   ],
   "source": [
    "processor"
   ]
  },
  {
   "cell_type": "code",
   "execution_count": 203,
   "metadata": {},
   "outputs": [],
   "source": [
    "try:\n",
    "    memory_a=driver.find_elements_by_xpath(\"//div[@class='Specs-Wrap']/ul/li[4]/div[@class='Wrap-pop']/div[@class='value']\")\n",
    "    for s in memory_a:\n",
    "        memory.append(s.text)\n",
    "except NoSuchElementException as e:\n",
    "    processor.append('-')\n",
    "except StaleElementReferenceException as e:\n",
    "    processor.append('-')"
   ]
  },
  {
   "cell_type": "code",
   "execution_count": 204,
   "metadata": {},
   "outputs": [
    {
     "data": {
      "text/plain": [
       "['1 TB HDD/64 GBGB DDR4',\n",
       " '1 TB PCIE SSD/32GB DDR4',\n",
       " '512 GB SSD/16 GBGB DDR4',\n",
       " '1 TB SSD/16 GBGB DDR4',\n",
       " '1 TB SSD/8GB DDR4',\n",
       " '512 GB SSD/16GB DDR4',\n",
       " '512GB SSD/16 GBGB DDR4',\n",
       " '1.5 TB SATA/64GB DDR4',\n",
       " '512 GB SSD/4 GBGB DDR4',\n",
       " '1TB HDD/8GB DDR4']"
      ]
     },
     "execution_count": 204,
     "metadata": {},
     "output_type": "execute_result"
    }
   ],
   "source": [
    "memory"
   ]
  },
  {
   "cell_type": "code",
   "execution_count": 205,
   "metadata": {},
   "outputs": [],
   "source": [
    "try:\n",
    "    weight_a=driver.find_elements_by_xpath(\"//div[@class='Spcs-details']/table/tbody/tr[7]/td[3]\")\n",
    "    for f in weight_a:\n",
    "        weight.append(f.text)\n",
    "except NoSuchElementException as e:\n",
    "    weight.append('-')\n",
    "except StaleElementReferenceException as e:\n",
    "    weight.append('-')   "
   ]
  },
  {
   "cell_type": "code",
   "execution_count": 206,
   "metadata": {},
   "outputs": [
    {
     "data": {
      "text/plain": [
       "['4.2 kg',\n",
       " '3.87 Kg',\n",
       " '5.40',\n",
       " '1.65',\n",
       " '2.3',\n",
       " '2.2',\n",
       " '2.1',\n",
       " '5.5',\n",
       " '2.4',\n",
       " '2.53']"
      ]
     },
     "execution_count": 206,
     "metadata": {},
     "output_type": "execute_result"
    }
   ],
   "source": [
    "weight"
   ]
  },
  {
   "cell_type": "code",
   "execution_count": 207,
   "metadata": {},
   "outputs": [],
   "source": [
    "try:\n",
    "    graphics_processor_a=driver.find_elements_by_xpath(\"//div[@class='Spcs-details']/table/tbody/tr[9]/td[3]\")\n",
    "    for u in graphics_processor_a:\n",
    "        graphics_processor.append(u.text)\n",
    "except NoSuchElementException as e:\n",
    "    graphics_processor.append('-')\n",
    "except StaleElementReferenceException as e:\n",
    "    graphics_processor.append('-')   "
   ]
  },
  {
   "cell_type": "code",
   "execution_count": 208,
   "metadata": {},
   "outputs": [
    {
     "data": {
      "text/plain": [
       "['NVIDIA GeForce RTX 2080',\n",
       " 'NVIDIA GeForce RTX 2080',\n",
       " 'Nvidia GeForce GTX 1650Ti',\n",
       " 'NVIDIA GeForce RTX 2060',\n",
       " 'NVIDIA® GeForce RTX™ 2060',\n",
       " 'NVIDIA Geforce GTX 1660 Ti',\n",
       " 'NVIDIA® GeForce RTX™ 2070 (Max-Q)',\n",
       " 'Dual GTX1070',\n",
       " 'NVIDIA GeForce RTX 2070 Max-Q',\n",
       " 'NVidia GeForce GTX 1050']"
      ]
     },
     "execution_count": 208,
     "metadata": {},
     "output_type": "execute_result"
    }
   ],
   "source": [
    "graphics_processor"
   ]
  },
  {
   "cell_type": "code",
   "execution_count": 209,
   "metadata": {},
   "outputs": [],
   "source": [
    "try:\n",
    "    os_a=driver.find_elements_by_xpath(\"//div[@class='Spcs-details']/table/tbody/tr[3]/td[3]\")\n",
    "    for k in os_a:\n",
    "        os.append(k.text)\n",
    "except NoSuchElementException as e:\n",
    "    os.append('-')\n",
    "except StaleElementReferenceException as e:\n",
    "    os.append('-')  "
   ]
  },
  {
   "cell_type": "code",
   "execution_count": 210,
   "metadata": {},
   "outputs": [
    {
     "data": {
      "text/plain": [
       "['Windows 10 Pro',\n",
       " 'Windows 10 Pro',\n",
       " 'Windows 10 Home',\n",
       " 'Windows 10 Home',\n",
       " 'Windows 10 Home',\n",
       " 'Windows 10 Home',\n",
       " 'Windows 10 Home',\n",
       " 'Windows 10 Home 64 bit',\n",
       " 'Windows 10',\n",
       " 'Windows 10 Home Plus']"
      ]
     },
     "execution_count": 210,
     "metadata": {},
     "output_type": "execute_result"
    }
   ],
   "source": [
    "os"
   ]
  },
  {
   "cell_type": "code",
   "execution_count": 211,
   "metadata": {},
   "outputs": [],
   "source": [
    "try:\n",
    "    description_a=driver.find_elements_by_xpath(\"//div[@class='Section-center']/p\")\n",
    "    for e in description_a:\n",
    "        description.append(e.text)\n",
    "except NoSuchElementException as e:\n",
    "    description.append('-')\n",
    "except StaleElementReferenceException as e:\n",
    "    description.append('-') "
   ]
  },
  {
   "cell_type": "code",
   "execution_count": 212,
   "metadata": {
    "scrolled": true
   },
   "outputs": [
    {
     "data": {
      "text/plain": [
       "['Sporting a desktop graphics Intel Core i9-9900K coupled with an RTX 2080, the MSI GT76 TITAN 9SG has the same configuration as the Alienware Area-51m. Both machines use massive power bricks which when plugged in trigger an automatic factory overclock of 32-33% for the processors. Even the graphics cards are the same RTX 2080 but MSI has a slightly higher base clock of 1575 MHz whereas the Alienware unit has that set to 1515 MHz. Boost clocks are also different with the MSI unit clocked at 1755 MHz and the Alienware at 1720 MHz. So performance wise, these two are nearly similar until you consider the next two important things in a computer, the RAM and the SSD boot drives. MSI’s gaming laptop has RAM clocked at 2666 MHz and uses two NVMe SSDs in RAID 0 for the boot drive.',\n",
       " 'The Alienware Area-51m was certainly the first of its kind to have the desktop grade Intel Core i9-9900K coupled with NVIDIA’s RTX 2080. However, as time goes by competitors brought similar configurations with slightly improved features. When powered on, the Area-51m automatically sets the processor to a 32% overclock which helps out with some video games and a lot more in high-compute tasks. The built-in Control Centre has made it even simpler to push the processor clocks higher should you need it.',\n",
       " 'The new HP Omen 15 comes in both 10th generation Intel core and AMD Ryzen 4000 flavours. The company offers the choice of high refresh rate displays going up to 144Hz and also GPU options going up to an Nvidia GeForce RTX 2070 Super Max-Q. You also get a significantly improved thermals management system that actually manages to keep the laptop super cool even under heavy loads.',\n",
       " 'The Asus Zephyrus G14 is a first-of-its-kind gaming laptop, featuring a high-power 8-core CPU in a 14-inch chassis. Powered by the AMD Ryzen 4000 series processors going all the way up to Ryzen 9 4900HS and an Nvidia GeForce RTX 2060, the AMD Zephyrus G14 is a perfect laptop for those kind of people who like to game and create, but put a priority on doing so using a light-weight machine.',\n",
       " 'The Lenovo Legion Y540 is powered by an Intel Core i7-9750H, 16GB of RAM and an Nvidia GeForce RTX 2060 with 6GB of video RAM. The laptop also comes with up to a 1TB Samsung PCIe NVMe solid-state drive, and users looking to expand storage get the option of adding a 2.5-inch hard drive. The display is an IPS pane with a 144Hz refresh rate, but the real highlight of the Legion Y540, besides its performance, is its stealth looks that allows the laptop to blend into an office environment as easily as it would into a LAN party.',\n",
       " 'The Ryzen 7 3750H powered Asus ROG Zephyrus G is a budget-friendly gaming laptop that offers just enough fire power to get you into the world of PC gaming. The Nvidia GeForce GTX 1660Ti takes care of all your gaming needs, driving the 120Hz IPS panel with relative ease',\n",
       " 'The Asus Zephyrus S (GX531) manages to get a few things very right. It packs a very powerful set of components into a slim chassis, ideal for those who like to carry their gaming or editing machines around. The Pantone validated 144Hz display is great right out of the box. the keyboard will take plenty of getting used to, but the trackpad is definitely a strong point. All this aside, the GX531 is also a pretty great gaming machine.',\n",
       " \"MSI does not have a dual GTX 1080 gaming laptop. Instead, it has the next best thing for roughly half the price of the two flagships. The GT83VR 7RE Titan SLI packs two GTX 1070 GPUs in SLI along with the Intel Core i7 7820HK. It also has a massive 18.4-inch IPS display and 32 GB of RAM. Performance wise it isn't that far behind since games can hardly make use of all the firepower it has, but synthetic benchmarks put it way behind the two flagships mentioned here.\",\n",
       " 'The machine is powered by an Intel Core i7-10875H processor, offering 8 cores and 16 threads. So, you can leave behind all your concerns around the CPU bottlenecking the overall performance during gaming. With an Nvidia GeForce RTX 2070 Max-Q, this laptop can manage pretty much anything game you throw at it and then some more. The star of the show however is the awesome 300Hz refresh rate capable, 1080p IPS panel on this gaming laptop. Yes, you read that correctly, 300Hz, which means you can get silky smooth, brag-worthy 300FPS on e-sports centric games on this machine.',\n",
       " \"The Dell G3 is a capable entry-level gaming laptop in an Inspiron's clothes. It has a 9th-gen Intel Core i5 CPU, up to 8GB of RAM, and an NVIDIA GeForce GTX 1650 with 4GB of GDDR5 video RAM. For storage, it's got a 512GB PCIe NVMe SSD. It plays games like Doom on high graphics settings at 60fps without any stutters.\"]"
      ]
     },
     "execution_count": 212,
     "metadata": {},
     "output_type": "execute_result"
    }
   ],
   "source": [
    "description"
   ]
  },
  {
   "cell_type": "code",
   "execution_count": 213,
   "metadata": {},
   "outputs": [
    {
     "data": {
      "text/plain": [
       "10"
      ]
     },
     "execution_count": 213,
     "metadata": {},
     "output_type": "execute_result"
    }
   ],
   "source": [
    "len(description)"
   ]
  },
  {
   "cell_type": "code",
   "execution_count": 214,
   "metadata": {},
   "outputs": [
    {
     "data": {
      "text/html": [
       "<div>\n",
       "<style scoped>\n",
       "    .dataframe tbody tr th:only-of-type {\n",
       "        vertical-align: middle;\n",
       "    }\n",
       "\n",
       "    .dataframe tbody tr th {\n",
       "        vertical-align: top;\n",
       "    }\n",
       "\n",
       "    .dataframe thead th {\n",
       "        text-align: right;\n",
       "    }\n",
       "</style>\n",
       "<table border=\"1\" class=\"dataframe\">\n",
       "  <thead>\n",
       "    <tr style=\"text-align: right;\">\n",
       "      <th></th>\n",
       "      <th>Product Name</th>\n",
       "      <th>Seller</th>\n",
       "      <th>Price</th>\n",
       "      <th>Operating System</th>\n",
       "      <th>Processor</th>\n",
       "      <th>Graphical Processor</th>\n",
       "      <th>Memory</th>\n",
       "      <th>Display</th>\n",
       "      <th>Weight</th>\n",
       "      <th>Description</th>\n",
       "    </tr>\n",
       "  </thead>\n",
       "  <tbody>\n",
       "    <tr>\n",
       "      <th>0</th>\n",
       "      <td>MSI GT76 TITAN DT 9SG</td>\n",
       "      <td>N/A</td>\n",
       "      <td>₹379990</td>\n",
       "      <td>Windows 10 Pro</td>\n",
       "      <td>INTEL 9TH GEN CORE I9-9900K | 5000 MHZ</td>\n",
       "      <td>NVIDIA GeForce RTX 2080</td>\n",
       "      <td>1 TB HDD/64 GBGB DDR4</td>\n",
       "      <td>17.3\" (UHD 3840X2160)</td>\n",
       "      <td>4.2 kg</td>\n",
       "      <td>Sporting a desktop graphics Intel Core i9-9900...</td>\n",
       "    </tr>\n",
       "    <tr>\n",
       "      <th>1</th>\n",
       "      <td>Alienware 17 Area-51m</td>\n",
       "      <td>amazon</td>\n",
       "      <td>₹422000</td>\n",
       "      <td>Windows 10 Pro</td>\n",
       "      <td>INTEL 9TH GEN CORE I9-9900K | 5000 MHZ</td>\n",
       "      <td>NVIDIA GeForce RTX 2080</td>\n",
       "      <td>1 TB PCIE SSD/32GB DDR4</td>\n",
       "      <td>17.3\" (FHD (1920 X 1080))</td>\n",
       "      <td>3.87 Kg</td>\n",
       "      <td>The Alienware Area-51m was certainly the first...</td>\n",
       "    </tr>\n",
       "    <tr>\n",
       "      <th>2</th>\n",
       "      <td>HP Omen 15 2020</td>\n",
       "      <td>Tatacliq</td>\n",
       "      <td>₹117790</td>\n",
       "      <td>Windows 10 Home</td>\n",
       "      <td>INTEL I7-10750H 10TH GEN | 1.6GHZ</td>\n",
       "      <td>Nvidia GeForce GTX 1650Ti</td>\n",
       "      <td>512 GB SSD/16 GBGB DDR4</td>\n",
       "      <td>15.6\" (1920 X 1080)</td>\n",
       "      <td>5.40</td>\n",
       "      <td>The new HP Omen 15 comes in both 10th generati...</td>\n",
       "    </tr>\n",
       "    <tr>\n",
       "      <th>3</th>\n",
       "      <td>Asus Zephyrus G14</td>\n",
       "      <td>amazon</td>\n",
       "      <td>₹164990</td>\n",
       "      <td>Windows 10 Home</td>\n",
       "      <td>AMD 3RD GENERATION RYZEN 9 | 3.3 GHZ</td>\n",
       "      <td>NVIDIA GeForce RTX 2060</td>\n",
       "      <td>1 TB SSD/16 GBGB DDR4</td>\n",
       "      <td>14\" (1920 X 1080)</td>\n",
       "      <td>1.65</td>\n",
       "      <td>The Asus Zephyrus G14 is a first-of-its-kind g...</td>\n",
       "    </tr>\n",
       "    <tr>\n",
       "      <th>4</th>\n",
       "      <td>Lenovo Legion Y540</td>\n",
       "      <td>flipkart</td>\n",
       "      <td>₹79990</td>\n",
       "      <td>Windows 10 Home</td>\n",
       "      <td>9TH GENERATION CORE INTEL I7-9750H | 2.6 GHZ</td>\n",
       "      <td>NVIDIA® GeForce RTX™ 2060</td>\n",
       "      <td>1 TB SSD/8GB DDR4</td>\n",
       "      <td>15.6\" (1920 X 1080)</td>\n",
       "      <td>2.3</td>\n",
       "      <td>The Lenovo Legion Y540 is powered by an Intel ...</td>\n",
       "    </tr>\n",
       "    <tr>\n",
       "      <th>5</th>\n",
       "      <td>Asus ROG Zephyrus G GA502</td>\n",
       "      <td>flipkart</td>\n",
       "      <td>₹79990</td>\n",
       "      <td>Windows 10 Home</td>\n",
       "      <td>AMD RYZEN 7 QUAD CORE 3750H | 2.3 GHZ</td>\n",
       "      <td>NVIDIA Geforce GTX 1660 Ti</td>\n",
       "      <td>512 GB SSD/16GB DDR4</td>\n",
       "      <td>15.6\" (1920 X 1080)</td>\n",
       "      <td>2.2</td>\n",
       "      <td>The Ryzen 7 3750H powered Asus ROG Zephyrus G ...</td>\n",
       "    </tr>\n",
       "    <tr>\n",
       "      <th>6</th>\n",
       "      <td>Asus ROG Zephyrus S GX531</td>\n",
       "      <td>flipkart</td>\n",
       "      <td>₹239990</td>\n",
       "      <td>Windows 10 Home</td>\n",
       "      <td>9TH GEN INTEL CORE I7-8750H | 2.2 GHZ</td>\n",
       "      <td>NVIDIA® GeForce RTX™ 2070 (Max-Q)</td>\n",
       "      <td>512GB SSD/16 GBGB DDR4</td>\n",
       "      <td>15.6\" (1920 X 1080)</td>\n",
       "      <td>2.1</td>\n",
       "      <td>The Asus Zephyrus S (GX531) manages to get a f...</td>\n",
       "    </tr>\n",
       "    <tr>\n",
       "      <th>7</th>\n",
       "      <td>MSI GT83VR 7RE Titan SLI</td>\n",
       "      <td>N/A</td>\n",
       "      <td>₹349990</td>\n",
       "      <td>Windows 10 Home 64 bit</td>\n",
       "      <td>INTEL CM238 CORE I7-7820HK+CM238 7TH GEN | 3.5GHZ</td>\n",
       "      <td>Dual GTX1070</td>\n",
       "      <td>1.5 TB SATA/64GB DDR4</td>\n",
       "      <td>18.4\" (1920 X 1080)</td>\n",
       "      <td>5.5</td>\n",
       "      <td>MSI does not have a dual GTX 1080 gaming lapto...</td>\n",
       "    </tr>\n",
       "    <tr>\n",
       "      <th>8</th>\n",
       "      <td>ASUS ROG ZEPHYRUS DUO 15</td>\n",
       "      <td>amazon</td>\n",
       "      <td>₹244990</td>\n",
       "      <td>Windows 10</td>\n",
       "      <td>INTEL CORE I7 10TH GEN 10875H | NA</td>\n",
       "      <td>NVIDIA GeForce RTX 2070 Max-Q</td>\n",
       "      <td>512 GB SSD/4 GBGB DDR4</td>\n",
       "      <td>15.6\" (3840 X 1100)</td>\n",
       "      <td>2.4</td>\n",
       "      <td>The machine is powered by an Intel Core i7-108...</td>\n",
       "    </tr>\n",
       "    <tr>\n",
       "      <th>9</th>\n",
       "      <td>Dell G3</td>\n",
       "      <td>amazon</td>\n",
       "      <td>₹73900</td>\n",
       "      <td>Windows 10 Home Plus</td>\n",
       "      <td>8TH GEN INTEL CORE I5-8300H | 2.3GHZ</td>\n",
       "      <td>NVidia GeForce GTX 1050</td>\n",
       "      <td>1TB HDD/8GB DDR4</td>\n",
       "      <td>15.6 MP | NA</td>\n",
       "      <td>2.53</td>\n",
       "      <td>The Dell G3 is a capable entry-level gaming la...</td>\n",
       "    </tr>\n",
       "  </tbody>\n",
       "</table>\n",
       "</div>"
      ],
      "text/plain": [
       "                Product Name    Seller    Price        Operating System  \\\n",
       "0      MSI GT76 TITAN DT 9SG       N/A  ₹379990          Windows 10 Pro   \n",
       "1      Alienware 17 Area-51m    amazon  ₹422000          Windows 10 Pro   \n",
       "2            HP Omen 15 2020  Tatacliq  ₹117790         Windows 10 Home   \n",
       "3          Asus Zephyrus G14    amazon  ₹164990         Windows 10 Home   \n",
       "4         Lenovo Legion Y540  flipkart   ₹79990         Windows 10 Home   \n",
       "5  Asus ROG Zephyrus G GA502  flipkart   ₹79990         Windows 10 Home   \n",
       "6  Asus ROG Zephyrus S GX531  flipkart  ₹239990         Windows 10 Home   \n",
       "7   MSI GT83VR 7RE Titan SLI       N/A  ₹349990  Windows 10 Home 64 bit   \n",
       "8   ASUS ROG ZEPHYRUS DUO 15    amazon  ₹244990              Windows 10   \n",
       "9                    Dell G3    amazon   ₹73900    Windows 10 Home Plus   \n",
       "\n",
       "                                           Processor  \\\n",
       "0             INTEL 9TH GEN CORE I9-9900K | 5000 MHZ   \n",
       "1             INTEL 9TH GEN CORE I9-9900K | 5000 MHZ   \n",
       "2                  INTEL I7-10750H 10TH GEN | 1.6GHZ   \n",
       "3               AMD 3RD GENERATION RYZEN 9 | 3.3 GHZ   \n",
       "4       9TH GENERATION CORE INTEL I7-9750H | 2.6 GHZ   \n",
       "5              AMD RYZEN 7 QUAD CORE 3750H | 2.3 GHZ   \n",
       "6              9TH GEN INTEL CORE I7-8750H | 2.2 GHZ   \n",
       "7  INTEL CM238 CORE I7-7820HK+CM238 7TH GEN | 3.5GHZ   \n",
       "8                 INTEL CORE I7 10TH GEN 10875H | NA   \n",
       "9               8TH GEN INTEL CORE I5-8300H | 2.3GHZ   \n",
       "\n",
       "                 Graphical Processor                   Memory  \\\n",
       "0            NVIDIA GeForce RTX 2080    1 TB HDD/64 GBGB DDR4   \n",
       "1            NVIDIA GeForce RTX 2080  1 TB PCIE SSD/32GB DDR4   \n",
       "2          Nvidia GeForce GTX 1650Ti  512 GB SSD/16 GBGB DDR4   \n",
       "3            NVIDIA GeForce RTX 2060    1 TB SSD/16 GBGB DDR4   \n",
       "4          NVIDIA® GeForce RTX™ 2060        1 TB SSD/8GB DDR4   \n",
       "5         NVIDIA Geforce GTX 1660 Ti     512 GB SSD/16GB DDR4   \n",
       "6  NVIDIA® GeForce RTX™ 2070 (Max-Q)   512GB SSD/16 GBGB DDR4   \n",
       "7                       Dual GTX1070    1.5 TB SATA/64GB DDR4   \n",
       "8      NVIDIA GeForce RTX 2070 Max-Q   512 GB SSD/4 GBGB DDR4   \n",
       "9            NVidia GeForce GTX 1050         1TB HDD/8GB DDR4   \n",
       "\n",
       "                     Display   Weight  \\\n",
       "0      17.3\" (UHD 3840X2160)   4.2 kg   \n",
       "1  17.3\" (FHD (1920 X 1080))  3.87 Kg   \n",
       "2        15.6\" (1920 X 1080)     5.40   \n",
       "3          14\" (1920 X 1080)     1.65   \n",
       "4        15.6\" (1920 X 1080)      2.3   \n",
       "5        15.6\" (1920 X 1080)      2.2   \n",
       "6        15.6\" (1920 X 1080)      2.1   \n",
       "7        18.4\" (1920 X 1080)      5.5   \n",
       "8        15.6\" (3840 X 1100)      2.4   \n",
       "9               15.6 MP | NA     2.53   \n",
       "\n",
       "                                         Description  \n",
       "0  Sporting a desktop graphics Intel Core i9-9900...  \n",
       "1  The Alienware Area-51m was certainly the first...  \n",
       "2  The new HP Omen 15 comes in both 10th generati...  \n",
       "3  The Asus Zephyrus G14 is a first-of-its-kind g...  \n",
       "4  The Lenovo Legion Y540 is powered by an Intel ...  \n",
       "5  The Ryzen 7 3750H powered Asus ROG Zephyrus G ...  \n",
       "6  The Asus Zephyrus S (GX531) manages to get a f...  \n",
       "7  MSI does not have a dual GTX 1080 gaming lapto...  \n",
       "8  The machine is powered by an Intel Core i7-108...  \n",
       "9  The Dell G3 is a capable entry-level gaming la...  "
      ]
     },
     "execution_count": 214,
     "metadata": {},
     "output_type": "execute_result"
    }
   ],
   "source": [
    "df7=pd.DataFrame({})\n",
    "df7['Product Name']=product_names\n",
    "df7['Seller']=seller\n",
    "df7['Price']=price\n",
    "df7['Operating System']=os\n",
    "df7['Processor']=processor\n",
    "df7['Graphical Processor']=graphics_processor\n",
    "df7['Memory']=memory\n",
    "df7['Display']=display\n",
    "df7['Weight']=weight\n",
    "df7['Description']=description\n",
    "df7"
   ]
  },
  {
   "cell_type": "markdown",
   "metadata": {},
   "source": [
    "**************************************************************************************************************************"
   ]
  },
  {
   "cell_type": "code",
   "execution_count": 38,
   "metadata": {},
   "outputs": [],
   "source": [
    "path=r\"D:\\chromedriver.exe\""
   ]
  },
  {
   "cell_type": "code",
   "execution_count": 39,
   "metadata": {},
   "outputs": [],
   "source": [
    "import os\n",
    "import urllib\n",
    "import time"
   ]
  },
  {
   "cell_type": "code",
   "execution_count": 42,
   "metadata": {},
   "outputs": [],
   "source": [
    "url_prefix=\"https://www.google.com/search?q=\"\n",
    "url_postfix=\"&source=lnms&tbm=isch&sa=X&ved=2ahUKEwiKkda495PwAhVlmeYKHasLDpwQ_AUoAXoECAIQAw&biw=1242&bih=597\"\n",
    "save_folder='Scrapped images'\n",
    "def main():\n",
    "    if not os.path.exists(save_folder):\n",
    "        os.mkdir(save_folder)\n",
    "        download_images()\n",
    "\n",
    "def download_images():\n",
    "    element=input(\"What images have to be searched?\\n\")\n",
    "    no_of_images=int(input(\"How many images have to be scraped?\\n\"))\n",
    "    search_url=url_prefix+topic+url_postfix\n",
    "    driver=webdriver.Chrome(path)\n",
    "    driver.get(search_url)\n",
    "           \n",
    "    value=0\n",
    "    for i in range(3):\n",
    "        driver.execute_script(\"scrollBy(\"+str(value)+\",+1000);\")\n",
    "        value+=1000\n",
    "        time.sleep(2)\n",
    "    a1=driver.find_element_by_id(\"islmp\")\n",
    "    sub=driver.find_elements_by_tag_name(\"img\")\n",
    "    \n",
    "    for j,i in enumerate(sub):\n",
    "        if j<no_of_images:\n",
    "            src=i.get_attribute('src')\n",
    "            try:\n",
    "                if src!= None:\n",
    "                    src=str(src)\n",
    "                    print(src)\n",
    "                    urllib.request.urlretrieve(src,os.path.join(save_folder),topic+str(j)+'.jpeg')\n",
    "                else:\n",
    "                    raise TypeError\n",
    "            except Exception as e:\n",
    "                print(\"fail\")\n",
    "    "
   ]
  },
  {
   "cell_type": "code",
   "execution_count": 41,
   "metadata": {},
   "outputs": [],
   "source": [
    "\n",
    "if __name__==\"__main__\":\n",
    "    main()    "
   ]
  },
  {
   "cell_type": "markdown",
   "metadata": {},
   "source": [
    "****************************************************************************************************************************"
   ]
  },
  {
   "cell_type": "code",
   "execution_count": 43,
   "metadata": {},
   "outputs": [],
   "source": [
    "driver=webdriver.Chrome(r\"D:\\chromedriver.exe\")"
   ]
  },
  {
   "cell_type": "code",
   "execution_count": 44,
   "metadata": {},
   "outputs": [],
   "source": [
    "driver.get(\"https://maps.google.com\")"
   ]
  },
  {
   "cell_type": "code",
   "execution_count": 45,
   "metadata": {},
   "outputs": [],
   "source": [
    "driver.maximize_window()"
   ]
  },
  {
   "cell_type": "code",
   "execution_count": 46,
   "metadata": {},
   "outputs": [],
   "source": [
    "search_inpt=driver.find_element_by_id(\"searchboxinput\")"
   ]
  },
  {
   "cell_type": "code",
   "execution_count": 48,
   "metadata": {},
   "outputs": [
    {
     "name": "stdout",
     "output_type": "stream",
     "text": [
      "Enter city whose geospatial co-ordinates have to be known:\n",
      "Madurai\n"
     ]
    }
   ],
   "source": [
    "city=input(\"Enter city whose geospatial co-ordinates have to be known:\\n\")\n",
    "search_inpt.send_keys(city)\n",
    "search_inpt.send_keys(Keys.ENTER)"
   ]
  },
  {
   "cell_type": "code",
   "execution_count": 49,
   "metadata": {},
   "outputs": [],
   "source": [
    "#fetching the current url\n",
    "url_str=driver.current_url"
   ]
  },
  {
   "cell_type": "code",
   "execution_count": 50,
   "metadata": {},
   "outputs": [
    {
     "data": {
      "text/plain": [
       "'https://www.google.com/maps/search/MaduraiMadurai/@9.9179987,78.0527823,12z'"
      ]
     },
     "execution_count": 50,
     "metadata": {},
     "output_type": "execute_result"
    }
   ],
   "source": [
    "url_str"
   ]
  },
  {
   "cell_type": "code",
   "execution_count": 51,
   "metadata": {},
   "outputs": [
    {
     "name": "stdout",
     "output_type": "stream",
     "text": [
      "50\n",
      "60\n"
     ]
    }
   ],
   "source": [
    "a=url_str.index('@')"
   ]
  },
  {
   "cell_type": "code",
   "execution_count": 52,
   "metadata": {},
   "outputs": [
    {
     "data": {
      "text/plain": [
       "'9.9179987,78.0527823'"
      ]
     },
     "execution_count": 52,
     "metadata": {},
     "output_type": "execute_result"
    }
   ],
   "source": [
    "url_str[a+1:-4]"
   ]
  },
  {
   "cell_type": "code",
   "execution_count": 59,
   "metadata": {},
   "outputs": [
    {
     "name": "stdout",
     "output_type": "stream",
     "text": [
      "Enter city whose geospatial co-ordinates have to be known:\n",
      "Berlin\n"
     ]
    }
   ],
   "source": [
    "search_inpt.clear()\n",
    "city=input(\"Enter city whose geospatial co-ordinates have to be known:\\n\")\n",
    "search_inpt.send_keys(city)\n",
    "search_inpt.send_keys(Keys.ENTER)"
   ]
  },
  {
   "cell_type": "code",
   "execution_count": 60,
   "metadata": {},
   "outputs": [],
   "source": [
    "url_str1=driver.current_url"
   ]
  },
  {
   "cell_type": "code",
   "execution_count": 61,
   "metadata": {},
   "outputs": [
    {
     "data": {
      "text/plain": [
       "'https://www.google.com/maps/@52.5069312,13.1445446,10z'"
      ]
     },
     "execution_count": 61,
     "metadata": {},
     "output_type": "execute_result"
    }
   ],
   "source": [
    "url_str1"
   ]
  },
  {
   "cell_type": "code",
   "execution_count": 63,
   "metadata": {},
   "outputs": [
    {
     "data": {
      "text/plain": [
       "28"
      ]
     },
     "execution_count": 63,
     "metadata": {},
     "output_type": "execute_result"
    }
   ],
   "source": [
    "s=url_str1.index('@')\n",
    "s"
   ]
  },
  {
   "cell_type": "code",
   "execution_count": 66,
   "metadata": {},
   "outputs": [
    {
     "data": {
      "text/plain": [
       "'52.5069312,13.1445446'"
      ]
     },
     "execution_count": 66,
     "metadata": {},
     "output_type": "execute_result"
    }
   ],
   "source": [
    "co_ordinates=url_str1[s+1:-4]\n",
    "co_ordinates"
   ]
  },
  {
   "cell_type": "markdown",
   "metadata": {},
   "source": [
    "*******************************************************************************************************************************"
   ]
  },
  {
   "cell_type": "code",
   "execution_count": 34,
   "metadata": {},
   "outputs": [],
   "source": [
    "driver=webdriver.Chrome(r\"D:\\chromedriver.exe\")"
   ]
  },
  {
   "cell_type": "code",
   "execution_count": 35,
   "metadata": {},
   "outputs": [],
   "source": [
    "driver.get(\"https://www.flipkart.com\")"
   ]
  },
  {
   "cell_type": "code",
   "execution_count": 36,
   "metadata": {},
   "outputs": [],
   "source": [
    "search_bar=driver.find_element_by_xpath(\"//div[@class='_3OO5Xc']/input\")\n",
    "search_bar.send_keys(\"Samsung Galaxy M31\")"
   ]
  },
  {
   "cell_type": "code",
   "execution_count": 37,
   "metadata": {},
   "outputs": [],
   "source": [
    "search_bar.send_keys(Keys.ENTER)"
   ]
  },
  {
   "cell_type": "code",
   "execution_count": 38,
   "metadata": {},
   "outputs": [],
   "source": [
    "driver.maximize_window()"
   ]
  },
  {
   "cell_type": "code",
   "execution_count": 39,
   "metadata": {},
   "outputs": [],
   "source": [
    "brand_name=[]\n",
    "model_name=[]\n",
    "color=[]\n",
    "ram=[]\n",
    "storage=[]\n",
    "primary_camera=[]\n",
    "secondary_camera=[]\n",
    "display_size=[]\n",
    "display_resolution=[]\n",
    "processor=[]\n",
    "processor_core=[]\n",
    "battery_capacity=[]\n",
    "price=[]\n",
    "product_url=[]"
   ]
  },
  {
   "cell_type": "code",
   "execution_count": 40,
   "metadata": {},
   "outputs": [],
   "source": [
    "try:\n",
    "    brand_name_a=driver.find_elements_by_xpath(\"//div[@class='_4rR01T']\")\n",
    "    for a in brand_name_a:\n",
    "        if a.text is None:\n",
    "            brand_name.append('-')\n",
    "        else:\n",
    "            brand_name.append(a.text)\n",
    "except NoSuchElementException as e:\n",
    "    brand_name.append('-')\n",
    "except StaleElementReferenceException as e:\n",
    "    brand_name.append('-')"
   ]
  },
  {
   "cell_type": "code",
   "execution_count": 41,
   "metadata": {},
   "outputs": [
    {
     "data": {
      "text/plain": [
       "['SAMSUNG Galaxy M31 (Space Black, 64 GB)',\n",
       " 'SAMSUNG Galaxy M31 (Ocean Blue, 128 GB)',\n",
       " 'SAMSUNG Galaxy M31 (Iceberg blue, 128 GB)',\n",
       " 'SAMSUNG Galaxy M31 (Ocean Blue, 128 GB)',\n",
       " 'SAMSUNG Galaxy M31 (Space Black, 128 GB)',\n",
       " 'SAMSUNG Galaxy M31 (Space Black, 128 GB)',\n",
       " 'SAMSUNG Galaxy M31 (Ocean Blue, 64 GB)',\n",
       " 'SAMSUNG Galaxy M31s (Mirage Black, 128 GB)',\n",
       " 'SAMSUNG GALAXY M31S (Mirage Black, 128 GB)',\n",
       " 'SAMSUNG Galaxy M31s (Mirage Blue, 128 GB)',\n",
       " 'SAMSUNG Galaxy A31 (Prism Crush White, 128 GB)',\n",
       " 'SAMSUNG Galaxy A31 (Prism Crush Black, 128 GB)',\n",
       " 'SAMSUNG Galaxy A31 (Prism Crush Blue, 128 GB)',\n",
       " 'SAMSUNG Galaxy J7 Prime (Black, 16 GB)',\n",
       " 'SAMSUNG Galaxy J2 2018 (Gold, 16 GB)',\n",
       " 'SAMSUNG Galaxy J5 Prime (Gold, 16 GB)',\n",
       " 'SAMSUNG Galaxy J5 Prime (Black, 16 GB)',\n",
       " 'SAMSUNG Galaxy J4 (Blue, 16 GB)',\n",
       " 'SAMSUNG Galaxy J4 (Black, 16 GB)',\n",
       " 'SAMSUNG Galaxy J2 Pro (Gold, 16 GB)',\n",
       " 'SAMSUNG Galaxy J4 (Gold, 16 GB)',\n",
       " 'SAMSUNG Galaxy J2 2018 (Pink, 16 GB)',\n",
       " 'SAMSUNG Galaxy J2 2018 (Black, 16 GB)',\n",
       " 'SAMSUNG Galaxy J2 Pro (Black, 16 GB)']"
      ]
     },
     "execution_count": 41,
     "metadata": {},
     "output_type": "execute_result"
    }
   ],
   "source": [
    "brand_name"
   ]
  },
  {
   "cell_type": "code",
   "execution_count": 42,
   "metadata": {},
   "outputs": [],
   "source": [
    "urls=driver.find_elements_by_xpath(\"//div[@class='_2kHMtA']/a\")\n",
    "for i in urls:\n",
    "    product_url.append(i.get_attribute('href'))\n"
   ]
  },
  {
   "cell_type": "code",
   "execution_count": 43,
   "metadata": {},
   "outputs": [
    {
     "data": {
      "text/plain": [
       "['https://www.flipkart.com/samsung-galaxy-m31-space-black-64-gb/p/itme0c5a25c1e64a?pid=MOBFPNPSZWQ7YKGH&lid=LSTMOBFPNPSZWQ7YKGHDN7LWD&marketplace=FLIPKART&q=Samsung+Galaxy+M31&store=tyy%2F4io&srno=s_1_1&otracker=search&otracker1=search&fm=SEARCH&iid=80d0e1b4-b7e9-4968-bda8-9d99689b812d.MOBFPNPSZWQ7YKGH.SEARCH&ppt=hp&ppn=homepage&ssid=x9q2mubops0000001618988473482&qH=7c9f1bd709aafd48',\n",
       " 'https://www.flipkart.com/samsung-galaxy-m31-ocean-blue-128-gb/p/itm1e7ce328b07b6?pid=MOBFUYQTFBAYCFKG&lid=LSTMOBFUYQTFBAYCFKGX9GMX2&marketplace=FLIPKART&q=Samsung+Galaxy+M31&store=tyy%2F4io&srno=s_1_2&otracker=search&otracker1=search&fm=SEARCH&iid=80d0e1b4-b7e9-4968-bda8-9d99689b812d.MOBFUYQTFBAYCFKG.SEARCH&ppt=hp&ppn=homepage&ssid=x9q2mubops0000001618988473482&qH=7c9f1bd709aafd48',\n",
       " 'https://www.flipkart.com/samsung-galaxy-m31-iceberg-blue-128-gb/p/itmed6043337ac0e?pid=MOBFYZ8Y9VJNACEM&lid=LSTMOBFYZ8Y9VJNACEMEBJFED&marketplace=FLIPKART&q=Samsung+Galaxy+M31&store=tyy%2F4io&srno=s_1_3&otracker=search&otracker1=search&fm=SEARCH&iid=80d0e1b4-b7e9-4968-bda8-9d99689b812d.MOBFYZ8Y9VJNACEM.SEARCH&ppt=hp&ppn=homepage&ssid=x9q2mubops0000001618988473482&qH=7c9f1bd709aafd48',\n",
       " 'https://www.flipkart.com/samsung-galaxy-m31-ocean-blue-128-gb/p/itm1d7db8f4e2fec?pid=MOBFPNPSZYJXQZCM&lid=LSTMOBFPNPSZYJXQZCMDFOR1Z&marketplace=FLIPKART&q=Samsung+Galaxy+M31&store=tyy%2F4io&srno=s_1_4&otracker=search&otracker1=search&fm=SEARCH&iid=80d0e1b4-b7e9-4968-bda8-9d99689b812d.MOBFPNPSZYJXQZCM.SEARCH&ppt=hp&ppn=homepage&ssid=x9q2mubops0000001618988473482&qH=7c9f1bd709aafd48',\n",
       " 'https://www.flipkart.com/samsung-galaxy-m31-space-black-128-gb/p/itmeb29fb2c00580?pid=MOBFPNPS6QGTKBQB&lid=LSTMOBFPNPS6QGTKBQBWLJMAO&marketplace=FLIPKART&q=Samsung+Galaxy+M31&store=tyy%2F4io&srno=s_1_5&otracker=search&otracker1=search&fm=SEARCH&iid=80d0e1b4-b7e9-4968-bda8-9d99689b812d.MOBFPNPS6QGTKBQB.SEARCH&ppt=hp&ppn=homepage&ssid=x9q2mubops0000001618988473482&qH=7c9f1bd709aafd48',\n",
       " 'https://www.flipkart.com/samsung-galaxy-m31-space-black-128-gb/p/itma3f6d335a52e8?pid=MOBFUYQTCWZVMGEK&lid=LSTMOBFUYQTCWZVMGEKKWQKSC&marketplace=FLIPKART&q=Samsung+Galaxy+M31&store=tyy%2F4io&srno=s_1_6&otracker=search&otracker1=search&fm=SEARCH&iid=80d0e1b4-b7e9-4968-bda8-9d99689b812d.MOBFUYQTCWZVMGEK.SEARCH&ppt=hp&ppn=homepage&ssid=x9q2mubops0000001618988473482&qH=7c9f1bd709aafd48',\n",
       " 'https://www.flipkart.com/samsung-galaxy-m31-ocean-blue-64-gb/p/itm1268b57512fb8?pid=MOBFPNPS6GTGZHE4&lid=LSTMOBFPNPS6GTGZHE4QLS0QC&marketplace=FLIPKART&q=Samsung+Galaxy+M31&store=tyy%2F4io&srno=s_1_7&otracker=search&otracker1=search&fm=SEARCH&iid=80d0e1b4-b7e9-4968-bda8-9d99689b812d.MOBFPNPS6GTGZHE4.SEARCH&ppt=hp&ppn=homepage&ssid=x9q2mubops0000001618988473482&qH=7c9f1bd709aafd48',\n",
       " 'https://www.flipkart.com/samsung-galaxy-m31s-mirage-black-128-gb/p/itmb9b4be5c16ee2?pid=MOBFV25HNQP3VNGP&lid=LSTMOBFV25HNQP3VNGPW21LIL&marketplace=FLIPKART&q=Samsung+Galaxy+M31&store=tyy%2F4io&srno=s_1_8&otracker=search&otracker1=search&fm=SEARCH&iid=80d0e1b4-b7e9-4968-bda8-9d99689b812d.MOBFV25HNQP3VNGP.SEARCH&ppt=hp&ppn=homepage&ssid=x9q2mubops0000001618988473482&qH=7c9f1bd709aafd48',\n",
       " 'https://www.flipkart.com/samsung-galaxy-m31s-mirage-black-128-gb/p/itm34ee37ee1d8a0?pid=MOBFVWCTZYMFQH3J&lid=LSTMOBFVWCTZYMFQH3JRC0NHF&marketplace=FLIPKART&q=Samsung+Galaxy+M31&store=tyy%2F4io&srno=s_1_9&otracker=search&otracker1=search&fm=SEARCH&iid=80d0e1b4-b7e9-4968-bda8-9d99689b812d.MOBFVWCTZYMFQH3J.SEARCH&ppt=hp&ppn=homepage&ssid=x9q2mubops0000001618988473482&qH=7c9f1bd709aafd48',\n",
       " 'https://www.flipkart.com/samsung-galaxy-m31s-mirage-blue-128-gb/p/itmad022b9abd4b6?pid=MOBFUYMQUW5EKE7R&lid=LSTMOBFUYMQUW5EKE7ROD8VKK&marketplace=FLIPKART&q=Samsung+Galaxy+M31&store=tyy%2F4io&srno=s_1_10&otracker=search&otracker1=search&fm=SEARCH&iid=80d0e1b4-b7e9-4968-bda8-9d99689b812d.MOBFUYMQUW5EKE7R.SEARCH&ppt=hp&ppn=homepage&ssid=x9q2mubops0000001618988473482&qH=7c9f1bd709aafd48',\n",
       " 'https://www.flipkart.com/samsung-galaxy-a31-prism-crush-white-128-gb/p/itma110137399bdc?pid=MOBFRZZHFMBJC4A6&lid=LSTMOBFRZZHFMBJC4A67RUS3Y&marketplace=FLIPKART&q=Samsung+Galaxy+M31&store=tyy%2F4io&srno=s_1_11&otracker=search&otracker1=search&fm=SEARCH&iid=80d0e1b4-b7e9-4968-bda8-9d99689b812d.MOBFRZZHFMBJC4A6.SEARCH&ppt=hp&ppn=homepage&ssid=x9q2mubops0000001618988473482&qH=7c9f1bd709aafd48',\n",
       " 'https://www.flipkart.com/samsung-galaxy-a31-prism-crush-black-128-gb/p/itm629da21d10cba?pid=MOBFRZZHWPX3YG2J&lid=LSTMOBFRZZHWPX3YG2JP5DVNQ&marketplace=FLIPKART&q=Samsung+Galaxy+M31&store=tyy%2F4io&srno=s_1_12&otracker=search&otracker1=search&fm=SEARCH&iid=80d0e1b4-b7e9-4968-bda8-9d99689b812d.MOBFRZZHWPX3YG2J.SEARCH&ppt=hp&ppn=homepage&ssid=x9q2mubops0000001618988473482&qH=7c9f1bd709aafd48',\n",
       " 'https://www.flipkart.com/samsung-galaxy-a31-prism-crush-blue-128-gb/p/itmca37dc47f1c6a?pid=MOBFRZZHH4WHKZCW&lid=LSTMOBFRZZHH4WHKZCWSOSBOT&marketplace=FLIPKART&q=Samsung+Galaxy+M31&store=tyy%2F4io&srno=s_1_13&otracker=search&otracker1=search&fm=SEARCH&iid=80d0e1b4-b7e9-4968-bda8-9d99689b812d.MOBFRZZHH4WHKZCW.SEARCH&ppt=hp&ppn=homepage&ssid=x9q2mubops0000001618988473482&qH=7c9f1bd709aafd48',\n",
       " 'https://www.flipkart.com/samsung-galaxy-j7-prime-black-16-gb/p/itmemnhgfyzxzd7t?pid=MOBEMNHF97T55KYZ&lid=LSTMOBEMNHF97T55KYZ3NHTN0&marketplace=FLIPKART&q=Samsung+Galaxy+M31&store=tyy%2F4io&srno=s_1_14&otracker=search&otracker1=search&fm=SEARCH&iid=80d0e1b4-b7e9-4968-bda8-9d99689b812d.MOBEMNHF97T55KYZ.SEARCH&ppt=hp&ppn=homepage&ssid=x9q2mubops0000001618988473482&qH=7c9f1bd709aafd48',\n",
       " 'https://www.flipkart.com/samsung-galaxy-j2-2018-gold-16-gb/p/itmf5yh2sbgf3h8n?pid=MOBF47DRKFBAYVFX&lid=LSTMOBF47DRKFBAYVFXNQ8WIM&marketplace=FLIPKART&q=Samsung+Galaxy+M31&store=tyy%2F4io&srno=s_1_15&otracker=search&otracker1=search&fm=SEARCH&iid=80d0e1b4-b7e9-4968-bda8-9d99689b812d.MOBF47DRKFBAYVFX.SEARCH&ppt=hp&ppn=homepage&ssid=x9q2mubops0000001618988473482&qH=7c9f1bd709aafd48',\n",
       " 'https://www.flipkart.com/samsung-galaxy-j5-prime-gold-16-gb/p/itmeshs24q297qsm?pid=MOBEMNHGABKEKCJR&lid=LSTMOBEMNHGABKEKCJRCHEOZH&marketplace=FLIPKART&q=Samsung+Galaxy+M31&store=tyy%2F4io&srno=s_1_16&otracker=search&otracker1=search&fm=SEARCH&iid=80d0e1b4-b7e9-4968-bda8-9d99689b812d.MOBEMNHGABKEKCJR.SEARCH&ppt=hp&ppn=homepage&ssid=x9q2mubops0000001618988473482&qH=7c9f1bd709aafd48',\n",
       " 'https://www.flipkart.com/samsung-galaxy-j5-prime-black-16-gb/p/itmeshs2fpehpdwa?pid=MOBEMNHGUTDKTGYW&lid=LSTMOBEMNHGUTDKTGYWIIIWHR&marketplace=FLIPKART&q=Samsung+Galaxy+M31&store=tyy%2F4io&srno=s_1_17&otracker=search&otracker1=search&fm=SEARCH&iid=80d0e1b4-b7e9-4968-bda8-9d99689b812d.MOBEMNHGUTDKTGYW.SEARCH&ppt=hp&ppn=homepage&ssid=x9q2mubops0000001618988473482&qH=7c9f1bd709aafd48',\n",
       " 'https://www.flipkart.com/samsung-galaxy-j4-blue-16-gb/p/itmf5scx78ghsqzg?pid=MOBF5PZHU3AWSMYS&lid=LSTMOBF5PZHU3AWSMYSRTIB6I&marketplace=FLIPKART&q=Samsung+Galaxy+M31&store=tyy%2F4io&srno=s_1_18&otracker=search&otracker1=search&fm=SEARCH&iid=80d0e1b4-b7e9-4968-bda8-9d99689b812d.MOBF5PZHU3AWSMYS.SEARCH&ppt=hp&ppn=homepage&ssid=x9q2mubops0000001618988473482&qH=7c9f1bd709aafd48',\n",
       " 'https://www.flipkart.com/samsung-galaxy-j4-black-16-gb/p/itmf5scxzypakdz5?pid=MOBF5PZHGU4MWFEV&lid=LSTMOBF5PZHGU4MWFEVTFWGRB&marketplace=FLIPKART&q=Samsung+Galaxy+M31&store=tyy%2F4io&srno=s_1_19&otracker=search&otracker1=search&fm=SEARCH&iid=80d0e1b4-b7e9-4968-bda8-9d99689b812d.MOBF5PZHGU4MWFEV.SEARCH&ppt=hp&ppn=homepage&ssid=x9q2mubops0000001618988473482&qH=7c9f1bd709aafd48',\n",
       " 'https://www.flipkart.com/samsung-galaxy-j2-pro-gold-16-gb/p/itmeskmtbxykfvpp?pid=MOBESKMTQM7N9BXH&lid=LSTMOBESKMTQM7N9BXHF0FGBL&marketplace=FLIPKART&q=Samsung+Galaxy+M31&store=tyy%2F4io&srno=s_1_20&otracker=search&otracker1=search&fm=SEARCH&iid=80d0e1b4-b7e9-4968-bda8-9d99689b812d.MOBESKMTQM7N9BXH.SEARCH&ppt=hp&ppn=homepage&ssid=x9q2mubops0000001618988473482&qH=7c9f1bd709aafd48',\n",
       " 'https://www.flipkart.com/samsung-galaxy-j4-gold-16-gb/p/itmf5scxg3epshgn?pid=MOBF5PZHAVHBUVNX&lid=LSTMOBF5PZHAVHBUVNXWJGCLS&marketplace=FLIPKART&q=Samsung+Galaxy+M31&store=tyy%2F4io&srno=s_1_21&otracker=search&otracker1=search&fm=SEARCH&iid=80d0e1b4-b7e9-4968-bda8-9d99689b812d.MOBF5PZHAVHBUVNX.SEARCH&ppt=hp&ppn=homepage&ssid=x9q2mubops0000001618988473482&qH=7c9f1bd709aafd48',\n",
       " 'https://www.flipkart.com/samsung-galaxy-j2-2018-pink-16-gb/p/itmf5yc7dwyuqgf2?pid=MOBF47DRZSZJDQHR&lid=LSTMOBF47DRZSZJDQHRKJVICP&marketplace=FLIPKART&q=Samsung+Galaxy+M31&store=tyy%2F4io&srno=s_1_22&otracker=search&otracker1=search&fm=SEARCH&iid=80d0e1b4-b7e9-4968-bda8-9d99689b812d.MOBF47DRZSZJDQHR.SEARCH&ppt=hp&ppn=homepage&ssid=x9q2mubops0000001618988473482&qH=7c9f1bd709aafd48',\n",
       " 'https://www.flipkart.com/samsung-galaxy-j2-2018-black-16-gb/p/itmf5yh2vhprbhh6?pid=MOBF47DRPJA8DAQY&lid=LSTMOBF47DRPJA8DAQYXLZSUT&marketplace=FLIPKART&q=Samsung+Galaxy+M31&store=tyy%2F4io&srno=s_1_23&otracker=search&otracker1=search&fm=SEARCH&iid=80d0e1b4-b7e9-4968-bda8-9d99689b812d.MOBF47DRPJA8DAQY.SEARCH&ppt=hp&ppn=homepage&ssid=x9q2mubops0000001618988473482&qH=7c9f1bd709aafd48',\n",
       " 'https://www.flipkart.com/samsung-galaxy-j2-pro-black-16-gb/p/itmeskmtgseavdgg?pid=MOBESKMTUZB6KHUP&lid=LSTMOBESKMTUZB6KHUPIHBKQY&marketplace=FLIPKART&q=Samsung+Galaxy+M31&store=tyy%2F4io&srno=s_1_24&otracker=search&otracker1=search&fm=SEARCH&iid=80d0e1b4-b7e9-4968-bda8-9d99689b812d.MOBESKMTUZB6KHUP.SEARCH&ppt=hp&ppn=homepage&ssid=x9q2mubops0000001618988473482&qH=7c9f1bd709aafd48']"
      ]
     },
     "execution_count": 43,
     "metadata": {},
     "output_type": "execute_result"
    }
   ],
   "source": [
    "product_url"
   ]
  },
  {
   "cell_type": "code",
   "execution_count": 44,
   "metadata": {},
   "outputs": [],
   "source": [
    "battery_capacity_a=driver.find_elements_by_xpath(\"//div[@class='fMghEO']/ul/li[4]\")\n",
    "for p in battery_capacity_a:\n",
    "    battery_capacity.append(p.text)"
   ]
  },
  {
   "cell_type": "code",
   "execution_count": 45,
   "metadata": {},
   "outputs": [
    {
     "data": {
      "text/plain": [
       "['6000 mAh Battery',\n",
       " '6000 mAh Battery',\n",
       " '6000 mAh Battery',\n",
       " '6000 mAh Battery',\n",
       " '6000 mAh Battery',\n",
       " '6000 mAh Battery',\n",
       " '6000 mAh Battery',\n",
       " '6000 mAh Battery',\n",
       " '6000 mAh Battery',\n",
       " '6000 mAh Battery',\n",
       " '5000 mAh Lithium-ion Battery',\n",
       " '5000 mAh Lithium-ion Battery',\n",
       " '5000 mAh Lithium-ion Battery',\n",
       " '3300 mAh Battery',\n",
       " '2600 mAh Battery',\n",
       " '2400 mAh Li-Ion Battery',\n",
       " '2400 mAh Li-Ion Battery',\n",
       " '3000 mAh Battery',\n",
       " '3000 mAh Battery',\n",
       " '2600 mAh Battery',\n",
       " '3000 mAh Battery',\n",
       " '2600 mAh Battery',\n",
       " '2600 mAh Battery',\n",
       " '2600 mAh Battery']"
      ]
     },
     "execution_count": 45,
     "metadata": {},
     "output_type": "execute_result"
    }
   ],
   "source": [
    "battery_capacity"
   ]
  },
  {
   "cell_type": "code",
   "execution_count": 46,
   "metadata": {},
   "outputs": [
    {
     "data": {
      "text/plain": [
       "24"
      ]
     },
     "execution_count": 46,
     "metadata": {},
     "output_type": "execute_result"
    }
   ],
   "source": [
    "len(battery_capacity)"
   ]
  },
  {
   "cell_type": "code",
   "execution_count": 47,
   "metadata": {},
   "outputs": [],
   "source": [
    "price_a=driver.find_elements_by_xpath(\"//div[@class='_25b18c']/div[@class='_30jeq3 _1_WHN1']\")\n",
    "for r in price_a:\n",
    "    price.append(r.text)"
   ]
  },
  {
   "cell_type": "code",
   "execution_count": 48,
   "metadata": {},
   "outputs": [
    {
     "data": {
      "text/plain": [
       "['₹15,787',\n",
       " '₹19,920',\n",
       " '₹17,411',\n",
       " '₹17,471',\n",
       " '₹17,420',\n",
       " '₹19,989',\n",
       " '₹15,999',\n",
       " '₹22,495',\n",
       " '₹22,990',\n",
       " '₹19,399',\n",
       " '₹16,999',\n",
       " '₹16,999',\n",
       " '₹16,999',\n",
       " '₹18,328',\n",
       " '₹7,500',\n",
       " '₹14,500',\n",
       " '₹14,500',\n",
       " '₹9,500',\n",
       " '₹8,990',\n",
       " '₹10,480',\n",
       " '₹9,500',\n",
       " '₹6,799',\n",
       " '₹7,999',\n",
       " '₹10,480']"
      ]
     },
     "execution_count": 48,
     "metadata": {},
     "output_type": "execute_result"
    }
   ],
   "source": [
    "price"
   ]
  },
  {
   "cell_type": "code",
   "execution_count": 49,
   "metadata": {},
   "outputs": [
    {
     "data": {
      "text/plain": [
       "24"
      ]
     },
     "execution_count": 49,
     "metadata": {},
     "output_type": "execute_result"
    }
   ],
   "source": [
    "len(price)"
   ]
  },
  {
   "cell_type": "code",
   "execution_count": 50,
   "metadata": {},
   "outputs": [],
   "source": [
    "for g in product_url:\n",
    "    driver.get(g)\n",
    "    read_more_btn=driver.find_element_by_xpath(\"//button[@class='_2KpZ6l _1FH0tX']\").click()\n",
    "    model_name_b=driver.find_element_by_xpath(\"//table[@class='_14cfVK']/tbody/tr[3]/td[@class='URwL2w col col-9-12']/ul/li[@class='_21lJbe']\")\n",
    "    model_name.append(model_name_b.text)\n",
    "    color_b=driver.find_element_by_xpath(\"//table[@class='_14cfVK']/tbody/tr[4]/td[@class='URwL2w col col-9-12']/ul/li[@class='_21lJbe']\")\n",
    "    color.append(color_b.text)\n",
    "    display_size_b=driver.find_element_by_xpath(\"//div[@class='_1UhVsV']/div[@class='_3k-BhJ'][2]/table[@class='_14cfVK']/tbody/tr[@class='_1s_Smc row']/td[@class='URwL2w col col-9-12']/ul/li[@class='_21lJbe']\")\n",
    "    display_size.append(display_size_b.text)\n",
    "    display_resolution_b=driver.find_element_by_xpath(\"//div[@class='_1UhVsV']/div[@class='_3k-BhJ'][2]/table[@class='_14cfVK']/tbody/tr[@class='_1s_Smc row'][2]/td[@class='URwL2w col col-9-12']/ul/li[@class='_21lJbe']\")\n",
    "    display_resolution.append(display_resolution_b.text)\n",
    "    processor_a=driver.find_element_by_xpath(\"//div[@class='_1UhVsV']/div[@class='_3k-BhJ'][3]/table[@class='_14cfVK']/tbody/tr[@class='_1s_Smc row'][2]/td[@class='URwL2w col col-9-12']/ul/li[@class='_21lJbe']\")\n",
    "    processor.append(processor_a.text)\n",
    "    processor_core_a=driver.find_element_by_xpath(\"//div[@class='_1UhVsV']/div[@class='_3k-BhJ'][3]/table[@class='_14cfVK']/tbody/tr[@class='_1s_Smc row'][3]/td[@class='URwL2w col col-9-12']/ul/li[@class='_21lJbe']\")\n",
    "    processor_core.append(processor_core_a.text)\n",
    "    storage_a=driver.find_element_by_xpath(\"//div[@class='_1UhVsV']/div[@class='_3k-BhJ'][4]/table[@class='_14cfVK']/tbody/tr[@class='_1s_Smc row']/td[@class='URwL2w col col-9-12']/ul/li[@class='_21lJbe']\")\n",
    "    storage.append(storage_a.text)\n",
    "    ram_a=driver.find_element_by_xpath(\"//div[@class='_1UhVsV']/div[@class='_3k-BhJ'][4]/table[@class='_14cfVK']/tbody/tr[@class='_1s_Smc row'][2]/td[@class='URwL2w col col-9-12']/ul/li[@class='_21lJbe']\")\n",
    "    ram.append(ram_a.text)\n",
    "    primary_camera_a=driver.find_element_by_xpath(\"//div[@class='_1UhVsV']/div[@class='_3k-BhJ'][5]/table[@class='_14cfVK']/tbody/tr[@class='_1s_Smc row'][2]/td[@class='URwL2w col col-9-12']/ul/li[@class='_21lJbe']\")\n",
    "    primary_camera.append(primary_camera_a.text)"
   ]
  },
  {
   "cell_type": "code",
   "execution_count": 52,
   "metadata": {},
   "outputs": [
    {
     "data": {
      "text/plain": [
       "24"
      ]
     },
     "execution_count": 52,
     "metadata": {},
     "output_type": "execute_result"
    }
   ],
   "source": [
    "len(primary_camera)"
   ]
  },
  {
   "cell_type": "code",
   "execution_count": 68,
   "metadata": {},
   "outputs": [
    {
     "data": {
      "text/plain": [
       "['6 GB',\n",
       " '8 GB',\n",
       " '8 GB',\n",
       " '6 GB',\n",
       " '6 GB',\n",
       " '6 GB',\n",
       " '6 GB',\n",
       " '6 GB',\n",
       " '8 GB',\n",
       " '6 GB',\n",
       " '6 GB',\n",
       " '6 GB',\n",
       " '6 GB',\n",
       " '3 GB',\n",
       " '2 GB',\n",
       " '2 GB',\n",
       " '2 GB',\n",
       " '2 GB',\n",
       " '2 GB',\n",
       " '2 GB',\n",
       " '2 GB',\n",
       " '2 GB',\n",
       " '2 GB',\n",
       " '2 GB']"
      ]
     },
     "execution_count": 68,
     "metadata": {},
     "output_type": "execute_result"
    }
   ],
   "source": [
    "ram"
   ]
  },
  {
   "cell_type": "code",
   "execution_count": 69,
   "metadata": {},
   "outputs": [
    {
     "data": {
      "text/plain": [
       "24"
      ]
     },
     "execution_count": 69,
     "metadata": {},
     "output_type": "execute_result"
    }
   ],
   "source": [
    "len(ram)"
   ]
  },
  {
   "cell_type": "code",
   "execution_count": 70,
   "metadata": {},
   "outputs": [
    {
     "data": {
      "text/plain": [
       "['64 GB',\n",
       " '128 GB',\n",
       " '128 GB',\n",
       " '64 GB',\n",
       " '128 GB',\n",
       " '128 GB',\n",
       " '128 GB',\n",
       " '128 GB',\n",
       " '128 GB',\n",
       " '128 GB',\n",
       " '128 GB',\n",
       " '128 GB',\n",
       " '128 GB',\n",
       " '16 GB',\n",
       " '16 GB',\n",
       " '16 GB',\n",
       " '16 GB',\n",
       " '16 GB',\n",
       " '16 GB',\n",
       " '16 GB',\n",
       " '16 GB',\n",
       " '16 GB',\n",
       " '16 GB',\n",
       " '16 GB']"
      ]
     },
     "execution_count": 70,
     "metadata": {},
     "output_type": "execute_result"
    }
   ],
   "source": [
    "storage"
   ]
  },
  {
   "cell_type": "code",
   "execution_count": 71,
   "metadata": {},
   "outputs": [
    {
     "data": {
      "text/plain": [
       "24"
      ]
     },
     "execution_count": 71,
     "metadata": {},
     "output_type": "execute_result"
    }
   ],
   "source": [
    "len(storage)"
   ]
  },
  {
   "cell_type": "code",
   "execution_count": 72,
   "metadata": {},
   "outputs": [
    {
     "data": {
      "text/plain": [
       "['Octa Core',\n",
       " 'Octa Core',\n",
       " 'Octa Core',\n",
       " 'Octa Core',\n",
       " 'Octa Core',\n",
       " 'Octa Core',\n",
       " '2.3 GHz',\n",
       " '2.3 GHz',\n",
       " '2.3 GHz',\n",
       " 'Octa Core',\n",
       " 'Octa Core',\n",
       " 'Octa Core',\n",
       " 'Octa Core',\n",
       " 'Octa Core',\n",
       " 'Quad Core',\n",
       " 'Quad Core',\n",
       " 'Quad Core',\n",
       " 'Quad Core',\n",
       " 'Quad Core',\n",
       " 'Quad Core',\n",
       " 'Quad Core',\n",
       " 'Quad Core',\n",
       " 'Quad Core',\n",
       " 'Quad Core']"
      ]
     },
     "execution_count": 72,
     "metadata": {},
     "output_type": "execute_result"
    }
   ],
   "source": [
    "processor_core"
   ]
  },
  {
   "cell_type": "code",
   "execution_count": 73,
   "metadata": {},
   "outputs": [
    {
     "data": {
      "text/plain": [
       "24"
      ]
     },
     "execution_count": 73,
     "metadata": {},
     "output_type": "execute_result"
    }
   ],
   "source": [
    "len(processor_core)"
   ]
  },
  {
   "cell_type": "code",
   "execution_count": 74,
   "metadata": {},
   "outputs": [
    {
     "data": {
      "text/plain": [
       "['Samsung Exynos 9 Octa 9611',\n",
       " 'Samsung Exynos 9 Octa 9611',\n",
       " 'Samsung Exynos 9 Octa 9611',\n",
       " 'Samsung Exynos 9 Octa 9611',\n",
       " 'Samsung Exynos 9 Octa 9611',\n",
       " 'Samsung Exynos 9 Octa 9611',\n",
       " 'Octa Core',\n",
       " 'Octa Core',\n",
       " 'Octa Core',\n",
       " 'Samsung Exynos 9 Octa 9611',\n",
       " 'MediaTek (MT6768) Octa Core',\n",
       " 'MediaTek (MT6768) Octa Core',\n",
       " 'MediaTek (MT6768) Octa Core',\n",
       " 'Exynos 7870 Octa Core 1.6GHz',\n",
       " 'Snapdragon 425',\n",
       " 'Exynos 7570 Quad Core 1.4GHz',\n",
       " 'Exynos 7570 Quad Core 1.4GHz',\n",
       " 'Exynos 7570',\n",
       " 'Exynos 7570',\n",
       " 'Exynos 7570',\n",
       " 'Spreadtrum Quad-Core 1.5GHz',\n",
       " 'Snapdragon 425',\n",
       " 'Spreadtrum Quad-Core 1.5GHz',\n",
       " 'Snapdragon 425']"
      ]
     },
     "execution_count": 74,
     "metadata": {},
     "output_type": "execute_result"
    }
   ],
   "source": [
    "processor"
   ]
  },
  {
   "cell_type": "code",
   "execution_count": 75,
   "metadata": {},
   "outputs": [
    {
     "data": {
      "text/plain": [
       "24"
      ]
     },
     "execution_count": 75,
     "metadata": {},
     "output_type": "execute_result"
    }
   ],
   "source": [
    "len(processor)"
   ]
  },
  {
   "cell_type": "code",
   "execution_count": 76,
   "metadata": {},
   "outputs": [
    {
     "data": {
      "text/plain": [
       "['16.26 cm (6.4 inch)',\n",
       " '16.26 cm (6.4 inch)',\n",
       " '16.26 cm (6.4 inch)',\n",
       " '16.26 cm (6.4 inch)',\n",
       " '16.26 cm (6.4 inch)',\n",
       " '16.26 cm (6.4 inch)',\n",
       " '16.51 cm (6.5 inch)',\n",
       " '16.51 cm (6.5 inch)',\n",
       " '16.51 cm (6.5 inch)',\n",
       " '16.26 cm (6.4 inch)',\n",
       " '16.26 cm (6.4 inch)',\n",
       " '16.26 cm (6.4 inch)',\n",
       " '16.26 cm (6.4 inch)',\n",
       " '13.97 cm (5.5 inch)',\n",
       " '12.7 cm (5 inch)',\n",
       " '12.7 cm (5 inch)',\n",
       " '12.7 cm (5 inch)',\n",
       " '13.97 cm (5.5 inch)',\n",
       " '13.97 cm (5.5 inch)',\n",
       " '13.97 cm (5.5 inch)',\n",
       " '12.7 cm (5 inch)',\n",
       " '12.7 cm (5 inch)',\n",
       " '12.7 cm (5 inch)',\n",
       " '12.7 cm (5 inch)']"
      ]
     },
     "execution_count": 76,
     "metadata": {},
     "output_type": "execute_result"
    }
   ],
   "source": [
    "display_size"
   ]
  },
  {
   "cell_type": "code",
   "execution_count": 77,
   "metadata": {},
   "outputs": [
    {
     "data": {
      "text/plain": [
       "24"
      ]
     },
     "execution_count": 77,
     "metadata": {},
     "output_type": "execute_result"
    }
   ],
   "source": [
    "len(display_size)"
   ]
  },
  {
   "cell_type": "code",
   "execution_count": 78,
   "metadata": {},
   "outputs": [
    {
     "data": {
      "text/plain": [
       "['2340 x 1080$$pixel',\n",
       " '2340 x 1080$$pixel',\n",
       " '2340 x 1080$$pixel',\n",
       " '2340 x 1080$$pixel',\n",
       " '2340 x 1080$$pixel',\n",
       " '2340 x 1080$$pixel',\n",
       " '1080 x 2400$$pixel',\n",
       " '1080 x 2400$$pixel',\n",
       " '1080 x 2400$$pixel',\n",
       " '2340 x 1080$$pixel',\n",
       " '2400 x 1080 Pixels',\n",
       " '2400 x 1080 Pixels',\n",
       " '2400 x 1080 Pixels',\n",
       " '1920 x 1080 Pixels',\n",
       " '540 x 960 Pixels',\n",
       " '1280 x 720',\n",
       " '1280 x 720',\n",
       " '720 x 1280 Pixels',\n",
       " '720 x 1280 Pixels',\n",
       " '720 x 1280 Pixels',\n",
       " '1280 x 720 Pixels',\n",
       " '540 x 960 Pixels',\n",
       " '1280 x 720 Pixels',\n",
       " '540 x 960 Pixels']"
      ]
     },
     "execution_count": 78,
     "metadata": {},
     "output_type": "execute_result"
    }
   ],
   "source": [
    "display_resolution"
   ]
  },
  {
   "cell_type": "code",
   "execution_count": 79,
   "metadata": {},
   "outputs": [
    {
     "data": {
      "text/plain": [
       "24"
      ]
     },
     "execution_count": 79,
     "metadata": {},
     "output_type": "execute_result"
    }
   ],
   "source": [
    "len(display_resolution)"
   ]
  },
  {
   "cell_type": "code",
   "execution_count": 80,
   "metadata": {},
   "outputs": [
    {
     "data": {
      "text/plain": [
       "['Galaxy M31',\n",
       " 'Galaxy M31',\n",
       " 'Galaxy M31',\n",
       " 'Galaxy M31',\n",
       " 'Galaxy M31',\n",
       " 'Galaxy M31',\n",
       " 'Galaxy M31s',\n",
       " 'Galaxy M31s',\n",
       " 'GALAXY M31S',\n",
       " 'Galaxy M31',\n",
       " 'Galaxy A31',\n",
       " 'Galaxy A31',\n",
       " 'Galaxy A31',\n",
       " 'Galaxy J7 Prime',\n",
       " 'Galaxy J2 2018',\n",
       " 'Galaxy J5 Prime',\n",
       " 'Galaxy J5 Prime',\n",
       " 'Galaxy J4',\n",
       " 'Galaxy J4',\n",
       " 'Galaxy J4',\n",
       " 'Galaxy J2 Pro',\n",
       " 'Galaxy J2 2018',\n",
       " 'Galaxy J2 Pro',\n",
       " 'Galaxy J2 2018']"
      ]
     },
     "execution_count": 80,
     "metadata": {},
     "output_type": "execute_result"
    }
   ],
   "source": [
    "model_name"
   ]
  },
  {
   "cell_type": "code",
   "execution_count": 81,
   "metadata": {},
   "outputs": [
    {
     "data": {
      "text/plain": [
       "['Space Black',\n",
       " 'Ocean Blue',\n",
       " 'Space Black',\n",
       " 'Ocean Blue',\n",
       " 'Ocean Blue',\n",
       " 'Space Black',\n",
       " 'Mirage Black',\n",
       " 'Mirage Blue',\n",
       " 'Mirage Black',\n",
       " 'Iceberg blue',\n",
       " 'Prism Crush White',\n",
       " 'Prism Crush Black',\n",
       " 'Prism Crush Blue',\n",
       " 'Black',\n",
       " 'Gold',\n",
       " 'Gold',\n",
       " 'Black',\n",
       " 'Black',\n",
       " 'Gold',\n",
       " 'Blue',\n",
       " 'Gold',\n",
       " 'Black',\n",
       " 'Black',\n",
       " 'Pink']"
      ]
     },
     "execution_count": 81,
     "metadata": {},
     "output_type": "execute_result"
    }
   ],
   "source": [
    "color"
   ]
  },
  {
   "cell_type": "code",
   "execution_count": 82,
   "metadata": {},
   "outputs": [
    {
     "data": {
      "text/plain": [
       "24"
      ]
     },
     "execution_count": 82,
     "metadata": {},
     "output_type": "execute_result"
    }
   ],
   "source": [
    "len(model_name)"
   ]
  },
  {
   "cell_type": "code",
   "execution_count": 83,
   "metadata": {},
   "outputs": [
    {
     "data": {
      "text/plain": [
       "24"
      ]
     },
     "execution_count": 83,
     "metadata": {},
     "output_type": "execute_result"
    }
   ],
   "source": [
    "len(color)"
   ]
  },
  {
   "cell_type": "code",
   "execution_count": 53,
   "metadata": {},
   "outputs": [],
   "source": [
    "df4=pd.DataFrame({})\n",
    "df4['Brand Name']=brand_name\n",
    "df4['Model Name']=model_name\n",
    "df4['Price']=price\n",
    "df4['Colour']=color\n",
    "df4['RAM']=ram\n",
    "df4['Storage']=storage\n",
    "df4['Processor']=processor\n",
    "df4['Processor core']=processor_core\n",
    "df4['Display Size']=display_size\n",
    "df4['Display Resolution']=display_resolution\n",
    "df4['Battery Capacity']=battery_capacity\n",
    "df4['Primary camera']=primary_camera\n",
    "df4['Product url']=product_url"
   ]
  },
  {
   "cell_type": "code",
   "execution_count": 55,
   "metadata": {},
   "outputs": [
    {
     "data": {
      "text/html": [
       "<div>\n",
       "<style scoped>\n",
       "    .dataframe tbody tr th:only-of-type {\n",
       "        vertical-align: middle;\n",
       "    }\n",
       "\n",
       "    .dataframe tbody tr th {\n",
       "        vertical-align: top;\n",
       "    }\n",
       "\n",
       "    .dataframe thead th {\n",
       "        text-align: right;\n",
       "    }\n",
       "</style>\n",
       "<table border=\"1\" class=\"dataframe\">\n",
       "  <thead>\n",
       "    <tr style=\"text-align: right;\">\n",
       "      <th></th>\n",
       "      <th>Brand Name</th>\n",
       "      <th>Model Name</th>\n",
       "      <th>Price</th>\n",
       "      <th>Colour</th>\n",
       "      <th>RAM</th>\n",
       "      <th>Storage</th>\n",
       "      <th>Processor</th>\n",
       "      <th>Processor core</th>\n",
       "      <th>Display Size</th>\n",
       "      <th>Display Resolution</th>\n",
       "      <th>Battery Capacity</th>\n",
       "      <th>Primary camera</th>\n",
       "      <th>Product url</th>\n",
       "    </tr>\n",
       "  </thead>\n",
       "  <tbody>\n",
       "    <tr>\n",
       "      <th>0</th>\n",
       "      <td>SAMSUNG Galaxy M31 (Space Black, 64 GB)</td>\n",
       "      <td>Galaxy M31</td>\n",
       "      <td>₹15,787</td>\n",
       "      <td>Space Black</td>\n",
       "      <td>6 GB</td>\n",
       "      <td>64 GB</td>\n",
       "      <td>Samsung Exynos 9 Octa 9611</td>\n",
       "      <td>Octa Core</td>\n",
       "      <td>16.26 cm (6.4 inch)</td>\n",
       "      <td>2340 x 1080$$pixel</td>\n",
       "      <td>6000 mAh Battery</td>\n",
       "      <td>64MP + 8MP + 5MP + 5MP</td>\n",
       "      <td>https://www.flipkart.com/samsung-galaxy-m31-sp...</td>\n",
       "    </tr>\n",
       "    <tr>\n",
       "      <th>1</th>\n",
       "      <td>SAMSUNG Galaxy M31 (Ocean Blue, 128 GB)</td>\n",
       "      <td>Galaxy M31</td>\n",
       "      <td>₹19,920</td>\n",
       "      <td>Ocean Blue</td>\n",
       "      <td>8 GB</td>\n",
       "      <td>128 GB</td>\n",
       "      <td>Samsung Exynos 9 Octa 9611</td>\n",
       "      <td>Octa Core</td>\n",
       "      <td>16.26 cm (6.4 inch)</td>\n",
       "      <td>2340 x 1080$$pixel</td>\n",
       "      <td>6000 mAh Battery</td>\n",
       "      <td>64MP + 8MP + 5MP + 5MP</td>\n",
       "      <td>https://www.flipkart.com/samsung-galaxy-m31-oc...</td>\n",
       "    </tr>\n",
       "    <tr>\n",
       "      <th>2</th>\n",
       "      <td>SAMSUNG Galaxy M31 (Iceberg blue, 128 GB)</td>\n",
       "      <td>Galaxy M31</td>\n",
       "      <td>₹17,411</td>\n",
       "      <td>Iceberg blue</td>\n",
       "      <td>6 GB</td>\n",
       "      <td>128 GB</td>\n",
       "      <td>Samsung Exynos 9 Octa 9611</td>\n",
       "      <td>Octa Core</td>\n",
       "      <td>16.26 cm (6.4 inch)</td>\n",
       "      <td>2340 x 1080$$pixel</td>\n",
       "      <td>6000 mAh Battery</td>\n",
       "      <td>64MP + 8MP + 5MP + 5MP</td>\n",
       "      <td>https://www.flipkart.com/samsung-galaxy-m31-ic...</td>\n",
       "    </tr>\n",
       "    <tr>\n",
       "      <th>3</th>\n",
       "      <td>SAMSUNG Galaxy M31 (Ocean Blue, 128 GB)</td>\n",
       "      <td>Galaxy M31</td>\n",
       "      <td>₹17,471</td>\n",
       "      <td>Ocean Blue</td>\n",
       "      <td>6 GB</td>\n",
       "      <td>128 GB</td>\n",
       "      <td>Samsung Exynos 9 Octa 9611</td>\n",
       "      <td>Octa Core</td>\n",
       "      <td>16.26 cm (6.4 inch)</td>\n",
       "      <td>2340 x 1080$$pixel</td>\n",
       "      <td>6000 mAh Battery</td>\n",
       "      <td>64MP + 8MP + 5MP + 5MP</td>\n",
       "      <td>https://www.flipkart.com/samsung-galaxy-m31-oc...</td>\n",
       "    </tr>\n",
       "    <tr>\n",
       "      <th>4</th>\n",
       "      <td>SAMSUNG Galaxy M31 (Space Black, 128 GB)</td>\n",
       "      <td>Galaxy M31</td>\n",
       "      <td>₹17,420</td>\n",
       "      <td>Space Black</td>\n",
       "      <td>6 GB</td>\n",
       "      <td>128 GB</td>\n",
       "      <td>Samsung Exynos 9 Octa 9611</td>\n",
       "      <td>Octa Core</td>\n",
       "      <td>16.26 cm (6.4 inch)</td>\n",
       "      <td>2340 x 1080$$pixel</td>\n",
       "      <td>6000 mAh Battery</td>\n",
       "      <td>64MP + 8MP + 5MP + 5MP</td>\n",
       "      <td>https://www.flipkart.com/samsung-galaxy-m31-sp...</td>\n",
       "    </tr>\n",
       "  </tbody>\n",
       "</table>\n",
       "</div>"
      ],
      "text/plain": [
       "                                  Brand Name  Model Name    Price  \\\n",
       "0    SAMSUNG Galaxy M31 (Space Black, 64 GB)  Galaxy M31  ₹15,787   \n",
       "1    SAMSUNG Galaxy M31 (Ocean Blue, 128 GB)  Galaxy M31  ₹19,920   \n",
       "2  SAMSUNG Galaxy M31 (Iceberg blue, 128 GB)  Galaxy M31  ₹17,411   \n",
       "3    SAMSUNG Galaxy M31 (Ocean Blue, 128 GB)  Galaxy M31  ₹17,471   \n",
       "4   SAMSUNG Galaxy M31 (Space Black, 128 GB)  Galaxy M31  ₹17,420   \n",
       "\n",
       "         Colour   RAM Storage                   Processor Processor core  \\\n",
       "0   Space Black  6 GB   64 GB  Samsung Exynos 9 Octa 9611      Octa Core   \n",
       "1    Ocean Blue  8 GB  128 GB  Samsung Exynos 9 Octa 9611      Octa Core   \n",
       "2  Iceberg blue  6 GB  128 GB  Samsung Exynos 9 Octa 9611      Octa Core   \n",
       "3    Ocean Blue  6 GB  128 GB  Samsung Exynos 9 Octa 9611      Octa Core   \n",
       "4   Space Black  6 GB  128 GB  Samsung Exynos 9 Octa 9611      Octa Core   \n",
       "\n",
       "          Display Size  Display Resolution  Battery Capacity  \\\n",
       "0  16.26 cm (6.4 inch)  2340 x 1080$$pixel  6000 mAh Battery   \n",
       "1  16.26 cm (6.4 inch)  2340 x 1080$$pixel  6000 mAh Battery   \n",
       "2  16.26 cm (6.4 inch)  2340 x 1080$$pixel  6000 mAh Battery   \n",
       "3  16.26 cm (6.4 inch)  2340 x 1080$$pixel  6000 mAh Battery   \n",
       "4  16.26 cm (6.4 inch)  2340 x 1080$$pixel  6000 mAh Battery   \n",
       "\n",
       "           Primary camera                                        Product url  \n",
       "0  64MP + 8MP + 5MP + 5MP  https://www.flipkart.com/samsung-galaxy-m31-sp...  \n",
       "1  64MP + 8MP + 5MP + 5MP  https://www.flipkart.com/samsung-galaxy-m31-oc...  \n",
       "2  64MP + 8MP + 5MP + 5MP  https://www.flipkart.com/samsung-galaxy-m31-ic...  \n",
       "3  64MP + 8MP + 5MP + 5MP  https://www.flipkart.com/samsung-galaxy-m31-oc...  \n",
       "4  64MP + 8MP + 5MP + 5MP  https://www.flipkart.com/samsung-galaxy-m31-sp...  "
      ]
     },
     "execution_count": 55,
     "metadata": {},
     "output_type": "execute_result"
    }
   ],
   "source": [
    "df4.head(5)"
   ]
  },
  {
   "cell_type": "code",
   "execution_count": 67,
   "metadata": {},
   "outputs": [],
   "source": [
    "driver=webdriver.Chrome(r\"D:\\chromedriver.exe\")"
   ]
  },
  {
   "cell_type": "code",
   "execution_count": 68,
   "metadata": {},
   "outputs": [],
   "source": [
    "driver.get(\"https://www.amazon.in\")"
   ]
  },
  {
   "cell_type": "code",
   "execution_count": 69,
   "metadata": {},
   "outputs": [],
   "source": [
    "driver.maximize_window()"
   ]
  },
  {
   "cell_type": "code",
   "execution_count": 70,
   "metadata": {},
   "outputs": [],
   "source": [
    "search_box=driver.find_element_by_id(\"twotabsearchtextbox\")"
   ]
  },
  {
   "cell_type": "code",
   "execution_count": 71,
   "metadata": {},
   "outputs": [
    {
     "name": "stdout",
     "output_type": "stream",
     "text": [
      "Enter the item to be searched\n",
      "Watches\n"
     ]
    }
   ],
   "source": [
    "item=input(\"Enter the item to be searched\\n\")\n",
    "search_box.send_keys(item)\n",
    "serach_btn=driver.find_element_by_id(\"nav-search-submit-button\").click()"
   ]
  },
  {
   "cell_type": "code",
   "execution_count": null,
   "metadata": {},
   "outputs": [],
   "source": []
  }
 ],
 "metadata": {
  "kernelspec": {
   "display_name": "Python 3",
   "language": "python",
   "name": "python3"
  },
  "language_info": {
   "codemirror_mode": {
    "name": "ipython",
    "version": 3
   },
   "file_extension": ".py",
   "mimetype": "text/x-python",
   "name": "python",
   "nbconvert_exporter": "python",
   "pygments_lexer": "ipython3",
   "version": "3.7.4"
  }
 },
 "nbformat": 4,
 "nbformat_minor": 2
}
